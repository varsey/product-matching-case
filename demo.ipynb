{
 "cells": [
  {
   "metadata": {
    "ExecuteTime": {
     "end_time": "2024-06-04T20:52:25.153640Z",
     "start_time": "2024-06-04T20:52:24.935973Z"
    }
   },
   "cell_type": "code",
   "source": [
    "import os\n",
    "import pandas as pd"
   ],
   "id": "3e153d9d7490d0b4",
   "outputs": [],
   "execution_count": 1
  },
  {
   "metadata": {
    "ExecuteTime": {
     "end_time": "2024-06-04T20:52:25.163010Z",
     "start_time": "2024-06-04T20:52:25.154490Z"
    }
   },
   "cell_type": "code",
   "source": [
    "from rapidfuzz import process as proc\n",
    "from rapidfuzz import fuzz"
   ],
   "id": "47e626cd475e0917",
   "outputs": [],
   "execution_count": 2
  },
  {
   "metadata": {
    "ExecuteTime": {
     "end_time": "2024-06-04T20:52:25.416749Z",
     "start_time": "2024-06-04T20:52:25.410701Z"
    }
   },
   "cell_type": "code",
   "source": "from tqdm import tqdm",
   "id": "8a277c466d51aa91",
   "outputs": [],
   "execution_count": 3
  },
  {
   "metadata": {
    "ExecuteTime": {
     "end_time": "2024-06-04T20:52:25.655776Z",
     "start_time": "2024-06-04T20:52:25.633639Z"
    }
   },
   "cell_type": "code",
   "source": "from fastparquet import ParquetFile, write as parq_write",
   "id": "5fa466db5236f059",
   "outputs": [],
   "execution_count": 4
  },
  {
   "metadata": {
    "ExecuteTime": {
     "end_time": "2024-06-04T20:52:25.920046Z",
     "start_time": "2024-06-04T20:52:25.918134Z"
    }
   },
   "cell_type": "code",
   "source": "",
   "id": "e5018e4f418c850a",
   "outputs": [],
   "execution_count": 4
  },
  {
   "metadata": {
    "ExecuteTime": {
     "end_time": "2024-06-04T20:52:27.062043Z",
     "start_time": "2024-06-04T20:52:26.263927Z"
    }
   },
   "cell_type": "code",
   "source": [
    "from src.utils import (\n",
    "    simple_process_item, count_common_digits, count_common_words, count_digit_share,\n",
    "    remove_numbers, get_product_group, get_parent_group, get_excluded_list\n",
    ")"
   ],
   "id": "initial_id",
   "outputs": [
    {
     "name": "stderr",
     "output_type": "stream",
     "text": [
      "[nltk_data] Downloading package punkt to /home/varsey/nltk_data...\n",
      "[nltk_data]   Package punkt is already up-to-date!\n",
      "[nltk_data] Downloading package stopwords to /home/varsey/nltk_data...\n",
      "[nltk_data]   Package stopwords is already up-to-date!\n",
      "[nltk_data] Downloading package averaged_perceptron_tagger_ru to\n",
      "[nltk_data]     /home/varsey/nltk_data...\n",
      "[nltk_data]   Package averaged_perceptron_tagger_ru is already up-to-\n",
      "[nltk_data]       date!\n"
     ]
    }
   ],
   "execution_count": 5
  },
  {
   "metadata": {
    "ExecuteTime": {
     "end_time": "2024-06-04T20:52:27.846661Z",
     "start_time": "2024-06-04T20:52:27.845014Z"
    }
   },
   "cell_type": "code",
   "source": "",
   "id": "d59d7c63a1ff16e8",
   "outputs": [],
   "execution_count": 5
  },
  {
   "metadata": {
    "ExecuteTime": {
     "end_time": "2024-06-04T20:52:52.197540Z",
     "start_time": "2024-06-04T20:52:28.504111Z"
    }
   },
   "cell_type": "code",
   "source": [
    "# Loading data\n",
    "df_incoming = pd.read_excel(f'{os.getcwd()}/data/drl-data.xlsx', sheet_name='Inventory Out')\n",
    "df_outcoming = pd.read_excel(f'{os.getcwd()}/data/drl-data.xlsx', sheet_name='Inventory In')"
   ],
   "id": "99baa07344177f0a",
   "outputs": [],
   "execution_count": 6
  },
  {
   "metadata": {
    "ExecuteTime": {
     "end_time": "2024-06-04T20:52:52.417643Z",
     "start_time": "2024-06-04T20:52:52.198420Z"
    }
   },
   "cell_type": "code",
   "source": [
    "df_outcoming['unit'] = df_incoming['Unit'].str.lower()\n",
    "df_incoming['unit'] = df_incoming['Unit'].str.lower()"
   ],
   "id": "2b8cb886917f5bc2",
   "outputs": [],
   "execution_count": 7
  },
  {
   "metadata": {
    "ExecuteTime": {
     "end_time": "2024-06-04T20:52:52.421200Z",
     "start_time": "2024-06-04T20:52:52.418429Z"
    }
   },
   "cell_type": "code",
   "source": "exclude = get_excluded_list()",
   "id": "8bb663641d3b325a",
   "outputs": [],
   "execution_count": 8
  },
  {
   "metadata": {
    "ExecuteTime": {
     "end_time": "2024-06-04T20:52:56.096364Z",
     "start_time": "2024-06-04T20:52:52.422255Z"
    }
   },
   "cell_type": "code",
   "source": [
    "df_outcoming['items'] = df_outcoming['Product or Service Name'].apply(lambda x: simple_process_item(x, exclude))\n",
    "df_incoming['items'] = df_incoming['Product or Service Name'].apply(lambda x: simple_process_item(x, exclude))"
   ],
   "id": "259e1f7dc00d08e3",
   "outputs": [],
   "execution_count": 9
  },
  {
   "metadata": {
    "ExecuteTime": {
     "end_time": "2024-06-04T20:52:56.099386Z",
     "start_time": "2024-06-04T20:52:56.097605Z"
    }
   },
   "cell_type": "code",
   "source": "",
   "id": "41331f215ed14568",
   "outputs": [],
   "execution_count": 9
  },
  {
   "metadata": {
    "jupyter": {
     "is_executing": true
    },
    "ExecuteTime": {
     "start_time": "2024-06-04T20:52:56.100196Z"
    }
   },
   "cell_type": "code",
   "source": [
    "%%time\n",
    "\n",
    "to_find = df_incoming['items'].to_list()\n",
    "candidates = set(df_outcoming['items'].to_list())\n",
    "\n",
    "outcoming, incoming1, incoming2, score1, score2, score_w, score_d = [], [], [], [], [], [], []\n",
    "for item in tqdm(to_find[:]):\n",
    "    res1 = proc.extract(\n",
    "                item,\n",
    "                candidates,\n",
    "                scorer=fuzz.partial_token_sort_ratio,\n",
    "                limit=1\n",
    "    )[0]\n",
    "    res2 = proc.extract(\n",
    "                item,\n",
    "                candidates,\n",
    "                scorer=fuzz.partial_ratio,\n",
    "                limit=1\n",
    "    )[0]\n",
    "    outcoming.append(item)\n",
    "    incoming1.append(res1[0])\n",
    "    incoming2.append(res2[0])\n",
    "    score1.append(res1[1])\n",
    "    score2.append(res2[1])\n",
    "    if len(res1) > 0:\n",
    "        score_w.append(count_common_words(item, res1[0]))\n",
    "        score_d.append(count_common_digits(item, res1[0]) / count_digit_share(res1[0]))\n"
   ],
   "id": "d43423965a145527",
   "outputs": [
    {
     "name": "stderr",
     "output_type": "stream",
     "text": [
      "  1%|          | 6524/937415 [01:31<3:43:39, 69.37it/s]"
     ]
    }
   ],
   "execution_count": null
  },
  {
   "metadata": {
    "jupyter": {
     "is_executing": true
    }
   },
   "cell_type": "code",
   "source": [
    "comp = pd.DataFrame()\n",
    "comp['right'] = outcoming\n",
    "comp['left1'] = incoming1\n",
    "comp['left2'] = incoming2\n",
    "\n",
    "comp['score1'] = score1\n",
    "comp['score2'] = score2\n",
    "comp['score3'] = 2 * comp['score1'] *comp['score2'] /(comp['score1'] + comp['score2'] )\n",
    "\n",
    "comp['score_w'] = score_w\n",
    "comp['score_d'] = score_d\n",
    "comp['score_d'] = comp['score_d'] /10"
   ],
   "id": "aee1955e7bc34e18",
   "outputs": [],
   "execution_count": null
  },
  {
   "metadata": {
    "jupyter": {
     "is_executing": true
    }
   },
   "cell_type": "code",
   "source": "",
   "id": "56d1fc732a0b8285",
   "outputs": [],
   "execution_count": null
  },
  {
   "metadata": {
    "jupyter": {
     "is_executing": true
    }
   },
   "cell_type": "code",
   "source": [
    "parq_write(\n",
    "    f'{os.getcwd()}/comp_full.parq',\n",
    "    comp,\n",
    "    compression='GZIP'\n",
    ")"
   ],
   "id": "43b628f36a28ee1a",
   "outputs": [],
   "execution_count": null
  },
  {
   "metadata": {
    "jupyter": {
     "is_executing": true
    }
   },
   "cell_type": "code",
   "source": [
    "comp_parq = ParquetFile(f'{os.getcwd()}/comp_full.parq',)\n",
    "comp = comp_parq.to_pandas()"
   ],
   "id": "c81d79583bd718a5",
   "outputs": [],
   "execution_count": null
  },
  {
   "metadata": {
    "jupyter": {
     "is_executing": true
    }
   },
   "cell_type": "code",
   "source": [
    "sub_result = pd.concat(\n",
    "    [\n",
    "        df_incoming,\n",
    "        comp\n",
    "    ],\n",
    "    axis=1,\n",
    ")\n",
    "sub_result.shape"
   ],
   "id": "6c52a7765c653b5b",
   "outputs": [],
   "execution_count": null
  },
  {
   "metadata": {
    "jupyter": {
     "is_executing": true
    }
   },
   "cell_type": "code",
   "source": "sub_result.sample(20)",
   "id": "79dff97c0b783457",
   "outputs": [],
   "execution_count": null
  },
  {
   "metadata": {
    "jupyter": {
     "is_executing": true
    }
   },
   "cell_type": "code",
   "source": [
    "compilation_full = sub_result.merge(df_outcoming, how='left', left_on='left1', right_on='items')\n",
    "compilation_full = compilation_full.drop_duplicates(subset=['#_x']) \n",
    "compilation_full.shape"
   ],
   "id": "1b8d87b3ac05beaa",
   "outputs": [],
   "execution_count": null
  },
  {
   "metadata": {
    "jupyter": {
     "is_executing": true
    }
   },
   "cell_type": "code",
   "source": [
    "columns_to_use = [\n",
    "          'items_x', 'items_y',\n",
    "          'left1', 'left2',\n",
    "          'Quantity/Volume_x', 'unit_x',\n",
    "          'Quantity/Volume_y', 'unit_y',\n",
    "          'score1', 'score2', 'score3', 'score_w', 'score_d',\n",
    "          'Product or Service Name_x', 'Product or Service Name_y'\n",
    "]"
   ],
   "id": "653bce19cc5f7974",
   "outputs": [],
   "execution_count": null
  },
  {
   "metadata": {
    "jupyter": {
     "is_executing": true
    }
   },
   "cell_type": "code",
   "source": "compilation_full = compilation_full[columns_to_use]",
   "id": "580264e5b59f8f4e",
   "outputs": [],
   "execution_count": null
  },
  {
   "metadata": {
    "jupyter": {
     "is_executing": true
    }
   },
   "cell_type": "code",
   "source": "df_outcoming.shape, df_incoming.shape, compilation_full.shape",
   "id": "dbe508bc30dba560",
   "outputs": [],
   "execution_count": null
  },
  {
   "metadata": {
    "jupyter": {
     "is_executing": true
    }
   },
   "cell_type": "code",
   "source": [
    "comp_true = compilation_full[\n",
    "    (compilation_full.score3 > 78) \n",
    "    & \n",
    "    (compilation_full.score_d > 0.17)\n",
    "]"
   ],
   "id": "b84488465b507b2",
   "outputs": [],
   "execution_count": null
  },
  {
   "metadata": {
    "jupyter": {
     "is_executing": true
    }
   },
   "cell_type": "code",
   "source": "comp_doubt = compilation_full.drop(comp_true.index, axis=0)\n",
   "id": "69703449d42ba34e",
   "outputs": [],
   "execution_count": null
  },
  {
   "metadata": {
    "jupyter": {
     "is_executing": true
    }
   },
   "cell_type": "code",
   "source": "",
   "id": "af72cd2f485662c0",
   "outputs": [],
   "execution_count": null
  },
  {
   "metadata": {
    "jupyter": {
     "is_executing": true
    }
   },
   "cell_type": "code",
   "source": "compilation_full.shape, comp_true.shape",
   "id": "112b8c279a8ef158",
   "outputs": [],
   "execution_count": null
  },
  {
   "metadata": {
    "jupyter": {
     "is_executing": true
    }
   },
   "cell_type": "code",
   "source": "",
   "id": "8afee1f27423d64f",
   "outputs": [],
   "execution_count": null
  },
  {
   "metadata": {
    "jupyter": {
     "is_executing": true
    }
   },
   "cell_type": "code",
   "source": "comp_true.shape[0] / compilation_full.shape[0]",
   "id": "1160241fa92fe150",
   "outputs": [],
   "execution_count": null
  },
  {
   "metadata": {
    "jupyter": {
     "is_executing": true
    }
   },
   "cell_type": "code",
   "source": "",
   "id": "512266d9670cd2f3",
   "outputs": [],
   "execution_count": null
  },
  {
   "metadata": {
    "jupyter": {
     "is_executing": true
    }
   },
   "cell_type": "code",
   "source": "compilation_scored = comp_true",
   "id": "426ffacf39ed4806",
   "outputs": [],
   "execution_count": null
  },
  {
   "metadata": {
    "jupyter": {
     "is_executing": true
    }
   },
   "cell_type": "code",
   "source": [
    "compilation_scored['unit_common'] = compilation_scored['unit_x'] + ' ' +  compilation_scored['unit_y']\n",
    "compilation_scored['unit_common_set'] = compilation_scored['unit_common'].apply(lambda x: set(str(x).replace('.', ' ').split()))"
   ],
   "id": "3fe47b5fe348b7dd",
   "outputs": [],
   "execution_count": null
  },
  {
   "metadata": {
    "jupyter": {
     "is_executing": true
    }
   },
   "cell_type": "code",
   "source": [
    "compilation_scored['unit_common_str'] = compilation_scored['unit_common_set'].apply(\n",
    "    lambda x: str(list(x)[0]) if len(list(x)) == 0 else ' '.join(list(x))\n",
    ")"
   ],
   "id": "5e4c34fd8b8de0ff",
   "outputs": [],
   "execution_count": null
  },
  {
   "metadata": {
    "jupyter": {
     "is_executing": true
    }
   },
   "cell_type": "code",
   "source": [
    "compilation_scored['quant_in'] = compilation_scored['Quantity/Volume_x'].astype('str').str.replace(',', '.').fillna(0).astype('float')\n",
    "compilation_scored['quant_out'] = compilation_scored['Quantity/Volume_y'].astype('str').str.replace(',', '.').fillna(0).astype('float')"
   ],
   "id": "d9ab9df604847391",
   "outputs": [],
   "execution_count": null
  },
  {
   "metadata": {
    "jupyter": {
     "is_executing": true
    }
   },
   "cell_type": "code",
   "source": "compilation_scored.shape",
   "id": "4cd74d09b89efa03",
   "outputs": [],
   "execution_count": null
  },
  {
   "metadata": {
    "jupyter": {
     "is_executing": true
    }
   },
   "cell_type": "code",
   "source": [
    "# x - incoming y - outcoming\n",
    "compilation_scored[\n",
    "    [\n",
    "        'items_x', 'items_y',\n",
    "        'score3', 'score1', 'score2', 'score_w', 'score_d',\n",
    "        'Product or Service Name_y'\n",
    "    ]\n",
    "].sample(250)"
   ],
   "id": "f7d78e5911075ced",
   "outputs": [],
   "execution_count": null
  },
  {
   "metadata": {
    "jupyter": {
     "is_executing": true
    }
   },
   "cell_type": "code",
   "source": "",
   "id": "efaeed1f35e428eb",
   "outputs": [],
   "execution_count": null
  },
  {
   "metadata": {
    "jupyter": {
     "is_executing": true
    }
   },
   "cell_type": "code",
   "source": "compilation_scored['items_x_numberless'] = compilation_scored['items_x'].apply(lambda x: remove_numbers(x))",
   "id": "306cb9b5838606d8",
   "outputs": [],
   "execution_count": null
  },
  {
   "metadata": {
    "jupyter": {
     "is_executing": true
    }
   },
   "cell_type": "code",
   "source": [
    "compilation_scored['product_group'] = compilation_scored['items_x_numberless'].apply(lambda x: get_product_group(x))\n",
    "compilation_scored['parent_group'] = compilation_scored['product_group'].apply(lambda x: get_parent_group(x))"
   ],
   "id": "8d1ebb7fb17aa76d",
   "outputs": [],
   "execution_count": null
  },
  {
   "metadata": {
    "jupyter": {
     "is_executing": true
    }
   },
   "cell_type": "code",
   "source": "",
   "id": "e31008cbae4797fb",
   "outputs": [],
   "execution_count": null
  },
  {
   "metadata": {},
   "cell_type": "code",
   "outputs": [],
   "execution_count": null,
   "source": "",
   "id": "7960bdee3e209f81"
  },
  {
   "metadata": {
    "jupyter": {
     "is_executing": true
    }
   },
   "cell_type": "code",
   "source": [
    "general_aggregate = compilation_scored.groupby(\n",
    "    by=['parent_group', 'product_group', 'items_x', 'unit_common_str']\n",
    ").agg(\n",
    "    {'quant_in':'sum','quant_out':'sum'}\n",
    ").sort_values(\n",
    "    ['unit_common_str']\n",
    ")\n",
    "\n",
    "general_aggregate"
   ],
   "id": "c4da6804d0a6a691",
   "outputs": [],
   "execution_count": null
  },
  {
   "metadata": {},
   "cell_type": "code",
   "outputs": [],
   "execution_count": null,
   "source": "",
   "id": "459107375fd78bda"
  },
  {
   "metadata": {
    "ExecuteTime": {
     "end_time": "2024-06-04T20:38:53.068061Z",
     "start_time": "2024-06-04T20:38:53.044754Z"
    }
   },
   "cell_type": "code",
   "source": [
    "brand_agg = compilation_scored.groupby(\n",
    "    ['parent_group', 'product_group', 'items_x', 'unit_common_str']\n",
    ").agg(\n",
    "    {'quant_in': 'sum', 'quant_out': 'sum'}\n",
    ").reset_index()\n",
    "\n",
    "brand_agg.rename(columns={'quant_in': 'brand_inventory_in', 'quant_out': 'brand_inventory_out'}, inplace=True)\n",
    "\n",
    "result = pd.merge(brand_agg, general_aggregate, on='parent_group', how='left')"
   ],
   "id": "79acdb594eba7996",
   "outputs": [],
   "execution_count": 38
  },
  {
   "metadata": {
    "ExecuteTime": {
     "end_time": "2024-06-04T20:40:04.542545Z",
     "start_time": "2024-06-04T20:40:04.526922Z"
    }
   },
   "cell_type": "code",
   "source": [
    "result.groupby(\n",
    "    by=['parent_group', 'product_group', 'items_x', 'unit_common_str']\n",
    ").agg(\n",
    "    {'quant_in':'sum','quant_out':'sum', 'brand_inventory_in': 'max', 'brand_inventory_out': 'max'}\n",
    ")"
   ],
   "id": "d1627afcc6465364",
   "outputs": [
    {
     "data": {
      "text/plain": [
       "                                                                                                  quant_in  \\\n",
       "parent_group product_group    items_x                                           unit_common_str              \n",
       "                              7 up 0.5 lt 1 x 12                                eded lt adet       1182.00   \n",
       "                              7 up 1 lt 1 x 12                                  eded lt adet       1182.00   \n",
       "                              7 up 2 lt 1 x 6                                   eded lt adet       1182.00   \n",
       "acili        doritos acili    doritos acili 130 gr 1 x 16                       eded              57756.50   \n",
       "                              doritos acili 74 gr 1 x 24                        eded              57756.50   \n",
       "...                                                                                                    ...   \n",
       "xama         sevimli xama     sevimli dad xama kaunas 10 pct 200 gr 1 x 12      eded             616299.02   \n",
       "                              sevimli dad xama kaunasskaya 20 pct 200 gr 1 x 12 eded             616299.02   \n",
       "                              sevimli dad xama kaunasskaya 20 pct 350 gr 1 x 12 eded             616299.02   \n",
       "                              sevimli dad xama kaunasskaya 30 pct 200 gr 1 x 12 eded             616299.02   \n",
       "xrustem      xrustem biftekli xrustem biftekli 75 gr                            kg ədəd adet       1152.00   \n",
       "\n",
       "                                                                                                  quant_out  \\\n",
       "parent_group product_group    items_x                                           unit_common_str               \n",
       "                              7 up 0.5 lt 1 x 12                                eded lt adet        36360.0   \n",
       "                              7 up 1 lt 1 x 12                                  eded lt adet        36360.0   \n",
       "                              7 up 2 lt 1 x 6                                   eded lt adet        36360.0   \n",
       "acili        doritos acili    doritos acili 130 gr 1 x 16                       eded             68674704.0   \n",
       "                              doritos acili 74 gr 1 x 24                        eded             68674704.0   \n",
       "...                                                                                                     ...   \n",
       "xama         sevimli xama     sevimli dad xama kaunas 10 pct 200 gr 1 x 12      eded             60626273.0   \n",
       "                              sevimli dad xama kaunasskaya 20 pct 200 gr 1 x 12 eded             60626273.0   \n",
       "                              sevimli dad xama kaunasskaya 20 pct 350 gr 1 x 12 eded             60626273.0   \n",
       "                              sevimli dad xama kaunasskaya 30 pct 200 gr 1 x 12 eded             60626273.0   \n",
       "xrustem      xrustem biftekli xrustem biftekli 75 gr                            kg ədəd adet       373248.0   \n",
       "\n",
       "                                                                                                 brand_inventory_in  \\\n",
       "parent_group product_group    items_x                                           unit_common_str                       \n",
       "                              7 up 0.5 lt 1 x 12                                eded lt adet                  146.0   \n",
       "                              7 up 1 lt 1 x 12                                  eded lt adet                  350.0   \n",
       "                              7 up 2 lt 1 x 6                                   eded lt adet                  686.0   \n",
       "acili        doritos acili    doritos acili 130 gr 1 x 16                       eded                        31578.5   \n",
       "                              doritos acili 74 gr 1 x 24                        eded                        26178.0   \n",
       "...                                                                                                             ...   \n",
       "xama         sevimli xama     sevimli dad xama kaunas 10 pct 200 gr 1 x 12      eded                        97068.0   \n",
       "                              sevimli dad xama kaunasskaya 20 pct 200 gr 1 x 12 eded                       272818.0   \n",
       "                              sevimli dad xama kaunasskaya 20 pct 350 gr 1 x 12 eded                       115600.0   \n",
       "                              sevimli dad xama kaunasskaya 30 pct 200 gr 1 x 12 eded                        52494.0   \n",
       "xrustem      xrustem biftekli xrustem biftekli 75 gr                            kg ədəd adet                 1152.0   \n",
       "\n",
       "                                                                                                 brand_inventory_out  \n",
       "parent_group product_group    items_x                                           unit_common_str                       \n",
       "                              7 up 0.5 lt 1 x 12                                eded lt adet                 10800.0  \n",
       "                              7 up 1 lt 1 x 12                                  eded lt adet                 19800.0  \n",
       "                              7 up 2 lt 1 x 6                                   eded lt adet                  5760.0  \n",
       "acili        doritos acili    doritos acili 130 gr 1 x 16                       eded                      30888000.0  \n",
       "                              doritos acili 74 gr 1 x 24                        eded                      37786704.0  \n",
       "...                                                                                                              ...  \n",
       "xama         sevimli xama     sevimli dad xama kaunas 10 pct 200 gr 1 x 12      eded                      18825646.0  \n",
       "                              sevimli dad xama kaunasskaya 20 pct 200 gr 1 x 12 eded                      13467693.0  \n",
       "                              sevimli dad xama kaunasskaya 20 pct 350 gr 1 x 12 eded                      11232270.0  \n",
       "                              sevimli dad xama kaunasskaya 30 pct 200 gr 1 x 12 eded                       4596900.0  \n",
       "xrustem      xrustem biftekli xrustem biftekli 75 gr                            kg ədəd adet                373248.0  \n",
       "\n",
       "[431 rows x 4 columns]"
      ],
      "text/html": [
       "<div>\n",
       "<style scoped>\n",
       "    .dataframe tbody tr th:only-of-type {\n",
       "        vertical-align: middle;\n",
       "    }\n",
       "\n",
       "    .dataframe tbody tr th {\n",
       "        vertical-align: top;\n",
       "    }\n",
       "\n",
       "    .dataframe thead th {\n",
       "        text-align: right;\n",
       "    }\n",
       "</style>\n",
       "<table border=\"1\" class=\"dataframe\">\n",
       "  <thead>\n",
       "    <tr style=\"text-align: right;\">\n",
       "      <th></th>\n",
       "      <th></th>\n",
       "      <th></th>\n",
       "      <th></th>\n",
       "      <th>quant_in</th>\n",
       "      <th>quant_out</th>\n",
       "      <th>brand_inventory_in</th>\n",
       "      <th>brand_inventory_out</th>\n",
       "    </tr>\n",
       "    <tr>\n",
       "      <th>parent_group</th>\n",
       "      <th>product_group</th>\n",
       "      <th>items_x</th>\n",
       "      <th>unit_common_str</th>\n",
       "      <th></th>\n",
       "      <th></th>\n",
       "      <th></th>\n",
       "      <th></th>\n",
       "    </tr>\n",
       "  </thead>\n",
       "  <tbody>\n",
       "    <tr>\n",
       "      <th rowspan=\"3\" valign=\"top\"></th>\n",
       "      <th rowspan=\"3\" valign=\"top\"></th>\n",
       "      <th>7 up 0.5 lt 1 x 12</th>\n",
       "      <th>eded lt adet</th>\n",
       "      <td>1182.00</td>\n",
       "      <td>36360.0</td>\n",
       "      <td>146.0</td>\n",
       "      <td>10800.0</td>\n",
       "    </tr>\n",
       "    <tr>\n",
       "      <th>7 up 1 lt 1 x 12</th>\n",
       "      <th>eded lt adet</th>\n",
       "      <td>1182.00</td>\n",
       "      <td>36360.0</td>\n",
       "      <td>350.0</td>\n",
       "      <td>19800.0</td>\n",
       "    </tr>\n",
       "    <tr>\n",
       "      <th>7 up 2 lt 1 x 6</th>\n",
       "      <th>eded lt adet</th>\n",
       "      <td>1182.00</td>\n",
       "      <td>36360.0</td>\n",
       "      <td>686.0</td>\n",
       "      <td>5760.0</td>\n",
       "    </tr>\n",
       "    <tr>\n",
       "      <th rowspan=\"2\" valign=\"top\">acili</th>\n",
       "      <th rowspan=\"2\" valign=\"top\">doritos acili</th>\n",
       "      <th>doritos acili 130 gr 1 x 16</th>\n",
       "      <th>eded</th>\n",
       "      <td>57756.50</td>\n",
       "      <td>68674704.0</td>\n",
       "      <td>31578.5</td>\n",
       "      <td>30888000.0</td>\n",
       "    </tr>\n",
       "    <tr>\n",
       "      <th>doritos acili 74 gr 1 x 24</th>\n",
       "      <th>eded</th>\n",
       "      <td>57756.50</td>\n",
       "      <td>68674704.0</td>\n",
       "      <td>26178.0</td>\n",
       "      <td>37786704.0</td>\n",
       "    </tr>\n",
       "    <tr>\n",
       "      <th>...</th>\n",
       "      <th>...</th>\n",
       "      <th>...</th>\n",
       "      <th>...</th>\n",
       "      <td>...</td>\n",
       "      <td>...</td>\n",
       "      <td>...</td>\n",
       "      <td>...</td>\n",
       "    </tr>\n",
       "    <tr>\n",
       "      <th rowspan=\"4\" valign=\"top\">xama</th>\n",
       "      <th rowspan=\"4\" valign=\"top\">sevimli xama</th>\n",
       "      <th>sevimli dad xama kaunas 10 pct 200 gr 1 x 12</th>\n",
       "      <th>eded</th>\n",
       "      <td>616299.02</td>\n",
       "      <td>60626273.0</td>\n",
       "      <td>97068.0</td>\n",
       "      <td>18825646.0</td>\n",
       "    </tr>\n",
       "    <tr>\n",
       "      <th>sevimli dad xama kaunasskaya 20 pct 200 gr 1 x 12</th>\n",
       "      <th>eded</th>\n",
       "      <td>616299.02</td>\n",
       "      <td>60626273.0</td>\n",
       "      <td>272818.0</td>\n",
       "      <td>13467693.0</td>\n",
       "    </tr>\n",
       "    <tr>\n",
       "      <th>sevimli dad xama kaunasskaya 20 pct 350 gr 1 x 12</th>\n",
       "      <th>eded</th>\n",
       "      <td>616299.02</td>\n",
       "      <td>60626273.0</td>\n",
       "      <td>115600.0</td>\n",
       "      <td>11232270.0</td>\n",
       "    </tr>\n",
       "    <tr>\n",
       "      <th>sevimli dad xama kaunasskaya 30 pct 200 gr 1 x 12</th>\n",
       "      <th>eded</th>\n",
       "      <td>616299.02</td>\n",
       "      <td>60626273.0</td>\n",
       "      <td>52494.0</td>\n",
       "      <td>4596900.0</td>\n",
       "    </tr>\n",
       "    <tr>\n",
       "      <th>xrustem</th>\n",
       "      <th>xrustem biftekli</th>\n",
       "      <th>xrustem biftekli 75 gr</th>\n",
       "      <th>kg ədəd adet</th>\n",
       "      <td>1152.00</td>\n",
       "      <td>373248.0</td>\n",
       "      <td>1152.0</td>\n",
       "      <td>373248.0</td>\n",
       "    </tr>\n",
       "  </tbody>\n",
       "</table>\n",
       "<p>431 rows × 4 columns</p>\n",
       "</div>"
      ]
     },
     "execution_count": 40,
     "metadata": {},
     "output_type": "execute_result"
    }
   ],
   "execution_count": 40
  },
  {
   "metadata": {},
   "cell_type": "code",
   "outputs": [],
   "execution_count": null,
   "source": "",
   "id": "faa7913c6e870ad1"
  }
 ],
 "metadata": {
  "kernelspec": {
   "display_name": "Python 3",
   "language": "python",
   "name": "python3"
  },
  "language_info": {
   "codemirror_mode": {
    "name": "ipython",
    "version": 2
   },
   "file_extension": ".py",
   "mimetype": "text/x-python",
   "name": "python",
   "nbconvert_exporter": "python",
   "pygments_lexer": "ipython2",
   "version": "2.7.6"
  }
 },
 "nbformat": 4,
 "nbformat_minor": 5
}
