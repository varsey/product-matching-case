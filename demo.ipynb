{
 "cells": [
  {
   "metadata": {
    "ExecuteTime": {
     "end_time": "2024-07-30T20:30:53.661078Z",
     "start_time": "2024-07-30T20:30:53.267824Z"
    }
   },
   "cell_type": "code",
   "source": [
    "import os\n",
    "import pandas as pd"
   ],
   "id": "3e153d9d7490d0b4",
   "outputs": [],
   "execution_count": 1
  },
  {
   "metadata": {
    "ExecuteTime": {
     "end_time": "2024-07-30T20:30:53.686921Z",
     "start_time": "2024-07-30T20:30:53.662290Z"
    }
   },
   "cell_type": "code",
   "source": [
    "from rapidfuzz import process as proc\n",
    "from rapidfuzz import fuzz"
   ],
   "id": "47e626cd475e0917",
   "outputs": [],
   "execution_count": 2
  },
  {
   "metadata": {
    "ExecuteTime": {
     "end_time": "2024-07-30T20:30:53.695463Z",
     "start_time": "2024-07-30T20:30:53.687686Z"
    }
   },
   "cell_type": "code",
   "source": "from tqdm import tqdm",
   "id": "8a277c466d51aa91",
   "outputs": [],
   "execution_count": 3
  },
  {
   "metadata": {
    "ExecuteTime": {
     "end_time": "2024-07-30T20:30:53.724297Z",
     "start_time": "2024-07-30T20:30:53.697135Z"
    }
   },
   "cell_type": "code",
   "source": "from fastparquet import ParquetFile, write as parq_write",
   "id": "5fa466db5236f059",
   "outputs": [],
   "execution_count": 4
  },
  {
   "metadata": {
    "ExecuteTime": {
     "end_time": "2024-07-30T20:30:53.727400Z",
     "start_time": "2024-07-30T20:30:53.725453Z"
    }
   },
   "cell_type": "code",
   "source": "",
   "id": "e5018e4f418c850a",
   "outputs": [],
   "execution_count": 4
  },
  {
   "metadata": {
    "ExecuteTime": {
     "end_time": "2024-07-30T20:30:55.080800Z",
     "start_time": "2024-07-30T20:30:53.728392Z"
    }
   },
   "cell_type": "code",
   "source": [
    "# Load methods for text processing\n",
    "from src.utils import (\n",
    "    simple_process_item, count_common_digits, count_common_words, count_digit_share,\n",
    "    remove_numbers, get_product_group, get_parent_group, get_excluded_list\n",
    ")"
   ],
   "id": "initial_id",
   "outputs": [
    {
     "name": "stderr",
     "output_type": "stream",
     "text": [
      "[nltk_data] Downloading package punkt to /home/varsey/nltk_data...\n",
      "[nltk_data]   Package punkt is already up-to-date!\n",
      "[nltk_data] Downloading package stopwords to /home/varsey/nltk_data...\n",
      "[nltk_data]   Package stopwords is already up-to-date!\n",
      "[nltk_data] Downloading package averaged_perceptron_tagger_ru to\n",
      "[nltk_data]     /home/varsey/nltk_data...\n",
      "[nltk_data]   Package averaged_perceptron_tagger_ru is already up-to-\n",
      "[nltk_data]       date!\n"
     ]
    }
   ],
   "execution_count": 5
  },
  {
   "metadata": {
    "ExecuteTime": {
     "end_time": "2024-07-30T20:30:55.083436Z",
     "start_time": "2024-07-30T20:30:55.081644Z"
    }
   },
   "cell_type": "code",
   "source": "",
   "id": "d59d7c63a1ff16e8",
   "outputs": [],
   "execution_count": 5
  },
  {
   "metadata": {},
   "cell_type": "markdown",
   "source": "## Load dataset and preprocess items names (lowercase and stopwords removal)",
   "id": "f4759f75bd7736d9"
  },
  {
   "metadata": {
    "ExecuteTime": {
     "end_time": "2024-07-30T20:32:56.212773Z",
     "start_time": "2024-07-30T20:32:56.192301Z"
    }
   },
   "cell_type": "code",
   "source": [
    "# Download data by url in 'data' folder\n",
    "df_incoming = pd.read_csv(f'{os.getcwd()}/data/incoming.csv')\n",
    "df_outcoming = pd.read_csv(f'{os.getcwd()}/data/outcoming.csv')"
   ],
   "id": "99baa07344177f0a",
   "outputs": [],
   "execution_count": 11
  },
  {
   "metadata": {},
   "cell_type": "code",
   "outputs": [],
   "execution_count": null,
   "source": "",
   "id": "2b1d1dc6ca32de1a"
  },
  {
   "metadata": {
    "ExecuteTime": {
     "end_time": "2024-07-30T20:32:58.629741Z",
     "start_time": "2024-07-30T20:32:58.623479Z"
    }
   },
   "cell_type": "code",
   "source": [
    "df_outcoming['unit'] = df_incoming['Unit'].str.lower()\n",
    "df_incoming['unit'] = df_incoming['Unit'].str.lower()"
   ],
   "id": "2b8cb886917f5bc2",
   "outputs": [],
   "execution_count": 12
  },
  {
   "metadata": {
    "ExecuteTime": {
     "end_time": "2024-07-30T20:32:59.961348Z",
     "start_time": "2024-07-30T20:32:59.956480Z"
    }
   },
   "cell_type": "code",
   "source": "exclude = get_excluded_list()",
   "id": "8bb663641d3b325a",
   "outputs": [],
   "execution_count": 13
  },
  {
   "metadata": {
    "ExecuteTime": {
     "end_time": "2024-07-30T20:33:00.357203Z",
     "start_time": "2024-07-30T20:33:00.309231Z"
    }
   },
   "cell_type": "code",
   "source": [
    "df_outcoming['items'] = df_outcoming['Product or Service Name'].apply(lambda x: simple_process_item(x, exclude))\n",
    "df_incoming['items'] = df_incoming['Product or Service Name'].apply(lambda x: simple_process_item(x, exclude))"
   ],
   "id": "259e1f7dc00d08e3",
   "outputs": [],
   "execution_count": 14
  },
  {
   "metadata": {
    "ExecuteTime": {
     "end_time": "2024-07-30T20:33:00.655580Z",
     "start_time": "2024-07-30T20:33:00.653263Z"
    }
   },
   "cell_type": "code",
   "source": "",
   "id": "41331f215ed14568",
   "outputs": [],
   "execution_count": 14
  },
  {
   "metadata": {},
   "cell_type": "markdown",
   "source": "## Create lists of pairs for each item in df_incoming df with scores for each pair",
   "id": "71898eb93a371ef8"
  },
  {
   "metadata": {},
   "cell_type": "markdown",
   "source": "### The cell below take up to 4hs to run. You can use preprocessed data below",
   "id": "3b383f589ba88ca2"
  },
  {
   "metadata": {
    "ExecuteTime": {
     "end_time": "2024-07-30T20:33:11.568176Z",
     "start_time": "2024-07-30T20:33:01.641872Z"
    }
   },
   "cell_type": "code",
   "source": [
    "%%time\n",
    "\n",
    "to_find = df_incoming['items'].to_list()\n",
    "candidates = set(df_outcoming['items'].to_list())\n",
    "\n",
    "outcoming, incoming1, incoming2, score1, score2, score_w, score_d = [], [], [], [], [], [], []\n",
    "for item in tqdm(to_find[:]):\n",
    "    res1 = proc.extract(\n",
    "                item,\n",
    "                candidates,\n",
    "                scorer=fuzz.partial_token_sort_ratio,\n",
    "                limit=1\n",
    "    )[0]\n",
    "    res2 = proc.extract(\n",
    "                item,\n",
    "                candidates,\n",
    "                scorer=fuzz.partial_ratio,\n",
    "                limit=1\n",
    "    )[0]\n",
    "    outcoming.append(item)\n",
    "    incoming1.append(res1[0])\n",
    "    incoming2.append(res2[0])\n",
    "    score1.append(res1[1])\n",
    "    score2.append(res2[1])\n",
    "    if len(res1) > 0:\n",
    "        score_w.append(count_common_words(item, res1[0]))\n",
    "        score_d.append(count_common_digits(item, res1[0]) / count_digit_share(res1[0]))\n"
   ],
   "id": "d43423965a145527",
   "outputs": [
    {
     "name": "stderr",
     "output_type": "stream",
     "text": [
      "100%|██████████| 5000/5000 [00:09<00:00, 504.14it/s]"
     ]
    },
    {
     "name": "stdout",
     "output_type": "stream",
     "text": [
      "CPU times: user 9.9 s, sys: 23.4 ms, total: 9.93 s\n",
      "Wall time: 9.92 s\n"
     ]
    },
    {
     "name": "stderr",
     "output_type": "stream",
     "text": [
      "\n"
     ]
    }
   ],
   "execution_count": 15
  },
  {
   "metadata": {},
   "cell_type": "markdown",
   "source": "## Create df with pairs of matched items and corresponing scores",
   "id": "378fe932e5c45362"
  },
  {
   "metadata": {
    "ExecuteTime": {
     "end_time": "2024-07-30T20:33:11.576576Z",
     "start_time": "2024-07-30T20:33:11.569486Z"
    }
   },
   "cell_type": "code",
   "source": [
    "comp = pd.DataFrame()\n",
    "comp['right'] = outcoming\n",
    "comp['left1'] = incoming1\n",
    "comp['left2'] = incoming2\n",
    "\n",
    "comp['score1'] = score1\n",
    "comp['score2'] = score2\n",
    "# Harmonical score for quality decision\n",
    "comp['score3'] = 2 * comp['score1'] *comp['score2'] /(comp['score1'] + comp['score2'] )\n",
    "\n",
    "comp['score_w'] = score_w\n",
    "comp['score_d'] = score_d\n",
    "# Metric for numbers in items name comparison\n",
    "comp['score_d'] = comp['score_d'] /10"
   ],
   "id": "aee1955e7bc34e18",
   "outputs": [],
   "execution_count": 16
  },
  {
   "metadata": {},
   "cell_type": "markdown",
   "source": "### Write preprocessed data to file to save time",
   "id": "b81f777b2cffbde5"
  },
  {
   "metadata": {
    "ExecuteTime": {
     "end_time": "2024-07-30T20:33:11.601118Z",
     "start_time": "2024-07-30T20:33:11.577250Z"
    }
   },
   "cell_type": "code",
   "source": [
    "parq_write(\n",
    "    f'{os.getcwd()}/comp_full.parq',\n",
    "    comp,\n",
    "    compression='GZIP'\n",
    ")"
   ],
   "id": "43b628f36a28ee1a",
   "outputs": [],
   "execution_count": 17
  },
  {
   "metadata": {
    "ExecuteTime": {
     "end_time": "2024-07-30T20:33:11.603700Z",
     "start_time": "2024-07-30T20:33:11.602243Z"
    }
   },
   "cell_type": "code",
   "source": "",
   "id": "2774d9ca75afdd94",
   "outputs": [],
   "execution_count": 17
  },
  {
   "metadata": {},
   "cell_type": "markdown",
   "source": "### Load preprocessed data from file",
   "id": "76a0e4b800cc1a4e"
  },
  {
   "metadata": {
    "ExecuteTime": {
     "end_time": "2024-07-30T20:33:11.611528Z",
     "start_time": "2024-07-30T20:33:11.604351Z"
    }
   },
   "cell_type": "code",
   "source": [
    "comp_parq = ParquetFile(f'{os.getcwd()}/comp_full.parq',)\n",
    "comp = comp_parq.to_pandas()"
   ],
   "id": "c81d79583bd718a5",
   "outputs": [],
   "execution_count": 18
  },
  {
   "metadata": {},
   "cell_type": "markdown",
   "source": "### Concat incoming items with mathed pairs df",
   "id": "108f779c5b4715a5"
  },
  {
   "metadata": {
    "ExecuteTime": {
     "end_time": "2024-07-30T20:33:11.618240Z",
     "start_time": "2024-07-30T20:33:11.612242Z"
    }
   },
   "cell_type": "code",
   "source": [
    "sub_result = pd.concat(\n",
    "    [\n",
    "        df_incoming,\n",
    "        comp\n",
    "    ],\n",
    "    axis=1,\n",
    ")\n",
    "sub_result.shape"
   ],
   "id": "6c52a7765c653b5b",
   "outputs": [
    {
     "data": {
      "text/plain": [
       "(5000, 15)"
      ]
     },
     "execution_count": 19,
     "metadata": {},
     "output_type": "execute_result"
    }
   ],
   "execution_count": 19
  },
  {
   "metadata": {
    "ExecuteTime": {
     "end_time": "2024-07-30T20:33:11.633812Z",
     "start_time": "2024-07-30T20:33:11.619210Z"
    }
   },
   "cell_type": "code",
   "source": "sub_result.sample(20)",
   "id": "79dff97c0b783457",
   "outputs": [
    {
     "data": {
      "text/plain": [
       "      Unnamed: 0       #                         Product or Service Name  \\\n",
       "3146      200859  200860             SUPERFRESH PATATES 9X9 1000 GR 1X10   \n",
       "3256      204132  204133      FERSAN ELMA SIRKESI 50 CL CAM SISE 4% 1x12   \n",
       "1589      838322  838323            PINAR SUT KIDO KARAMELLI 180 ML 1X27   \n",
       "1687      575291  575292                  PINAR PEYNIR LABNE 400 GR 1x12   \n",
       "3694      256685  256686        SEVIMLI DAD KESMIK KAUNAS 0.3% 180 GR1x1   \n",
       "3411      317126  317127  PRESIDENT SIRIN K/M DOLCE VANIL 20% 200GR 1X12   \n",
       "941       839130  839131              SUPERFRESH BAMYA SIVRI 450 GR 1X16   \n",
       "4762      771266  771267             PRESIDENT KESME MAAZDAM 150 GR 1X15   \n",
       "916       545481  545482                ULKER ICIMINO CIYELEK 45 GR 1X48   \n",
       "683       219194  219195         SEVIMLI DAD KESMIK YAGSIZ 0% 180 GR 1x1   \n",
       "4332      284582  284583        SEVIMLI DAD KESMIK ALBALILI 0% 180 GR1x1   \n",
       "3855      647350  647351                     LAYS PAPRIKA 90 GR 1 x 25 P   \n",
       "3736      480956  480957              3 JELANIYA KETCUP CILI 250 GR 1x60   \n",
       "4666      936785  936786                                 Krısinaya smert   \n",
       "929       229185  229186      LAYS RIDGED PENDIR ILE SOGAN 150 GR 1 x 18   \n",
       "4064      325461  325462                               LAYS RIDGED CHILI   \n",
       "3927      143425  143426                      SUPERFRESH SUPERTON 160 GR   \n",
       "2464      851079  851080       MURATBEY TEL COREKOTLU PENDIR 200 GR 1X12   \n",
       "2662      814809  814810           QUICKBURY BURGER BUNS 6PCS 300 GR 1X8   \n",
       "4229      767007  767008               BIZIM ASCI KELLE QEND 750 GR 1x12   \n",
       "\n",
       "         Unit Quantity/Volume     unit  \\\n",
       "3146     EDED               3     eded   \n",
       "3256  ADET.CL               7  adet.cl   \n",
       "1589  ADET.ML               6  adet.ml   \n",
       "1687     EDED              12     eded   \n",
       "3694     EDED               5     eded   \n",
       "3411     EDED               6     eded   \n",
       "941      EDED              32     eded   \n",
       "4762     EDED              10     eded   \n",
       "916      EDED              24     eded   \n",
       "683      EDED              10     eded   \n",
       "4332     EDED               2     eded   \n",
       "3855     EDED              75     eded   \n",
       "3736     EDED               2     eded   \n",
       "4666       kg              50       kg   \n",
       "929      EDED              54     eded   \n",
       "4064     EDED               6     eded   \n",
       "3927     ədəd              21     ədəd   \n",
       "2464     EDED              84     eded   \n",
       "2662     EDED               8     eded   \n",
       "4229     EDED              12     eded   \n",
       "\n",
       "                                                  items  \\\n",
       "3146            superfresh patates 9 x 9 1000 gr 1 x 10   \n",
       "3256    fersan elma sirkesi 50 cl cam sise 4 pct 1 x 12   \n",
       "1589             pinar sut kido karamelli 180 ml 1 x 27   \n",
       "1687                   pinar peynir labne 400 gr 1 x 12   \n",
       "3694     sevimli dad kesmik kaunas 0.3 pct 180 gr 1 x 1   \n",
       "3411  president sirin k dolce vanil 20 pct 200 gr 1 ...   \n",
       "941                superfresh bamya sivri 450 gr 1 x 16   \n",
       "4762              president kesme maazdam 150 gr 1 x 15   \n",
       "916                  ulker icimino ciyelek 45 gr 1 x 48   \n",
       "683        sevimli dad kesmik yagsiz 0 pct 180 gr 1 x 1   \n",
       "4332     sevimli dad kesmik albalili 0 pct 180 gr 1 x 1   \n",
       "3855                        lays paprika 90 gr 1 x 25 p   \n",
       "3736               3 jelaniya ketcup cili 250 gr 1 x 60   \n",
       "4666                                    krısinaya smert   \n",
       "929          lays ridged pendir ile sogan 150 gr 1 x 18   \n",
       "4064                                  lays ridged chili   \n",
       "3927                         superfresh superton 160 gr   \n",
       "2464        muratbey tel corekotlu pendir 200 gr 1 x 12   \n",
       "2662           quickbury burger buns 6 pcs 300 gr 1 x 8   \n",
       "4229                      asci kelle qend 750 gr 1 x 12   \n",
       "\n",
       "                                                  right  \\\n",
       "3146            superfresh patates 9 x 9 1000 gr 1 x 10   \n",
       "3256    fersan elma sirkesi 50 cl cam sise 4 pct 1 x 12   \n",
       "1589             pinar sut kido karamelli 180 ml 1 x 27   \n",
       "1687                   pinar peynir labne 400 gr 1 x 12   \n",
       "3694     sevimli dad kesmik kaunas 0.3 pct 180 gr 1 x 1   \n",
       "3411  president sirin k dolce vanil 20 pct 200 gr 1 ...   \n",
       "941                superfresh bamya sivri 450 gr 1 x 16   \n",
       "4762              president kesme maazdam 150 gr 1 x 15   \n",
       "916                  ulker icimino ciyelek 45 gr 1 x 48   \n",
       "683        sevimli dad kesmik yagsiz 0 pct 180 gr 1 x 1   \n",
       "4332     sevimli dad kesmik albalili 0 pct 180 gr 1 x 1   \n",
       "3855                        lays paprika 90 gr 1 x 25 p   \n",
       "3736               3 jelaniya ketcup cili 250 gr 1 x 60   \n",
       "4666                                    krısinaya smert   \n",
       "929          lays ridged pendir ile sogan 150 gr 1 x 18   \n",
       "4064                                  lays ridged chili   \n",
       "3927                         superfresh superton 160 gr   \n",
       "2464        muratbey tel corekotlu pendir 200 gr 1 x 12   \n",
       "2662           quickbury burger buns 6 pcs 300 gr 1 x 8   \n",
       "4229                      asci kelle qend 750 gr 1 x 12   \n",
       "\n",
       "                                                  left1  \\\n",
       "3146            superfresh patates 9 x 9 1000 gr 1 x 10   \n",
       "3256    fersan elma sirkesi 50 cl cam sise 4 pct 1 x 12   \n",
       "1589               pinar sut kido kakaolu 180 ml 1 x 27   \n",
       "1687                   pinar peynir labne 400 gr 1 x 12   \n",
       "3694     sevimli dad kesmik kaunas 0.3 pct 180 gr 1 x 1   \n",
       "3411  president sirin k dolce vanil 20 pct 200 gr 1 ...   \n",
       "941                superfresh bamya sivri 450 gr 1 x 16   \n",
       "4762              president kesme maazdam 150 gr 1 x 15   \n",
       "916                  ulker icimino ciyelek 45 gr 1 x 48   \n",
       "683        sevimli dad kesmik yagsiz 0 pct 180 gr 1 x 1   \n",
       "4332     sevimli dad kesmik albalili 0 pct 180 gr 1 x 1   \n",
       "3855                        lays paprika 90 gr 1 x 25 p   \n",
       "3736            3 jelaniya ketcup klassik 250 gr 1 x 60   \n",
       "4666         president klassik kolleksiya 140 gr 1 x 15   \n",
       "929          lays ridged pendir ile sogan 150 gr 1 x 18   \n",
       "4064                                  lays ridged chili   \n",
       "3927                   superfresh superton 80 gr 1 x 24   \n",
       "2464        muratbey tel corekotlu pendir 200 gr 1 x 12   \n",
       "2662           quickbury burger buns 6 pcs 300 gr 1 x 8   \n",
       "4229                      asci kelle qend 750 gr 1 x 12   \n",
       "\n",
       "                                                  left2      score1  \\\n",
       "3146            superfresh patates 9 x 9 1000 gr 1 x 10  100.000000   \n",
       "3256    fersan elma sirkesi 50 cl cam sise 4 pct 1 x 12  100.000000   \n",
       "1589               pinar sut kido kakaolu 180 ml 1 x 27   86.111111   \n",
       "1687                   pinar peynir labne 400 gr 1 x 12  100.000000   \n",
       "3694     sevimli dad kesmik kaunas 0.3 pct 180 gr 1 x 1  100.000000   \n",
       "3411  president sirin k dolce vanil 20 pct 200 gr 1 ...  100.000000   \n",
       "941                superfresh bamya sivri 450 gr 1 x 16  100.000000   \n",
       "4762              president kesme maazdam 150 gr 1 x 15  100.000000   \n",
       "916                  ulker icimino ciyelek 45 gr 1 x 48  100.000000   \n",
       "683        sevimli dad kesmik yagsiz 0 pct 180 gr 1 x 1  100.000000   \n",
       "4332     sevimli dad kesmik albalili 0 pct 180 gr 1 x 1  100.000000   \n",
       "3855                        lays paprika 90 gr 1 x 25 p  100.000000   \n",
       "3736               3 jelaniya ketcup cili 450 gr 1 x 30   90.909091   \n",
       "4666          sochnaya port mango mandar 0.95 lt 1 x 12   60.000000   \n",
       "929          lays ridged pendir ile sogan 150 gr 1 x 18  100.000000   \n",
       "4064                                  lays ridged chili  100.000000   \n",
       "3927                  superfresh superton 160 gr 1 x 24   92.307692   \n",
       "2464        muratbey tel corekotlu pendir 200 gr 1 x 12  100.000000   \n",
       "2662           quickbury burger buns 6 pcs 300 gr 1 x 8  100.000000   \n",
       "4229                      asci kelle qend 750 gr 1 x 12  100.000000   \n",
       "\n",
       "          score2      score3   score_w   score_d  \n",
       "3146  100.000000  100.000000  1.000000  0.333333  \n",
       "3256  100.000000  100.000000  1.000000  0.600000  \n",
       "1589   86.111111   86.111111  0.666667  0.466667  \n",
       "1687  100.000000  100.000000  1.000000  0.416667  \n",
       "3694  100.000000  100.000000  1.000000  0.514286  \n",
       "3411  100.000000  100.000000  1.000000  0.487500  \n",
       "941   100.000000  100.000000  1.000000  0.483333  \n",
       "4762  100.000000  100.000000  1.000000  0.500000  \n",
       "916   100.000000  100.000000  1.000000  0.540000  \n",
       "683   100.000000  100.000000  1.000000  0.566667  \n",
       "4332  100.000000  100.000000  1.000000  0.600000  \n",
       "3855  100.000000  100.000000  1.000000  0.400000  \n",
       "3736   94.444444   92.643052  0.666667  0.442857  \n",
       "4666   57.142857   58.536585  0.000000  0.000000  \n",
       "929   100.000000  100.000000  1.000000  0.550000  \n",
       "4064  100.000000  100.000000  1.000000  0.000000  \n",
       "3927  100.000000   96.000000  1.000000  0.000000  \n",
       "2464  100.000000  100.000000  1.000000  0.583333  \n",
       "2662  100.000000  100.000000  1.000000  0.516667  \n",
       "4229  100.000000  100.000000  1.000000  0.366667  "
      ],
      "text/html": [
       "<div>\n",
       "<style scoped>\n",
       "    .dataframe tbody tr th:only-of-type {\n",
       "        vertical-align: middle;\n",
       "    }\n",
       "\n",
       "    .dataframe tbody tr th {\n",
       "        vertical-align: top;\n",
       "    }\n",
       "\n",
       "    .dataframe thead th {\n",
       "        text-align: right;\n",
       "    }\n",
       "</style>\n",
       "<table border=\"1\" class=\"dataframe\">\n",
       "  <thead>\n",
       "    <tr style=\"text-align: right;\">\n",
       "      <th></th>\n",
       "      <th>Unnamed: 0</th>\n",
       "      <th>#</th>\n",
       "      <th>Product or Service Name</th>\n",
       "      <th>Unit</th>\n",
       "      <th>Quantity/Volume</th>\n",
       "      <th>unit</th>\n",
       "      <th>items</th>\n",
       "      <th>right</th>\n",
       "      <th>left1</th>\n",
       "      <th>left2</th>\n",
       "      <th>score1</th>\n",
       "      <th>score2</th>\n",
       "      <th>score3</th>\n",
       "      <th>score_w</th>\n",
       "      <th>score_d</th>\n",
       "    </tr>\n",
       "  </thead>\n",
       "  <tbody>\n",
       "    <tr>\n",
       "      <th>3146</th>\n",
       "      <td>200859</td>\n",
       "      <td>200860</td>\n",
       "      <td>SUPERFRESH PATATES 9X9 1000 GR 1X10</td>\n",
       "      <td>EDED</td>\n",
       "      <td>3</td>\n",
       "      <td>eded</td>\n",
       "      <td>superfresh patates 9 x 9 1000 gr 1 x 10</td>\n",
       "      <td>superfresh patates 9 x 9 1000 gr 1 x 10</td>\n",
       "      <td>superfresh patates 9 x 9 1000 gr 1 x 10</td>\n",
       "      <td>superfresh patates 9 x 9 1000 gr 1 x 10</td>\n",
       "      <td>100.000000</td>\n",
       "      <td>100.000000</td>\n",
       "      <td>100.000000</td>\n",
       "      <td>1.000000</td>\n",
       "      <td>0.333333</td>\n",
       "    </tr>\n",
       "    <tr>\n",
       "      <th>3256</th>\n",
       "      <td>204132</td>\n",
       "      <td>204133</td>\n",
       "      <td>FERSAN ELMA SIRKESI 50 CL CAM SISE 4% 1x12</td>\n",
       "      <td>ADET.CL</td>\n",
       "      <td>7</td>\n",
       "      <td>adet.cl</td>\n",
       "      <td>fersan elma sirkesi 50 cl cam sise 4 pct 1 x 12</td>\n",
       "      <td>fersan elma sirkesi 50 cl cam sise 4 pct 1 x 12</td>\n",
       "      <td>fersan elma sirkesi 50 cl cam sise 4 pct 1 x 12</td>\n",
       "      <td>fersan elma sirkesi 50 cl cam sise 4 pct 1 x 12</td>\n",
       "      <td>100.000000</td>\n",
       "      <td>100.000000</td>\n",
       "      <td>100.000000</td>\n",
       "      <td>1.000000</td>\n",
       "      <td>0.600000</td>\n",
       "    </tr>\n",
       "    <tr>\n",
       "      <th>1589</th>\n",
       "      <td>838322</td>\n",
       "      <td>838323</td>\n",
       "      <td>PINAR SUT KIDO KARAMELLI 180 ML 1X27</td>\n",
       "      <td>ADET.ML</td>\n",
       "      <td>6</td>\n",
       "      <td>adet.ml</td>\n",
       "      <td>pinar sut kido karamelli 180 ml 1 x 27</td>\n",
       "      <td>pinar sut kido karamelli 180 ml 1 x 27</td>\n",
       "      <td>pinar sut kido kakaolu 180 ml 1 x 27</td>\n",
       "      <td>pinar sut kido kakaolu 180 ml 1 x 27</td>\n",
       "      <td>86.111111</td>\n",
       "      <td>86.111111</td>\n",
       "      <td>86.111111</td>\n",
       "      <td>0.666667</td>\n",
       "      <td>0.466667</td>\n",
       "    </tr>\n",
       "    <tr>\n",
       "      <th>1687</th>\n",
       "      <td>575291</td>\n",
       "      <td>575292</td>\n",
       "      <td>PINAR PEYNIR LABNE 400 GR 1x12</td>\n",
       "      <td>EDED</td>\n",
       "      <td>12</td>\n",
       "      <td>eded</td>\n",
       "      <td>pinar peynir labne 400 gr 1 x 12</td>\n",
       "      <td>pinar peynir labne 400 gr 1 x 12</td>\n",
       "      <td>pinar peynir labne 400 gr 1 x 12</td>\n",
       "      <td>pinar peynir labne 400 gr 1 x 12</td>\n",
       "      <td>100.000000</td>\n",
       "      <td>100.000000</td>\n",
       "      <td>100.000000</td>\n",
       "      <td>1.000000</td>\n",
       "      <td>0.416667</td>\n",
       "    </tr>\n",
       "    <tr>\n",
       "      <th>3694</th>\n",
       "      <td>256685</td>\n",
       "      <td>256686</td>\n",
       "      <td>SEVIMLI DAD KESMIK KAUNAS 0.3% 180 GR1x1</td>\n",
       "      <td>EDED</td>\n",
       "      <td>5</td>\n",
       "      <td>eded</td>\n",
       "      <td>sevimli dad kesmik kaunas 0.3 pct 180 gr 1 x 1</td>\n",
       "      <td>sevimli dad kesmik kaunas 0.3 pct 180 gr 1 x 1</td>\n",
       "      <td>sevimli dad kesmik kaunas 0.3 pct 180 gr 1 x 1</td>\n",
       "      <td>sevimli dad kesmik kaunas 0.3 pct 180 gr 1 x 1</td>\n",
       "      <td>100.000000</td>\n",
       "      <td>100.000000</td>\n",
       "      <td>100.000000</td>\n",
       "      <td>1.000000</td>\n",
       "      <td>0.514286</td>\n",
       "    </tr>\n",
       "    <tr>\n",
       "      <th>3411</th>\n",
       "      <td>317126</td>\n",
       "      <td>317127</td>\n",
       "      <td>PRESIDENT SIRIN K/M DOLCE VANIL 20% 200GR 1X12</td>\n",
       "      <td>EDED</td>\n",
       "      <td>6</td>\n",
       "      <td>eded</td>\n",
       "      <td>president sirin k dolce vanil 20 pct 200 gr 1 ...</td>\n",
       "      <td>president sirin k dolce vanil 20 pct 200 gr 1 ...</td>\n",
       "      <td>president sirin k dolce vanil 20 pct 200 gr 1 ...</td>\n",
       "      <td>president sirin k dolce vanil 20 pct 200 gr 1 ...</td>\n",
       "      <td>100.000000</td>\n",
       "      <td>100.000000</td>\n",
       "      <td>100.000000</td>\n",
       "      <td>1.000000</td>\n",
       "      <td>0.487500</td>\n",
       "    </tr>\n",
       "    <tr>\n",
       "      <th>941</th>\n",
       "      <td>839130</td>\n",
       "      <td>839131</td>\n",
       "      <td>SUPERFRESH BAMYA SIVRI 450 GR 1X16</td>\n",
       "      <td>EDED</td>\n",
       "      <td>32</td>\n",
       "      <td>eded</td>\n",
       "      <td>superfresh bamya sivri 450 gr 1 x 16</td>\n",
       "      <td>superfresh bamya sivri 450 gr 1 x 16</td>\n",
       "      <td>superfresh bamya sivri 450 gr 1 x 16</td>\n",
       "      <td>superfresh bamya sivri 450 gr 1 x 16</td>\n",
       "      <td>100.000000</td>\n",
       "      <td>100.000000</td>\n",
       "      <td>100.000000</td>\n",
       "      <td>1.000000</td>\n",
       "      <td>0.483333</td>\n",
       "    </tr>\n",
       "    <tr>\n",
       "      <th>4762</th>\n",
       "      <td>771266</td>\n",
       "      <td>771267</td>\n",
       "      <td>PRESIDENT KESME MAAZDAM 150 GR 1X15</td>\n",
       "      <td>EDED</td>\n",
       "      <td>10</td>\n",
       "      <td>eded</td>\n",
       "      <td>president kesme maazdam 150 gr 1 x 15</td>\n",
       "      <td>president kesme maazdam 150 gr 1 x 15</td>\n",
       "      <td>president kesme maazdam 150 gr 1 x 15</td>\n",
       "      <td>president kesme maazdam 150 gr 1 x 15</td>\n",
       "      <td>100.000000</td>\n",
       "      <td>100.000000</td>\n",
       "      <td>100.000000</td>\n",
       "      <td>1.000000</td>\n",
       "      <td>0.500000</td>\n",
       "    </tr>\n",
       "    <tr>\n",
       "      <th>916</th>\n",
       "      <td>545481</td>\n",
       "      <td>545482</td>\n",
       "      <td>ULKER ICIMINO CIYELEK 45 GR 1X48</td>\n",
       "      <td>EDED</td>\n",
       "      <td>24</td>\n",
       "      <td>eded</td>\n",
       "      <td>ulker icimino ciyelek 45 gr 1 x 48</td>\n",
       "      <td>ulker icimino ciyelek 45 gr 1 x 48</td>\n",
       "      <td>ulker icimino ciyelek 45 gr 1 x 48</td>\n",
       "      <td>ulker icimino ciyelek 45 gr 1 x 48</td>\n",
       "      <td>100.000000</td>\n",
       "      <td>100.000000</td>\n",
       "      <td>100.000000</td>\n",
       "      <td>1.000000</td>\n",
       "      <td>0.540000</td>\n",
       "    </tr>\n",
       "    <tr>\n",
       "      <th>683</th>\n",
       "      <td>219194</td>\n",
       "      <td>219195</td>\n",
       "      <td>SEVIMLI DAD KESMIK YAGSIZ 0% 180 GR 1x1</td>\n",
       "      <td>EDED</td>\n",
       "      <td>10</td>\n",
       "      <td>eded</td>\n",
       "      <td>sevimli dad kesmik yagsiz 0 pct 180 gr 1 x 1</td>\n",
       "      <td>sevimli dad kesmik yagsiz 0 pct 180 gr 1 x 1</td>\n",
       "      <td>sevimli dad kesmik yagsiz 0 pct 180 gr 1 x 1</td>\n",
       "      <td>sevimli dad kesmik yagsiz 0 pct 180 gr 1 x 1</td>\n",
       "      <td>100.000000</td>\n",
       "      <td>100.000000</td>\n",
       "      <td>100.000000</td>\n",
       "      <td>1.000000</td>\n",
       "      <td>0.566667</td>\n",
       "    </tr>\n",
       "    <tr>\n",
       "      <th>4332</th>\n",
       "      <td>284582</td>\n",
       "      <td>284583</td>\n",
       "      <td>SEVIMLI DAD KESMIK ALBALILI 0% 180 GR1x1</td>\n",
       "      <td>EDED</td>\n",
       "      <td>2</td>\n",
       "      <td>eded</td>\n",
       "      <td>sevimli dad kesmik albalili 0 pct 180 gr 1 x 1</td>\n",
       "      <td>sevimli dad kesmik albalili 0 pct 180 gr 1 x 1</td>\n",
       "      <td>sevimli dad kesmik albalili 0 pct 180 gr 1 x 1</td>\n",
       "      <td>sevimli dad kesmik albalili 0 pct 180 gr 1 x 1</td>\n",
       "      <td>100.000000</td>\n",
       "      <td>100.000000</td>\n",
       "      <td>100.000000</td>\n",
       "      <td>1.000000</td>\n",
       "      <td>0.600000</td>\n",
       "    </tr>\n",
       "    <tr>\n",
       "      <th>3855</th>\n",
       "      <td>647350</td>\n",
       "      <td>647351</td>\n",
       "      <td>LAYS PAPRIKA 90 GR 1 x 25 P</td>\n",
       "      <td>EDED</td>\n",
       "      <td>75</td>\n",
       "      <td>eded</td>\n",
       "      <td>lays paprika 90 gr 1 x 25 p</td>\n",
       "      <td>lays paprika 90 gr 1 x 25 p</td>\n",
       "      <td>lays paprika 90 gr 1 x 25 p</td>\n",
       "      <td>lays paprika 90 gr 1 x 25 p</td>\n",
       "      <td>100.000000</td>\n",
       "      <td>100.000000</td>\n",
       "      <td>100.000000</td>\n",
       "      <td>1.000000</td>\n",
       "      <td>0.400000</td>\n",
       "    </tr>\n",
       "    <tr>\n",
       "      <th>3736</th>\n",
       "      <td>480956</td>\n",
       "      <td>480957</td>\n",
       "      <td>3 JELANIYA KETCUP CILI 250 GR 1x60</td>\n",
       "      <td>EDED</td>\n",
       "      <td>2</td>\n",
       "      <td>eded</td>\n",
       "      <td>3 jelaniya ketcup cili 250 gr 1 x 60</td>\n",
       "      <td>3 jelaniya ketcup cili 250 gr 1 x 60</td>\n",
       "      <td>3 jelaniya ketcup klassik 250 gr 1 x 60</td>\n",
       "      <td>3 jelaniya ketcup cili 450 gr 1 x 30</td>\n",
       "      <td>90.909091</td>\n",
       "      <td>94.444444</td>\n",
       "      <td>92.643052</td>\n",
       "      <td>0.666667</td>\n",
       "      <td>0.442857</td>\n",
       "    </tr>\n",
       "    <tr>\n",
       "      <th>4666</th>\n",
       "      <td>936785</td>\n",
       "      <td>936786</td>\n",
       "      <td>Krısinaya smert</td>\n",
       "      <td>kg</td>\n",
       "      <td>50</td>\n",
       "      <td>kg</td>\n",
       "      <td>krısinaya smert</td>\n",
       "      <td>krısinaya smert</td>\n",
       "      <td>president klassik kolleksiya 140 gr 1 x 15</td>\n",
       "      <td>sochnaya port mango mandar 0.95 lt 1 x 12</td>\n",
       "      <td>60.000000</td>\n",
       "      <td>57.142857</td>\n",
       "      <td>58.536585</td>\n",
       "      <td>0.000000</td>\n",
       "      <td>0.000000</td>\n",
       "    </tr>\n",
       "    <tr>\n",
       "      <th>929</th>\n",
       "      <td>229185</td>\n",
       "      <td>229186</td>\n",
       "      <td>LAYS RIDGED PENDIR ILE SOGAN 150 GR 1 x 18</td>\n",
       "      <td>EDED</td>\n",
       "      <td>54</td>\n",
       "      <td>eded</td>\n",
       "      <td>lays ridged pendir ile sogan 150 gr 1 x 18</td>\n",
       "      <td>lays ridged pendir ile sogan 150 gr 1 x 18</td>\n",
       "      <td>lays ridged pendir ile sogan 150 gr 1 x 18</td>\n",
       "      <td>lays ridged pendir ile sogan 150 gr 1 x 18</td>\n",
       "      <td>100.000000</td>\n",
       "      <td>100.000000</td>\n",
       "      <td>100.000000</td>\n",
       "      <td>1.000000</td>\n",
       "      <td>0.550000</td>\n",
       "    </tr>\n",
       "    <tr>\n",
       "      <th>4064</th>\n",
       "      <td>325461</td>\n",
       "      <td>325462</td>\n",
       "      <td>LAYS RIDGED CHILI</td>\n",
       "      <td>EDED</td>\n",
       "      <td>6</td>\n",
       "      <td>eded</td>\n",
       "      <td>lays ridged chili</td>\n",
       "      <td>lays ridged chili</td>\n",
       "      <td>lays ridged chili</td>\n",
       "      <td>lays ridged chili</td>\n",
       "      <td>100.000000</td>\n",
       "      <td>100.000000</td>\n",
       "      <td>100.000000</td>\n",
       "      <td>1.000000</td>\n",
       "      <td>0.000000</td>\n",
       "    </tr>\n",
       "    <tr>\n",
       "      <th>3927</th>\n",
       "      <td>143425</td>\n",
       "      <td>143426</td>\n",
       "      <td>SUPERFRESH SUPERTON 160 GR</td>\n",
       "      <td>ədəd</td>\n",
       "      <td>21</td>\n",
       "      <td>ədəd</td>\n",
       "      <td>superfresh superton 160 gr</td>\n",
       "      <td>superfresh superton 160 gr</td>\n",
       "      <td>superfresh superton 80 gr 1 x 24</td>\n",
       "      <td>superfresh superton 160 gr 1 x 24</td>\n",
       "      <td>92.307692</td>\n",
       "      <td>100.000000</td>\n",
       "      <td>96.000000</td>\n",
       "      <td>1.000000</td>\n",
       "      <td>0.000000</td>\n",
       "    </tr>\n",
       "    <tr>\n",
       "      <th>2464</th>\n",
       "      <td>851079</td>\n",
       "      <td>851080</td>\n",
       "      <td>MURATBEY TEL COREKOTLU PENDIR 200 GR 1X12</td>\n",
       "      <td>EDED</td>\n",
       "      <td>84</td>\n",
       "      <td>eded</td>\n",
       "      <td>muratbey tel corekotlu pendir 200 gr 1 x 12</td>\n",
       "      <td>muratbey tel corekotlu pendir 200 gr 1 x 12</td>\n",
       "      <td>muratbey tel corekotlu pendir 200 gr 1 x 12</td>\n",
       "      <td>muratbey tel corekotlu pendir 200 gr 1 x 12</td>\n",
       "      <td>100.000000</td>\n",
       "      <td>100.000000</td>\n",
       "      <td>100.000000</td>\n",
       "      <td>1.000000</td>\n",
       "      <td>0.583333</td>\n",
       "    </tr>\n",
       "    <tr>\n",
       "      <th>2662</th>\n",
       "      <td>814809</td>\n",
       "      <td>814810</td>\n",
       "      <td>QUICKBURY BURGER BUNS 6PCS 300 GR 1X8</td>\n",
       "      <td>EDED</td>\n",
       "      <td>8</td>\n",
       "      <td>eded</td>\n",
       "      <td>quickbury burger buns 6 pcs 300 gr 1 x 8</td>\n",
       "      <td>quickbury burger buns 6 pcs 300 gr 1 x 8</td>\n",
       "      <td>quickbury burger buns 6 pcs 300 gr 1 x 8</td>\n",
       "      <td>quickbury burger buns 6 pcs 300 gr 1 x 8</td>\n",
       "      <td>100.000000</td>\n",
       "      <td>100.000000</td>\n",
       "      <td>100.000000</td>\n",
       "      <td>1.000000</td>\n",
       "      <td>0.516667</td>\n",
       "    </tr>\n",
       "    <tr>\n",
       "      <th>4229</th>\n",
       "      <td>767007</td>\n",
       "      <td>767008</td>\n",
       "      <td>BIZIM ASCI KELLE QEND 750 GR 1x12</td>\n",
       "      <td>EDED</td>\n",
       "      <td>12</td>\n",
       "      <td>eded</td>\n",
       "      <td>asci kelle qend 750 gr 1 x 12</td>\n",
       "      <td>asci kelle qend 750 gr 1 x 12</td>\n",
       "      <td>asci kelle qend 750 gr 1 x 12</td>\n",
       "      <td>asci kelle qend 750 gr 1 x 12</td>\n",
       "      <td>100.000000</td>\n",
       "      <td>100.000000</td>\n",
       "      <td>100.000000</td>\n",
       "      <td>1.000000</td>\n",
       "      <td>0.366667</td>\n",
       "    </tr>\n",
       "  </tbody>\n",
       "</table>\n",
       "</div>"
      ]
     },
     "execution_count": 20,
     "metadata": {},
     "output_type": "execute_result"
    }
   ],
   "execution_count": 20
  },
  {
   "metadata": {},
   "cell_type": "markdown",
   "source": "### Merge outcoming data to preprocessed pairs of matched products",
   "id": "177a94c8a5666d4a"
  },
  {
   "metadata": {
    "ExecuteTime": {
     "end_time": "2024-07-30T20:33:11.659303Z",
     "start_time": "2024-07-30T20:33:11.634691Z"
    }
   },
   "cell_type": "code",
   "source": [
    "compilation_full = sub_result.merge(df_outcoming, how='left', left_on='left1', right_on='items')\n",
    "compilation_full = compilation_full.drop_duplicates(subset=['#_x']) \n",
    "compilation_full.shape"
   ],
   "id": "1b8d87b3ac05beaa",
   "outputs": [
    {
     "data": {
      "text/plain": [
       "(5000, 22)"
      ]
     },
     "execution_count": 21,
     "metadata": {},
     "output_type": "execute_result"
    }
   ],
   "execution_count": 21
  },
  {
   "metadata": {
    "ExecuteTime": {
     "end_time": "2024-07-30T20:33:11.662377Z",
     "start_time": "2024-07-30T20:33:11.660272Z"
    }
   },
   "cell_type": "code",
   "source": [
    "columns_to_use = [\n",
    "          'items_x', 'items_y',\n",
    "          'left1', 'left2',\n",
    "          'Quantity/Volume_x', 'unit_x',\n",
    "          'Quantity/Volume_y', 'unit_y',\n",
    "          'score1', 'score2', 'score3', 'score_w', 'score_d',\n",
    "          'Product or Service Name_x', 'Product or Service Name_y'\n",
    "]"
   ],
   "id": "653bce19cc5f7974",
   "outputs": [],
   "execution_count": 22
  },
  {
   "metadata": {
    "ExecuteTime": {
     "end_time": "2024-07-30T20:33:11.668249Z",
     "start_time": "2024-07-30T20:33:11.664014Z"
    }
   },
   "cell_type": "code",
   "source": "compilation_full = compilation_full[columns_to_use]",
   "id": "580264e5b59f8f4e",
   "outputs": [],
   "execution_count": 23
  },
  {
   "metadata": {
    "ExecuteTime": {
     "end_time": "2024-07-30T20:33:11.671536Z",
     "start_time": "2024-07-30T20:33:11.668913Z"
    }
   },
   "cell_type": "code",
   "source": "df_outcoming.shape, df_incoming.shape, compilation_full.shape",
   "id": "dbe508bc30dba560",
   "outputs": [
    {
     "data": {
      "text/plain": [
       "((5000, 7), (5000, 7), (5000, 15))"
      ]
     },
     "execution_count": 24,
     "metadata": {},
     "output_type": "execute_result"
    }
   ],
   "execution_count": 24
  },
  {
   "metadata": {},
   "cell_type": "markdown",
   "source": "### Filter data by scores metrics to robust result",
   "id": "743737eeef144227"
  },
  {
   "metadata": {
    "ExecuteTime": {
     "end_time": "2024-07-30T20:33:11.677350Z",
     "start_time": "2024-07-30T20:33:11.673057Z"
    }
   },
   "cell_type": "code",
   "source": [
    "comp_true = compilation_full[\n",
    "    (compilation_full.score3 > 78) \n",
    "    & \n",
    "    (compilation_full.score_d > 0.17)\n",
    "]"
   ],
   "id": "b84488465b507b2",
   "outputs": [],
   "execution_count": 25
  },
  {
   "metadata": {},
   "cell_type": "markdown",
   "source": "### Exclude from pairs data we doubt according to the scores",
   "id": "4bbc014f4e7e70fc"
  },
  {
   "metadata": {
    "ExecuteTime": {
     "end_time": "2024-07-30T20:33:11.680771Z",
     "start_time": "2024-07-30T20:33:11.678148Z"
    }
   },
   "cell_type": "code",
   "source": "comp_doubt = compilation_full.drop(comp_true.index, axis=0)\n",
   "id": "69703449d42ba34e",
   "outputs": [],
   "execution_count": 26
  },
  {
   "metadata": {
    "ExecuteTime": {
     "end_time": "2024-07-30T20:33:11.683400Z",
     "start_time": "2024-07-30T20:33:11.681778Z"
    }
   },
   "cell_type": "code",
   "source": "",
   "id": "af72cd2f485662c0",
   "outputs": [],
   "execution_count": 26
  },
  {
   "metadata": {
    "ExecuteTime": {
     "end_time": "2024-07-30T20:33:11.686875Z",
     "start_time": "2024-07-30T20:33:11.684143Z"
    }
   },
   "cell_type": "code",
   "source": "compilation_full.shape, comp_true.shape",
   "id": "112b8c279a8ef158",
   "outputs": [
    {
     "data": {
      "text/plain": [
       "((5000, 15), (4749, 15))"
      ]
     },
     "execution_count": 27,
     "metadata": {},
     "output_type": "execute_result"
    }
   ],
   "execution_count": 27
  },
  {
   "metadata": {},
   "cell_type": "markdown",
   "source": "### Share of data we consider as matched correctly",
   "id": "66555d7eb25e6d21"
  },
  {
   "metadata": {
    "ExecuteTime": {
     "end_time": "2024-07-30T20:33:11.690952Z",
     "start_time": "2024-07-30T20:33:11.687774Z"
    }
   },
   "cell_type": "code",
   "source": "comp_true.shape[0] / compilation_full.shape[0]",
   "id": "1160241fa92fe150",
   "outputs": [
    {
     "data": {
      "text/plain": [
       "0.9498"
      ]
     },
     "execution_count": 28,
     "metadata": {},
     "output_type": "execute_result"
    }
   ],
   "execution_count": 28
  },
  {
   "metadata": {
    "ExecuteTime": {
     "end_time": "2024-07-30T20:33:11.693287Z",
     "start_time": "2024-07-30T20:33:11.691722Z"
    }
   },
   "cell_type": "code",
   "source": "",
   "id": "512266d9670cd2f3",
   "outputs": [],
   "execution_count": 28
  },
  {
   "metadata": {
    "ExecuteTime": {
     "end_time": "2024-07-30T20:33:11.696436Z",
     "start_time": "2024-07-30T20:33:11.694182Z"
    }
   },
   "cell_type": "code",
   "source": "compilation_scored = comp_true",
   "id": "426ffacf39ed4806",
   "outputs": [],
   "execution_count": 29
  },
  {
   "metadata": {},
   "cell_type": "markdown",
   "source": "### Preprocess units to see in the result table if they are the same for left and right item in matched pair",
   "id": "12b3ade2fa775cde"
  },
  {
   "metadata": {
    "ExecuteTime": {
     "end_time": "2024-07-30T20:33:14.104401Z",
     "start_time": "2024-07-30T20:33:14.098194Z"
    }
   },
   "cell_type": "code",
   "source": [
    "compilation_scored['unit_common'] = compilation_scored['unit_x'] + ' ' +  compilation_scored['unit_y']\n",
    "compilation_scored['unit_common_set'] = compilation_scored['unit_common'].apply(lambda x: set(str(x).replace('.', ' ').split()))"
   ],
   "id": "3fe47b5fe348b7dd",
   "outputs": [
    {
     "name": "stderr",
     "output_type": "stream",
     "text": [
      "/tmp/ipykernel_29398/3152849601.py:1: SettingWithCopyWarning: \n",
      "A value is trying to be set on a copy of a slice from a DataFrame.\n",
      "Try using .loc[row_indexer,col_indexer] = value instead\n",
      "\n",
      "See the caveats in the documentation: https://pandas.pydata.org/pandas-docs/stable/user_guide/indexing.html#returning-a-view-versus-a-copy\n",
      "  compilation_scored['unit_common'] = compilation_scored['unit_x'] + ' ' +  compilation_scored['unit_y']\n",
      "/tmp/ipykernel_29398/3152849601.py:2: SettingWithCopyWarning: \n",
      "A value is trying to be set on a copy of a slice from a DataFrame.\n",
      "Try using .loc[row_indexer,col_indexer] = value instead\n",
      "\n",
      "See the caveats in the documentation: https://pandas.pydata.org/pandas-docs/stable/user_guide/indexing.html#returning-a-view-versus-a-copy\n",
      "  compilation_scored['unit_common_set'] = compilation_scored['unit_common'].apply(lambda x: set(str(x).replace('.', ' ').split()))\n"
     ]
    }
   ],
   "execution_count": 30
  },
  {
   "metadata": {
    "ExecuteTime": {
     "end_time": "2024-07-30T20:33:14.333436Z",
     "start_time": "2024-07-30T20:33:14.326788Z"
    }
   },
   "cell_type": "code",
   "source": [
    "compilation_scored['unit_common_str'] = compilation_scored['unit_common_set'].apply(\n",
    "    lambda x: str(list(x)[0]) if len(list(x)) == 0 else ' '.join(list(x))\n",
    ")"
   ],
   "id": "5e4c34fd8b8de0ff",
   "outputs": [
    {
     "name": "stderr",
     "output_type": "stream",
     "text": [
      "/tmp/ipykernel_29398/3820387171.py:1: SettingWithCopyWarning: \n",
      "A value is trying to be set on a copy of a slice from a DataFrame.\n",
      "Try using .loc[row_indexer,col_indexer] = value instead\n",
      "\n",
      "See the caveats in the documentation: https://pandas.pydata.org/pandas-docs/stable/user_guide/indexing.html#returning-a-view-versus-a-copy\n",
      "  compilation_scored['unit_common_str'] = compilation_scored['unit_common_set'].apply(\n"
     ]
    }
   ],
   "execution_count": 31
  },
  {
   "metadata": {},
   "cell_type": "markdown",
   "source": "### Convert quantaties to float for aggregating later",
   "id": "1fad1e33d562a0c3"
  },
  {
   "metadata": {
    "ExecuteTime": {
     "end_time": "2024-07-30T20:33:15.302665Z",
     "start_time": "2024-07-30T20:33:15.292853Z"
    }
   },
   "cell_type": "code",
   "source": [
    "compilation_scored['quant_in'] = compilation_scored['Quantity/Volume_x'].astype('str').str.replace(',', '.').fillna(0).astype('float')\n",
    "compilation_scored['quant_out'] = compilation_scored['Quantity/Volume_y'].astype('str').str.replace(',', '.').fillna(0).astype('float')"
   ],
   "id": "d9ab9df604847391",
   "outputs": [
    {
     "name": "stderr",
     "output_type": "stream",
     "text": [
      "/tmp/ipykernel_29398/2514422162.py:1: SettingWithCopyWarning: \n",
      "A value is trying to be set on a copy of a slice from a DataFrame.\n",
      "Try using .loc[row_indexer,col_indexer] = value instead\n",
      "\n",
      "See the caveats in the documentation: https://pandas.pydata.org/pandas-docs/stable/user_guide/indexing.html#returning-a-view-versus-a-copy\n",
      "  compilation_scored['quant_in'] = compilation_scored['Quantity/Volume_x'].astype('str').str.replace(',', '.').fillna(0).astype('float')\n",
      "/tmp/ipykernel_29398/2514422162.py:2: SettingWithCopyWarning: \n",
      "A value is trying to be set on a copy of a slice from a DataFrame.\n",
      "Try using .loc[row_indexer,col_indexer] = value instead\n",
      "\n",
      "See the caveats in the documentation: https://pandas.pydata.org/pandas-docs/stable/user_guide/indexing.html#returning-a-view-versus-a-copy\n",
      "  compilation_scored['quant_out'] = compilation_scored['Quantity/Volume_y'].astype('str').str.replace(',', '.').fillna(0).astype('float')\n"
     ]
    }
   ],
   "execution_count": 32
  },
  {
   "metadata": {
    "ExecuteTime": {
     "end_time": "2024-07-30T20:33:15.481971Z",
     "start_time": "2024-07-30T20:33:15.479409Z"
    }
   },
   "cell_type": "code",
   "source": "compilation_scored.shape",
   "id": "4cd74d09b89efa03",
   "outputs": [
    {
     "data": {
      "text/plain": [
       "(4749, 20)"
      ]
     },
     "execution_count": 33,
     "metadata": {},
     "output_type": "execute_result"
    }
   ],
   "execution_count": 33
  },
  {
   "metadata": {
    "ExecuteTime": {
     "end_time": "2024-07-30T20:33:15.701056Z",
     "start_time": "2024-07-30T20:33:15.691753Z"
    }
   },
   "cell_type": "code",
   "source": [
    "# x - incoming y - outcoming\n",
    "compilation_scored[\n",
    "    [\n",
    "        'items_x', 'items_y',\n",
    "        'score3', 'score1', 'score2', 'score_w', 'score_d',\n",
    "        'Product or Service Name_x', 'Product or Service Name_y'\n",
    "    ]\n",
    "].sample(250)"
   ],
   "id": "f7d78e5911075ced",
   "outputs": [
    {
     "data": {
      "text/plain": [
       "                                              items_x  \\\n",
       "43290        3 jelaniya ketcup kabablig 450 gr 1 x 30   \n",
       "36562          kirlangic sizma zeytinyagi 1 lt 1 x 12   \n",
       "9607         3 jelaniya ketcup kabablig 250 gr 1 x 60   \n",
       "44612           pinar peynir taze kasar 200 gr 1 x 12   \n",
       "2704      sevimli dad kesmik yagli 9 pct 180 gr 1 x 1   \n",
       "...                                               ...   \n",
       "10297      lays ridged pendir ile sogan 150 gr 1 x 18   \n",
       "29057                     doritos acili 130 gr 1 x 16   \n",
       "34119             icimino sud sokoladli 180 ml 1 x 27   \n",
       "11949         sevimli dad kefir 2.5 pct 500 gr 1 x 30   \n",
       "38032  osmanli lokum yerfistigi qarisiq 300 gr 1 x 16   \n",
       "\n",
       "                                              items_y  score3  score1  score2  \\\n",
       "43290        3 jelaniya ketcup kabablig 450 gr 1 x 30   100.0   100.0   100.0   \n",
       "36562          kirlangic sizma zeytinyagi 1 lt 1 x 12   100.0   100.0   100.0   \n",
       "9607         3 jelaniya ketcup kabablig 250 gr 1 x 60   100.0   100.0   100.0   \n",
       "44612           pinar peynir taze kasar 200 gr 1 x 12   100.0   100.0   100.0   \n",
       "2704      sevimli dad kesmik yagli 9 pct 180 gr 1 x 1   100.0   100.0   100.0   \n",
       "...                                               ...     ...     ...     ...   \n",
       "10297      lays ridged pendir ile sogan 150 gr 1 x 18   100.0   100.0   100.0   \n",
       "29057                     doritos acili 130 gr 1 x 16   100.0   100.0   100.0   \n",
       "34119             icimino sud sokoladli 180 ml 1 x 27   100.0   100.0   100.0   \n",
       "11949         sevimli dad kefir 2.5 pct 500 gr 1 x 30   100.0   100.0   100.0   \n",
       "38032  osmanli lokum yerfistigi qarisiq 300 gr 1 x 16   100.0   100.0   100.0   \n",
       "\n",
       "       score_w   score_d                     Product or Service Name_x  \\\n",
       "43290      1.0  0.457143        3 JELANIYA KETCUP KABABLIG 450 GR 1x30   \n",
       "36562      1.0  0.775000      KIRLANGIC SIZMA ZEYTINYAGI 1 LT PET 1X12   \n",
       "9607       1.0  0.457143        3 JELANIYA KETCUP KABABLIG 250 GR 1x60   \n",
       "44612      1.0  0.483333           PINAR PEYNIR TAZE KASAR 200 GR 1x12   \n",
       "2704       1.0  0.550000        SEVIMLI DAD KESMIK YAGLI 9% 180 GR 1x1   \n",
       "...        ...       ...                                           ...   \n",
       "10297      1.0  0.550000    LAYS RIDGED PENDIR ILE SOGAN 150 GR 1 x 18   \n",
       "29057      1.0  0.350000                   DORITOS ACILI 130 GR 1 x 16   \n",
       "34119      1.0  0.466667             ICIMINO SUD SOKOLADLI 180 ML 1X27   \n",
       "11949      1.0  0.375000            SEVIMLI DAD KEFIR 2.5% 500 GR 1X30   \n",
       "38032      1.0  0.633333  OSMANLI LOKUM YERFISTIGI QARISIQ 300 GR 1x16   \n",
       "\n",
       "                          Product or Service Name_y  \n",
       "43290        3 JELANIYA KETCUP KABABLIG 450 GR 1x30  \n",
       "36562      KIRLANGIC SIZMA ZEYTINYAGI 1 LT PET 1X12  \n",
       "9607         3 JELANIYA KETCUP KABABLIG 250 GR 1x60  \n",
       "44612           PINAR PEYNIR TAZE KASAR 200 GR 1x12  \n",
       "2704         SEVIMLI DAD KESMIK YAGLI 9% 180 GR 1x1  \n",
       "...                                             ...  \n",
       "10297    LAYS RIDGED PENDIR ILE SOGAN 150 GR 1 x 18  \n",
       "29057                   DORITOS ACILI 130 GR 1 x 16  \n",
       "34119             ICIMINO SUD SOKOLADLI 180 ML 1X27  \n",
       "11949            SEVIMLI DAD KEFIR 2.5% 500 GR 1X30  \n",
       "38032  OSMANLI LOKUM YERFISTIGI QARISIQ 300 GR 1x16  \n",
       "\n",
       "[250 rows x 9 columns]"
      ],
      "text/html": [
       "<div>\n",
       "<style scoped>\n",
       "    .dataframe tbody tr th:only-of-type {\n",
       "        vertical-align: middle;\n",
       "    }\n",
       "\n",
       "    .dataframe tbody tr th {\n",
       "        vertical-align: top;\n",
       "    }\n",
       "\n",
       "    .dataframe thead th {\n",
       "        text-align: right;\n",
       "    }\n",
       "</style>\n",
       "<table border=\"1\" class=\"dataframe\">\n",
       "  <thead>\n",
       "    <tr style=\"text-align: right;\">\n",
       "      <th></th>\n",
       "      <th>items_x</th>\n",
       "      <th>items_y</th>\n",
       "      <th>score3</th>\n",
       "      <th>score1</th>\n",
       "      <th>score2</th>\n",
       "      <th>score_w</th>\n",
       "      <th>score_d</th>\n",
       "      <th>Product or Service Name_x</th>\n",
       "      <th>Product or Service Name_y</th>\n",
       "    </tr>\n",
       "  </thead>\n",
       "  <tbody>\n",
       "    <tr>\n",
       "      <th>43290</th>\n",
       "      <td>3 jelaniya ketcup kabablig 450 gr 1 x 30</td>\n",
       "      <td>3 jelaniya ketcup kabablig 450 gr 1 x 30</td>\n",
       "      <td>100.0</td>\n",
       "      <td>100.0</td>\n",
       "      <td>100.0</td>\n",
       "      <td>1.0</td>\n",
       "      <td>0.457143</td>\n",
       "      <td>3 JELANIYA KETCUP KABABLIG 450 GR 1x30</td>\n",
       "      <td>3 JELANIYA KETCUP KABABLIG 450 GR 1x30</td>\n",
       "    </tr>\n",
       "    <tr>\n",
       "      <th>36562</th>\n",
       "      <td>kirlangic sizma zeytinyagi 1 lt 1 x 12</td>\n",
       "      <td>kirlangic sizma zeytinyagi 1 lt 1 x 12</td>\n",
       "      <td>100.0</td>\n",
       "      <td>100.0</td>\n",
       "      <td>100.0</td>\n",
       "      <td>1.0</td>\n",
       "      <td>0.775000</td>\n",
       "      <td>KIRLANGIC SIZMA ZEYTINYAGI 1 LT PET 1X12</td>\n",
       "      <td>KIRLANGIC SIZMA ZEYTINYAGI 1 LT PET 1X12</td>\n",
       "    </tr>\n",
       "    <tr>\n",
       "      <th>9607</th>\n",
       "      <td>3 jelaniya ketcup kabablig 250 gr 1 x 60</td>\n",
       "      <td>3 jelaniya ketcup kabablig 250 gr 1 x 60</td>\n",
       "      <td>100.0</td>\n",
       "      <td>100.0</td>\n",
       "      <td>100.0</td>\n",
       "      <td>1.0</td>\n",
       "      <td>0.457143</td>\n",
       "      <td>3 JELANIYA KETCUP KABABLIG 250 GR 1x60</td>\n",
       "      <td>3 JELANIYA KETCUP KABABLIG 250 GR 1x60</td>\n",
       "    </tr>\n",
       "    <tr>\n",
       "      <th>44612</th>\n",
       "      <td>pinar peynir taze kasar 200 gr 1 x 12</td>\n",
       "      <td>pinar peynir taze kasar 200 gr 1 x 12</td>\n",
       "      <td>100.0</td>\n",
       "      <td>100.0</td>\n",
       "      <td>100.0</td>\n",
       "      <td>1.0</td>\n",
       "      <td>0.483333</td>\n",
       "      <td>PINAR PEYNIR TAZE KASAR 200 GR 1x12</td>\n",
       "      <td>PINAR PEYNIR TAZE KASAR 200 GR 1x12</td>\n",
       "    </tr>\n",
       "    <tr>\n",
       "      <th>2704</th>\n",
       "      <td>sevimli dad kesmik yagli 9 pct 180 gr 1 x 1</td>\n",
       "      <td>sevimli dad kesmik yagli 9 pct 180 gr 1 x 1</td>\n",
       "      <td>100.0</td>\n",
       "      <td>100.0</td>\n",
       "      <td>100.0</td>\n",
       "      <td>1.0</td>\n",
       "      <td>0.550000</td>\n",
       "      <td>SEVIMLI DAD KESMIK YAGLI 9% 180 GR 1x1</td>\n",
       "      <td>SEVIMLI DAD KESMIK YAGLI 9% 180 GR 1x1</td>\n",
       "    </tr>\n",
       "    <tr>\n",
       "      <th>...</th>\n",
       "      <td>...</td>\n",
       "      <td>...</td>\n",
       "      <td>...</td>\n",
       "      <td>...</td>\n",
       "      <td>...</td>\n",
       "      <td>...</td>\n",
       "      <td>...</td>\n",
       "      <td>...</td>\n",
       "      <td>...</td>\n",
       "    </tr>\n",
       "    <tr>\n",
       "      <th>10297</th>\n",
       "      <td>lays ridged pendir ile sogan 150 gr 1 x 18</td>\n",
       "      <td>lays ridged pendir ile sogan 150 gr 1 x 18</td>\n",
       "      <td>100.0</td>\n",
       "      <td>100.0</td>\n",
       "      <td>100.0</td>\n",
       "      <td>1.0</td>\n",
       "      <td>0.550000</td>\n",
       "      <td>LAYS RIDGED PENDIR ILE SOGAN 150 GR 1 x 18</td>\n",
       "      <td>LAYS RIDGED PENDIR ILE SOGAN 150 GR 1 x 18</td>\n",
       "    </tr>\n",
       "    <tr>\n",
       "      <th>29057</th>\n",
       "      <td>doritos acili 130 gr 1 x 16</td>\n",
       "      <td>doritos acili 130 gr 1 x 16</td>\n",
       "      <td>100.0</td>\n",
       "      <td>100.0</td>\n",
       "      <td>100.0</td>\n",
       "      <td>1.0</td>\n",
       "      <td>0.350000</td>\n",
       "      <td>DORITOS ACILI 130 GR 1 x 16</td>\n",
       "      <td>DORITOS ACILI 130 GR 1 x 16</td>\n",
       "    </tr>\n",
       "    <tr>\n",
       "      <th>34119</th>\n",
       "      <td>icimino sud sokoladli 180 ml 1 x 27</td>\n",
       "      <td>icimino sud sokoladli 180 ml 1 x 27</td>\n",
       "      <td>100.0</td>\n",
       "      <td>100.0</td>\n",
       "      <td>100.0</td>\n",
       "      <td>1.0</td>\n",
       "      <td>0.466667</td>\n",
       "      <td>ICIMINO SUD SOKOLADLI 180 ML 1X27</td>\n",
       "      <td>ICIMINO SUD SOKOLADLI 180 ML 1X27</td>\n",
       "    </tr>\n",
       "    <tr>\n",
       "      <th>11949</th>\n",
       "      <td>sevimli dad kefir 2.5 pct 500 gr 1 x 30</td>\n",
       "      <td>sevimli dad kefir 2.5 pct 500 gr 1 x 30</td>\n",
       "      <td>100.0</td>\n",
       "      <td>100.0</td>\n",
       "      <td>100.0</td>\n",
       "      <td>1.0</td>\n",
       "      <td>0.375000</td>\n",
       "      <td>SEVIMLI DAD KEFIR 2.5% 500 GR 1X30</td>\n",
       "      <td>SEVIMLI DAD KEFIR 2.5% 500 GR 1X30</td>\n",
       "    </tr>\n",
       "    <tr>\n",
       "      <th>38032</th>\n",
       "      <td>osmanli lokum yerfistigi qarisiq 300 gr 1 x 16</td>\n",
       "      <td>osmanli lokum yerfistigi qarisiq 300 gr 1 x 16</td>\n",
       "      <td>100.0</td>\n",
       "      <td>100.0</td>\n",
       "      <td>100.0</td>\n",
       "      <td>1.0</td>\n",
       "      <td>0.633333</td>\n",
       "      <td>OSMANLI LOKUM YERFISTIGI QARISIQ 300 GR 1x16</td>\n",
       "      <td>OSMANLI LOKUM YERFISTIGI QARISIQ 300 GR 1x16</td>\n",
       "    </tr>\n",
       "  </tbody>\n",
       "</table>\n",
       "<p>250 rows × 9 columns</p>\n",
       "</div>"
      ]
     },
     "execution_count": 34,
     "metadata": {},
     "output_type": "execute_result"
    }
   ],
   "execution_count": 34
  },
  {
   "metadata": {},
   "cell_type": "markdown",
   "source": "### Get groups from preprocessed items names",
   "id": "e3d563b026abc5d5"
  },
  {
   "metadata": {
    "ExecuteTime": {
     "end_time": "2024-07-30T20:33:16.094185Z",
     "start_time": "2024-07-30T20:33:16.080726Z"
    }
   },
   "cell_type": "code",
   "source": "compilation_scored['items_x_numberless'] = compilation_scored['items_x'].apply(lambda x: remove_numbers(x))",
   "id": "306cb9b5838606d8",
   "outputs": [
    {
     "name": "stderr",
     "output_type": "stream",
     "text": [
      "/tmp/ipykernel_29398/3752593017.py:1: SettingWithCopyWarning: \n",
      "A value is trying to be set on a copy of a slice from a DataFrame.\n",
      "Try using .loc[row_indexer,col_indexer] = value instead\n",
      "\n",
      "See the caveats in the documentation: https://pandas.pydata.org/pandas-docs/stable/user_guide/indexing.html#returning-a-view-versus-a-copy\n",
      "  compilation_scored['items_x_numberless'] = compilation_scored['items_x'].apply(lambda x: remove_numbers(x))\n"
     ]
    }
   ],
   "execution_count": 35
  },
  {
   "metadata": {
    "ExecuteTime": {
     "end_time": "2024-07-30T20:33:19.469713Z",
     "start_time": "2024-07-30T20:33:16.318992Z"
    }
   },
   "cell_type": "code",
   "source": [
    "compilation_scored['product_group'] = compilation_scored['items_x_numberless'].apply(lambda x: get_product_group(x))\n",
    "compilation_scored['parent_group'] = compilation_scored['product_group'].apply(lambda x: get_parent_group(x))"
   ],
   "id": "8d1ebb7fb17aa76d",
   "outputs": [
    {
     "name": "stderr",
     "output_type": "stream",
     "text": [
      "/tmp/ipykernel_29398/3845966172.py:1: SettingWithCopyWarning: \n",
      "A value is trying to be set on a copy of a slice from a DataFrame.\n",
      "Try using .loc[row_indexer,col_indexer] = value instead\n",
      "\n",
      "See the caveats in the documentation: https://pandas.pydata.org/pandas-docs/stable/user_guide/indexing.html#returning-a-view-versus-a-copy\n",
      "  compilation_scored['product_group'] = compilation_scored['items_x_numberless'].apply(lambda x: get_product_group(x))\n",
      "/tmp/ipykernel_29398/3845966172.py:2: SettingWithCopyWarning: \n",
      "A value is trying to be set on a copy of a slice from a DataFrame.\n",
      "Try using .loc[row_indexer,col_indexer] = value instead\n",
      "\n",
      "See the caveats in the documentation: https://pandas.pydata.org/pandas-docs/stable/user_guide/indexing.html#returning-a-view-versus-a-copy\n",
      "  compilation_scored['parent_group'] = compilation_scored['product_group'].apply(lambda x: get_parent_group(x))\n"
     ]
    }
   ],
   "execution_count": 36
  },
  {
   "metadata": {
    "ExecuteTime": {
     "end_time": "2024-07-30T20:33:19.472911Z",
     "start_time": "2024-07-30T20:33:19.471162Z"
    }
   },
   "cell_type": "code",
   "source": "",
   "id": "e31008cbae4797fb",
   "outputs": [],
   "execution_count": 36
  },
  {
   "metadata": {},
   "cell_type": "markdown",
   "source": "### Aggregated result by items and their groups",
   "id": "64b1b3f8a18d4f60"
  },
  {
   "metadata": {
    "ExecuteTime": {
     "end_time": "2024-07-30T20:33:19.489595Z",
     "start_time": "2024-07-30T20:33:19.473667Z"
    }
   },
   "cell_type": "code",
   "source": [
    "general_aggregate = compilation_scored.groupby(\n",
    "    by=['parent_group', 'product_group', 'Product or Service Name_x', 'Product or Service Name_y', 'unit_common_str']\n",
    ").agg(\n",
    "    {'quant_in':'sum','quant_out':'sum'}\n",
    ").sort_values(\n",
    "    ['unit_common_str']\n",
    ")\n",
    "\n",
    "general_aggregate"
   ],
   "id": "c4da6804d0a6a691",
   "outputs": [
    {
     "data": {
      "text/plain": [
       "                                                                                                                                         quant_in  \\\n",
       "parent_group product_group      Product or Service Name_x                   Product or Service Name_y                   unit_common_str             \n",
       "nane         bagdat nane        BAGDAT NANE 30 GR 1x15                      BAGDAT NANE 30 GR 1x14                      adet cl eded         15.0   \n",
       "elma         fersan elma        FERSAN ELMA SIRKESI 50 CL CAM SISE 4% 1x12  FERSAN ELMA SIRKESI 50 CL CAM SISE 4% 1x12  adet cl eded       2000.0   \n",
       "dovga        sevimli dovga      SEVIMLI DAD DOVGA 2.5% 900 GR 1x12          SEVIMLI DAD DOVGA 2.5% 900 GR 1x12          adet cl eded        198.0   \n",
       "nane         bagdat nane        BAGDAT NANE 30 GR 1x14                      BAGDAT NANE 30 GR 1x14                      adet cl eded         43.0   \n",
       "nar          fersan nar         FERSAN NAR EKSILI 25 CL CAM SISE 1x12       FERSAN NAR EKSILI 25 CL CAM SISE 1x12       adet cl eded         39.0   \n",
       "...                                                                                                                                           ...   \n",
       "kuzya        kuzya kukuruz      KUZYA KUKURUZ 140 GR                        KUZYA KUKURUZ 140 GR 1X12                   ədəd eded           480.0   \n",
       "dolcia       dolcia puding      DOLCIA PUDING BANANLI 100GR 1X4X6           DOLCIA PUDING BANANLI 100GR 1X4X6           ədəd eded            48.0   \n",
       "kuzya        kuzya kukuruz      KUZYA KUKURUZ 140 GR AL 38 GR(1x30) HDY 1X1 KUZYA KUKURUZ 140 GR AL 38 GR(1x30) HDY 1X1 ədəd eded            70.0   \n",
       "ulker        ulker puding       ULKER PUDING ALPELLA SOKOLADLI 100 GR 1X24  ULKER PUDING ALPELLA SOKOLADLI 100 GR 1X24  ədəd eded          1670.0   \n",
       "delverde     delverde farfallex DELVERDE FARFALLEX222 500 GR                DELVERDE FARFALLE*222 500 GR 1X20           ədəd eded            12.0   \n",
       "\n",
       "                                                                                                                                         quant_out  \n",
       "parent_group product_group      Product or Service Name_x                   Product or Service Name_y                   unit_common_str             \n",
       "nane         bagdat nane        BAGDAT NANE 30 GR 1x15                      BAGDAT NANE 30 GR 1x14                      adet cl eded          14.0  \n",
       "elma         fersan elma        FERSAN ELMA SIRKESI 50 CL CAM SISE 4% 1x12  FERSAN ELMA SIRKESI 50 CL CAM SISE 4% 1x12  adet cl eded         456.0  \n",
       "dovga        sevimli dovga      SEVIMLI DAD DOVGA 2.5% 900 GR 1x12          SEVIMLI DAD DOVGA 2.5% 900 GR 1x12          adet cl eded          16.0  \n",
       "nane         bagdat nane        BAGDAT NANE 30 GR 1x14                      BAGDAT NANE 30 GR 1x14                      adet cl eded          28.0  \n",
       "nar          fersan nar         FERSAN NAR EKSILI 25 CL CAM SISE 1x12       FERSAN NAR EKSILI 25 CL CAM SISE 1x12       adet cl eded          36.0  \n",
       "...                                                                                                                                            ...  \n",
       "kuzya        kuzya kukuruz      KUZYA KUKURUZ 140 GR                        KUZYA KUKURUZ 140 GR 1X12                   ədəd eded             11.0  \n",
       "dolcia       dolcia puding      DOLCIA PUDING BANANLI 100GR 1X4X6           DOLCIA PUDING BANANLI 100GR 1X4X6           ədəd eded             96.0  \n",
       "kuzya        kuzya kukuruz      KUZYA KUKURUZ 140 GR AL 38 GR(1x30) HDY 1X1 KUZYA KUKURUZ 140 GR AL 38 GR(1x30) HDY 1X1 ədəd eded             24.0  \n",
       "ulker        ulker puding       ULKER PUDING ALPELLA SOKOLADLI 100 GR 1X24  ULKER PUDING ALPELLA SOKOLADLI 100 GR 1X24  ədəd eded            378.0  \n",
       "delverde     delverde farfallex DELVERDE FARFALLEX222 500 GR                DELVERDE FARFALLE*222 500 GR 1X20           ədəd eded             16.0  \n",
       "\n",
       "[1039 rows x 2 columns]"
      ],
      "text/html": [
       "<div>\n",
       "<style scoped>\n",
       "    .dataframe tbody tr th:only-of-type {\n",
       "        vertical-align: middle;\n",
       "    }\n",
       "\n",
       "    .dataframe tbody tr th {\n",
       "        vertical-align: top;\n",
       "    }\n",
       "\n",
       "    .dataframe thead th {\n",
       "        text-align: right;\n",
       "    }\n",
       "</style>\n",
       "<table border=\"1\" class=\"dataframe\">\n",
       "  <thead>\n",
       "    <tr style=\"text-align: right;\">\n",
       "      <th></th>\n",
       "      <th></th>\n",
       "      <th></th>\n",
       "      <th></th>\n",
       "      <th></th>\n",
       "      <th>quant_in</th>\n",
       "      <th>quant_out</th>\n",
       "    </tr>\n",
       "    <tr>\n",
       "      <th>parent_group</th>\n",
       "      <th>product_group</th>\n",
       "      <th>Product or Service Name_x</th>\n",
       "      <th>Product or Service Name_y</th>\n",
       "      <th>unit_common_str</th>\n",
       "      <th></th>\n",
       "      <th></th>\n",
       "    </tr>\n",
       "  </thead>\n",
       "  <tbody>\n",
       "    <tr>\n",
       "      <th>nane</th>\n",
       "      <th>bagdat nane</th>\n",
       "      <th>BAGDAT NANE 30 GR 1x15</th>\n",
       "      <th>BAGDAT NANE 30 GR 1x14</th>\n",
       "      <th>adet cl eded</th>\n",
       "      <td>15.0</td>\n",
       "      <td>14.0</td>\n",
       "    </tr>\n",
       "    <tr>\n",
       "      <th>elma</th>\n",
       "      <th>fersan elma</th>\n",
       "      <th>FERSAN ELMA SIRKESI 50 CL CAM SISE 4% 1x12</th>\n",
       "      <th>FERSAN ELMA SIRKESI 50 CL CAM SISE 4% 1x12</th>\n",
       "      <th>adet cl eded</th>\n",
       "      <td>2000.0</td>\n",
       "      <td>456.0</td>\n",
       "    </tr>\n",
       "    <tr>\n",
       "      <th>dovga</th>\n",
       "      <th>sevimli dovga</th>\n",
       "      <th>SEVIMLI DAD DOVGA 2.5% 900 GR 1x12</th>\n",
       "      <th>SEVIMLI DAD DOVGA 2.5% 900 GR 1x12</th>\n",
       "      <th>adet cl eded</th>\n",
       "      <td>198.0</td>\n",
       "      <td>16.0</td>\n",
       "    </tr>\n",
       "    <tr>\n",
       "      <th>nane</th>\n",
       "      <th>bagdat nane</th>\n",
       "      <th>BAGDAT NANE 30 GR 1x14</th>\n",
       "      <th>BAGDAT NANE 30 GR 1x14</th>\n",
       "      <th>adet cl eded</th>\n",
       "      <td>43.0</td>\n",
       "      <td>28.0</td>\n",
       "    </tr>\n",
       "    <tr>\n",
       "      <th>nar</th>\n",
       "      <th>fersan nar</th>\n",
       "      <th>FERSAN NAR EKSILI 25 CL CAM SISE 1x12</th>\n",
       "      <th>FERSAN NAR EKSILI 25 CL CAM SISE 1x12</th>\n",
       "      <th>adet cl eded</th>\n",
       "      <td>39.0</td>\n",
       "      <td>36.0</td>\n",
       "    </tr>\n",
       "    <tr>\n",
       "      <th>...</th>\n",
       "      <th>...</th>\n",
       "      <th>...</th>\n",
       "      <th>...</th>\n",
       "      <th>...</th>\n",
       "      <td>...</td>\n",
       "      <td>...</td>\n",
       "    </tr>\n",
       "    <tr>\n",
       "      <th>kuzya</th>\n",
       "      <th>kuzya kukuruz</th>\n",
       "      <th>KUZYA KUKURUZ 140 GR</th>\n",
       "      <th>KUZYA KUKURUZ 140 GR 1X12</th>\n",
       "      <th>ədəd eded</th>\n",
       "      <td>480.0</td>\n",
       "      <td>11.0</td>\n",
       "    </tr>\n",
       "    <tr>\n",
       "      <th>dolcia</th>\n",
       "      <th>dolcia puding</th>\n",
       "      <th>DOLCIA PUDING BANANLI 100GR 1X4X6</th>\n",
       "      <th>DOLCIA PUDING BANANLI 100GR 1X4X6</th>\n",
       "      <th>ədəd eded</th>\n",
       "      <td>48.0</td>\n",
       "      <td>96.0</td>\n",
       "    </tr>\n",
       "    <tr>\n",
       "      <th>kuzya</th>\n",
       "      <th>kuzya kukuruz</th>\n",
       "      <th>KUZYA KUKURUZ 140 GR AL 38 GR(1x30) HDY 1X1</th>\n",
       "      <th>KUZYA KUKURUZ 140 GR AL 38 GR(1x30) HDY 1X1</th>\n",
       "      <th>ədəd eded</th>\n",
       "      <td>70.0</td>\n",
       "      <td>24.0</td>\n",
       "    </tr>\n",
       "    <tr>\n",
       "      <th>ulker</th>\n",
       "      <th>ulker puding</th>\n",
       "      <th>ULKER PUDING ALPELLA SOKOLADLI 100 GR 1X24</th>\n",
       "      <th>ULKER PUDING ALPELLA SOKOLADLI 100 GR 1X24</th>\n",
       "      <th>ədəd eded</th>\n",
       "      <td>1670.0</td>\n",
       "      <td>378.0</td>\n",
       "    </tr>\n",
       "    <tr>\n",
       "      <th>delverde</th>\n",
       "      <th>delverde farfallex</th>\n",
       "      <th>DELVERDE FARFALLEX222 500 GR</th>\n",
       "      <th>DELVERDE FARFALLE*222 500 GR 1X20</th>\n",
       "      <th>ədəd eded</th>\n",
       "      <td>12.0</td>\n",
       "      <td>16.0</td>\n",
       "    </tr>\n",
       "  </tbody>\n",
       "</table>\n",
       "<p>1039 rows × 2 columns</p>\n",
       "</div>"
      ]
     },
     "execution_count": 37,
     "metadata": {},
     "output_type": "execute_result"
    }
   ],
   "execution_count": 37
  },
  {
   "metadata": {},
   "cell_type": "markdown",
   "source": "### Final table with parent groups (brand) invetory balances",
   "id": "6dbfd34655e69155"
  },
  {
   "metadata": {
    "ExecuteTime": {
     "end_time": "2024-07-30T20:33:19.508021Z",
     "start_time": "2024-07-30T20:33:19.490975Z"
    }
   },
   "cell_type": "code",
   "source": [
    "brand_agg = compilation_scored.groupby(\n",
    "    ['parent_group', 'product_group', 'Product or Service Name_x', 'unit_common_str']\n",
    ").agg(\n",
    "    {'quant_in': 'sum', 'quant_out': 'sum'}\n",
    ").reset_index()\n",
    "\n",
    "brand_agg.rename(columns={'quant_in': 'brand_inventory_in', 'quant_out': 'brand_inventory_out'}, inplace=True)\n",
    "\n",
    "result = pd.merge(brand_agg, general_aggregate, on='parent_group', how='left')"
   ],
   "id": "79acdb594eba7996",
   "outputs": [],
   "execution_count": 38
  },
  {
   "metadata": {
    "ExecuteTime": {
     "end_time": "2024-07-30T20:33:19.528646Z",
     "start_time": "2024-07-30T20:33:19.509241Z"
    }
   },
   "cell_type": "code",
   "source": [
    "result.groupby(\n",
    "    by=['parent_group', 'product_group', 'Product or Service Name_x', 'unit_common_str']\n",
    ").agg(\n",
    "    {'quant_in':'sum','quant_out':'sum', 'brand_inventory_in': 'max', 'brand_inventory_out': 'max'}\n",
    ")"
   ],
   "id": "d1627afcc6465364",
   "outputs": [
    {
     "data": {
      "text/plain": [
       "                                                                                                    quant_in  \\\n",
       "parent_group product_group      Product or Service Name_x                          unit_common_str             \n",
       "aci          berrak aci         BERRAK ACI SUS BIBERI TURSUSU 370 ML 1X12          ml adet eded        145.0   \n",
       "acili        doritos acili      DORITOS ACILI 130 GR 1 x 16                        eded               1095.0   \n",
       "                                DORITOS ACILI 74 GR 1 x 24                         eded               1095.0   \n",
       "adjika       qlavprodukt adjika QLAVPRODUKT ADJIKA AROMATNAYA 170 GR               ədəd eded          1022.0   \n",
       "                                QLAVPRODUKT ADJIKA AROMATNAYA 170 QR 1X15          eded               1022.0   \n",
       "...                                                                                                      ...   \n",
       "zolotoy      zolotoy petusok    ZOLOTOY PETUSOK NAGGETS TOYUQLU 300 GR 1X12(4639)  eded                387.0   \n",
       "                                ZOLOTOY PETUSOK NAGGETS VKUS. 300 GR 1x12(4719)    eded                387.0   \n",
       "                                ZOLOTOY PETUSOK NAGGETS XIRTXIRT 300 GR 1X12(4562) eded                387.0   \n",
       "                                ZOLOTOY PETUSOK STRIPS VKUSNYASKI 300 GR1x12(4718) eded                387.0   \n",
       "                                ZOLOTOY PETUSOK SUXARI TOYUQ STEYK 280GR1X12(4960) eded                387.0   \n",
       "\n",
       "                                                                                                    quant_out  \\\n",
       "parent_group product_group      Product or Service Name_x                          unit_common_str              \n",
       "aci          berrak aci         BERRAK ACI SUS BIBERI TURSUSU 370 ML 1X12          ml adet eded          36.0   \n",
       "acili        doritos acili      DORITOS ACILI 130 GR 1 x 16                        eded                 502.0   \n",
       "                                DORITOS ACILI 74 GR 1 x 24                         eded                 502.0   \n",
       "adjika       qlavprodukt adjika QLAVPRODUKT ADJIKA AROMATNAYA 170 GR               ədəd eded            174.0   \n",
       "                                QLAVPRODUKT ADJIKA AROMATNAYA 170 QR 1X15          eded                 174.0   \n",
       "...                                                                                                       ...   \n",
       "zolotoy      zolotoy petusok    ZOLOTOY PETUSOK NAGGETS TOYUQLU 300 GR 1X12(4639)  eded                 602.0   \n",
       "                                ZOLOTOY PETUSOK NAGGETS VKUS. 300 GR 1x12(4719)    eded                 602.0   \n",
       "                                ZOLOTOY PETUSOK NAGGETS XIRTXIRT 300 GR 1X12(4562) eded                 602.0   \n",
       "                                ZOLOTOY PETUSOK STRIPS VKUSNYASKI 300 GR1x12(4718) eded                 602.0   \n",
       "                                ZOLOTOY PETUSOK SUXARI TOYUQ STEYK 280GR1X12(4960) eded                 602.0   \n",
       "\n",
       "                                                                                                    brand_inventory_in  \\\n",
       "parent_group product_group      Product or Service Name_x                          unit_common_str                       \n",
       "aci          berrak aci         BERRAK ACI SUS BIBERI TURSUSU 370 ML 1X12          ml adet eded                  145.0   \n",
       "acili        doritos acili      DORITOS ACILI 130 GR 1 x 16                        eded                          426.0   \n",
       "                                DORITOS ACILI 74 GR 1 x 24                         eded                          669.0   \n",
       "adjika       qlavprodukt adjika QLAVPRODUKT ADJIKA AROMATNAYA 170 GR               ədəd eded                      38.0   \n",
       "                                QLAVPRODUKT ADJIKA AROMATNAYA 170 QR 1X15          eded                          879.0   \n",
       "...                                                                                                                ...   \n",
       "zolotoy      zolotoy petusok    ZOLOTOY PETUSOK NAGGETS TOYUQLU 300 GR 1X12(4639)  eded                           89.0   \n",
       "                                ZOLOTOY PETUSOK NAGGETS VKUS. 300 GR 1x12(4719)    eded                           49.0   \n",
       "                                ZOLOTOY PETUSOK NAGGETS XIRTXIRT 300 GR 1X12(4562) eded                           22.0   \n",
       "                                ZOLOTOY PETUSOK STRIPS VKUSNYASKI 300 GR1x12(4718) eded                            7.0   \n",
       "                                ZOLOTOY PETUSOK SUXARI TOYUQ STEYK 280GR1X12(4960) eded                           57.0   \n",
       "\n",
       "                                                                                                    brand_inventory_out  \n",
       "parent_group product_group      Product or Service Name_x                          unit_common_str                       \n",
       "aci          berrak aci         BERRAK ACI SUS BIBERI TURSUSU 370 ML 1X12          ml adet eded                    36.0  \n",
       "acili        doritos acili      DORITOS ACILI 130 GR 1 x 16                        eded                           464.0  \n",
       "                                DORITOS ACILI 74 GR 1 x 24                         eded                            38.0  \n",
       "adjika       qlavprodukt adjika QLAVPRODUKT ADJIKA AROMATNAYA 170 GR               ədəd eded                       90.0  \n",
       "                                QLAVPRODUKT ADJIKA AROMATNAYA 170 QR 1X15          eded                            30.0  \n",
       "...                                                                                                                 ...  \n",
       "zolotoy      zolotoy petusok    ZOLOTOY PETUSOK NAGGETS TOYUQLU 300 GR 1X12(4639)  eded                            28.0  \n",
       "                                ZOLOTOY PETUSOK NAGGETS VKUS. 300 GR 1x12(4719)    eded                            15.0  \n",
       "                                ZOLOTOY PETUSOK NAGGETS XIRTXIRT 300 GR 1X12(4562) eded                           168.0  \n",
       "                                ZOLOTOY PETUSOK STRIPS VKUSNYASKI 300 GR1x12(4718) eded                            24.0  \n",
       "                                ZOLOTOY PETUSOK SUXARI TOYUQ STEYK 280GR1X12(4960) eded                            16.0  \n",
       "\n",
       "[1039 rows x 4 columns]"
      ],
      "text/html": [
       "<div>\n",
       "<style scoped>\n",
       "    .dataframe tbody tr th:only-of-type {\n",
       "        vertical-align: middle;\n",
       "    }\n",
       "\n",
       "    .dataframe tbody tr th {\n",
       "        vertical-align: top;\n",
       "    }\n",
       "\n",
       "    .dataframe thead th {\n",
       "        text-align: right;\n",
       "    }\n",
       "</style>\n",
       "<table border=\"1\" class=\"dataframe\">\n",
       "  <thead>\n",
       "    <tr style=\"text-align: right;\">\n",
       "      <th></th>\n",
       "      <th></th>\n",
       "      <th></th>\n",
       "      <th></th>\n",
       "      <th>quant_in</th>\n",
       "      <th>quant_out</th>\n",
       "      <th>brand_inventory_in</th>\n",
       "      <th>brand_inventory_out</th>\n",
       "    </tr>\n",
       "    <tr>\n",
       "      <th>parent_group</th>\n",
       "      <th>product_group</th>\n",
       "      <th>Product or Service Name_x</th>\n",
       "      <th>unit_common_str</th>\n",
       "      <th></th>\n",
       "      <th></th>\n",
       "      <th></th>\n",
       "      <th></th>\n",
       "    </tr>\n",
       "  </thead>\n",
       "  <tbody>\n",
       "    <tr>\n",
       "      <th>aci</th>\n",
       "      <th>berrak aci</th>\n",
       "      <th>BERRAK ACI SUS BIBERI TURSUSU 370 ML 1X12</th>\n",
       "      <th>ml adet eded</th>\n",
       "      <td>145.0</td>\n",
       "      <td>36.0</td>\n",
       "      <td>145.0</td>\n",
       "      <td>36.0</td>\n",
       "    </tr>\n",
       "    <tr>\n",
       "      <th rowspan=\"2\" valign=\"top\">acili</th>\n",
       "      <th rowspan=\"2\" valign=\"top\">doritos acili</th>\n",
       "      <th>DORITOS ACILI 130 GR 1 x 16</th>\n",
       "      <th>eded</th>\n",
       "      <td>1095.0</td>\n",
       "      <td>502.0</td>\n",
       "      <td>426.0</td>\n",
       "      <td>464.0</td>\n",
       "    </tr>\n",
       "    <tr>\n",
       "      <th>DORITOS ACILI 74 GR 1 x 24</th>\n",
       "      <th>eded</th>\n",
       "      <td>1095.0</td>\n",
       "      <td>502.0</td>\n",
       "      <td>669.0</td>\n",
       "      <td>38.0</td>\n",
       "    </tr>\n",
       "    <tr>\n",
       "      <th rowspan=\"2\" valign=\"top\">adjika</th>\n",
       "      <th rowspan=\"2\" valign=\"top\">qlavprodukt adjika</th>\n",
       "      <th>QLAVPRODUKT ADJIKA AROMATNAYA 170 GR</th>\n",
       "      <th>ədəd eded</th>\n",
       "      <td>1022.0</td>\n",
       "      <td>174.0</td>\n",
       "      <td>38.0</td>\n",
       "      <td>90.0</td>\n",
       "    </tr>\n",
       "    <tr>\n",
       "      <th>QLAVPRODUKT ADJIKA AROMATNAYA 170 QR 1X15</th>\n",
       "      <th>eded</th>\n",
       "      <td>1022.0</td>\n",
       "      <td>174.0</td>\n",
       "      <td>879.0</td>\n",
       "      <td>30.0</td>\n",
       "    </tr>\n",
       "    <tr>\n",
       "      <th>...</th>\n",
       "      <th>...</th>\n",
       "      <th>...</th>\n",
       "      <th>...</th>\n",
       "      <td>...</td>\n",
       "      <td>...</td>\n",
       "      <td>...</td>\n",
       "      <td>...</td>\n",
       "    </tr>\n",
       "    <tr>\n",
       "      <th rowspan=\"5\" valign=\"top\">zolotoy</th>\n",
       "      <th rowspan=\"5\" valign=\"top\">zolotoy petusok</th>\n",
       "      <th>ZOLOTOY PETUSOK NAGGETS TOYUQLU 300 GR 1X12(4639)</th>\n",
       "      <th>eded</th>\n",
       "      <td>387.0</td>\n",
       "      <td>602.0</td>\n",
       "      <td>89.0</td>\n",
       "      <td>28.0</td>\n",
       "    </tr>\n",
       "    <tr>\n",
       "      <th>ZOLOTOY PETUSOK NAGGETS VKUS. 300 GR 1x12(4719)</th>\n",
       "      <th>eded</th>\n",
       "      <td>387.0</td>\n",
       "      <td>602.0</td>\n",
       "      <td>49.0</td>\n",
       "      <td>15.0</td>\n",
       "    </tr>\n",
       "    <tr>\n",
       "      <th>ZOLOTOY PETUSOK NAGGETS XIRTXIRT 300 GR 1X12(4562)</th>\n",
       "      <th>eded</th>\n",
       "      <td>387.0</td>\n",
       "      <td>602.0</td>\n",
       "      <td>22.0</td>\n",
       "      <td>168.0</td>\n",
       "    </tr>\n",
       "    <tr>\n",
       "      <th>ZOLOTOY PETUSOK STRIPS VKUSNYASKI 300 GR1x12(4718)</th>\n",
       "      <th>eded</th>\n",
       "      <td>387.0</td>\n",
       "      <td>602.0</td>\n",
       "      <td>7.0</td>\n",
       "      <td>24.0</td>\n",
       "    </tr>\n",
       "    <tr>\n",
       "      <th>ZOLOTOY PETUSOK SUXARI TOYUQ STEYK 280GR1X12(4960)</th>\n",
       "      <th>eded</th>\n",
       "      <td>387.0</td>\n",
       "      <td>602.0</td>\n",
       "      <td>57.0</td>\n",
       "      <td>16.0</td>\n",
       "    </tr>\n",
       "  </tbody>\n",
       "</table>\n",
       "<p>1039 rows × 4 columns</p>\n",
       "</div>"
      ]
     },
     "execution_count": 39,
     "metadata": {},
     "output_type": "execute_result"
    }
   ],
   "execution_count": 39
  },
  {
   "metadata": {
    "ExecuteTime": {
     "end_time": "2024-07-30T20:33:19.531514Z",
     "start_time": "2024-07-30T20:33:19.529717Z"
    }
   },
   "cell_type": "code",
   "source": "",
   "id": "faa7913c6e870ad1",
   "outputs": [],
   "execution_count": 39
  },
  {
   "metadata": {
    "ExecuteTime": {
     "end_time": "2024-07-30T20:33:19.534191Z",
     "start_time": "2024-07-30T20:33:19.532488Z"
    }
   },
   "cell_type": "code",
   "source": "",
   "id": "89c0d8061d375e75",
   "outputs": [],
   "execution_count": 39
  },
  {
   "metadata": {
    "ExecuteTime": {
     "end_time": "2024-07-30T20:33:19.541421Z",
     "start_time": "2024-07-30T20:33:19.535038Z"
    }
   },
   "cell_type": "code",
   "source": "general_aggregate.to_csv('general_aggregate.csv')",
   "id": "1f3f55aaceba660c",
   "outputs": [],
   "execution_count": 40
  },
  {
   "metadata": {
    "ExecuteTime": {
     "end_time": "2024-07-30T20:33:19.555554Z",
     "start_time": "2024-07-30T20:33:19.542285Z"
    }
   },
   "cell_type": "code",
   "source": [
    "result.rename(\n",
    "    columns={\n",
    "        'parent_group': 'Parent Group Name',\n",
    "        'product_group': 'Product Group',\n",
    "        'brand_inventory_in': 'Group Inventory In Quantity',\n",
    "        'brand_inventory_out': 'Group Inventory Out Quantity',\n",
    "        'Product or Service Name_x': 'Individual Items',\n",
    "        'unit_common_str': 'Product Unit',\n",
    "        'quant_in': 'Inventory In Quantity',\n",
    "        'quant_out': 'Inventory Out Quantity',\n",
    "    },\n",
    ").groupby(\n",
    "    by=['Parent Group Name', 'Product Group', 'Individual Items', 'Product Unit',]\n",
    ").agg(\n",
    "    {'Inventory In Quantity':'sum', 'Inventory Out Quantity' :'sum', 'Group Inventory In Quantity': 'max', 'Group Inventory Out Quantity': 'max'}\n",
    ").to_csv('result.csv')"
   ],
   "id": "db9694438bea0e56",
   "outputs": [],
   "execution_count": 41
  },
  {
   "metadata": {
    "ExecuteTime": {
     "end_time": "2024-07-30T20:33:20.405574Z",
     "start_time": "2024-07-30T20:33:20.397521Z"
    }
   },
   "cell_type": "code",
   "source": "result",
   "id": "8fbd4b332ff6960d",
   "outputs": [
    {
     "data": {
      "text/plain": [
       "      parent_group    product_group  \\\n",
       "0              aci       berrak aci   \n",
       "1            acili    doritos acili   \n",
       "2            acili    doritos acili   \n",
       "3            acili    doritos acili   \n",
       "4            acili    doritos acili   \n",
       "...            ...              ...   \n",
       "23508      zolotoy  zolotoy petusok   \n",
       "23509      zolotoy  zolotoy petusok   \n",
       "23510      zolotoy  zolotoy petusok   \n",
       "23511      zolotoy  zolotoy petusok   \n",
       "23512      zolotoy  zolotoy petusok   \n",
       "\n",
       "                               Product or Service Name_x unit_common_str  \\\n",
       "0              BERRAK ACI SUS BIBERI TURSUSU 370 ML 1X12    ml adet eded   \n",
       "1                            DORITOS ACILI 130 GR 1 x 16            eded   \n",
       "2                            DORITOS ACILI 130 GR 1 x 16            eded   \n",
       "3                             DORITOS ACILI 74 GR 1 x 24            eded   \n",
       "4                             DORITOS ACILI 74 GR 1 x 24            eded   \n",
       "...                                                  ...             ...   \n",
       "23508  ZOLOTOY PETUSOK SUXARI TOYUQ STEYK 280GR1X12(4...            eded   \n",
       "23509  ZOLOTOY PETUSOK SUXARI TOYUQ STEYK 280GR1X12(4...            eded   \n",
       "23510  ZOLOTOY PETUSOK SUXARI TOYUQ STEYK 280GR1X12(4...            eded   \n",
       "23511  ZOLOTOY PETUSOK SUXARI TOYUQ STEYK 280GR1X12(4...            eded   \n",
       "23512  ZOLOTOY PETUSOK SUXARI TOYUQ STEYK 280GR1X12(4...            eded   \n",
       "\n",
       "       brand_inventory_in  brand_inventory_out  quant_in  quant_out  \n",
       "0                   145.0                 36.0     145.0       36.0  \n",
       "1                   426.0                464.0     426.0      464.0  \n",
       "2                   426.0                464.0     669.0       38.0  \n",
       "3                   669.0                 38.0     426.0      464.0  \n",
       "4                   669.0                 38.0     669.0       38.0  \n",
       "...                   ...                  ...       ...        ...  \n",
       "23508                57.0                 16.0      57.0       16.0  \n",
       "23509                57.0                 16.0       7.0       24.0  \n",
       "23510                57.0                 16.0      38.0      105.0  \n",
       "23511                57.0                 16.0      54.0       42.0  \n",
       "23512                57.0                 16.0      18.0      148.0  \n",
       "\n",
       "[23513 rows x 8 columns]"
      ],
      "text/html": [
       "<div>\n",
       "<style scoped>\n",
       "    .dataframe tbody tr th:only-of-type {\n",
       "        vertical-align: middle;\n",
       "    }\n",
       "\n",
       "    .dataframe tbody tr th {\n",
       "        vertical-align: top;\n",
       "    }\n",
       "\n",
       "    .dataframe thead th {\n",
       "        text-align: right;\n",
       "    }\n",
       "</style>\n",
       "<table border=\"1\" class=\"dataframe\">\n",
       "  <thead>\n",
       "    <tr style=\"text-align: right;\">\n",
       "      <th></th>\n",
       "      <th>parent_group</th>\n",
       "      <th>product_group</th>\n",
       "      <th>Product or Service Name_x</th>\n",
       "      <th>unit_common_str</th>\n",
       "      <th>brand_inventory_in</th>\n",
       "      <th>brand_inventory_out</th>\n",
       "      <th>quant_in</th>\n",
       "      <th>quant_out</th>\n",
       "    </tr>\n",
       "  </thead>\n",
       "  <tbody>\n",
       "    <tr>\n",
       "      <th>0</th>\n",
       "      <td>aci</td>\n",
       "      <td>berrak aci</td>\n",
       "      <td>BERRAK ACI SUS BIBERI TURSUSU 370 ML 1X12</td>\n",
       "      <td>ml adet eded</td>\n",
       "      <td>145.0</td>\n",
       "      <td>36.0</td>\n",
       "      <td>145.0</td>\n",
       "      <td>36.0</td>\n",
       "    </tr>\n",
       "    <tr>\n",
       "      <th>1</th>\n",
       "      <td>acili</td>\n",
       "      <td>doritos acili</td>\n",
       "      <td>DORITOS ACILI 130 GR 1 x 16</td>\n",
       "      <td>eded</td>\n",
       "      <td>426.0</td>\n",
       "      <td>464.0</td>\n",
       "      <td>426.0</td>\n",
       "      <td>464.0</td>\n",
       "    </tr>\n",
       "    <tr>\n",
       "      <th>2</th>\n",
       "      <td>acili</td>\n",
       "      <td>doritos acili</td>\n",
       "      <td>DORITOS ACILI 130 GR 1 x 16</td>\n",
       "      <td>eded</td>\n",
       "      <td>426.0</td>\n",
       "      <td>464.0</td>\n",
       "      <td>669.0</td>\n",
       "      <td>38.0</td>\n",
       "    </tr>\n",
       "    <tr>\n",
       "      <th>3</th>\n",
       "      <td>acili</td>\n",
       "      <td>doritos acili</td>\n",
       "      <td>DORITOS ACILI 74 GR 1 x 24</td>\n",
       "      <td>eded</td>\n",
       "      <td>669.0</td>\n",
       "      <td>38.0</td>\n",
       "      <td>426.0</td>\n",
       "      <td>464.0</td>\n",
       "    </tr>\n",
       "    <tr>\n",
       "      <th>4</th>\n",
       "      <td>acili</td>\n",
       "      <td>doritos acili</td>\n",
       "      <td>DORITOS ACILI 74 GR 1 x 24</td>\n",
       "      <td>eded</td>\n",
       "      <td>669.0</td>\n",
       "      <td>38.0</td>\n",
       "      <td>669.0</td>\n",
       "      <td>38.0</td>\n",
       "    </tr>\n",
       "    <tr>\n",
       "      <th>...</th>\n",
       "      <td>...</td>\n",
       "      <td>...</td>\n",
       "      <td>...</td>\n",
       "      <td>...</td>\n",
       "      <td>...</td>\n",
       "      <td>...</td>\n",
       "      <td>...</td>\n",
       "      <td>...</td>\n",
       "    </tr>\n",
       "    <tr>\n",
       "      <th>23508</th>\n",
       "      <td>zolotoy</td>\n",
       "      <td>zolotoy petusok</td>\n",
       "      <td>ZOLOTOY PETUSOK SUXARI TOYUQ STEYK 280GR1X12(4...</td>\n",
       "      <td>eded</td>\n",
       "      <td>57.0</td>\n",
       "      <td>16.0</td>\n",
       "      <td>57.0</td>\n",
       "      <td>16.0</td>\n",
       "    </tr>\n",
       "    <tr>\n",
       "      <th>23509</th>\n",
       "      <td>zolotoy</td>\n",
       "      <td>zolotoy petusok</td>\n",
       "      <td>ZOLOTOY PETUSOK SUXARI TOYUQ STEYK 280GR1X12(4...</td>\n",
       "      <td>eded</td>\n",
       "      <td>57.0</td>\n",
       "      <td>16.0</td>\n",
       "      <td>7.0</td>\n",
       "      <td>24.0</td>\n",
       "    </tr>\n",
       "    <tr>\n",
       "      <th>23510</th>\n",
       "      <td>zolotoy</td>\n",
       "      <td>zolotoy petusok</td>\n",
       "      <td>ZOLOTOY PETUSOK SUXARI TOYUQ STEYK 280GR1X12(4...</td>\n",
       "      <td>eded</td>\n",
       "      <td>57.0</td>\n",
       "      <td>16.0</td>\n",
       "      <td>38.0</td>\n",
       "      <td>105.0</td>\n",
       "    </tr>\n",
       "    <tr>\n",
       "      <th>23511</th>\n",
       "      <td>zolotoy</td>\n",
       "      <td>zolotoy petusok</td>\n",
       "      <td>ZOLOTOY PETUSOK SUXARI TOYUQ STEYK 280GR1X12(4...</td>\n",
       "      <td>eded</td>\n",
       "      <td>57.0</td>\n",
       "      <td>16.0</td>\n",
       "      <td>54.0</td>\n",
       "      <td>42.0</td>\n",
       "    </tr>\n",
       "    <tr>\n",
       "      <th>23512</th>\n",
       "      <td>zolotoy</td>\n",
       "      <td>zolotoy petusok</td>\n",
       "      <td>ZOLOTOY PETUSOK SUXARI TOYUQ STEYK 280GR1X12(4...</td>\n",
       "      <td>eded</td>\n",
       "      <td>57.0</td>\n",
       "      <td>16.0</td>\n",
       "      <td>18.0</td>\n",
       "      <td>148.0</td>\n",
       "    </tr>\n",
       "  </tbody>\n",
       "</table>\n",
       "<p>23513 rows × 8 columns</p>\n",
       "</div>"
      ]
     },
     "execution_count": 42,
     "metadata": {},
     "output_type": "execute_result"
    }
   ],
   "execution_count": 42
  },
  {
   "metadata": {
    "ExecuteTime": {
     "end_time": "2024-07-30T20:33:20.639196Z",
     "start_time": "2024-07-30T20:33:20.637104Z"
    }
   },
   "cell_type": "code",
   "source": "",
   "id": "787dcd5c42ff4d77",
   "outputs": [],
   "execution_count": 42
  },
  {
   "metadata": {
    "ExecuteTime": {
     "end_time": "2024-07-30T20:33:20.870603Z",
     "start_time": "2024-07-30T20:33:20.867136Z"
    }
   },
   "cell_type": "code",
   "source": "len(compilation_scored['Product or Service Name_x'].unique())",
   "id": "3ddee1b7de306628",
   "outputs": [
    {
     "data": {
      "text/plain": [
       "1039"
      ]
     },
     "execution_count": 43,
     "metadata": {},
     "output_type": "execute_result"
    }
   ],
   "execution_count": 43
  },
  {
   "metadata": {
    "ExecuteTime": {
     "end_time": "2024-07-30T20:33:21.097466Z",
     "start_time": "2024-07-30T20:33:21.094331Z"
    }
   },
   "cell_type": "code",
   "source": "len(compilation_scored['Product or Service Name_y'].unique())",
   "id": "d19accc0320bbae2",
   "outputs": [
    {
     "data": {
      "text/plain": [
       "886"
      ]
     },
     "execution_count": 44,
     "metadata": {},
     "output_type": "execute_result"
    }
   ],
   "execution_count": 44
  },
  {
   "metadata": {
    "ExecuteTime": {
     "end_time": "2024-07-30T20:33:21.317198Z",
     "start_time": "2024-07-30T20:33:21.313758Z"
    }
   },
   "cell_type": "code",
   "source": "len(df_incoming['Product or Service Name'].unique())",
   "id": "9c1175dbefa9fbd5",
   "outputs": [
    {
     "data": {
      "text/plain": [
       "1236"
      ]
     },
     "execution_count": 45,
     "metadata": {},
     "output_type": "execute_result"
    }
   ],
   "execution_count": 45
  },
  {
   "metadata": {
    "ExecuteTime": {
     "end_time": "2024-07-30T20:33:21.707885Z",
     "start_time": "2024-07-30T20:33:21.703485Z"
    }
   },
   "cell_type": "code",
   "source": "len(df_outcoming['Product or Service Name'].unique())",
   "id": "46d9c3f7db7a97c6",
   "outputs": [
    {
     "data": {
      "text/plain": [
       "1208"
      ]
     },
     "execution_count": 46,
     "metadata": {},
     "output_type": "execute_result"
    }
   ],
   "execution_count": 46
  },
  {
   "metadata": {
    "ExecuteTime": {
     "end_time": "2024-07-30T20:33:21.986018Z",
     "start_time": "2024-07-30T20:33:21.981876Z"
    }
   },
   "cell_type": "code",
   "source": "len(compilation_scored['Product or Service Name_x'].unique()) / len(compilation_scored['Product or Service Name_y'].unique()), len(df_incoming['Product or Service Name'].unique()) / len(df_outcoming['Product or Service Name'].unique())",
   "id": "4e88d2a68a8db273",
   "outputs": [
    {
     "data": {
      "text/plain": [
       "(1.172686230248307, 1.0231788079470199)"
      ]
     },
     "execution_count": 47,
     "metadata": {},
     "output_type": "execute_result"
    }
   ],
   "execution_count": 47
  },
  {
   "metadata": {
    "ExecuteTime": {
     "end_time": "2024-07-30T20:33:22.575009Z",
     "start_time": "2024-07-30T20:33:22.573407Z"
    }
   },
   "cell_type": "code",
   "source": "",
   "id": "fca0d68d74ba49cb",
   "outputs": [],
   "execution_count": 47
  },
  {
   "metadata": {
    "ExecuteTime": {
     "end_time": "2024-07-30T20:33:22.842920Z",
     "start_time": "2024-07-30T20:33:22.838874Z"
    }
   },
   "cell_type": "code",
   "source": "",
   "id": "f895bace57d2c65e",
   "outputs": [],
   "execution_count": 47
  },
  {
   "metadata": {},
   "cell_type": "code",
   "outputs": [],
   "execution_count": null,
   "source": "",
   "id": "9e95d73394a96ba7"
  }
 ],
 "metadata": {
  "kernelspec": {
   "display_name": "Python 3",
   "language": "python",
   "name": "python3"
  },
  "language_info": {
   "codemirror_mode": {
    "name": "ipython",
    "version": 2
   },
   "file_extension": ".py",
   "mimetype": "text/x-python",
   "name": "python",
   "nbconvert_exporter": "python",
   "pygments_lexer": "ipython2",
   "version": "2.7.6"
  }
 },
 "nbformat": 4,
 "nbformat_minor": 5
}
