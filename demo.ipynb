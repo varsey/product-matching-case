{
 "cells": [
  {
   "metadata": {
    "ExecuteTime": {
     "end_time": "2024-06-04T20:52:25.153640Z",
     "start_time": "2024-06-04T20:52:24.935973Z"
    }
   },
   "cell_type": "code",
   "source": [
    "import os\n",
    "import pandas as pd"
   ],
   "id": "3e153d9d7490d0b4",
   "outputs": [],
   "execution_count": 1
  },
  {
   "metadata": {
    "ExecuteTime": {
     "end_time": "2024-06-04T20:52:25.163010Z",
     "start_time": "2024-06-04T20:52:25.154490Z"
    }
   },
   "cell_type": "code",
   "source": [
    "from rapidfuzz import process as proc\n",
    "from rapidfuzz import fuzz"
   ],
   "id": "47e626cd475e0917",
   "outputs": [],
   "execution_count": 2
  },
  {
   "metadata": {
    "ExecuteTime": {
     "end_time": "2024-06-04T20:52:25.416749Z",
     "start_time": "2024-06-04T20:52:25.410701Z"
    }
   },
   "cell_type": "code",
   "source": "from tqdm import tqdm",
   "id": "8a277c466d51aa91",
   "outputs": [],
   "execution_count": 3
  },
  {
   "metadata": {
    "ExecuteTime": {
     "end_time": "2024-06-04T20:52:25.655776Z",
     "start_time": "2024-06-04T20:52:25.633639Z"
    }
   },
   "cell_type": "code",
   "source": "from fastparquet import ParquetFile, write as parq_write",
   "id": "5fa466db5236f059",
   "outputs": [],
   "execution_count": 4
  },
  {
   "metadata": {
    "ExecuteTime": {
     "end_time": "2024-06-04T20:52:25.920046Z",
     "start_time": "2024-06-04T20:52:25.918134Z"
    }
   },
   "cell_type": "code",
   "source": "",
   "id": "e5018e4f418c850a",
   "outputs": [],
   "execution_count": 4
  },
  {
   "metadata": {
    "ExecuteTime": {
     "end_time": "2024-06-04T20:52:27.062043Z",
     "start_time": "2024-06-04T20:52:26.263927Z"
    }
   },
   "cell_type": "code",
   "source": [
    "# Load methods for text processing\n",
    "from src.utils import (\n",
    "    simple_process_item, count_common_digits, count_common_words, count_digit_share,\n",
    "    remove_numbers, get_product_group, get_parent_group, get_excluded_list\n",
    ")"
   ],
   "id": "initial_id",
   "outputs": [
    {
     "name": "stderr",
     "output_type": "stream",
     "text": [
      "[nltk_data] Downloading package punkt to /home/varsey/nltk_data...\n",
      "[nltk_data]   Package punkt is already up-to-date!\n",
      "[nltk_data] Downloading package stopwords to /home/varsey/nltk_data...\n",
      "[nltk_data]   Package stopwords is already up-to-date!\n",
      "[nltk_data] Downloading package averaged_perceptron_tagger_ru to\n",
      "[nltk_data]     /home/varsey/nltk_data...\n",
      "[nltk_data]   Package averaged_perceptron_tagger_ru is already up-to-\n",
      "[nltk_data]       date!\n"
     ]
    }
   ],
   "execution_count": 5
  },
  {
   "metadata": {
    "ExecuteTime": {
     "end_time": "2024-06-04T20:52:27.846661Z",
     "start_time": "2024-06-04T20:52:27.845014Z"
    }
   },
   "cell_type": "code",
   "source": "",
   "id": "d59d7c63a1ff16e8",
   "outputs": [],
   "execution_count": 5
  },
  {
   "metadata": {},
   "cell_type": "markdown",
   "source": "## Load dataset and preprocess items names (lowercase and stopwords removal)",
   "id": "f4759f75bd7736d9"
  },
  {
   "metadata": {
    "ExecuteTime": {
     "end_time": "2024-06-04T20:52:52.197540Z",
     "start_time": "2024-06-04T20:52:28.504111Z"
    }
   },
   "cell_type": "code",
   "source": [
    "df_incoming = pd.read_excel(f'{os.getcwd()}/data/drl-data.xlsx', sheet_name='Inventory Out')\n",
    "df_outcoming = pd.read_excel(f'{os.getcwd()}/data/drl-data.xlsx', sheet_name='Inventory In')"
   ],
   "id": "99baa07344177f0a",
   "outputs": [],
   "execution_count": 6
  },
  {
   "metadata": {
    "ExecuteTime": {
     "end_time": "2024-06-04T20:52:52.417643Z",
     "start_time": "2024-06-04T20:52:52.198420Z"
    }
   },
   "cell_type": "code",
   "source": [
    "df_outcoming['unit'] = df_incoming['Unit'].str.lower()\n",
    "df_incoming['unit'] = df_incoming['Unit'].str.lower()"
   ],
   "id": "2b8cb886917f5bc2",
   "outputs": [],
   "execution_count": 7
  },
  {
   "metadata": {
    "ExecuteTime": {
     "end_time": "2024-06-04T20:52:52.421200Z",
     "start_time": "2024-06-04T20:52:52.418429Z"
    }
   },
   "cell_type": "code",
   "source": "exclude = get_excluded_list()",
   "id": "8bb663641d3b325a",
   "outputs": [],
   "execution_count": 8
  },
  {
   "metadata": {
    "ExecuteTime": {
     "end_time": "2024-06-04T20:52:56.096364Z",
     "start_time": "2024-06-04T20:52:52.422255Z"
    }
   },
   "cell_type": "code",
   "source": [
    "df_outcoming['items'] = df_outcoming['Product or Service Name'].apply(lambda x: simple_process_item(x, exclude))\n",
    "df_incoming['items'] = df_incoming['Product or Service Name'].apply(lambda x: simple_process_item(x, exclude))"
   ],
   "id": "259e1f7dc00d08e3",
   "outputs": [],
   "execution_count": 9
  },
  {
   "metadata": {
    "ExecuteTime": {
     "end_time": "2024-06-04T20:52:56.099386Z",
     "start_time": "2024-06-04T20:52:56.097605Z"
    }
   },
   "cell_type": "code",
   "source": "",
   "id": "41331f215ed14568",
   "outputs": [],
   "execution_count": 9
  },
  {
   "metadata": {},
   "cell_type": "markdown",
   "source": "## Create lists of pairs for each item in df_incoming df with scores for each pair",
   "id": "71898eb93a371ef8"
  },
  {
   "metadata": {},
   "cell_type": "markdown",
   "source": "### The cell below take up to 4hs to run. You can use preprocessed data below",
   "id": "3b383f589ba88ca2"
  },
  {
   "metadata": {
    "ExecuteTime": {
     "end_time": "2024-06-05T00:43:13.822848Z",
     "start_time": "2024-06-04T20:52:56.100196Z"
    }
   },
   "cell_type": "code",
   "source": [
    "%%time\n",
    "\n",
    "to_find = df_incoming['items'].to_list()\n",
    "candidates = set(df_outcoming['items'].to_list())\n",
    "\n",
    "outcoming, incoming1, incoming2, score1, score2, score_w, score_d = [], [], [], [], [], [], []\n",
    "for item in tqdm(to_find[:]):\n",
    "    res1 = proc.extract(\n",
    "                item,\n",
    "                candidates,\n",
    "                scorer=fuzz.partial_token_sort_ratio,\n",
    "                limit=1\n",
    "    )[0]\n",
    "    res2 = proc.extract(\n",
    "                item,\n",
    "                candidates,\n",
    "                scorer=fuzz.partial_ratio,\n",
    "                limit=1\n",
    "    )[0]\n",
    "    outcoming.append(item)\n",
    "    incoming1.append(res1[0])\n",
    "    incoming2.append(res2[0])\n",
    "    score1.append(res1[1])\n",
    "    score2.append(res2[1])\n",
    "    if len(res1) > 0:\n",
    "        score_w.append(count_common_words(item, res1[0]))\n",
    "        score_d.append(count_common_digits(item, res1[0]) / count_digit_share(res1[0]))\n"
   ],
   "id": "d43423965a145527",
   "outputs": [
    {
     "name": "stderr",
     "output_type": "stream",
     "text": [
      "100%|██████████| 937415/937415 [3:50:17<00:00, 67.84it/s]   "
     ]
    },
    {
     "name": "stdout",
     "output_type": "stream",
     "text": [
      "CPU times: user 3h 48min 44s, sys: 34.9 s, total: 3h 49min 18s\n",
      "Wall time: 3h 50min 17s\n"
     ]
    },
    {
     "name": "stderr",
     "output_type": "stream",
     "text": [
      "\n"
     ]
    }
   ],
   "execution_count": 10
  },
  {
   "metadata": {},
   "cell_type": "markdown",
   "source": "## Create df with pairs of matched items and corresponing scores",
   "id": "378fe932e5c45362"
  },
  {
   "metadata": {
    "ExecuteTime": {
     "end_time": "2024-06-05T00:43:14.145650Z",
     "start_time": "2024-06-05T00:43:13.823992Z"
    }
   },
   "cell_type": "code",
   "source": [
    "comp = pd.DataFrame()\n",
    "comp['right'] = outcoming\n",
    "comp['left1'] = incoming1\n",
    "comp['left2'] = incoming2\n",
    "\n",
    "comp['score1'] = score1\n",
    "comp['score2'] = score2\n",
    "# Harmonical score for quality decision\n",
    "comp['score3'] = 2 * comp['score1'] *comp['score2'] /(comp['score1'] + comp['score2'] )\n",
    "\n",
    "comp['score_w'] = score_w\n",
    "comp['score_d'] = score_d\n",
    "# Metric for numbers in items name comparison\n",
    "comp['score_d'] = comp['score_d'] /10"
   ],
   "id": "aee1955e7bc34e18",
   "outputs": [],
   "execution_count": 11
  },
  {
   "metadata": {},
   "cell_type": "markdown",
   "source": "### Write preprocessed data to file to save time",
   "id": "b81f777b2cffbde5"
  },
  {
   "metadata": {
    "ExecuteTime": {
     "end_time": "2024-06-05T00:43:17.182788Z",
     "start_time": "2024-06-05T00:43:14.149627Z"
    }
   },
   "cell_type": "code",
   "source": [
    "parq_write(\n",
    "    f'{os.getcwd()}/comp_full.parq',\n",
    "    comp,\n",
    "    compression='GZIP'\n",
    ")"
   ],
   "id": "43b628f36a28ee1a",
   "outputs": [],
   "execution_count": 12
  },
  {
   "metadata": {},
   "cell_type": "code",
   "outputs": [],
   "execution_count": null,
   "source": "",
   "id": "2774d9ca75afdd94"
  },
  {
   "metadata": {},
   "cell_type": "markdown",
   "source": "### Load preprocessed data from file",
   "id": "76a0e4b800cc1a4e"
  },
  {
   "metadata": {
    "ExecuteTime": {
     "end_time": "2024-06-05T00:43:17.660150Z",
     "start_time": "2024-06-05T00:43:17.184592Z"
    }
   },
   "cell_type": "code",
   "source": [
    "comp_parq = ParquetFile(f'{os.getcwd()}/comp_full.parq',)\n",
    "comp = comp_parq.to_pandas()"
   ],
   "id": "c81d79583bd718a5",
   "outputs": [],
   "execution_count": 13
  },
  {
   "metadata": {},
   "cell_type": "markdown",
   "source": "### Concat incoming items with mathed pairs df",
   "id": "108f779c5b4715a5"
  },
  {
   "metadata": {
    "ExecuteTime": {
     "end_time": "2024-06-05T00:43:17.789451Z",
     "start_time": "2024-06-05T00:43:17.661782Z"
    }
   },
   "cell_type": "code",
   "source": [
    "sub_result = pd.concat(\n",
    "    [\n",
    "        df_incoming,\n",
    "        comp\n",
    "    ],\n",
    "    axis=1,\n",
    ")\n",
    "sub_result.shape"
   ],
   "id": "6c52a7765c653b5b",
   "outputs": [
    {
     "data": {
      "text/plain": [
       "(937415, 14)"
      ]
     },
     "execution_count": 14,
     "metadata": {},
     "output_type": "execute_result"
    }
   ],
   "execution_count": 14
  },
  {
   "metadata": {
    "ExecuteTime": {
     "end_time": "2024-06-05T00:43:17.819077Z",
     "start_time": "2024-06-05T00:43:17.790098Z"
    }
   },
   "cell_type": "code",
   "source": "sub_result.sample(20)",
   "id": "79dff97c0b783457",
   "outputs": [
    {
     "data": {
      "text/plain": [
       "             #                         Product or Service Name     Unit  \\\n",
       "411594  411595         ULKER SUD ALPELLA SOKOLADLI 180 ML 1X27     EDED   \n",
       "599780  599781              PINAR SUT KIDO CILEKLI 180 ML 1x27  ADET.ML   \n",
       "612572  612573                     DORITOS ACILI 130 GR 1 x 16     EDED   \n",
       "900803  900804                 SEVIMLI DAD GATIG 0.5% 8 KG 1X1     EDED   \n",
       "360979  360980        QLAVPRODUKT ADJIKA PIKATNAYA 170 QR 1X15     EDED   \n",
       "548642  548643                   LAYS STIX KETCHUP 125 GR 1X14     EDED   \n",
       "332695  332696                  MILLA PENDIR BEYAZ 250 GR 1X24     EDED   \n",
       "504682  504683            SEVIMLI DAD GATIG SUSE 0.5% 2 KG 1X5     EDED   \n",
       "323181  323182  BERRAK SALATALIK NO2 BULGAR USULLU 720 ML 1X12  ADET.ML   \n",
       "629127  629128               KOMILI AYCICEK YAGI 1 LT PET 1X12  ADET.LT   \n",
       "99187    99188              SEVIMLI DAD KEFIR 0.5% 500 GR 1X30     EDED   \n",
       "324656  324657            PINAR SUT KIDO KARAMELLI 180 ML 1X27  ADET.ML   \n",
       "684266  684267             ROYAL MOZARELLA PENDIRI 250 GR 1X18     EDED   \n",
       "675798  675799                 PINAR SUZME PEYNIRI 100 GR 1X12     EDED   \n",
       "850699  850700    PINAR SU YASAM PINARIM CAM SISE 0,33 LT 1x12  ADET.LT   \n",
       "133317  133318                        LAYS KLASIK 20 GR 1 x 48     EDED   \n",
       "59452    59453                      SUXARI SMETAN 30 GR 1 X 40     EDED   \n",
       "673628  673629         KARTOFRESH CUBUQLU (ALLEGRIA) 1 KG 1X10     EDED   \n",
       "129069  129070         SEVIMLI DAD KESMIK YAGSIZ 0% 180 GR 1x1     EDED   \n",
       "222299  222300                      LAYS BAHARAT 150 GR 1 x 18     EDED   \n",
       "\n",
       "       Quantity/Volume     unit  \\\n",
       "411594              12     eded   \n",
       "599780              15  adet.ml   \n",
       "612572              16     eded   \n",
       "900803               6     eded   \n",
       "360979               5     eded   \n",
       "548642               2     eded   \n",
       "332695               4     eded   \n",
       "504682               5     eded   \n",
       "323181              12  adet.ml   \n",
       "629127              12  adet.lt   \n",
       "99187              100     eded   \n",
       "324656              27  adet.ml   \n",
       "684266               4     eded   \n",
       "675798               6     eded   \n",
       "850699              12  adet.lt   \n",
       "133317              20     eded   \n",
       "59452               20     eded   \n",
       "673628              10     eded   \n",
       "129069               4     eded   \n",
       "222299              36     eded   \n",
       "\n",
       "                                                 items  \\\n",
       "411594       ulker sud alpella sokoladli 180 ml 1 x 27   \n",
       "599780            pinar sut kido cilekli 180 ml 1 x 27   \n",
       "612572                     doritos acili 130 gr 1 x 16   \n",
       "900803            sevimli dad gatig 0.5 pct 8 kg 1 x 1   \n",
       "360979      qlavprodukt adjika pikatnaya 170 qr 1 x 15   \n",
       "548642                 lays stix ketchup 125 gr 1 x 14   \n",
       "332695                milla pendir beyaz 250 gr 1 x 24   \n",
       "504682       sevimli dad gatig suse 0.5 pct 2 kg 1 x 5   \n",
       "323181  berrak salatalik 2 bulgar usullu 720 ml 1 x 12   \n",
       "629127                 komili aycicek yagi 1 lt 1 x 12   \n",
       "99187          sevimli dad kefir 0.5 pct 500 gr 1 x 30   \n",
       "324656          pinar sut kido karamelli 180 ml 1 x 27   \n",
       "684266           royal mozarella pendiri 250 gr 1 x 18   \n",
       "675798               pinar suzme peyniri 100 gr 1 x 12   \n",
       "850699  pinar su yasam pinarim cam sise 0.33 lt 1 x 12   \n",
       "133317                        lays klasik 20 gr 1 x 48   \n",
       "59452                       suxari smetan 30 gr 1 x 40   \n",
       "673628         kartofresh cubuqlu allegria 1 kg 1 x 10   \n",
       "129069    sevimli dad kesmik yagsiz 0 pct 180 gr 1 x 1   \n",
       "222299                      lays baharat 150 gr 1 x 18   \n",
       "\n",
       "                                                 right  \\\n",
       "411594       ulker sud alpella sokoladli 180 ml 1 x 27   \n",
       "599780            pinar sut kido cilekli 180 ml 1 x 27   \n",
       "612572                     doritos acili 130 gr 1 x 16   \n",
       "900803            sevimli dad gatig 0.5 pct 8 kg 1 x 1   \n",
       "360979      qlavprodukt adjika pikatnaya 170 qr 1 x 15   \n",
       "548642                 lays stix ketchup 125 gr 1 x 14   \n",
       "332695                milla pendir beyaz 250 gr 1 x 24   \n",
       "504682       sevimli dad gatig suse 0.5 pct 2 kg 1 x 5   \n",
       "323181  berrak salatalik 2 bulgar usullu 720 ml 1 x 12   \n",
       "629127                 komili aycicek yagi 1 lt 1 x 12   \n",
       "99187          sevimli dad kefir 0.5 pct 500 gr 1 x 30   \n",
       "324656          pinar sut kido karamelli 180 ml 1 x 27   \n",
       "684266           royal mozarella pendiri 250 gr 1 x 18   \n",
       "675798               pinar suzme peyniri 100 gr 1 x 12   \n",
       "850699  pinar su yasam pinarim cam sise 0.33 lt 1 x 12   \n",
       "133317                        lays klasik 20 gr 1 x 48   \n",
       "59452                       suxari smetan 30 gr 1 x 40   \n",
       "673628         kartofresh cubuqlu allegria 1 kg 1 x 10   \n",
       "129069    sevimli dad kesmik yagsiz 0 pct 180 gr 1 x 1   \n",
       "222299                      lays baharat 150 gr 1 x 18   \n",
       "\n",
       "                                                 left1  \\\n",
       "411594       süd alpella şokoladlı 1.5 pct 180 ml x 27   \n",
       "599780                                             kif   \n",
       "612572                       doritos acılı 130 qr x 16   \n",
       "900803          sevimli dad gatig 4.5 pct 900 gr 1 x 6   \n",
       "360979                                         k 45 19   \n",
       "548642                lays stiks ketçup 125 q dsp x 14   \n",
       "332695                  milla pendir bəyaz 250 qr x 24   \n",
       "504682           sevimli dad gatig 3 pct 450 gr 1 x 22   \n",
       "323181                                    plastik qutu   \n",
       "629127                                             yağ   \n",
       "99187          sevimli dad kefir 0.5 pct 500 gr 1 x 30   \n",
       "324656                                             kif   \n",
       "684266               mozzarella pendiri icim 600 grx 6   \n",
       "675798                                   çanax pendiri   \n",
       "850699                          mirinda alma 1 lt x 12   \n",
       "133317                           lays duzlu 20 gr x 48   \n",
       "59452                 suxari xrustim smetan 30 qr x 40   \n",
       "673628                          kartofresh çub.1 kq y.   \n",
       "129069  sevimli dad kesmik yagsiz 0.3 pct 180 gr 1 x 1   \n",
       "222299                lays baharatli 150 g export x 18   \n",
       "\n",
       "                                                 left2      score1  \\\n",
       "411594       süd alpella şokoladlı 1.5 pct 180 ml x 27   81.159420   \n",
       "599780                                             kif   66.666667   \n",
       "612572                       doritos acılı 130 qr x 16   88.000000   \n",
       "900803          sevimli dad gatig 4.5 pct 900 gr 1 x 6   84.507042   \n",
       "360979                                             fan   66.666667   \n",
       "548642                lays stiks ketçup 125 q dsp x 14   74.576271   \n",
       "332695                  milla pendir bəyaz 250 qr x 24   86.666667   \n",
       "504682         sevimli dad gatig 1.5 pct 450 gr 1 x 22   83.783784   \n",
       "323181                                  7 up 1 lt x 12   66.666667   \n",
       "629127                                  7 up 1 lt x 12   66.666667   \n",
       "99187          sevimli dad kefir 0.5 pct 500 gr 1 x 30  100.000000   \n",
       "324656                                             kif   66.666667   \n",
       "684266                         lays pendir 150 qr x 18   74.193548   \n",
       "675798                    krem pendir icim 180 gr x 10   69.230769   \n",
       "850699                                7 up 0.5 lt x 12   72.727273   \n",
       "133317        kartof çipsiləri leys paprika 20 qr x 48   66.666667   \n",
       "59452                 suxari xrustim smetan 30 qr x 40   92.000000   \n",
       "673628                                          kartuş   70.270270   \n",
       "129069  sevimli dad kesmik yagsiz 0.3 pct 180 gr 1 x 1   98.850575   \n",
       "222299              lays dalğavari baharat 150 qr x 18   75.555556   \n",
       "\n",
       "            score2      score3   score_w   score_d  \n",
       "411594   78.947368   80.038113  0.400000  0.377143  \n",
       "599780   66.666667   66.666667  0.000000  0.000000  \n",
       "612572   80.851064   84.274194  0.500000  0.320000  \n",
       "900803   86.111111   85.301536  1.000000  0.165714  \n",
       "360979   66.666667   66.666667  0.000000  0.000000  \n",
       "548642   77.419355   75.971223  0.333333  0.400000  \n",
       "332695   86.666667   86.666667  0.666667  0.384000  \n",
       "504682   79.487179   81.578947  0.800000  0.114286  \n",
       "323181   66.666667   66.666667  0.000000  0.000000  \n",
       "629127   76.923077   71.428571  0.000000  0.000000  \n",
       "99187   100.000000  100.000000  1.000000  0.375000  \n",
       "324656   66.666667   66.666667  0.000000  0.000000  \n",
       "684266   78.260870   76.172953  0.333333  0.000000  \n",
       "675798   70.588235   69.902913  0.000000  0.000000  \n",
       "850699   70.967742   71.836735  0.000000  0.566667  \n",
       "133317   72.340426   69.387755  0.500000  0.320000  \n",
       "59452    79.166667   85.102240  0.800000  0.520000  \n",
       "673628   80.000000   74.820144  0.400000  0.000000  \n",
       "129069   95.454545   97.122882  1.000000  0.411429  \n",
       "222299   82.608696   78.924863  0.400000  0.416000  "
      ],
      "text/html": [
       "<div>\n",
       "<style scoped>\n",
       "    .dataframe tbody tr th:only-of-type {\n",
       "        vertical-align: middle;\n",
       "    }\n",
       "\n",
       "    .dataframe tbody tr th {\n",
       "        vertical-align: top;\n",
       "    }\n",
       "\n",
       "    .dataframe thead th {\n",
       "        text-align: right;\n",
       "    }\n",
       "</style>\n",
       "<table border=\"1\" class=\"dataframe\">\n",
       "  <thead>\n",
       "    <tr style=\"text-align: right;\">\n",
       "      <th></th>\n",
       "      <th>#</th>\n",
       "      <th>Product or Service Name</th>\n",
       "      <th>Unit</th>\n",
       "      <th>Quantity/Volume</th>\n",
       "      <th>unit</th>\n",
       "      <th>items</th>\n",
       "      <th>right</th>\n",
       "      <th>left1</th>\n",
       "      <th>left2</th>\n",
       "      <th>score1</th>\n",
       "      <th>score2</th>\n",
       "      <th>score3</th>\n",
       "      <th>score_w</th>\n",
       "      <th>score_d</th>\n",
       "    </tr>\n",
       "  </thead>\n",
       "  <tbody>\n",
       "    <tr>\n",
       "      <th>411594</th>\n",
       "      <td>411595</td>\n",
       "      <td>ULKER SUD ALPELLA SOKOLADLI 180 ML 1X27</td>\n",
       "      <td>EDED</td>\n",
       "      <td>12</td>\n",
       "      <td>eded</td>\n",
       "      <td>ulker sud alpella sokoladli 180 ml 1 x 27</td>\n",
       "      <td>ulker sud alpella sokoladli 180 ml 1 x 27</td>\n",
       "      <td>süd alpella şokoladlı 1.5 pct 180 ml x 27</td>\n",
       "      <td>süd alpella şokoladlı 1.5 pct 180 ml x 27</td>\n",
       "      <td>81.159420</td>\n",
       "      <td>78.947368</td>\n",
       "      <td>80.038113</td>\n",
       "      <td>0.400000</td>\n",
       "      <td>0.377143</td>\n",
       "    </tr>\n",
       "    <tr>\n",
       "      <th>599780</th>\n",
       "      <td>599781</td>\n",
       "      <td>PINAR SUT KIDO CILEKLI 180 ML 1x27</td>\n",
       "      <td>ADET.ML</td>\n",
       "      <td>15</td>\n",
       "      <td>adet.ml</td>\n",
       "      <td>pinar sut kido cilekli 180 ml 1 x 27</td>\n",
       "      <td>pinar sut kido cilekli 180 ml 1 x 27</td>\n",
       "      <td>kif</td>\n",
       "      <td>kif</td>\n",
       "      <td>66.666667</td>\n",
       "      <td>66.666667</td>\n",
       "      <td>66.666667</td>\n",
       "      <td>0.000000</td>\n",
       "      <td>0.000000</td>\n",
       "    </tr>\n",
       "    <tr>\n",
       "      <th>612572</th>\n",
       "      <td>612573</td>\n",
       "      <td>DORITOS ACILI 130 GR 1 x 16</td>\n",
       "      <td>EDED</td>\n",
       "      <td>16</td>\n",
       "      <td>eded</td>\n",
       "      <td>doritos acili 130 gr 1 x 16</td>\n",
       "      <td>doritos acili 130 gr 1 x 16</td>\n",
       "      <td>doritos acılı 130 qr x 16</td>\n",
       "      <td>doritos acılı 130 qr x 16</td>\n",
       "      <td>88.000000</td>\n",
       "      <td>80.851064</td>\n",
       "      <td>84.274194</td>\n",
       "      <td>0.500000</td>\n",
       "      <td>0.320000</td>\n",
       "    </tr>\n",
       "    <tr>\n",
       "      <th>900803</th>\n",
       "      <td>900804</td>\n",
       "      <td>SEVIMLI DAD GATIG 0.5% 8 KG 1X1</td>\n",
       "      <td>EDED</td>\n",
       "      <td>6</td>\n",
       "      <td>eded</td>\n",
       "      <td>sevimli dad gatig 0.5 pct 8 kg 1 x 1</td>\n",
       "      <td>sevimli dad gatig 0.5 pct 8 kg 1 x 1</td>\n",
       "      <td>sevimli dad gatig 4.5 pct 900 gr 1 x 6</td>\n",
       "      <td>sevimli dad gatig 4.5 pct 900 gr 1 x 6</td>\n",
       "      <td>84.507042</td>\n",
       "      <td>86.111111</td>\n",
       "      <td>85.301536</td>\n",
       "      <td>1.000000</td>\n",
       "      <td>0.165714</td>\n",
       "    </tr>\n",
       "    <tr>\n",
       "      <th>360979</th>\n",
       "      <td>360980</td>\n",
       "      <td>QLAVPRODUKT ADJIKA PIKATNAYA 170 QR 1X15</td>\n",
       "      <td>EDED</td>\n",
       "      <td>5</td>\n",
       "      <td>eded</td>\n",
       "      <td>qlavprodukt adjika pikatnaya 170 qr 1 x 15</td>\n",
       "      <td>qlavprodukt adjika pikatnaya 170 qr 1 x 15</td>\n",
       "      <td>k 45 19</td>\n",
       "      <td>fan</td>\n",
       "      <td>66.666667</td>\n",
       "      <td>66.666667</td>\n",
       "      <td>66.666667</td>\n",
       "      <td>0.000000</td>\n",
       "      <td>0.000000</td>\n",
       "    </tr>\n",
       "    <tr>\n",
       "      <th>548642</th>\n",
       "      <td>548643</td>\n",
       "      <td>LAYS STIX KETCHUP 125 GR 1X14</td>\n",
       "      <td>EDED</td>\n",
       "      <td>2</td>\n",
       "      <td>eded</td>\n",
       "      <td>lays stix ketchup 125 gr 1 x 14</td>\n",
       "      <td>lays stix ketchup 125 gr 1 x 14</td>\n",
       "      <td>lays stiks ketçup 125 q dsp x 14</td>\n",
       "      <td>lays stiks ketçup 125 q dsp x 14</td>\n",
       "      <td>74.576271</td>\n",
       "      <td>77.419355</td>\n",
       "      <td>75.971223</td>\n",
       "      <td>0.333333</td>\n",
       "      <td>0.400000</td>\n",
       "    </tr>\n",
       "    <tr>\n",
       "      <th>332695</th>\n",
       "      <td>332696</td>\n",
       "      <td>MILLA PENDIR BEYAZ 250 GR 1X24</td>\n",
       "      <td>EDED</td>\n",
       "      <td>4</td>\n",
       "      <td>eded</td>\n",
       "      <td>milla pendir beyaz 250 gr 1 x 24</td>\n",
       "      <td>milla pendir beyaz 250 gr 1 x 24</td>\n",
       "      <td>milla pendir bəyaz 250 qr x 24</td>\n",
       "      <td>milla pendir bəyaz 250 qr x 24</td>\n",
       "      <td>86.666667</td>\n",
       "      <td>86.666667</td>\n",
       "      <td>86.666667</td>\n",
       "      <td>0.666667</td>\n",
       "      <td>0.384000</td>\n",
       "    </tr>\n",
       "    <tr>\n",
       "      <th>504682</th>\n",
       "      <td>504683</td>\n",
       "      <td>SEVIMLI DAD GATIG SUSE 0.5% 2 KG 1X5</td>\n",
       "      <td>EDED</td>\n",
       "      <td>5</td>\n",
       "      <td>eded</td>\n",
       "      <td>sevimli dad gatig suse 0.5 pct 2 kg 1 x 5</td>\n",
       "      <td>sevimli dad gatig suse 0.5 pct 2 kg 1 x 5</td>\n",
       "      <td>sevimli dad gatig 3 pct 450 gr 1 x 22</td>\n",
       "      <td>sevimli dad gatig 1.5 pct 450 gr 1 x 22</td>\n",
       "      <td>83.783784</td>\n",
       "      <td>79.487179</td>\n",
       "      <td>81.578947</td>\n",
       "      <td>0.800000</td>\n",
       "      <td>0.114286</td>\n",
       "    </tr>\n",
       "    <tr>\n",
       "      <th>323181</th>\n",
       "      <td>323182</td>\n",
       "      <td>BERRAK SALATALIK NO2 BULGAR USULLU 720 ML 1X12</td>\n",
       "      <td>ADET.ML</td>\n",
       "      <td>12</td>\n",
       "      <td>adet.ml</td>\n",
       "      <td>berrak salatalik 2 bulgar usullu 720 ml 1 x 12</td>\n",
       "      <td>berrak salatalik 2 bulgar usullu 720 ml 1 x 12</td>\n",
       "      <td>plastik qutu</td>\n",
       "      <td>7 up 1 lt x 12</td>\n",
       "      <td>66.666667</td>\n",
       "      <td>66.666667</td>\n",
       "      <td>66.666667</td>\n",
       "      <td>0.000000</td>\n",
       "      <td>0.000000</td>\n",
       "    </tr>\n",
       "    <tr>\n",
       "      <th>629127</th>\n",
       "      <td>629128</td>\n",
       "      <td>KOMILI AYCICEK YAGI 1 LT PET 1X12</td>\n",
       "      <td>ADET.LT</td>\n",
       "      <td>12</td>\n",
       "      <td>adet.lt</td>\n",
       "      <td>komili aycicek yagi 1 lt 1 x 12</td>\n",
       "      <td>komili aycicek yagi 1 lt 1 x 12</td>\n",
       "      <td>yağ</td>\n",
       "      <td>7 up 1 lt x 12</td>\n",
       "      <td>66.666667</td>\n",
       "      <td>76.923077</td>\n",
       "      <td>71.428571</td>\n",
       "      <td>0.000000</td>\n",
       "      <td>0.000000</td>\n",
       "    </tr>\n",
       "    <tr>\n",
       "      <th>99187</th>\n",
       "      <td>99188</td>\n",
       "      <td>SEVIMLI DAD KEFIR 0.5% 500 GR 1X30</td>\n",
       "      <td>EDED</td>\n",
       "      <td>100</td>\n",
       "      <td>eded</td>\n",
       "      <td>sevimli dad kefir 0.5 pct 500 gr 1 x 30</td>\n",
       "      <td>sevimli dad kefir 0.5 pct 500 gr 1 x 30</td>\n",
       "      <td>sevimli dad kefir 0.5 pct 500 gr 1 x 30</td>\n",
       "      <td>sevimli dad kefir 0.5 pct 500 gr 1 x 30</td>\n",
       "      <td>100.000000</td>\n",
       "      <td>100.000000</td>\n",
       "      <td>100.000000</td>\n",
       "      <td>1.000000</td>\n",
       "      <td>0.375000</td>\n",
       "    </tr>\n",
       "    <tr>\n",
       "      <th>324656</th>\n",
       "      <td>324657</td>\n",
       "      <td>PINAR SUT KIDO KARAMELLI 180 ML 1X27</td>\n",
       "      <td>ADET.ML</td>\n",
       "      <td>27</td>\n",
       "      <td>adet.ml</td>\n",
       "      <td>pinar sut kido karamelli 180 ml 1 x 27</td>\n",
       "      <td>pinar sut kido karamelli 180 ml 1 x 27</td>\n",
       "      <td>kif</td>\n",
       "      <td>kif</td>\n",
       "      <td>66.666667</td>\n",
       "      <td>66.666667</td>\n",
       "      <td>66.666667</td>\n",
       "      <td>0.000000</td>\n",
       "      <td>0.000000</td>\n",
       "    </tr>\n",
       "    <tr>\n",
       "      <th>684266</th>\n",
       "      <td>684267</td>\n",
       "      <td>ROYAL MOZARELLA PENDIRI 250 GR 1X18</td>\n",
       "      <td>EDED</td>\n",
       "      <td>4</td>\n",
       "      <td>eded</td>\n",
       "      <td>royal mozarella pendiri 250 gr 1 x 18</td>\n",
       "      <td>royal mozarella pendiri 250 gr 1 x 18</td>\n",
       "      <td>mozzarella pendiri icim 600 grx 6</td>\n",
       "      <td>lays pendir 150 qr x 18</td>\n",
       "      <td>74.193548</td>\n",
       "      <td>78.260870</td>\n",
       "      <td>76.172953</td>\n",
       "      <td>0.333333</td>\n",
       "      <td>0.000000</td>\n",
       "    </tr>\n",
       "    <tr>\n",
       "      <th>675798</th>\n",
       "      <td>675799</td>\n",
       "      <td>PINAR SUZME PEYNIRI 100 GR 1X12</td>\n",
       "      <td>EDED</td>\n",
       "      <td>6</td>\n",
       "      <td>eded</td>\n",
       "      <td>pinar suzme peyniri 100 gr 1 x 12</td>\n",
       "      <td>pinar suzme peyniri 100 gr 1 x 12</td>\n",
       "      <td>çanax pendiri</td>\n",
       "      <td>krem pendir icim 180 gr x 10</td>\n",
       "      <td>69.230769</td>\n",
       "      <td>70.588235</td>\n",
       "      <td>69.902913</td>\n",
       "      <td>0.000000</td>\n",
       "      <td>0.000000</td>\n",
       "    </tr>\n",
       "    <tr>\n",
       "      <th>850699</th>\n",
       "      <td>850700</td>\n",
       "      <td>PINAR SU YASAM PINARIM CAM SISE 0,33 LT 1x12</td>\n",
       "      <td>ADET.LT</td>\n",
       "      <td>12</td>\n",
       "      <td>adet.lt</td>\n",
       "      <td>pinar su yasam pinarim cam sise 0.33 lt 1 x 12</td>\n",
       "      <td>pinar su yasam pinarim cam sise 0.33 lt 1 x 12</td>\n",
       "      <td>mirinda alma 1 lt x 12</td>\n",
       "      <td>7 up 0.5 lt x 12</td>\n",
       "      <td>72.727273</td>\n",
       "      <td>70.967742</td>\n",
       "      <td>71.836735</td>\n",
       "      <td>0.000000</td>\n",
       "      <td>0.566667</td>\n",
       "    </tr>\n",
       "    <tr>\n",
       "      <th>133317</th>\n",
       "      <td>133318</td>\n",
       "      <td>LAYS KLASIK 20 GR 1 x 48</td>\n",
       "      <td>EDED</td>\n",
       "      <td>20</td>\n",
       "      <td>eded</td>\n",
       "      <td>lays klasik 20 gr 1 x 48</td>\n",
       "      <td>lays klasik 20 gr 1 x 48</td>\n",
       "      <td>lays duzlu 20 gr x 48</td>\n",
       "      <td>kartof çipsiləri leys paprika 20 qr x 48</td>\n",
       "      <td>66.666667</td>\n",
       "      <td>72.340426</td>\n",
       "      <td>69.387755</td>\n",
       "      <td>0.500000</td>\n",
       "      <td>0.320000</td>\n",
       "    </tr>\n",
       "    <tr>\n",
       "      <th>59452</th>\n",
       "      <td>59453</td>\n",
       "      <td>SUXARI SMETAN 30 GR 1 X 40</td>\n",
       "      <td>EDED</td>\n",
       "      <td>20</td>\n",
       "      <td>eded</td>\n",
       "      <td>suxari smetan 30 gr 1 x 40</td>\n",
       "      <td>suxari smetan 30 gr 1 x 40</td>\n",
       "      <td>suxari xrustim smetan 30 qr x 40</td>\n",
       "      <td>suxari xrustim smetan 30 qr x 40</td>\n",
       "      <td>92.000000</td>\n",
       "      <td>79.166667</td>\n",
       "      <td>85.102240</td>\n",
       "      <td>0.800000</td>\n",
       "      <td>0.520000</td>\n",
       "    </tr>\n",
       "    <tr>\n",
       "      <th>673628</th>\n",
       "      <td>673629</td>\n",
       "      <td>KARTOFRESH CUBUQLU (ALLEGRIA) 1 KG 1X10</td>\n",
       "      <td>EDED</td>\n",
       "      <td>10</td>\n",
       "      <td>eded</td>\n",
       "      <td>kartofresh cubuqlu allegria 1 kg 1 x 10</td>\n",
       "      <td>kartofresh cubuqlu allegria 1 kg 1 x 10</td>\n",
       "      <td>kartofresh çub.1 kq y.</td>\n",
       "      <td>kartuş</td>\n",
       "      <td>70.270270</td>\n",
       "      <td>80.000000</td>\n",
       "      <td>74.820144</td>\n",
       "      <td>0.400000</td>\n",
       "      <td>0.000000</td>\n",
       "    </tr>\n",
       "    <tr>\n",
       "      <th>129069</th>\n",
       "      <td>129070</td>\n",
       "      <td>SEVIMLI DAD KESMIK YAGSIZ 0% 180 GR 1x1</td>\n",
       "      <td>EDED</td>\n",
       "      <td>4</td>\n",
       "      <td>eded</td>\n",
       "      <td>sevimli dad kesmik yagsiz 0 pct 180 gr 1 x 1</td>\n",
       "      <td>sevimli dad kesmik yagsiz 0 pct 180 gr 1 x 1</td>\n",
       "      <td>sevimli dad kesmik yagsiz 0.3 pct 180 gr 1 x 1</td>\n",
       "      <td>sevimli dad kesmik yagsiz 0.3 pct 180 gr 1 x 1</td>\n",
       "      <td>98.850575</td>\n",
       "      <td>95.454545</td>\n",
       "      <td>97.122882</td>\n",
       "      <td>1.000000</td>\n",
       "      <td>0.411429</td>\n",
       "    </tr>\n",
       "    <tr>\n",
       "      <th>222299</th>\n",
       "      <td>222300</td>\n",
       "      <td>LAYS BAHARAT 150 GR 1 x 18</td>\n",
       "      <td>EDED</td>\n",
       "      <td>36</td>\n",
       "      <td>eded</td>\n",
       "      <td>lays baharat 150 gr 1 x 18</td>\n",
       "      <td>lays baharat 150 gr 1 x 18</td>\n",
       "      <td>lays baharatli 150 g export x 18</td>\n",
       "      <td>lays dalğavari baharat 150 qr x 18</td>\n",
       "      <td>75.555556</td>\n",
       "      <td>82.608696</td>\n",
       "      <td>78.924863</td>\n",
       "      <td>0.400000</td>\n",
       "      <td>0.416000</td>\n",
       "    </tr>\n",
       "  </tbody>\n",
       "</table>\n",
       "</div>"
      ]
     },
     "execution_count": 15,
     "metadata": {},
     "output_type": "execute_result"
    }
   ],
   "execution_count": 15
  },
  {
   "metadata": {},
   "cell_type": "markdown",
   "source": "### Merge outcoming data to preprocessed pairs of matched products",
   "id": "177a94c8a5666d4a"
  },
  {
   "metadata": {
    "ExecuteTime": {
     "end_time": "2024-06-05T00:43:25.994415Z",
     "start_time": "2024-06-05T00:43:17.819711Z"
    }
   },
   "cell_type": "code",
   "source": [
    "compilation_full = sub_result.merge(df_outcoming, how='left', left_on='left1', right_on='items')\n",
    "compilation_full = compilation_full.drop_duplicates(subset=['#_x']) \n",
    "compilation_full.shape"
   ],
   "id": "1b8d87b3ac05beaa",
   "outputs": [
    {
     "data": {
      "text/plain": [
       "(937415, 20)"
      ]
     },
     "execution_count": 16,
     "metadata": {},
     "output_type": "execute_result"
    }
   ],
   "execution_count": 16
  },
  {
   "metadata": {
    "ExecuteTime": {
     "end_time": "2024-06-05T00:43:26.001401Z",
     "start_time": "2024-06-05T00:43:25.997469Z"
    }
   },
   "cell_type": "code",
   "source": [
    "columns_to_use = [\n",
    "          'items_x', 'items_y',\n",
    "          'left1', 'left2',\n",
    "          'Quantity/Volume_x', 'unit_x',\n",
    "          'Quantity/Volume_y', 'unit_y',\n",
    "          'score1', 'score2', 'score3', 'score_w', 'score_d',\n",
    "          'Product or Service Name_x', 'Product or Service Name_y'\n",
    "]"
   ],
   "id": "653bce19cc5f7974",
   "outputs": [],
   "execution_count": 17
  },
  {
   "metadata": {
    "ExecuteTime": {
     "end_time": "2024-06-05T00:43:26.124776Z",
     "start_time": "2024-06-05T00:43:26.002954Z"
    }
   },
   "cell_type": "code",
   "source": "compilation_full = compilation_full[columns_to_use]",
   "id": "580264e5b59f8f4e",
   "outputs": [],
   "execution_count": 18
  },
  {
   "metadata": {
    "ExecuteTime": {
     "end_time": "2024-06-05T00:43:26.129823Z",
     "start_time": "2024-06-05T00:43:26.126087Z"
    }
   },
   "cell_type": "code",
   "source": "df_outcoming.shape, df_incoming.shape, compilation_full.shape",
   "id": "dbe508bc30dba560",
   "outputs": [
    {
     "data": {
      "text/plain": [
       "((16947, 6), (937415, 6), (937415, 15))"
      ]
     },
     "execution_count": 19,
     "metadata": {},
     "output_type": "execute_result"
    }
   ],
   "execution_count": 19
  },
  {
   "metadata": {},
   "cell_type": "markdown",
   "source": "### Filter data by scores metrics to robust result",
   "id": "743737eeef144227"
  },
  {
   "metadata": {
    "ExecuteTime": {
     "end_time": "2024-06-05T00:43:26.169076Z",
     "start_time": "2024-06-05T00:43:26.130560Z"
    }
   },
   "cell_type": "code",
   "source": [
    "comp_true = compilation_full[\n",
    "    (compilation_full.score3 > 78) \n",
    "    & \n",
    "    (compilation_full.score_d > 0.17)\n",
    "]"
   ],
   "id": "b84488465b507b2",
   "outputs": [],
   "execution_count": 20
  },
  {
   "metadata": {},
   "cell_type": "markdown",
   "source": "### Exclude from pairs data we doubt according to the scores",
   "id": "4bbc014f4e7e70fc"
  },
  {
   "metadata": {
    "ExecuteTime": {
     "end_time": "2024-06-05T00:43:26.294630Z",
     "start_time": "2024-06-05T00:43:26.170924Z"
    }
   },
   "cell_type": "code",
   "source": "comp_doubt = compilation_full.drop(comp_true.index, axis=0)\n",
   "id": "69703449d42ba34e",
   "outputs": [],
   "execution_count": 21
  },
  {
   "metadata": {
    "ExecuteTime": {
     "end_time": "2024-06-05T00:43:26.297115Z",
     "start_time": "2024-06-05T00:43:26.295492Z"
    }
   },
   "cell_type": "code",
   "source": "",
   "id": "af72cd2f485662c0",
   "outputs": [],
   "execution_count": 21
  },
  {
   "metadata": {
    "ExecuteTime": {
     "end_time": "2024-06-05T00:43:26.301349Z",
     "start_time": "2024-06-05T00:43:26.298341Z"
    }
   },
   "cell_type": "code",
   "source": "compilation_full.shape, comp_true.shape",
   "id": "112b8c279a8ef158",
   "outputs": [
    {
     "data": {
      "text/plain": [
       "((937415, 15), (266683, 15))"
      ]
     },
     "execution_count": 22,
     "metadata": {},
     "output_type": "execute_result"
    }
   ],
   "execution_count": 22
  },
  {
   "metadata": {},
   "cell_type": "markdown",
   "source": "### Share of data we consider is matched correctly",
   "id": "66555d7eb25e6d21"
  },
  {
   "metadata": {
    "ExecuteTime": {
     "end_time": "2024-06-05T00:43:26.308855Z",
     "start_time": "2024-06-05T00:43:26.305954Z"
    }
   },
   "cell_type": "code",
   "source": "comp_true.shape[0] / compilation_full.shape[0]",
   "id": "1160241fa92fe150",
   "outputs": [
    {
     "data": {
      "text/plain": [
       "0.2844876602145261"
      ]
     },
     "execution_count": 23,
     "metadata": {},
     "output_type": "execute_result"
    }
   ],
   "execution_count": 23
  },
  {
   "metadata": {
    "ExecuteTime": {
     "end_time": "2024-06-05T00:43:26.311664Z",
     "start_time": "2024-06-05T00:43:26.309764Z"
    }
   },
   "cell_type": "code",
   "source": "",
   "id": "512266d9670cd2f3",
   "outputs": [],
   "execution_count": 23
  },
  {
   "metadata": {
    "ExecuteTime": {
     "end_time": "2024-06-05T00:43:26.314239Z",
     "start_time": "2024-06-05T00:43:26.312576Z"
    }
   },
   "cell_type": "code",
   "source": "compilation_scored = comp_true",
   "id": "426ffacf39ed4806",
   "outputs": [],
   "execution_count": 24
  },
  {
   "metadata": {},
   "cell_type": "markdown",
   "source": "### Preprocess units to see in the result table if they are the same for left and right item in matched pair",
   "id": "12b3ade2fa775cde"
  },
  {
   "metadata": {
    "ExecuteTime": {
     "end_time": "2024-06-05T00:43:26.518328Z",
     "start_time": "2024-06-05T00:43:26.315544Z"
    }
   },
   "cell_type": "code",
   "source": [
    "compilation_scored['unit_common'] = compilation_scored['unit_x'] + ' ' +  compilation_scored['unit_y']\n",
    "compilation_scored['unit_common_set'] = compilation_scored['unit_common'].apply(lambda x: set(str(x).replace('.', ' ').split()))"
   ],
   "id": "3fe47b5fe348b7dd",
   "outputs": [
    {
     "name": "stderr",
     "output_type": "stream",
     "text": [
      "/tmp/ipykernel_42468/3152849601.py:1: SettingWithCopyWarning: \n",
      "A value is trying to be set on a copy of a slice from a DataFrame.\n",
      "Try using .loc[row_indexer,col_indexer] = value instead\n",
      "\n",
      "See the caveats in the documentation: https://pandas.pydata.org/pandas-docs/stable/user_guide/indexing.html#returning-a-view-versus-a-copy\n",
      "  compilation_scored['unit_common'] = compilation_scored['unit_x'] + ' ' +  compilation_scored['unit_y']\n",
      "/tmp/ipykernel_42468/3152849601.py:2: SettingWithCopyWarning: \n",
      "A value is trying to be set on a copy of a slice from a DataFrame.\n",
      "Try using .loc[row_indexer,col_indexer] = value instead\n",
      "\n",
      "See the caveats in the documentation: https://pandas.pydata.org/pandas-docs/stable/user_guide/indexing.html#returning-a-view-versus-a-copy\n",
      "  compilation_scored['unit_common_set'] = compilation_scored['unit_common'].apply(lambda x: set(str(x).replace('.', ' ').split()))\n"
     ]
    }
   ],
   "execution_count": 25
  },
  {
   "metadata": {
    "ExecuteTime": {
     "end_time": "2024-06-05T00:43:26.585711Z",
     "start_time": "2024-06-05T00:43:26.519247Z"
    }
   },
   "cell_type": "code",
   "source": [
    "compilation_scored['unit_common_str'] = compilation_scored['unit_common_set'].apply(\n",
    "    lambda x: str(list(x)[0]) if len(list(x)) == 0 else ' '.join(list(x))\n",
    ")"
   ],
   "id": "5e4c34fd8b8de0ff",
   "outputs": [
    {
     "name": "stderr",
     "output_type": "stream",
     "text": [
      "/tmp/ipykernel_42468/3820387171.py:1: SettingWithCopyWarning: \n",
      "A value is trying to be set on a copy of a slice from a DataFrame.\n",
      "Try using .loc[row_indexer,col_indexer] = value instead\n",
      "\n",
      "See the caveats in the documentation: https://pandas.pydata.org/pandas-docs/stable/user_guide/indexing.html#returning-a-view-versus-a-copy\n",
      "  compilation_scored['unit_common_str'] = compilation_scored['unit_common_set'].apply(\n"
     ]
    }
   ],
   "execution_count": 26
  },
  {
   "metadata": {},
   "cell_type": "markdown",
   "source": "### Convert quantaties to float for aggregating later",
   "id": "1fad1e33d562a0c3"
  },
  {
   "metadata": {
    "ExecuteTime": {
     "end_time": "2024-06-05T00:43:26.743678Z",
     "start_time": "2024-06-05T00:43:26.586958Z"
    }
   },
   "cell_type": "code",
   "source": [
    "compilation_scored['quant_in'] = compilation_scored['Quantity/Volume_x'].astype('str').str.replace(',', '.').fillna(0).astype('float')\n",
    "compilation_scored['quant_out'] = compilation_scored['Quantity/Volume_y'].astype('str').str.replace(',', '.').fillna(0).astype('float')"
   ],
   "id": "d9ab9df604847391",
   "outputs": [
    {
     "name": "stderr",
     "output_type": "stream",
     "text": [
      "/tmp/ipykernel_42468/2514422162.py:1: SettingWithCopyWarning: \n",
      "A value is trying to be set on a copy of a slice from a DataFrame.\n",
      "Try using .loc[row_indexer,col_indexer] = value instead\n",
      "\n",
      "See the caveats in the documentation: https://pandas.pydata.org/pandas-docs/stable/user_guide/indexing.html#returning-a-view-versus-a-copy\n",
      "  compilation_scored['quant_in'] = compilation_scored['Quantity/Volume_x'].astype('str').str.replace(',', '.').fillna(0).astype('float')\n",
      "/tmp/ipykernel_42468/2514422162.py:2: SettingWithCopyWarning: \n",
      "A value is trying to be set on a copy of a slice from a DataFrame.\n",
      "Try using .loc[row_indexer,col_indexer] = value instead\n",
      "\n",
      "See the caveats in the documentation: https://pandas.pydata.org/pandas-docs/stable/user_guide/indexing.html#returning-a-view-versus-a-copy\n",
      "  compilation_scored['quant_out'] = compilation_scored['Quantity/Volume_y'].astype('str').str.replace(',', '.').fillna(0).astype('float')\n"
     ]
    }
   ],
   "execution_count": 27
  },
  {
   "metadata": {
    "ExecuteTime": {
     "end_time": "2024-06-05T00:43:26.750447Z",
     "start_time": "2024-06-05T00:43:26.747853Z"
    }
   },
   "cell_type": "code",
   "source": "compilation_scored.shape",
   "id": "4cd74d09b89efa03",
   "outputs": [
    {
     "data": {
      "text/plain": [
       "(266683, 20)"
      ]
     },
     "execution_count": 28,
     "metadata": {},
     "output_type": "execute_result"
    }
   ],
   "execution_count": 28
  },
  {
   "metadata": {
    "ExecuteTime": {
     "end_time": "2024-06-05T04:16:20.366409Z",
     "start_time": "2024-06-05T04:16:20.343716Z"
    }
   },
   "cell_type": "code",
   "source": [
    "# x - incoming y - outcoming\n",
    "compilation_scored[\n",
    "    [\n",
    "        'items_x', 'items_y',\n",
    "        'score3', 'score1', 'score2', 'score_w', 'score_d',\n",
    "        'Product or Service Name_x', 'Product or Service Name_y'\n",
    "    ]\n",
    "].sample(250)"
   ],
   "id": "f7d78e5911075ced",
   "outputs": [
    {
     "data": {
      "text/plain": [
       "                                                    items_x  \\\n",
       "7722561             sevimli dad kefir 2.5 pct 900 gr 1 x 12   \n",
       "12427599                icimino sud sokoladli 180 ml 1 x 27   \n",
       "2693525               sevimli dad gatig 3 pct 450 gr 1 x 22   \n",
       "6709512           ulker sud alpella sokoladli 180 ml 1 x 27   \n",
       "3180664         sochnaya dolina multivitamin 0.95 lt 1 x 12   \n",
       "...                                                     ...   \n",
       "12409976                   milla ayran naneli 200 ml 1 x 12   \n",
       "13359811                        lays paprika 90 gr 1 x 25 p   \n",
       "5678092                 cheetos biftekli kitir 50 gr 1 x 24   \n",
       "1551448             sevimli dad dovga 2.5 pct 900 gr 1 x 12   \n",
       "11201436  sevimli dad xama kaunasskaya 30 pct 200 gr 1 x 12   \n",
       "\n",
       "                                                    items_y      score3  \\\n",
       "7722561                    sevimli dad kefir 2.5 pct 900 gr  100.000000   \n",
       "12427599                süd i̇çi̇mino şokoladlı 180 ml x 27   79.365079   \n",
       "2693525               sevimli dad gatig 3 pct 450 gr 1 x 22  100.000000   \n",
       "6709512           süd alpella şokoladlı 1.5 pct 180 ml x 27   80.038113   \n",
       "3180664                             multivitamin 1 lt paket   83.410565   \n",
       "...                                                     ...         ...   \n",
       "12409976                     milla ayran nanəli 200 ml x 12   93.868659   \n",
       "13359811                         lays paprika 90 q dsp x 25   84.268126   \n",
       "5678092                         cheetos biftekli 50 qr x 24   84.241824   \n",
       "1551448              sevimli dad gatig 4.5 pct 900 gr 1 x 6   86.646154   \n",
       "11201436  sevimli dad xama kaunasskaya 30 pct 200 gr 1 x 12  100.000000   \n",
       "\n",
       "              score1      score2   score_w   score_d  \\\n",
       "7722561   100.000000  100.000000  1.000000  0.260000   \n",
       "12427599   79.365079   79.365079  0.000000  0.464000   \n",
       "2693525   100.000000  100.000000  1.000000  0.400000   \n",
       "6709512    81.159420   78.947368  0.400000  0.377143   \n",
       "3180664    78.260870   89.285714  0.333333  1.333333   \n",
       "...              ...         ...       ...       ...   \n",
       "12409976   96.666667   91.228070  0.666667  0.384000   \n",
       "13359811   82.352941   86.274510  1.000000  0.400000   \n",
       "5678092    92.592593   77.272727  0.800000  0.440000   \n",
       "1551448    85.333333   88.000000  0.500000  0.276190   \n",
       "11201436  100.000000  100.000000  1.000000  0.487500   \n",
       "\n",
       "                             Product or Service Name_x  \\\n",
       "7722561             SEVIMLI DAD KEFIR 2.5% 900 GR 1x12   \n",
       "12427599             ICIMINO SUD SOKOLADLI 180 ML 1X27   \n",
       "2693525               SEVIMLI DAD GATIG 3% 450 GR 1X22   \n",
       "6709512        ULKER SUD ALPELLA SOKOLADLI 180 ML 1X27   \n",
       "3180664      SOCHNAYA DOLINA MULTIVITAMIN 0.95 LT 1x12   \n",
       "...                                                ...   \n",
       "12409976                 MILLA AYRAN NANELI 200ML 1X12   \n",
       "13359811                   LAYS PAPRIKA 90 GR 1 x 25 P   \n",
       "5678092              CHEETOS BIFTEKLI KITIR 50 GR 1X24   \n",
       "1551448             SEVIMLI DAD DOVGA 2.5% 900 GR 1x12   \n",
       "11201436  SEVIMLI DAD XAMA KAUNASSKAYA 30% 200 GR 1X12   \n",
       "\n",
       "                             Product or Service Name_y  \n",
       "7722561                  SEVIMLI DAD KEFIR 2.5% 900 GR  \n",
       "12427599           Süd \"İÇİMINO\" Şokoladlı 180 ML x 27  \n",
       "2693525               SEVIMLI DAD GATIG 3% 450 GR 1X22  \n",
       "6709512       Süd \"Alpella\" Şokoladlı 1.5% 180 ML x 27  \n",
       "3180664                        Multivitamin 1 lt paket  \n",
       "...                                                ...  \n",
       "12409976                  Milla Ayran Nanəli 200ml *12  \n",
       "13359811                     Lay's Paprika 90q DSP X25  \n",
       "5678092                     Cheetos Biftekli 50 qr X24  \n",
       "1551448              SEVIMLI DAD GATIG 4.5% 900 GR 1X6  \n",
       "11201436  SEVIMLI DAD XAMA KAUNASSKAYA 30% 200 GR 1X12  \n",
       "\n",
       "[250 rows x 9 columns]"
      ],
      "text/html": [
       "<div>\n",
       "<style scoped>\n",
       "    .dataframe tbody tr th:only-of-type {\n",
       "        vertical-align: middle;\n",
       "    }\n",
       "\n",
       "    .dataframe tbody tr th {\n",
       "        vertical-align: top;\n",
       "    }\n",
       "\n",
       "    .dataframe thead th {\n",
       "        text-align: right;\n",
       "    }\n",
       "</style>\n",
       "<table border=\"1\" class=\"dataframe\">\n",
       "  <thead>\n",
       "    <tr style=\"text-align: right;\">\n",
       "      <th></th>\n",
       "      <th>items_x</th>\n",
       "      <th>items_y</th>\n",
       "      <th>score3</th>\n",
       "      <th>score1</th>\n",
       "      <th>score2</th>\n",
       "      <th>score_w</th>\n",
       "      <th>score_d</th>\n",
       "      <th>Product or Service Name_x</th>\n",
       "      <th>Product or Service Name_y</th>\n",
       "    </tr>\n",
       "  </thead>\n",
       "  <tbody>\n",
       "    <tr>\n",
       "      <th>7722561</th>\n",
       "      <td>sevimli dad kefir 2.5 pct 900 gr 1 x 12</td>\n",
       "      <td>sevimli dad kefir 2.5 pct 900 gr</td>\n",
       "      <td>100.000000</td>\n",
       "      <td>100.000000</td>\n",
       "      <td>100.000000</td>\n",
       "      <td>1.000000</td>\n",
       "      <td>0.260000</td>\n",
       "      <td>SEVIMLI DAD KEFIR 2.5% 900 GR 1x12</td>\n",
       "      <td>SEVIMLI DAD KEFIR 2.5% 900 GR</td>\n",
       "    </tr>\n",
       "    <tr>\n",
       "      <th>12427599</th>\n",
       "      <td>icimino sud sokoladli 180 ml 1 x 27</td>\n",
       "      <td>süd i̇çi̇mino şokoladlı 180 ml x 27</td>\n",
       "      <td>79.365079</td>\n",
       "      <td>79.365079</td>\n",
       "      <td>79.365079</td>\n",
       "      <td>0.000000</td>\n",
       "      <td>0.464000</td>\n",
       "      <td>ICIMINO SUD SOKOLADLI 180 ML 1X27</td>\n",
       "      <td>Süd \"İÇİMINO\" Şokoladlı 180 ML x 27</td>\n",
       "    </tr>\n",
       "    <tr>\n",
       "      <th>2693525</th>\n",
       "      <td>sevimli dad gatig 3 pct 450 gr 1 x 22</td>\n",
       "      <td>sevimli dad gatig 3 pct 450 gr 1 x 22</td>\n",
       "      <td>100.000000</td>\n",
       "      <td>100.000000</td>\n",
       "      <td>100.000000</td>\n",
       "      <td>1.000000</td>\n",
       "      <td>0.400000</td>\n",
       "      <td>SEVIMLI DAD GATIG 3% 450 GR 1X22</td>\n",
       "      <td>SEVIMLI DAD GATIG 3% 450 GR 1X22</td>\n",
       "    </tr>\n",
       "    <tr>\n",
       "      <th>6709512</th>\n",
       "      <td>ulker sud alpella sokoladli 180 ml 1 x 27</td>\n",
       "      <td>süd alpella şokoladlı 1.5 pct 180 ml x 27</td>\n",
       "      <td>80.038113</td>\n",
       "      <td>81.159420</td>\n",
       "      <td>78.947368</td>\n",
       "      <td>0.400000</td>\n",
       "      <td>0.377143</td>\n",
       "      <td>ULKER SUD ALPELLA SOKOLADLI 180 ML 1X27</td>\n",
       "      <td>Süd \"Alpella\" Şokoladlı 1.5% 180 ML x 27</td>\n",
       "    </tr>\n",
       "    <tr>\n",
       "      <th>3180664</th>\n",
       "      <td>sochnaya dolina multivitamin 0.95 lt 1 x 12</td>\n",
       "      <td>multivitamin 1 lt paket</td>\n",
       "      <td>83.410565</td>\n",
       "      <td>78.260870</td>\n",
       "      <td>89.285714</td>\n",
       "      <td>0.333333</td>\n",
       "      <td>1.333333</td>\n",
       "      <td>SOCHNAYA DOLINA MULTIVITAMIN 0.95 LT 1x12</td>\n",
       "      <td>Multivitamin 1 lt paket</td>\n",
       "    </tr>\n",
       "    <tr>\n",
       "      <th>...</th>\n",
       "      <td>...</td>\n",
       "      <td>...</td>\n",
       "      <td>...</td>\n",
       "      <td>...</td>\n",
       "      <td>...</td>\n",
       "      <td>...</td>\n",
       "      <td>...</td>\n",
       "      <td>...</td>\n",
       "      <td>...</td>\n",
       "    </tr>\n",
       "    <tr>\n",
       "      <th>12409976</th>\n",
       "      <td>milla ayran naneli 200 ml 1 x 12</td>\n",
       "      <td>milla ayran nanəli 200 ml x 12</td>\n",
       "      <td>93.868659</td>\n",
       "      <td>96.666667</td>\n",
       "      <td>91.228070</td>\n",
       "      <td>0.666667</td>\n",
       "      <td>0.384000</td>\n",
       "      <td>MILLA AYRAN NANELI 200ML 1X12</td>\n",
       "      <td>Milla Ayran Nanəli 200ml *12</td>\n",
       "    </tr>\n",
       "    <tr>\n",
       "      <th>13359811</th>\n",
       "      <td>lays paprika 90 gr 1 x 25 p</td>\n",
       "      <td>lays paprika 90 q dsp x 25</td>\n",
       "      <td>84.268126</td>\n",
       "      <td>82.352941</td>\n",
       "      <td>86.274510</td>\n",
       "      <td>1.000000</td>\n",
       "      <td>0.400000</td>\n",
       "      <td>LAYS PAPRIKA 90 GR 1 x 25 P</td>\n",
       "      <td>Lay's Paprika 90q DSP X25</td>\n",
       "    </tr>\n",
       "    <tr>\n",
       "      <th>5678092</th>\n",
       "      <td>cheetos biftekli kitir 50 gr 1 x 24</td>\n",
       "      <td>cheetos biftekli 50 qr x 24</td>\n",
       "      <td>84.241824</td>\n",
       "      <td>92.592593</td>\n",
       "      <td>77.272727</td>\n",
       "      <td>0.800000</td>\n",
       "      <td>0.440000</td>\n",
       "      <td>CHEETOS BIFTEKLI KITIR 50 GR 1X24</td>\n",
       "      <td>Cheetos Biftekli 50 qr X24</td>\n",
       "    </tr>\n",
       "    <tr>\n",
       "      <th>1551448</th>\n",
       "      <td>sevimli dad dovga 2.5 pct 900 gr 1 x 12</td>\n",
       "      <td>sevimli dad gatig 4.5 pct 900 gr 1 x 6</td>\n",
       "      <td>86.646154</td>\n",
       "      <td>85.333333</td>\n",
       "      <td>88.000000</td>\n",
       "      <td>0.500000</td>\n",
       "      <td>0.276190</td>\n",
       "      <td>SEVIMLI DAD DOVGA 2.5% 900 GR 1x12</td>\n",
       "      <td>SEVIMLI DAD GATIG 4.5% 900 GR 1X6</td>\n",
       "    </tr>\n",
       "    <tr>\n",
       "      <th>11201436</th>\n",
       "      <td>sevimli dad xama kaunasskaya 30 pct 200 gr 1 x 12</td>\n",
       "      <td>sevimli dad xama kaunasskaya 30 pct 200 gr 1 x 12</td>\n",
       "      <td>100.000000</td>\n",
       "      <td>100.000000</td>\n",
       "      <td>100.000000</td>\n",
       "      <td>1.000000</td>\n",
       "      <td>0.487500</td>\n",
       "      <td>SEVIMLI DAD XAMA KAUNASSKAYA 30% 200 GR 1X12</td>\n",
       "      <td>SEVIMLI DAD XAMA KAUNASSKAYA 30% 200 GR 1X12</td>\n",
       "    </tr>\n",
       "  </tbody>\n",
       "</table>\n",
       "<p>250 rows × 9 columns</p>\n",
       "</div>"
      ]
     },
     "execution_count": 42,
     "metadata": {},
     "output_type": "execute_result"
    }
   ],
   "execution_count": 42
  },
  {
   "metadata": {},
   "cell_type": "markdown",
   "source": "### Get groups from preprocessed items names",
   "id": "e3d563b026abc5d5"
  },
  {
   "metadata": {
    "ExecuteTime": {
     "end_time": "2024-06-05T00:43:27.251092Z",
     "start_time": "2024-06-05T00:43:26.777354Z"
    }
   },
   "cell_type": "code",
   "source": "compilation_scored['items_x_numberless'] = compilation_scored['items_x'].apply(lambda x: remove_numbers(x))",
   "id": "306cb9b5838606d8",
   "outputs": [
    {
     "name": "stderr",
     "output_type": "stream",
     "text": [
      "/tmp/ipykernel_42468/3752593017.py:1: SettingWithCopyWarning: \n",
      "A value is trying to be set on a copy of a slice from a DataFrame.\n",
      "Try using .loc[row_indexer,col_indexer] = value instead\n",
      "\n",
      "See the caveats in the documentation: https://pandas.pydata.org/pandas-docs/stable/user_guide/indexing.html#returning-a-view-versus-a-copy\n",
      "  compilation_scored['items_x_numberless'] = compilation_scored['items_x'].apply(lambda x: remove_numbers(x))\n"
     ]
    }
   ],
   "execution_count": 30
  },
  {
   "metadata": {
    "ExecuteTime": {
     "end_time": "2024-06-05T00:46:10.818821Z",
     "start_time": "2024-06-05T00:43:27.251958Z"
    }
   },
   "cell_type": "code",
   "source": [
    "compilation_scored['product_group'] = compilation_scored['items_x_numberless'].apply(lambda x: get_product_group(x))\n",
    "compilation_scored['parent_group'] = compilation_scored['product_group'].apply(lambda x: get_parent_group(x))"
   ],
   "id": "8d1ebb7fb17aa76d",
   "outputs": [
    {
     "name": "stderr",
     "output_type": "stream",
     "text": [
      "/tmp/ipykernel_42468/3845966172.py:1: SettingWithCopyWarning: \n",
      "A value is trying to be set on a copy of a slice from a DataFrame.\n",
      "Try using .loc[row_indexer,col_indexer] = value instead\n",
      "\n",
      "See the caveats in the documentation: https://pandas.pydata.org/pandas-docs/stable/user_guide/indexing.html#returning-a-view-versus-a-copy\n",
      "  compilation_scored['product_group'] = compilation_scored['items_x_numberless'].apply(lambda x: get_product_group(x))\n",
      "/tmp/ipykernel_42468/3845966172.py:2: SettingWithCopyWarning: \n",
      "A value is trying to be set on a copy of a slice from a DataFrame.\n",
      "Try using .loc[row_indexer,col_indexer] = value instead\n",
      "\n",
      "See the caveats in the documentation: https://pandas.pydata.org/pandas-docs/stable/user_guide/indexing.html#returning-a-view-versus-a-copy\n",
      "  compilation_scored['parent_group'] = compilation_scored['product_group'].apply(lambda x: get_parent_group(x))\n"
     ]
    }
   ],
   "execution_count": 31
  },
  {
   "metadata": {
    "ExecuteTime": {
     "end_time": "2024-06-05T00:46:10.824650Z",
     "start_time": "2024-06-05T00:46:10.822643Z"
    }
   },
   "cell_type": "code",
   "source": "",
   "id": "e31008cbae4797fb",
   "outputs": [],
   "execution_count": 31
  },
  {
   "metadata": {},
   "cell_type": "markdown",
   "source": "### Aggregated result by items and their groups",
   "id": "64b1b3f8a18d4f60"
  },
  {
   "metadata": {
    "ExecuteTime": {
     "end_time": "2024-06-05T04:31:41.288895Z",
     "start_time": "2024-06-05T04:31:41.216794Z"
    }
   },
   "cell_type": "code",
   "source": [
    "general_aggregate = compilation_scored.groupby(\n",
    "    by=['parent_group', 'product_group', 'Product or Service Name_x', 'Product or Service Name_y', 'unit_common_str']\n",
    ").agg(\n",
    "    {'quant_in':'sum','quant_out':'sum'}\n",
    ").sort_values(\n",
    "    ['unit_common_str']\n",
    ")\n",
    "\n",
    "general_aggregate"
   ],
   "id": "c4da6804d0a6a691",
   "outputs": [
    {
     "data": {
      "text/plain": [
       "                                                                                                                        quant_in  \\\n",
       "parent_group product_group   Product or Service Name_x          Product or Service Name_y              unit_common_str             \n",
       "omnik        omnik           Omnik N30                          NOVALEX N30                            adet baql cl         20.0   \n",
       "kefir        president kefir PRESIDENT KEFIR 2,5% 450 GR 1X8    Xama \"President\" smetana 15% 350gr x 8 adet eded cl       3661.0   \n",
       "xama         president xama  PRESIDENT XAMA 30%, 200 GR 1X8     Xama \"President\" smetana 15% 350gr x 8 adet eded cl         73.0   \n",
       "sud          sud icim        SUD ICIM YARIM YAGLI 1 LT 1X12     Süd \"İÇİM\" Yarim Yagli 1 LT x 12       adet eded cl        518.0   \n",
       "xama         president xama  PRESIDENT XAMA 15% 350 GR 1X8      Xama \"President\" smetana 15% 350gr x 8 adet eded cl       6184.0   \n",
       "...                                                                                                                          ...   \n",
       "ekzoderil    ekzoderil       Ekzoderil 1% 20ml N1 03.2025 (600) EXODERIL 1% 20ML SOL OTC AZ            ədəd ml adet         36.0   \n",
       "nok          nok             5-nok 50mg N50 10.2024             5-NOK 50 MG N 50                       ədəd qram            10.0   \n",
       "                             5-nok 50mg N50 02.2025 (200)       5-NOK 50 MG N 50                       ədəd qram            20.0   \n",
       "nakom        nakom           Nakom 250+25mg №100 09.2022        NAKOM 250 MG+25 MG 100 TAB             ədəd qram             3.0   \n",
       "esomeprazol  esomeprazol     Esomeprazol 20mg N28 08.2021       ESOMEPRAZOL 20 MG N 28                 ədəd qram             1.0   \n",
       "\n",
       "                                                                                                                        quant_out  \n",
       "parent_group product_group   Product or Service Name_x          Product or Service Name_y              unit_common_str             \n",
       "omnik        omnik           Omnik N30                          NOVALEX N30                            adet baql cl           1.0  \n",
       "kefir        president kefir PRESIDENT KEFIR 2,5% 450 GR 1X8    Xama \"President\" smetana 15% 350gr x 8 adet eded cl      316528.0  \n",
       "xama         president xama  PRESIDENT XAMA 30%, 200 GR 1X8     Xama \"President\" smetana 15% 350gr x 8 adet eded cl        8176.0  \n",
       "sud          sud icim        SUD ICIM YARIM YAGLI 1 LT 1X12     Süd \"İÇİM\" Yarim Yagli 1 LT x 12       adet eded cl        9030.0  \n",
       "xama         president xama  PRESIDENT XAMA 15% 350 GR 1X8      Xama \"President\" smetana 15% 350gr x 8 adet eded cl      435080.0  \n",
       "...                                                                                                                           ...  \n",
       "ekzoderil    ekzoderil       Ekzoderil 1% 20ml N1 03.2025 (600) EXODERIL 1% 20ML SOL OTC AZ            ədəd ml adet        4000.0  \n",
       "nok          nok             5-nok 50mg N50 10.2024             5-NOK 50 MG N 50                       ədəd qram           8000.0  \n",
       "                             5-nok 50mg N50 02.2025 (200)       5-NOK 50 MG N 50                       ədəd qram           4000.0  \n",
       "nakom        nakom           Nakom 250+25mg №100 09.2022        NAKOM 250 MG+25 MG 100 TAB             ədəd qram            720.0  \n",
       "esomeprazol  esomeprazol     Esomeprazol 20mg N28 08.2021       ESOMEPRAZOL 20 MG N 28                 ədəd qram            100.0  \n",
       "\n",
       "[596 rows x 2 columns]"
      ],
      "text/html": [
       "<div>\n",
       "<style scoped>\n",
       "    .dataframe tbody tr th:only-of-type {\n",
       "        vertical-align: middle;\n",
       "    }\n",
       "\n",
       "    .dataframe tbody tr th {\n",
       "        vertical-align: top;\n",
       "    }\n",
       "\n",
       "    .dataframe thead th {\n",
       "        text-align: right;\n",
       "    }\n",
       "</style>\n",
       "<table border=\"1\" class=\"dataframe\">\n",
       "  <thead>\n",
       "    <tr style=\"text-align: right;\">\n",
       "      <th></th>\n",
       "      <th></th>\n",
       "      <th></th>\n",
       "      <th></th>\n",
       "      <th></th>\n",
       "      <th>quant_in</th>\n",
       "      <th>quant_out</th>\n",
       "    </tr>\n",
       "    <tr>\n",
       "      <th>parent_group</th>\n",
       "      <th>product_group</th>\n",
       "      <th>Product or Service Name_x</th>\n",
       "      <th>Product or Service Name_y</th>\n",
       "      <th>unit_common_str</th>\n",
       "      <th></th>\n",
       "      <th></th>\n",
       "    </tr>\n",
       "  </thead>\n",
       "  <tbody>\n",
       "    <tr>\n",
       "      <th>omnik</th>\n",
       "      <th>omnik</th>\n",
       "      <th>Omnik N30</th>\n",
       "      <th>NOVALEX N30</th>\n",
       "      <th>adet baql cl</th>\n",
       "      <td>20.0</td>\n",
       "      <td>1.0</td>\n",
       "    </tr>\n",
       "    <tr>\n",
       "      <th>kefir</th>\n",
       "      <th>president kefir</th>\n",
       "      <th>PRESIDENT KEFIR 2,5% 450 GR 1X8</th>\n",
       "      <th>Xama \"President\" smetana 15% 350gr x 8</th>\n",
       "      <th>adet eded cl</th>\n",
       "      <td>3661.0</td>\n",
       "      <td>316528.0</td>\n",
       "    </tr>\n",
       "    <tr>\n",
       "      <th>xama</th>\n",
       "      <th>president xama</th>\n",
       "      <th>PRESIDENT XAMA 30%, 200 GR 1X8</th>\n",
       "      <th>Xama \"President\" smetana 15% 350gr x 8</th>\n",
       "      <th>adet eded cl</th>\n",
       "      <td>73.0</td>\n",
       "      <td>8176.0</td>\n",
       "    </tr>\n",
       "    <tr>\n",
       "      <th>sud</th>\n",
       "      <th>sud icim</th>\n",
       "      <th>SUD ICIM YARIM YAGLI 1 LT 1X12</th>\n",
       "      <th>Süd \"İÇİM\" Yarim Yagli 1 LT x 12</th>\n",
       "      <th>adet eded cl</th>\n",
       "      <td>518.0</td>\n",
       "      <td>9030.0</td>\n",
       "    </tr>\n",
       "    <tr>\n",
       "      <th>xama</th>\n",
       "      <th>president xama</th>\n",
       "      <th>PRESIDENT XAMA 15% 350 GR 1X8</th>\n",
       "      <th>Xama \"President\" smetana 15% 350gr x 8</th>\n",
       "      <th>adet eded cl</th>\n",
       "      <td>6184.0</td>\n",
       "      <td>435080.0</td>\n",
       "    </tr>\n",
       "    <tr>\n",
       "      <th>...</th>\n",
       "      <th>...</th>\n",
       "      <th>...</th>\n",
       "      <th>...</th>\n",
       "      <th>...</th>\n",
       "      <td>...</td>\n",
       "      <td>...</td>\n",
       "    </tr>\n",
       "    <tr>\n",
       "      <th>ekzoderil</th>\n",
       "      <th>ekzoderil</th>\n",
       "      <th>Ekzoderil 1% 20ml N1 03.2025 (600)</th>\n",
       "      <th>EXODERIL 1% 20ML SOL OTC AZ</th>\n",
       "      <th>ədəd ml adet</th>\n",
       "      <td>36.0</td>\n",
       "      <td>4000.0</td>\n",
       "    </tr>\n",
       "    <tr>\n",
       "      <th rowspan=\"2\" valign=\"top\">nok</th>\n",
       "      <th rowspan=\"2\" valign=\"top\">nok</th>\n",
       "      <th>5-nok 50mg N50 10.2024</th>\n",
       "      <th>5-NOK 50 MG N 50</th>\n",
       "      <th>ədəd qram</th>\n",
       "      <td>10.0</td>\n",
       "      <td>8000.0</td>\n",
       "    </tr>\n",
       "    <tr>\n",
       "      <th>5-nok 50mg N50 02.2025 (200)</th>\n",
       "      <th>5-NOK 50 MG N 50</th>\n",
       "      <th>ədəd qram</th>\n",
       "      <td>20.0</td>\n",
       "      <td>4000.0</td>\n",
       "    </tr>\n",
       "    <tr>\n",
       "      <th>nakom</th>\n",
       "      <th>nakom</th>\n",
       "      <th>Nakom 250+25mg №100 09.2022</th>\n",
       "      <th>NAKOM 250 MG+25 MG 100 TAB</th>\n",
       "      <th>ədəd qram</th>\n",
       "      <td>3.0</td>\n",
       "      <td>720.0</td>\n",
       "    </tr>\n",
       "    <tr>\n",
       "      <th>esomeprazol</th>\n",
       "      <th>esomeprazol</th>\n",
       "      <th>Esomeprazol 20mg N28 08.2021</th>\n",
       "      <th>ESOMEPRAZOL 20 MG N 28</th>\n",
       "      <th>ədəd qram</th>\n",
       "      <td>1.0</td>\n",
       "      <td>100.0</td>\n",
       "    </tr>\n",
       "  </tbody>\n",
       "</table>\n",
       "<p>596 rows × 2 columns</p>\n",
       "</div>"
      ]
     },
     "execution_count": 55,
     "metadata": {},
     "output_type": "execute_result"
    }
   ],
   "execution_count": 55
  },
  {
   "metadata": {},
   "cell_type": "markdown",
   "source": "### Final table with parent groups (brand) invetory balances",
   "id": "6dbfd34655e69155"
  },
  {
   "metadata": {
    "ExecuteTime": {
     "end_time": "2024-06-05T04:24:46.562918Z",
     "start_time": "2024-06-05T04:24:46.502794Z"
    }
   },
   "cell_type": "code",
   "source": [
    "brand_agg = compilation_scored.groupby(\n",
    "    ['parent_group', 'product_group', 'Product or Service Name_x', 'unit_common_str']\n",
    ").agg(\n",
    "    {'quant_in': 'sum', 'quant_out': 'sum'}\n",
    ").reset_index()\n",
    "\n",
    "brand_agg.rename(columns={'quant_in': 'brand_inventory_in', 'quant_out': 'brand_inventory_out'}, inplace=True)\n",
    "\n",
    "result = pd.merge(brand_agg, general_aggregate, on='parent_group', how='left')"
   ],
   "id": "79acdb594eba7996",
   "outputs": [],
   "execution_count": 49
  },
  {
   "metadata": {
    "ExecuteTime": {
     "end_time": "2024-06-05T04:24:47.089263Z",
     "start_time": "2024-06-05T04:24:47.078861Z"
    }
   },
   "cell_type": "code",
   "source": [
    "result.groupby(\n",
    "    by=['parent_group', 'product_group', 'Product or Service Name_x', 'unit_common_str']\n",
    ").agg(\n",
    "    {'quant_in':'sum','quant_out':'sum', 'brand_inventory_in': 'max', 'brand_inventory_out': 'max'}\n",
    ")"
   ],
   "id": "d1627afcc6465364",
   "outputs": [
    {
     "data": {
      "text/plain": [
       "                                                                                   quant_in  \\\n",
       "parent_group product_group    Product or Service Name_x           unit_common_str             \n",
       "                              7UP 0.5 LT 1X12                     adet lt eded       3808.0   \n",
       "                              7UP 1 LT 1X12                       adet lt eded       3808.0   \n",
       "                              7UP 2 LT 1X6                        adet lt eded       3808.0   \n",
       "                              PH-1-10                             qutu eded          3808.0   \n",
       "acc          acc              ACC 200mg N20 07.2021 (300)         eded                311.0   \n",
       "...                                                                                     ...   \n",
       "xeste        xeste alti       XESTE ALTI BEZ DOUBLE ACT 60X90 N30 ədəd eded            41.0   \n",
       "xrustem      xrustem biftekli XRUSTEM BIFTEKLI 75 GR              ədəd kg adet       2256.0   \n",
       "yod          yod              Yod 5%                              fl eded             200.0   \n",
       "                              yod 5%                              flak eded           200.0   \n",
       "                                                                  ədəd eded           200.0   \n",
       "\n",
       "                                                                                   quant_out  \\\n",
       "parent_group product_group    Product or Service Name_x           unit_common_str              \n",
       "                              7UP 0.5 LT 1X12                     adet lt eded      157740.0   \n",
       "                              7UP 1 LT 1X12                       adet lt eded      157740.0   \n",
       "                              7UP 2 LT 1X6                        adet lt eded      157740.0   \n",
       "                              PH-1-10                             qutu eded         157740.0   \n",
       "acc          acc              ACC 200mg N20 07.2021 (300)         eded               17860.0   \n",
       "...                                                                                      ...   \n",
       "xeste        xeste alti       XESTE ALTI BEZ DOUBLE ACT 60X90 N30 ədəd eded             10.0   \n",
       "xrustem      xrustem biftekli XRUSTEM BIFTEKLI 75 GR              ədəd kg adet      808704.0   \n",
       "yod          yod              Yod 5%                              fl eded              600.0   \n",
       "                              yod 5%                              flak eded            600.0   \n",
       "                                                                  ədəd eded            600.0   \n",
       "\n",
       "                                                                                   brand_inventory_in  \\\n",
       "parent_group product_group    Product or Service Name_x           unit_common_str                       \n",
       "                              7UP 0.5 LT 1X12                     adet lt eded                 1142.0   \n",
       "                              7UP 1 LT 1X12                       adet lt eded                 1214.0   \n",
       "                              7UP 2 LT 1X6                        adet lt eded                 1448.0   \n",
       "                              PH-1-10                             qutu eded                       4.0   \n",
       "acc          acc              ACC 200mg N20 07.2021 (300)         eded                            1.0   \n",
       "...                                                                                               ...   \n",
       "xeste        xeste alti       XESTE ALTI BEZ DOUBLE ACT 60X90 N30 ədəd eded                      41.0   \n",
       "xrustem      xrustem biftekli XRUSTEM BIFTEKLI 75 GR              ədəd kg adet                 2256.0   \n",
       "yod          yod              Yod 5%                              fl eded                        80.0   \n",
       "                              yod 5%                              flak eded                      90.0   \n",
       "                                                                  ədəd eded                      30.0   \n",
       "\n",
       "                                                                                   brand_inventory_out  \n",
       "parent_group product_group    Product or Service Name_x           unit_common_str                       \n",
       "                              7UP 0.5 LT 1X12                     adet lt eded                 59400.0  \n",
       "                              7UP 1 LT 1X12                       adet lt eded                 70200.0  \n",
       "                              7UP 2 LT 1X6                        adet lt eded                 27840.0  \n",
       "                              PH-1-10                             qutu eded                      300.0  \n",
       "acc          acc              ACC 200mg N20 07.2021 (300)         eded                           420.0  \n",
       "...                                                                                                ...  \n",
       "xeste        xeste alti       XESTE ALTI BEZ DOUBLE ACT 60X90 N30 ədəd eded                       10.0  \n",
       "xrustem      xrustem biftekli XRUSTEM BIFTEKLI 75 GR              ədəd kg adet                808704.0  \n",
       "yod          yod              Yod 5%                              fl eded                        200.0  \n",
       "                              yod 5%                              flak eded                      300.0  \n",
       "                                                                  ədəd eded                      100.0  \n",
       "\n",
       "[596 rows x 4 columns]"
      ],
      "text/html": [
       "<div>\n",
       "<style scoped>\n",
       "    .dataframe tbody tr th:only-of-type {\n",
       "        vertical-align: middle;\n",
       "    }\n",
       "\n",
       "    .dataframe tbody tr th {\n",
       "        vertical-align: top;\n",
       "    }\n",
       "\n",
       "    .dataframe thead th {\n",
       "        text-align: right;\n",
       "    }\n",
       "</style>\n",
       "<table border=\"1\" class=\"dataframe\">\n",
       "  <thead>\n",
       "    <tr style=\"text-align: right;\">\n",
       "      <th></th>\n",
       "      <th></th>\n",
       "      <th></th>\n",
       "      <th></th>\n",
       "      <th>quant_in</th>\n",
       "      <th>quant_out</th>\n",
       "      <th>brand_inventory_in</th>\n",
       "      <th>brand_inventory_out</th>\n",
       "    </tr>\n",
       "    <tr>\n",
       "      <th>parent_group</th>\n",
       "      <th>product_group</th>\n",
       "      <th>Product or Service Name_x</th>\n",
       "      <th>unit_common_str</th>\n",
       "      <th></th>\n",
       "      <th></th>\n",
       "      <th></th>\n",
       "      <th></th>\n",
       "    </tr>\n",
       "  </thead>\n",
       "  <tbody>\n",
       "    <tr>\n",
       "      <th rowspan=\"4\" valign=\"top\"></th>\n",
       "      <th rowspan=\"4\" valign=\"top\"></th>\n",
       "      <th>7UP 0.5 LT 1X12</th>\n",
       "      <th>adet lt eded</th>\n",
       "      <td>3808.0</td>\n",
       "      <td>157740.0</td>\n",
       "      <td>1142.0</td>\n",
       "      <td>59400.0</td>\n",
       "    </tr>\n",
       "    <tr>\n",
       "      <th>7UP 1 LT 1X12</th>\n",
       "      <th>adet lt eded</th>\n",
       "      <td>3808.0</td>\n",
       "      <td>157740.0</td>\n",
       "      <td>1214.0</td>\n",
       "      <td>70200.0</td>\n",
       "    </tr>\n",
       "    <tr>\n",
       "      <th>7UP 2 LT 1X6</th>\n",
       "      <th>adet lt eded</th>\n",
       "      <td>3808.0</td>\n",
       "      <td>157740.0</td>\n",
       "      <td>1448.0</td>\n",
       "      <td>27840.0</td>\n",
       "    </tr>\n",
       "    <tr>\n",
       "      <th>PH-1-10</th>\n",
       "      <th>qutu eded</th>\n",
       "      <td>3808.0</td>\n",
       "      <td>157740.0</td>\n",
       "      <td>4.0</td>\n",
       "      <td>300.0</td>\n",
       "    </tr>\n",
       "    <tr>\n",
       "      <th>acc</th>\n",
       "      <th>acc</th>\n",
       "      <th>ACC 200mg N20 07.2021 (300)</th>\n",
       "      <th>eded</th>\n",
       "      <td>311.0</td>\n",
       "      <td>17860.0</td>\n",
       "      <td>1.0</td>\n",
       "      <td>420.0</td>\n",
       "    </tr>\n",
       "    <tr>\n",
       "      <th>...</th>\n",
       "      <th>...</th>\n",
       "      <th>...</th>\n",
       "      <th>...</th>\n",
       "      <td>...</td>\n",
       "      <td>...</td>\n",
       "      <td>...</td>\n",
       "      <td>...</td>\n",
       "    </tr>\n",
       "    <tr>\n",
       "      <th>xeste</th>\n",
       "      <th>xeste alti</th>\n",
       "      <th>XESTE ALTI BEZ DOUBLE ACT 60X90 N30</th>\n",
       "      <th>ədəd eded</th>\n",
       "      <td>41.0</td>\n",
       "      <td>10.0</td>\n",
       "      <td>41.0</td>\n",
       "      <td>10.0</td>\n",
       "    </tr>\n",
       "    <tr>\n",
       "      <th>xrustem</th>\n",
       "      <th>xrustem biftekli</th>\n",
       "      <th>XRUSTEM BIFTEKLI 75 GR</th>\n",
       "      <th>ədəd kg adet</th>\n",
       "      <td>2256.0</td>\n",
       "      <td>808704.0</td>\n",
       "      <td>2256.0</td>\n",
       "      <td>808704.0</td>\n",
       "    </tr>\n",
       "    <tr>\n",
       "      <th rowspan=\"3\" valign=\"top\">yod</th>\n",
       "      <th rowspan=\"3\" valign=\"top\">yod</th>\n",
       "      <th>Yod 5%</th>\n",
       "      <th>fl eded</th>\n",
       "      <td>200.0</td>\n",
       "      <td>600.0</td>\n",
       "      <td>80.0</td>\n",
       "      <td>200.0</td>\n",
       "    </tr>\n",
       "    <tr>\n",
       "      <th rowspan=\"2\" valign=\"top\">yod 5%</th>\n",
       "      <th>flak eded</th>\n",
       "      <td>200.0</td>\n",
       "      <td>600.0</td>\n",
       "      <td>90.0</td>\n",
       "      <td>300.0</td>\n",
       "    </tr>\n",
       "    <tr>\n",
       "      <th>ədəd eded</th>\n",
       "      <td>200.0</td>\n",
       "      <td>600.0</td>\n",
       "      <td>30.0</td>\n",
       "      <td>100.0</td>\n",
       "    </tr>\n",
       "  </tbody>\n",
       "</table>\n",
       "<p>596 rows × 4 columns</p>\n",
       "</div>"
      ]
     },
     "execution_count": 50,
     "metadata": {},
     "output_type": "execute_result"
    }
   ],
   "execution_count": 50
  },
  {
   "metadata": {},
   "cell_type": "code",
   "outputs": [],
   "execution_count": null,
   "source": "",
   "id": "faa7913c6e870ad1"
  },
  {
   "metadata": {},
   "cell_type": "code",
   "outputs": [],
   "execution_count": null,
   "source": "",
   "id": "89c0d8061d375e75"
  },
  {
   "metadata": {
    "ExecuteTime": {
     "end_time": "2024-06-05T04:17:22.134740Z",
     "start_time": "2024-06-05T04:17:22.129113Z"
    }
   },
   "cell_type": "code",
   "source": "general_aggregate.to_csv('general_aggregate.csv')",
   "id": "1f3f55aaceba660c",
   "outputs": [],
   "execution_count": 46
  },
  {
   "metadata": {
    "ExecuteTime": {
     "end_time": "2024-06-05T04:30:38.629655Z",
     "start_time": "2024-06-05T04:30:38.616793Z"
    }
   },
   "cell_type": "code",
   "source": [
    "result.rename(\n",
    "    columns={\n",
    "        'parent_group': 'Parent Group Name',\n",
    "        'product_group': 'Product Group',\n",
    "        'brand_inventory_in': 'Group Inventory In Quantity',\n",
    "        'brand_inventory_out': 'Group Inventory Out Quantity',\n",
    "        'Product or Service Name_x': 'Individual Items',\n",
    "        'unit_common_str': 'Product Unit',\n",
    "        'quant_in': 'Inventory In Quantity',\n",
    "        'quant_out': 'Inventory Out Quantity',\n",
    "    },\n",
    ").groupby(\n",
    "    by=['Parent Group Name', 'Product Group', 'Individual Items', 'Product Unit',]\n",
    ").agg(\n",
    "    {'Inventory In Quantity':'sum', 'Inventory Out Quantity' :'sum', 'Group Inventory In Quantity': 'max', 'Group Inventory Out Quantity': 'max'}\n",
    ").to_csv('result.csv')"
   ],
   "id": "db9694438bea0e56",
   "outputs": [],
   "execution_count": 54
  },
  {
   "metadata": {
    "ExecuteTime": {
     "end_time": "2024-06-05T04:25:13.021821Z",
     "start_time": "2024-06-05T04:25:13.012187Z"
    }
   },
   "cell_type": "code",
   "source": "result",
   "id": "8fbd4b332ff6960d",
   "outputs": [
    {
     "data": {
      "text/plain": [
       "     Parent Group Name Product Group Individual Items  Product Unit  \\\n",
       "0                                     7UP 0.5 LT 1X12  adet lt eded   \n",
       "1                                     7UP 0.5 LT 1X12  adet lt eded   \n",
       "2                                     7UP 0.5 LT 1X12  adet lt eded   \n",
       "3                                     7UP 0.5 LT 1X12  adet lt eded   \n",
       "4                                       7UP 1 LT 1X12  adet lt eded   \n",
       "...                ...           ...              ...           ...   \n",
       "7601               yod           yod           yod 5%     flak eded   \n",
       "7602               yod           yod           yod 5%     flak eded   \n",
       "7603               yod           yod           yod 5%     ədəd eded   \n",
       "7604               yod           yod           yod 5%     ədəd eded   \n",
       "7605               yod           yod           yod 5%     ədəd eded   \n",
       "\n",
       "      Group Inventory In Quantity  Group Inventory Out Quantity  \\\n",
       "0                          1142.0                       59400.0   \n",
       "1                          1142.0                       59400.0   \n",
       "2                          1142.0                       59400.0   \n",
       "3                          1142.0                       59400.0   \n",
       "4                          1214.0                       70200.0   \n",
       "...                           ...                           ...   \n",
       "7601                         90.0                         300.0   \n",
       "7602                         90.0                         300.0   \n",
       "7603                         30.0                         100.0   \n",
       "7604                         30.0                         100.0   \n",
       "7605                         30.0                         100.0   \n",
       "\n",
       "      Inventory In Quantity  Inventory Out Quantity  \n",
       "0                    1142.0                 59400.0  \n",
       "1                    1214.0                 70200.0  \n",
       "2                    1448.0                 27840.0  \n",
       "3                       4.0                   300.0  \n",
       "4                    1142.0                 59400.0  \n",
       "...                     ...                     ...  \n",
       "7601                   90.0                   300.0  \n",
       "7602                   30.0                   100.0  \n",
       "7603                   80.0                   200.0  \n",
       "7604                   90.0                   300.0  \n",
       "7605                   30.0                   100.0  \n",
       "\n",
       "[7606 rows x 8 columns]"
      ],
      "text/html": [
       "<div>\n",
       "<style scoped>\n",
       "    .dataframe tbody tr th:only-of-type {\n",
       "        vertical-align: middle;\n",
       "    }\n",
       "\n",
       "    .dataframe tbody tr th {\n",
       "        vertical-align: top;\n",
       "    }\n",
       "\n",
       "    .dataframe thead th {\n",
       "        text-align: right;\n",
       "    }\n",
       "</style>\n",
       "<table border=\"1\" class=\"dataframe\">\n",
       "  <thead>\n",
       "    <tr style=\"text-align: right;\">\n",
       "      <th></th>\n",
       "      <th>Parent Group Name</th>\n",
       "      <th>Product Group</th>\n",
       "      <th>Individual Items</th>\n",
       "      <th>Product Unit</th>\n",
       "      <th>Group Inventory In Quantity</th>\n",
       "      <th>Group Inventory Out Quantity</th>\n",
       "      <th>Inventory In Quantity</th>\n",
       "      <th>Inventory Out Quantity</th>\n",
       "    </tr>\n",
       "  </thead>\n",
       "  <tbody>\n",
       "    <tr>\n",
       "      <th>0</th>\n",
       "      <td></td>\n",
       "      <td></td>\n",
       "      <td>7UP 0.5 LT 1X12</td>\n",
       "      <td>adet lt eded</td>\n",
       "      <td>1142.0</td>\n",
       "      <td>59400.0</td>\n",
       "      <td>1142.0</td>\n",
       "      <td>59400.0</td>\n",
       "    </tr>\n",
       "    <tr>\n",
       "      <th>1</th>\n",
       "      <td></td>\n",
       "      <td></td>\n",
       "      <td>7UP 0.5 LT 1X12</td>\n",
       "      <td>adet lt eded</td>\n",
       "      <td>1142.0</td>\n",
       "      <td>59400.0</td>\n",
       "      <td>1214.0</td>\n",
       "      <td>70200.0</td>\n",
       "    </tr>\n",
       "    <tr>\n",
       "      <th>2</th>\n",
       "      <td></td>\n",
       "      <td></td>\n",
       "      <td>7UP 0.5 LT 1X12</td>\n",
       "      <td>adet lt eded</td>\n",
       "      <td>1142.0</td>\n",
       "      <td>59400.0</td>\n",
       "      <td>1448.0</td>\n",
       "      <td>27840.0</td>\n",
       "    </tr>\n",
       "    <tr>\n",
       "      <th>3</th>\n",
       "      <td></td>\n",
       "      <td></td>\n",
       "      <td>7UP 0.5 LT 1X12</td>\n",
       "      <td>adet lt eded</td>\n",
       "      <td>1142.0</td>\n",
       "      <td>59400.0</td>\n",
       "      <td>4.0</td>\n",
       "      <td>300.0</td>\n",
       "    </tr>\n",
       "    <tr>\n",
       "      <th>4</th>\n",
       "      <td></td>\n",
       "      <td></td>\n",
       "      <td>7UP 1 LT 1X12</td>\n",
       "      <td>adet lt eded</td>\n",
       "      <td>1214.0</td>\n",
       "      <td>70200.0</td>\n",
       "      <td>1142.0</td>\n",
       "      <td>59400.0</td>\n",
       "    </tr>\n",
       "    <tr>\n",
       "      <th>...</th>\n",
       "      <td>...</td>\n",
       "      <td>...</td>\n",
       "      <td>...</td>\n",
       "      <td>...</td>\n",
       "      <td>...</td>\n",
       "      <td>...</td>\n",
       "      <td>...</td>\n",
       "      <td>...</td>\n",
       "    </tr>\n",
       "    <tr>\n",
       "      <th>7601</th>\n",
       "      <td>yod</td>\n",
       "      <td>yod</td>\n",
       "      <td>yod 5%</td>\n",
       "      <td>flak eded</td>\n",
       "      <td>90.0</td>\n",
       "      <td>300.0</td>\n",
       "      <td>90.0</td>\n",
       "      <td>300.0</td>\n",
       "    </tr>\n",
       "    <tr>\n",
       "      <th>7602</th>\n",
       "      <td>yod</td>\n",
       "      <td>yod</td>\n",
       "      <td>yod 5%</td>\n",
       "      <td>flak eded</td>\n",
       "      <td>90.0</td>\n",
       "      <td>300.0</td>\n",
       "      <td>30.0</td>\n",
       "      <td>100.0</td>\n",
       "    </tr>\n",
       "    <tr>\n",
       "      <th>7603</th>\n",
       "      <td>yod</td>\n",
       "      <td>yod</td>\n",
       "      <td>yod 5%</td>\n",
       "      <td>ədəd eded</td>\n",
       "      <td>30.0</td>\n",
       "      <td>100.0</td>\n",
       "      <td>80.0</td>\n",
       "      <td>200.0</td>\n",
       "    </tr>\n",
       "    <tr>\n",
       "      <th>7604</th>\n",
       "      <td>yod</td>\n",
       "      <td>yod</td>\n",
       "      <td>yod 5%</td>\n",
       "      <td>ədəd eded</td>\n",
       "      <td>30.0</td>\n",
       "      <td>100.0</td>\n",
       "      <td>90.0</td>\n",
       "      <td>300.0</td>\n",
       "    </tr>\n",
       "    <tr>\n",
       "      <th>7605</th>\n",
       "      <td>yod</td>\n",
       "      <td>yod</td>\n",
       "      <td>yod 5%</td>\n",
       "      <td>ədəd eded</td>\n",
       "      <td>30.0</td>\n",
       "      <td>100.0</td>\n",
       "      <td>30.0</td>\n",
       "      <td>100.0</td>\n",
       "    </tr>\n",
       "  </tbody>\n",
       "</table>\n",
       "<p>7606 rows × 8 columns</p>\n",
       "</div>"
      ]
     },
     "execution_count": 53,
     "metadata": {},
     "output_type": "execute_result"
    }
   ],
   "execution_count": 53
  },
  {
   "metadata": {},
   "cell_type": "code",
   "outputs": [],
   "execution_count": null,
   "source": "",
   "id": "787dcd5c42ff4d77"
  },
  {
   "metadata": {
    "ExecuteTime": {
     "end_time": "2024-06-05T04:33:22.379825Z",
     "start_time": "2024-06-05T04:33:22.352803Z"
    }
   },
   "cell_type": "code",
   "source": "len(compilation_scored['Product or Service Name_x'].unique())",
   "id": "3ddee1b7de306628",
   "outputs": [
    {
     "data": {
      "text/plain": [
       "554"
      ]
     },
     "execution_count": 59,
     "metadata": {},
     "output_type": "execute_result"
    }
   ],
   "execution_count": 59
  },
  {
   "metadata": {
    "ExecuteTime": {
     "end_time": "2024-06-05T04:33:29.552521Z",
     "start_time": "2024-06-05T04:33:29.528477Z"
    }
   },
   "cell_type": "code",
   "source": "len(compilation_scored['Product or Service Name_y'].unique())",
   "id": "d19accc0320bbae2",
   "outputs": [
    {
     "data": {
      "text/plain": [
       "361"
      ]
     },
     "execution_count": 60,
     "metadata": {},
     "output_type": "execute_result"
    }
   ],
   "execution_count": 60
  },
  {
   "metadata": {
    "ExecuteTime": {
     "end_time": "2024-06-05T04:33:57.815650Z",
     "start_time": "2024-06-05T04:33:57.757006Z"
    }
   },
   "cell_type": "code",
   "source": "len(df_incoming['Product or Service Name'].unique())",
   "id": "9c1175dbefa9fbd5",
   "outputs": [
    {
     "data": {
      "text/plain": [
       "5125"
      ]
     },
     "execution_count": 61,
     "metadata": {},
     "output_type": "execute_result"
    }
   ],
   "execution_count": 61
  },
  {
   "metadata": {
    "ExecuteTime": {
     "end_time": "2024-06-05T04:34:20.493150Z",
     "start_time": "2024-06-05T04:34:20.488299Z"
    }
   },
   "cell_type": "code",
   "source": "len(df_outcoming['Product or Service Name'].unique())",
   "id": "46d9c3f7db7a97c6",
   "outputs": [
    {
     "data": {
      "text/plain": [
       "2985"
      ]
     },
     "execution_count": 63,
     "metadata": {},
     "output_type": "execute_result"
    }
   ],
   "execution_count": 63
  },
  {
   "metadata": {
    "ExecuteTime": {
     "end_time": "2024-06-05T04:34:51.518615Z",
     "start_time": "2024-06-05T04:34:51.369320Z"
    }
   },
   "cell_type": "code",
   "source": "len(compilation_scored['Product or Service Name_x'].unique()) / len(compilation_scored['Product or Service Name_y'].unique()), len(df_incoming['Product or Service Name'].unique()) / len(df_outcoming['Product or Service Name'].unique())",
   "id": "4e88d2a68a8db273",
   "outputs": [
    {
     "data": {
      "text/plain": [
       "(1.5346260387811634, 1.7169179229480738)"
      ]
     },
     "execution_count": 64,
     "metadata": {},
     "output_type": "execute_result"
    }
   ],
   "execution_count": 64
  },
  {
   "metadata": {},
   "cell_type": "code",
   "outputs": [],
   "execution_count": null,
   "source": "",
   "id": "fca0d68d74ba49cb"
  }
 ],
 "metadata": {
  "kernelspec": {
   "display_name": "Python 3",
   "language": "python",
   "name": "python3"
  },
  "language_info": {
   "codemirror_mode": {
    "name": "ipython",
    "version": 2
   },
   "file_extension": ".py",
   "mimetype": "text/x-python",
   "name": "python",
   "nbconvert_exporter": "python",
   "pygments_lexer": "ipython2",
   "version": "2.7.6"
  }
 },
 "nbformat": 4,
 "nbformat_minor": 5
}
