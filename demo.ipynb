{
 "cells": [
  {
   "metadata": {
    "ExecuteTime": {
     "end_time": "2024-06-04T20:29:34.045546Z",
     "start_time": "2024-06-04T20:29:33.684366Z"
    }
   },
   "cell_type": "code",
   "source": [
    "import os\n",
    "import pandas as pd"
   ],
   "id": "3e153d9d7490d0b4",
   "outputs": [],
   "execution_count": 1
  },
  {
   "metadata": {
    "ExecuteTime": {
     "end_time": "2024-06-04T20:29:34.076161Z",
     "start_time": "2024-06-04T20:29:34.047750Z"
    }
   },
   "cell_type": "code",
   "source": [
    "from rapidfuzz import process as proc\n",
    "from rapidfuzz import fuzz"
   ],
   "id": "47e626cd475e0917",
   "outputs": [],
   "execution_count": 2
  },
  {
   "metadata": {
    "ExecuteTime": {
     "end_time": "2024-06-04T20:29:34.249209Z",
     "start_time": "2024-06-04T20:29:34.241387Z"
    }
   },
   "cell_type": "code",
   "source": "from tqdm import tqdm",
   "id": "8a277c466d51aa91",
   "outputs": [],
   "execution_count": 3
  },
  {
   "metadata": {
    "ExecuteTime": {
     "end_time": "2024-06-04T20:29:34.380792Z",
     "start_time": "2024-06-04T20:29:34.343912Z"
    }
   },
   "cell_type": "code",
   "source": "from fastparquet import ParquetFile, write as parq_write",
   "id": "5fa466db5236f059",
   "outputs": [],
   "execution_count": 4
  },
  {
   "metadata": {
    "ExecuteTime": {
     "end_time": "2024-06-04T20:29:34.793955Z",
     "start_time": "2024-06-04T20:29:34.792178Z"
    }
   },
   "cell_type": "code",
   "source": "",
   "id": "e5018e4f418c850a",
   "outputs": [],
   "execution_count": 4
  },
  {
   "metadata": {
    "ExecuteTime": {
     "end_time": "2024-06-04T20:29:36.310439Z",
     "start_time": "2024-06-04T20:29:35.061538Z"
    }
   },
   "cell_type": "code",
   "source": "from src.utils import simple_process_item, count_common_digits, count_common_words, count_digit_share, remove_numbers, get_product_group, get_parent_group",
   "id": "initial_id",
   "outputs": [
    {
     "name": "stderr",
     "output_type": "stream",
     "text": [
      "[nltk_data] Downloading package punkt to /home/varsey/nltk_data...\n",
      "[nltk_data]   Package punkt is already up-to-date!\n",
      "[nltk_data] Downloading package stopwords to /home/varsey/nltk_data...\n",
      "[nltk_data]   Package stopwords is already up-to-date!\n",
      "[nltk_data] Downloading package averaged_perceptron_tagger_ru to\n",
      "[nltk_data]     /home/varsey/nltk_data...\n",
      "[nltk_data]   Package averaged_perceptron_tagger_ru is already up-to-\n",
      "[nltk_data]       date!\n"
     ]
    }
   ],
   "execution_count": 5
  },
  {
   "metadata": {
    "ExecuteTime": {
     "end_time": "2024-06-04T20:29:37.962567Z",
     "start_time": "2024-06-04T20:29:37.960551Z"
    }
   },
   "cell_type": "code",
   "source": "",
   "id": "d59d7c63a1ff16e8",
   "outputs": [],
   "execution_count": 5
  },
  {
   "metadata": {
    "ExecuteTime": {
     "end_time": "2024-06-04T20:30:02.139377Z",
     "start_time": "2024-06-04T20:29:39.063792Z"
    }
   },
   "cell_type": "code",
   "source": [
    "# Loading data\n",
    "df_incoming = pd.read_excel(f'{os.getcwd()}/data/drl-data.xlsx', sheet_name='Inventory Out')\n",
    "df_outcoming = pd.read_excel(f'{os.getcwd()}/data/drl-data.xlsx', sheet_name='Inventory In')"
   ],
   "id": "99baa07344177f0a",
   "outputs": [],
   "execution_count": 6
  },
  {
   "metadata": {
    "ExecuteTime": {
     "end_time": "2024-06-04T20:30:02.355255Z",
     "start_time": "2024-06-04T20:30:02.140229Z"
    }
   },
   "cell_type": "code",
   "source": [
    "df_outcoming['unit'] = df_incoming['Unit'].str.lower()\n",
    "df_incoming['unit'] = df_incoming['Unit'].str.lower()"
   ],
   "id": "2b8cb886917f5bc2",
   "outputs": [],
   "execution_count": 7
  },
  {
   "metadata": {
    "ExecuteTime": {
     "end_time": "2024-06-04T20:30:06.164063Z",
     "start_time": "2024-06-04T20:30:02.356298Z"
    }
   },
   "cell_type": "code",
   "source": [
    "df_outcoming['items'] = df_outcoming['Product or Service Name'].apply(lambda x: simple_process_item(x))\n",
    "df_incoming['items'] = df_incoming['Product or Service Name'].apply(lambda x: simple_process_item(x))"
   ],
   "id": "259e1f7dc00d08e3",
   "outputs": [],
   "execution_count": 8
  },
  {
   "metadata": {
    "ExecuteTime": {
     "end_time": "2024-06-04T17:38:43.499043Z",
     "start_time": "2024-06-04T17:38:43.496833Z"
    }
   },
   "cell_type": "code",
   "source": "",
   "id": "41331f215ed14568",
   "outputs": [],
   "execution_count": 8
  },
  {
   "metadata": {
    "ExecuteTime": {
     "end_time": "2024-06-04T18:49:09.567080Z",
     "start_time": "2024-06-04T17:39:43.997384Z"
    }
   },
   "cell_type": "code",
   "source": [
    "%%time\n",
    "\n",
    "to_find = df_incoming['items'].to_list()[:300_000]\n",
    "candidates = set(df_outcoming['items'].to_list())\n",
    "\n",
    "outcoming, incoming1, incoming2, score1, score2, score_w, score_d = [], [], [], [], [], [], []\n",
    "for item in tqdm(to_find[:]):\n",
    "    res1 = proc.extract(\n",
    "                item,\n",
    "                candidates,\n",
    "                scorer=fuzz.partial_token_sort_ratio,\n",
    "                limit=1\n",
    "    )[0]\n",
    "    res2 = proc.extract(\n",
    "                item,\n",
    "                candidates,\n",
    "                scorer=fuzz.partial_ratio,\n",
    "                limit=1\n",
    "    )[0]\n",
    "    outcoming.append(item)\n",
    "    incoming1.append(res1[0])\n",
    "    incoming2.append(res2[0])\n",
    "    score1.append(res1[1])\n",
    "    score2.append(res2[1])\n",
    "    if len(res1) > 0:\n",
    "        score_w.append(count_common_words(item, res1[0]))\n",
    "        score_d.append(count_common_digits(item, res1[0]) / count_digit_share(res1[0]))\n"
   ],
   "id": "d43423965a145527",
   "outputs": [
    {
     "name": "stderr",
     "output_type": "stream",
     "text": [
      "100%|██████████| 300000/300000 [1:09:25<00:00, 72.02it/s] "
     ]
    },
    {
     "name": "stdout",
     "output_type": "stream",
     "text": [
      "CPU times: user 1h 9min 18s, sys: 8.5 s, total: 1h 9min 27s\n",
      "Wall time: 1h 9min 25s\n"
     ]
    },
    {
     "name": "stderr",
     "output_type": "stream",
     "text": [
      "\n"
     ]
    }
   ],
   "execution_count": 13
  },
  {
   "metadata": {
    "ExecuteTime": {
     "end_time": "2024-06-04T20:30:06.312219Z",
     "start_time": "2024-06-04T20:30:06.165427Z"
    }
   },
   "cell_type": "code",
   "source": [
    "comp = pd.DataFrame()\n",
    "comp['right'] = outcoming\n",
    "comp['left1'] = incoming1\n",
    "comp['left2'] = incoming2\n",
    "\n",
    "comp['score1'] = score1\n",
    "comp['score2'] = score2\n",
    "comp['score3'] = 2 * comp['score1'] *comp['score2'] /(comp['score1'] + comp['score2'] )\n",
    "\n",
    "comp['score_w'] = score_w\n",
    "comp['score_d'] = score_d\n",
    "comp['score_d'] = comp['score_d'] /10"
   ],
   "id": "aee1955e7bc34e18",
   "outputs": [
    {
     "ename": "NameError",
     "evalue": "name 'outcoming' is not defined",
     "output_type": "error",
     "traceback": [
      "\u001B[0;31m---------------------------------------------------------------------------\u001B[0m",
      "\u001B[0;31mNameError\u001B[0m                                 Traceback (most recent call last)",
      "Cell \u001B[0;32mIn[9], line 2\u001B[0m\n\u001B[1;32m      1\u001B[0m comp \u001B[38;5;241m=\u001B[39m pd\u001B[38;5;241m.\u001B[39mDataFrame()\n\u001B[0;32m----> 2\u001B[0m comp[\u001B[38;5;124m'\u001B[39m\u001B[38;5;124mright\u001B[39m\u001B[38;5;124m'\u001B[39m] \u001B[38;5;241m=\u001B[39m \u001B[43moutcoming\u001B[49m\n\u001B[1;32m      3\u001B[0m comp[\u001B[38;5;124m'\u001B[39m\u001B[38;5;124mleft1\u001B[39m\u001B[38;5;124m'\u001B[39m] \u001B[38;5;241m=\u001B[39m incoming1\n\u001B[1;32m      4\u001B[0m comp[\u001B[38;5;124m'\u001B[39m\u001B[38;5;124mleft2\u001B[39m\u001B[38;5;124m'\u001B[39m] \u001B[38;5;241m=\u001B[39m incoming2\n",
      "\u001B[0;31mNameError\u001B[0m: name 'outcoming' is not defined"
     ]
    }
   ],
   "execution_count": 9
  },
  {
   "metadata": {},
   "cell_type": "code",
   "outputs": [],
   "execution_count": null,
   "source": "",
   "id": "56d1fc732a0b8285"
  },
  {
   "metadata": {},
   "cell_type": "code",
   "source": [
    "parq_write(\n",
    "    f'{os.getcwd()}/comp_300_000.parq',\n",
    "    comp,\n",
    "    compression='GZIP'\n",
    ")"
   ],
   "id": "43b628f36a28ee1a",
   "outputs": [],
   "execution_count": null
  },
  {
   "metadata": {
    "ExecuteTime": {
     "end_time": "2024-06-04T20:30:11.888244Z",
     "start_time": "2024-06-04T20:30:11.742353Z"
    }
   },
   "cell_type": "code",
   "source": [
    "comp_parq = ParquetFile(f'{os.getcwd()}/comp_300_000.parq',)\n",
    "comp = comp_parq.to_pandas()"
   ],
   "id": "c81d79583bd718a5",
   "outputs": [],
   "execution_count": 10
  },
  {
   "metadata": {
    "ExecuteTime": {
     "end_time": "2024-06-04T20:30:12.665149Z",
     "start_time": "2024-06-04T20:30:12.619325Z"
    }
   },
   "cell_type": "code",
   "source": [
    "sub_result = pd.concat(\n",
    "    [\n",
    "        df_incoming[:300_000],\n",
    "        comp\n",
    "    ],\n",
    "    axis=1,\n",
    ")\n",
    "sub_result.shape"
   ],
   "id": "6c52a7765c653b5b",
   "outputs": [
    {
     "data": {
      "text/plain": [
       "(300000, 14)"
      ]
     },
     "execution_count": 11,
     "metadata": {},
     "output_type": "execute_result"
    }
   ],
   "execution_count": 11
  },
  {
   "metadata": {
    "ExecuteTime": {
     "end_time": "2024-06-04T20:30:15.373487Z",
     "start_time": "2024-06-04T20:30:15.355262Z"
    }
   },
   "cell_type": "code",
   "source": "sub_result.sample(20)",
   "id": "79dff97c0b783457",
   "outputs": [
    {
     "data": {
      "text/plain": [
       "             #                            Product or Service Name     Unit  \\\n",
       "9360      9361                         PRESIDENT YAGLI 50 GR 1X60     EDED   \n",
       "111657  111658  QUICKBURY BUNS MEGABURGER SEASAME 4 PCS 300GR 1X7     EDED   \n",
       "248382  248383  ZOLOTOY PETUSOK NAGGETS KLASSIK 300 GR 1X14(2728)     EDED   \n",
       "31395    31396            SEVIMLI DAD XAMA KAUNAS 10% 200 GR 1X12     EDED   \n",
       "132382  132383                PINAR PEYNIR TAZE KASAR 200 GR 1x12     EDED   \n",
       "108345  108346                         DORITOS TACO 130 GR 1 X 16     EDED   \n",
       "262032  262033           PINAR FRII KRMZ UZUM 0,25L 1x24 (4x6'li)  ADET.LT   \n",
       "280984  280985             PRESIDENT KESME CHIZBURGER 150 GR 1X15     EDED   \n",
       "145783  145784                      SUXARI MIX DENIZ 95 GR 1 X 16     EDED   \n",
       "114455  114456                     ULKER PENDIR LABNE 200 GR 1X10     EDED   \n",
       "157470  157471                 SEVIMLI DAD GATIG 4.5% 450 GR 1X22     EDED   \n",
       "75650    75651                            SUXARI SIR 30 GR 1 X 40     EDED   \n",
       "238890  238891           PINAR LABNE LIMON CHEESECAKE 180 GR 1x12     EDED   \n",
       "135933  135934        HALK MEYVELI BATON KEK DILIMLI 150 GR 1x4x8     EDED   \n",
       "147907  147908              PINAR SUT PROTEIN CILEKLI 500 ML 1x12  ADET.ML   \n",
       "122573  122574                      BEBETO FUNNY BEARS 80 GR 1X12     EDED   \n",
       "182991  182992                     ULKER ICIMINO BANAN 45 GR 1X48     EDED   \n",
       "243403  243404                   SEVIMLI DAD KESMIK UZUM 9%180 GR     ədəd   \n",
       "116471  116472                       SUXARI BIFTEKLI 30 GR 1 X 40     EDED   \n",
       "70112    70113                   KOMILI AYCICEK YAGI 2 LT PET 1X9  ADET.LT   \n",
       "\n",
       "       Quantity/Volume     unit  \\\n",
       "9360                10     eded   \n",
       "111657              21     eded   \n",
       "248382              95     eded   \n",
       "31395               12     eded   \n",
       "132382               4     eded   \n",
       "108345              17     eded   \n",
       "262032              12  adet.lt   \n",
       "280984               3     eded   \n",
       "145783              16     eded   \n",
       "114455              10     eded   \n",
       "157470               8     eded   \n",
       "75650               40     eded   \n",
       "238890               1     eded   \n",
       "135933               8     eded   \n",
       "147907               6  adet.ml   \n",
       "122573              12     eded   \n",
       "182991              24     eded   \n",
       "243403              27     ədəd   \n",
       "116471              10     eded   \n",
       "70112                5  adet.lt   \n",
       "\n",
       "                                                    items  \\\n",
       "9360                         president yagli 50 gr 1 x 60   \n",
       "111657  quickbury buns megaburger seasame 4 pcs 300 gr...   \n",
       "248382  zolotoy petusok naggets klassik 300 gr 1 x 14 ...   \n",
       "31395        sevimli dad xama kaunas 10 pct 200 gr 1 x 12   \n",
       "132382              pinar peynir taze kasar 200 gr 1 x 12   \n",
       "108345                         doritos taco 130 gr 1 x 16   \n",
       "262032        pinar frii krmz uzum 0.25 l 1 x 24 4 x 6 li   \n",
       "280984           president kesme chizburger 150 gr 1 x 15   \n",
       "145783                      suxari mix deniz 95 gr 1 x 16   \n",
       "114455                   ulker pendir labne 200 gr 1 x 10   \n",
       "157470            sevimli dad gatig 4.5 pct 450 gr 1 x 22   \n",
       "75650                             suxari sir 30 gr 1 x 40   \n",
       "238890         pinar labne limon cheesecake 180 gr 1 x 12   \n",
       "135933    halk meyveli baton kek dilimli 150 gr 1 x 4 x 8   \n",
       "147907            pinar sut protein cilekli 500 ml 1 x 12   \n",
       "122573                    bebeto funny bears 80 gr 1 x 12   \n",
       "182991                   ulker icimino banan 45 gr 1 x 48   \n",
       "243403               sevimli dad kesmik uzum 9 pct 180 gr   \n",
       "116471                       suxari biftekli 30 gr 1 x 40   \n",
       "70112                      komili aycicek yagi 2 lt 1 x 9   \n",
       "\n",
       "                                                    right  \\\n",
       "9360                         president yagli 50 gr 1 x 60   \n",
       "111657  quickbury buns megaburger seasame 4 pcs 300 gr...   \n",
       "248382  zolotoy petusok naggets klassik 300 gr 1 x 14 ...   \n",
       "31395        sevimli dad xama kaunas 10 pct 200 gr 1 x 12   \n",
       "132382              pinar peynir taze kasar 200 gr 1 x 12   \n",
       "108345                         doritos taco 130 gr 1 x 16   \n",
       "262032        pinar frii krmz uzum 0.25 l 1 x 24 4 x 6 li   \n",
       "280984           president kesme chizburger 150 gr 1 x 15   \n",
       "145783                      suxari mix deniz 95 gr 1 x 16   \n",
       "114455                   ulker pendir labne 200 gr 1 x 10   \n",
       "157470            sevimli dad gatig 4.5 pct 450 gr 1 x 22   \n",
       "75650                             suxari sir 30 gr 1 x 40   \n",
       "238890         pinar labne limon cheesecake 180 gr 1 x 12   \n",
       "135933    halk meyveli baton kek dilimli 150 gr 1 x 4 x 8   \n",
       "147907            pinar sut protein cilekli 500 ml 1 x 12   \n",
       "122573                    bebeto funny bears 80 gr 1 x 12   \n",
       "182991                   ulker icimino banan 45 gr 1 x 48   \n",
       "243403               sevimli dad kesmik uzum 9 pct 180 gr   \n",
       "116471                       suxari biftekli 30 gr 1 x 40   \n",
       "70112                      komili aycicek yagi 2 lt 1 x 9   \n",
       "\n",
       "                                                  left1  \\\n",
       "9360                        president 140 qr yaglı kruq   \n",
       "111657                                       tee 19 3 4   \n",
       "248382                                          k 45 19   \n",
       "31395      sevimli dad xama kaunas 10 pct 200 gr 1 x 12   \n",
       "132382                                  pinar gence qaz   \n",
       "108345                           doritos bbq 130 g x 16   \n",
       "262032                                 7 up 0.5 lt x 12   \n",
       "280984  president 150 qr chizburqer kəsmə 40 pct 1 x 15   \n",
       "145783          suxari xrustim mix sırnıy 95 q dsp x 16   \n",
       "114455                pendir president labne 200 grx 10   \n",
       "157470          sevimli dad gatig 1.5 pct 450 gr 1 x 22   \n",
       "75650                  suxari xrustim smetan 30 qr x 40   \n",
       "238890                               mia limon 2 lt x 6   \n",
       "135933                                     tee 28 1 1 8   \n",
       "147907                                              kif   \n",
       "122573                                     tee 28 1 1 8   \n",
       "182991                                          k 45 19   \n",
       "243403   sevimli dad kesmik albalili 0 pct 180 gr 1 x 1   \n",
       "116471              suxari xrustim biftekli 130 qr x 24   \n",
       "70112                                               yağ   \n",
       "\n",
       "                                               left2      score1      score2  \\\n",
       "9360                pendir president labne 400 grx 6   77.551020   71.698113   \n",
       "111657                        sanagel plus 30 gr gel   66.666667   63.636364   \n",
       "248382                                       k 45 22   66.666667   71.428571   \n",
       "31395   sevimli dad xama kaunas 10 pct 200 gr 1 x 12  100.000000  100.000000   \n",
       "132382                              pinar gence iyne   73.333333   69.230769   \n",
       "108345                     doritos acılı 130 qr x 16   80.952381   80.000000   \n",
       "262032                              7 up 0.5 lt x 12   60.000000   68.750000   \n",
       "280984                                       premium   75.000000   66.666667   \n",
       "145783       suxari xrustim mix sırnıy 95 q dsp x 16   73.076923   62.068966   \n",
       "114455                pendir i̇çi̇m labne 200 grx 10   82.758621   82.142857   \n",
       "157470       sevimli dad gatig 1.5 pct 450 gr 1 x 22   93.150685   97.435897   \n",
       "75650               suxarı xrustim pendir 30 qr x 40   73.913043   66.666667   \n",
       "238890                               pinar gence qaz   68.750000   66.666667   \n",
       "135933                 bakuş qizili 180 qr 1 x 12 bl   63.636364   62.068966   \n",
       "147907                      lipton lemon 250 ml x 12   66.666667   66.666667   \n",
       "122573                                7 up 1 lt x 12   72.727273   66.666667   \n",
       "182991                  icimino bananli 6 x 45 g x 8   83.333333   81.481481   \n",
       "243403  sevimli dad kesmik kaunas 0 pct 180 gr 1 x 1   84.375000   83.333333   \n",
       "116471           suxari xrustim biftekli 130 qr x 24   90.909091   75.471698   \n",
       "70112                                            yağ   66.666667   66.666667   \n",
       "\n",
       "            score3   score_w   score_d  \n",
       "9360     74.509804  0.400000  0.000000  \n",
       "111657   65.116279  0.000000  0.050000  \n",
       "248382   68.965517  0.000000  0.000000  \n",
       "31395   100.000000  1.000000  0.425000  \n",
       "132382   71.223022  0.333333  0.000000  \n",
       "108345   80.473373  0.666667  0.272000  \n",
       "262032   64.077670  0.000000  0.000000  \n",
       "280984   70.588235  0.333333  0.407143  \n",
       "145783   67.124632  0.400000  0.620000  \n",
       "114455   82.449589  0.666667  0.448000  \n",
       "157470   95.245116  1.000000  0.375000  \n",
       "75650    70.103093  0.500000  0.520000  \n",
       "238890   67.692308  0.400000  0.000000  \n",
       "135933   62.842893  0.000000  0.091429  \n",
       "147907   66.666667  0.000000  0.000000  \n",
       "122573   69.565217  0.000000  0.053333  \n",
       "182991   82.397004  0.000000  0.050000  \n",
       "243403   83.850932  0.666667  0.240000  \n",
       "116471   82.474227  0.800000  0.000000  \n",
       "70112    66.666667  0.000000  0.000000  "
      ],
      "text/html": [
       "<div>\n",
       "<style scoped>\n",
       "    .dataframe tbody tr th:only-of-type {\n",
       "        vertical-align: middle;\n",
       "    }\n",
       "\n",
       "    .dataframe tbody tr th {\n",
       "        vertical-align: top;\n",
       "    }\n",
       "\n",
       "    .dataframe thead th {\n",
       "        text-align: right;\n",
       "    }\n",
       "</style>\n",
       "<table border=\"1\" class=\"dataframe\">\n",
       "  <thead>\n",
       "    <tr style=\"text-align: right;\">\n",
       "      <th></th>\n",
       "      <th>#</th>\n",
       "      <th>Product or Service Name</th>\n",
       "      <th>Unit</th>\n",
       "      <th>Quantity/Volume</th>\n",
       "      <th>unit</th>\n",
       "      <th>items</th>\n",
       "      <th>right</th>\n",
       "      <th>left1</th>\n",
       "      <th>left2</th>\n",
       "      <th>score1</th>\n",
       "      <th>score2</th>\n",
       "      <th>score3</th>\n",
       "      <th>score_w</th>\n",
       "      <th>score_d</th>\n",
       "    </tr>\n",
       "  </thead>\n",
       "  <tbody>\n",
       "    <tr>\n",
       "      <th>9360</th>\n",
       "      <td>9361</td>\n",
       "      <td>PRESIDENT YAGLI 50 GR 1X60</td>\n",
       "      <td>EDED</td>\n",
       "      <td>10</td>\n",
       "      <td>eded</td>\n",
       "      <td>president yagli 50 gr 1 x 60</td>\n",
       "      <td>president yagli 50 gr 1 x 60</td>\n",
       "      <td>president 140 qr yaglı kruq</td>\n",
       "      <td>pendir president labne 400 grx 6</td>\n",
       "      <td>77.551020</td>\n",
       "      <td>71.698113</td>\n",
       "      <td>74.509804</td>\n",
       "      <td>0.400000</td>\n",
       "      <td>0.000000</td>\n",
       "    </tr>\n",
       "    <tr>\n",
       "      <th>111657</th>\n",
       "      <td>111658</td>\n",
       "      <td>QUICKBURY BUNS MEGABURGER SEASAME 4 PCS 300GR 1X7</td>\n",
       "      <td>EDED</td>\n",
       "      <td>21</td>\n",
       "      <td>eded</td>\n",
       "      <td>quickbury buns megaburger seasame 4 pcs 300 gr...</td>\n",
       "      <td>quickbury buns megaburger seasame 4 pcs 300 gr...</td>\n",
       "      <td>tee 19 3 4</td>\n",
       "      <td>sanagel plus 30 gr gel</td>\n",
       "      <td>66.666667</td>\n",
       "      <td>63.636364</td>\n",
       "      <td>65.116279</td>\n",
       "      <td>0.000000</td>\n",
       "      <td>0.050000</td>\n",
       "    </tr>\n",
       "    <tr>\n",
       "      <th>248382</th>\n",
       "      <td>248383</td>\n",
       "      <td>ZOLOTOY PETUSOK NAGGETS KLASSIK 300 GR 1X14(2728)</td>\n",
       "      <td>EDED</td>\n",
       "      <td>95</td>\n",
       "      <td>eded</td>\n",
       "      <td>zolotoy petusok naggets klassik 300 gr 1 x 14 ...</td>\n",
       "      <td>zolotoy petusok naggets klassik 300 gr 1 x 14 ...</td>\n",
       "      <td>k 45 19</td>\n",
       "      <td>k 45 22</td>\n",
       "      <td>66.666667</td>\n",
       "      <td>71.428571</td>\n",
       "      <td>68.965517</td>\n",
       "      <td>0.000000</td>\n",
       "      <td>0.000000</td>\n",
       "    </tr>\n",
       "    <tr>\n",
       "      <th>31395</th>\n",
       "      <td>31396</td>\n",
       "      <td>SEVIMLI DAD XAMA KAUNAS 10% 200 GR 1X12</td>\n",
       "      <td>EDED</td>\n",
       "      <td>12</td>\n",
       "      <td>eded</td>\n",
       "      <td>sevimli dad xama kaunas 10 pct 200 gr 1 x 12</td>\n",
       "      <td>sevimli dad xama kaunas 10 pct 200 gr 1 x 12</td>\n",
       "      <td>sevimli dad xama kaunas 10 pct 200 gr 1 x 12</td>\n",
       "      <td>sevimli dad xama kaunas 10 pct 200 gr 1 x 12</td>\n",
       "      <td>100.000000</td>\n",
       "      <td>100.000000</td>\n",
       "      <td>100.000000</td>\n",
       "      <td>1.000000</td>\n",
       "      <td>0.425000</td>\n",
       "    </tr>\n",
       "    <tr>\n",
       "      <th>132382</th>\n",
       "      <td>132383</td>\n",
       "      <td>PINAR PEYNIR TAZE KASAR 200 GR 1x12</td>\n",
       "      <td>EDED</td>\n",
       "      <td>4</td>\n",
       "      <td>eded</td>\n",
       "      <td>pinar peynir taze kasar 200 gr 1 x 12</td>\n",
       "      <td>pinar peynir taze kasar 200 gr 1 x 12</td>\n",
       "      <td>pinar gence qaz</td>\n",
       "      <td>pinar gence iyne</td>\n",
       "      <td>73.333333</td>\n",
       "      <td>69.230769</td>\n",
       "      <td>71.223022</td>\n",
       "      <td>0.333333</td>\n",
       "      <td>0.000000</td>\n",
       "    </tr>\n",
       "    <tr>\n",
       "      <th>108345</th>\n",
       "      <td>108346</td>\n",
       "      <td>DORITOS TACO 130 GR 1 X 16</td>\n",
       "      <td>EDED</td>\n",
       "      <td>17</td>\n",
       "      <td>eded</td>\n",
       "      <td>doritos taco 130 gr 1 x 16</td>\n",
       "      <td>doritos taco 130 gr 1 x 16</td>\n",
       "      <td>doritos bbq 130 g x 16</td>\n",
       "      <td>doritos acılı 130 qr x 16</td>\n",
       "      <td>80.952381</td>\n",
       "      <td>80.000000</td>\n",
       "      <td>80.473373</td>\n",
       "      <td>0.666667</td>\n",
       "      <td>0.272000</td>\n",
       "    </tr>\n",
       "    <tr>\n",
       "      <th>262032</th>\n",
       "      <td>262033</td>\n",
       "      <td>PINAR FRII KRMZ UZUM 0,25L 1x24 (4x6'li)</td>\n",
       "      <td>ADET.LT</td>\n",
       "      <td>12</td>\n",
       "      <td>adet.lt</td>\n",
       "      <td>pinar frii krmz uzum 0.25 l 1 x 24 4 x 6 li</td>\n",
       "      <td>pinar frii krmz uzum 0.25 l 1 x 24 4 x 6 li</td>\n",
       "      <td>7 up 0.5 lt x 12</td>\n",
       "      <td>7 up 0.5 lt x 12</td>\n",
       "      <td>60.000000</td>\n",
       "      <td>68.750000</td>\n",
       "      <td>64.077670</td>\n",
       "      <td>0.000000</td>\n",
       "      <td>0.000000</td>\n",
       "    </tr>\n",
       "    <tr>\n",
       "      <th>280984</th>\n",
       "      <td>280985</td>\n",
       "      <td>PRESIDENT KESME CHIZBURGER 150 GR 1X15</td>\n",
       "      <td>EDED</td>\n",
       "      <td>3</td>\n",
       "      <td>eded</td>\n",
       "      <td>president kesme chizburger 150 gr 1 x 15</td>\n",
       "      <td>president kesme chizburger 150 gr 1 x 15</td>\n",
       "      <td>president 150 qr chizburqer kəsmə 40 pct 1 x 15</td>\n",
       "      <td>premium</td>\n",
       "      <td>75.000000</td>\n",
       "      <td>66.666667</td>\n",
       "      <td>70.588235</td>\n",
       "      <td>0.333333</td>\n",
       "      <td>0.407143</td>\n",
       "    </tr>\n",
       "    <tr>\n",
       "      <th>145783</th>\n",
       "      <td>145784</td>\n",
       "      <td>SUXARI MIX DENIZ 95 GR 1 X 16</td>\n",
       "      <td>EDED</td>\n",
       "      <td>16</td>\n",
       "      <td>eded</td>\n",
       "      <td>suxari mix deniz 95 gr 1 x 16</td>\n",
       "      <td>suxari mix deniz 95 gr 1 x 16</td>\n",
       "      <td>suxari xrustim mix sırnıy 95 q dsp x 16</td>\n",
       "      <td>suxari xrustim mix sırnıy 95 q dsp x 16</td>\n",
       "      <td>73.076923</td>\n",
       "      <td>62.068966</td>\n",
       "      <td>67.124632</td>\n",
       "      <td>0.400000</td>\n",
       "      <td>0.620000</td>\n",
       "    </tr>\n",
       "    <tr>\n",
       "      <th>114455</th>\n",
       "      <td>114456</td>\n",
       "      <td>ULKER PENDIR LABNE 200 GR 1X10</td>\n",
       "      <td>EDED</td>\n",
       "      <td>10</td>\n",
       "      <td>eded</td>\n",
       "      <td>ulker pendir labne 200 gr 1 x 10</td>\n",
       "      <td>ulker pendir labne 200 gr 1 x 10</td>\n",
       "      <td>pendir president labne 200 grx 10</td>\n",
       "      <td>pendir i̇çi̇m labne 200 grx 10</td>\n",
       "      <td>82.758621</td>\n",
       "      <td>82.142857</td>\n",
       "      <td>82.449589</td>\n",
       "      <td>0.666667</td>\n",
       "      <td>0.448000</td>\n",
       "    </tr>\n",
       "    <tr>\n",
       "      <th>157470</th>\n",
       "      <td>157471</td>\n",
       "      <td>SEVIMLI DAD GATIG 4.5% 450 GR 1X22</td>\n",
       "      <td>EDED</td>\n",
       "      <td>8</td>\n",
       "      <td>eded</td>\n",
       "      <td>sevimli dad gatig 4.5 pct 450 gr 1 x 22</td>\n",
       "      <td>sevimli dad gatig 4.5 pct 450 gr 1 x 22</td>\n",
       "      <td>sevimli dad gatig 1.5 pct 450 gr 1 x 22</td>\n",
       "      <td>sevimli dad gatig 1.5 pct 450 gr 1 x 22</td>\n",
       "      <td>93.150685</td>\n",
       "      <td>97.435897</td>\n",
       "      <td>95.245116</td>\n",
       "      <td>1.000000</td>\n",
       "      <td>0.375000</td>\n",
       "    </tr>\n",
       "    <tr>\n",
       "      <th>75650</th>\n",
       "      <td>75651</td>\n",
       "      <td>SUXARI SIR 30 GR 1 X 40</td>\n",
       "      <td>EDED</td>\n",
       "      <td>40</td>\n",
       "      <td>eded</td>\n",
       "      <td>suxari sir 30 gr 1 x 40</td>\n",
       "      <td>suxari sir 30 gr 1 x 40</td>\n",
       "      <td>suxari xrustim smetan 30 qr x 40</td>\n",
       "      <td>suxarı xrustim pendir 30 qr x 40</td>\n",
       "      <td>73.913043</td>\n",
       "      <td>66.666667</td>\n",
       "      <td>70.103093</td>\n",
       "      <td>0.500000</td>\n",
       "      <td>0.520000</td>\n",
       "    </tr>\n",
       "    <tr>\n",
       "      <th>238890</th>\n",
       "      <td>238891</td>\n",
       "      <td>PINAR LABNE LIMON CHEESECAKE 180 GR 1x12</td>\n",
       "      <td>EDED</td>\n",
       "      <td>1</td>\n",
       "      <td>eded</td>\n",
       "      <td>pinar labne limon cheesecake 180 gr 1 x 12</td>\n",
       "      <td>pinar labne limon cheesecake 180 gr 1 x 12</td>\n",
       "      <td>mia limon 2 lt x 6</td>\n",
       "      <td>pinar gence qaz</td>\n",
       "      <td>68.750000</td>\n",
       "      <td>66.666667</td>\n",
       "      <td>67.692308</td>\n",
       "      <td>0.400000</td>\n",
       "      <td>0.000000</td>\n",
       "    </tr>\n",
       "    <tr>\n",
       "      <th>135933</th>\n",
       "      <td>135934</td>\n",
       "      <td>HALK MEYVELI BATON KEK DILIMLI 150 GR 1x4x8</td>\n",
       "      <td>EDED</td>\n",
       "      <td>8</td>\n",
       "      <td>eded</td>\n",
       "      <td>halk meyveli baton kek dilimli 150 gr 1 x 4 x 8</td>\n",
       "      <td>halk meyveli baton kek dilimli 150 gr 1 x 4 x 8</td>\n",
       "      <td>tee 28 1 1 8</td>\n",
       "      <td>bakuş qizili 180 qr 1 x 12 bl</td>\n",
       "      <td>63.636364</td>\n",
       "      <td>62.068966</td>\n",
       "      <td>62.842893</td>\n",
       "      <td>0.000000</td>\n",
       "      <td>0.091429</td>\n",
       "    </tr>\n",
       "    <tr>\n",
       "      <th>147907</th>\n",
       "      <td>147908</td>\n",
       "      <td>PINAR SUT PROTEIN CILEKLI 500 ML 1x12</td>\n",
       "      <td>ADET.ML</td>\n",
       "      <td>6</td>\n",
       "      <td>adet.ml</td>\n",
       "      <td>pinar sut protein cilekli 500 ml 1 x 12</td>\n",
       "      <td>pinar sut protein cilekli 500 ml 1 x 12</td>\n",
       "      <td>kif</td>\n",
       "      <td>lipton lemon 250 ml x 12</td>\n",
       "      <td>66.666667</td>\n",
       "      <td>66.666667</td>\n",
       "      <td>66.666667</td>\n",
       "      <td>0.000000</td>\n",
       "      <td>0.000000</td>\n",
       "    </tr>\n",
       "    <tr>\n",
       "      <th>122573</th>\n",
       "      <td>122574</td>\n",
       "      <td>BEBETO FUNNY BEARS 80 GR 1X12</td>\n",
       "      <td>EDED</td>\n",
       "      <td>12</td>\n",
       "      <td>eded</td>\n",
       "      <td>bebeto funny bears 80 gr 1 x 12</td>\n",
       "      <td>bebeto funny bears 80 gr 1 x 12</td>\n",
       "      <td>tee 28 1 1 8</td>\n",
       "      <td>7 up 1 lt x 12</td>\n",
       "      <td>72.727273</td>\n",
       "      <td>66.666667</td>\n",
       "      <td>69.565217</td>\n",
       "      <td>0.000000</td>\n",
       "      <td>0.053333</td>\n",
       "    </tr>\n",
       "    <tr>\n",
       "      <th>182991</th>\n",
       "      <td>182992</td>\n",
       "      <td>ULKER ICIMINO BANAN 45 GR 1X48</td>\n",
       "      <td>EDED</td>\n",
       "      <td>24</td>\n",
       "      <td>eded</td>\n",
       "      <td>ulker icimino banan 45 gr 1 x 48</td>\n",
       "      <td>ulker icimino banan 45 gr 1 x 48</td>\n",
       "      <td>k 45 19</td>\n",
       "      <td>icimino bananli 6 x 45 g x 8</td>\n",
       "      <td>83.333333</td>\n",
       "      <td>81.481481</td>\n",
       "      <td>82.397004</td>\n",
       "      <td>0.000000</td>\n",
       "      <td>0.050000</td>\n",
       "    </tr>\n",
       "    <tr>\n",
       "      <th>243403</th>\n",
       "      <td>243404</td>\n",
       "      <td>SEVIMLI DAD KESMIK UZUM 9%180 GR</td>\n",
       "      <td>ədəd</td>\n",
       "      <td>27</td>\n",
       "      <td>ədəd</td>\n",
       "      <td>sevimli dad kesmik uzum 9 pct 180 gr</td>\n",
       "      <td>sevimli dad kesmik uzum 9 pct 180 gr</td>\n",
       "      <td>sevimli dad kesmik albalili 0 pct 180 gr 1 x 1</td>\n",
       "      <td>sevimli dad kesmik kaunas 0 pct 180 gr 1 x 1</td>\n",
       "      <td>84.375000</td>\n",
       "      <td>83.333333</td>\n",
       "      <td>83.850932</td>\n",
       "      <td>0.666667</td>\n",
       "      <td>0.240000</td>\n",
       "    </tr>\n",
       "    <tr>\n",
       "      <th>116471</th>\n",
       "      <td>116472</td>\n",
       "      <td>SUXARI BIFTEKLI 30 GR 1 X 40</td>\n",
       "      <td>EDED</td>\n",
       "      <td>10</td>\n",
       "      <td>eded</td>\n",
       "      <td>suxari biftekli 30 gr 1 x 40</td>\n",
       "      <td>suxari biftekli 30 gr 1 x 40</td>\n",
       "      <td>suxari xrustim biftekli 130 qr x 24</td>\n",
       "      <td>suxari xrustim biftekli 130 qr x 24</td>\n",
       "      <td>90.909091</td>\n",
       "      <td>75.471698</td>\n",
       "      <td>82.474227</td>\n",
       "      <td>0.800000</td>\n",
       "      <td>0.000000</td>\n",
       "    </tr>\n",
       "    <tr>\n",
       "      <th>70112</th>\n",
       "      <td>70113</td>\n",
       "      <td>KOMILI AYCICEK YAGI 2 LT PET 1X9</td>\n",
       "      <td>ADET.LT</td>\n",
       "      <td>5</td>\n",
       "      <td>adet.lt</td>\n",
       "      <td>komili aycicek yagi 2 lt 1 x 9</td>\n",
       "      <td>komili aycicek yagi 2 lt 1 x 9</td>\n",
       "      <td>yağ</td>\n",
       "      <td>yağ</td>\n",
       "      <td>66.666667</td>\n",
       "      <td>66.666667</td>\n",
       "      <td>66.666667</td>\n",
       "      <td>0.000000</td>\n",
       "      <td>0.000000</td>\n",
       "    </tr>\n",
       "  </tbody>\n",
       "</table>\n",
       "</div>"
      ]
     },
     "execution_count": 12,
     "metadata": {},
     "output_type": "execute_result"
    }
   ],
   "execution_count": 12
  },
  {
   "metadata": {
    "ExecuteTime": {
     "end_time": "2024-06-04T20:30:18.366009Z",
     "start_time": "2024-06-04T20:30:16.304881Z"
    }
   },
   "cell_type": "code",
   "source": [
    "compilation_full = sub_result.merge(df_outcoming, how='left', left_on='left1', right_on='items')\n",
    "compilation_full = compilation_full.drop_duplicates(subset=['#_x']) \n",
    "compilation_full.shape"
   ],
   "id": "1b8d87b3ac05beaa",
   "outputs": [
    {
     "data": {
      "text/plain": [
       "(300000, 20)"
      ]
     },
     "execution_count": 13,
     "metadata": {},
     "output_type": "execute_result"
    }
   ],
   "execution_count": 13
  },
  {
   "metadata": {
    "ExecuteTime": {
     "end_time": "2024-06-04T20:30:18.369652Z",
     "start_time": "2024-06-04T20:30:18.367360Z"
    }
   },
   "cell_type": "code",
   "source": [
    "columns_to_use = [\n",
    "          'items_x', 'items_y',\n",
    "          'left1', 'left2',\n",
    "          'Quantity/Volume_x', 'unit_x',\n",
    "          'Quantity/Volume_y', 'unit_y',\n",
    "          'score1', 'score2', 'score3', 'score_w', 'score_d',\n",
    "          'Product or Service Name_x', 'Product or Service Name_y'\n",
    "]"
   ],
   "id": "653bce19cc5f7974",
   "outputs": [],
   "execution_count": 14
  },
  {
   "metadata": {
    "ExecuteTime": {
     "end_time": "2024-06-04T20:30:19.024520Z",
     "start_time": "2024-06-04T20:30:18.971735Z"
    }
   },
   "cell_type": "code",
   "source": "compilation_full = compilation_full[columns_to_use]",
   "id": "580264e5b59f8f4e",
   "outputs": [],
   "execution_count": 15
  },
  {
   "metadata": {
    "ExecuteTime": {
     "end_time": "2024-06-04T20:30:19.586184Z",
     "start_time": "2024-06-04T20:30:19.582644Z"
    }
   },
   "cell_type": "code",
   "source": "df_outcoming.shape, df_incoming.shape, compilation_full.shape",
   "id": "dbe508bc30dba560",
   "outputs": [
    {
     "data": {
      "text/plain": [
       "((16947, 6), (937415, 6), (300000, 15))"
      ]
     },
     "execution_count": 16,
     "metadata": {},
     "output_type": "execute_result"
    }
   ],
   "execution_count": 16
  },
  {
   "metadata": {
    "ExecuteTime": {
     "end_time": "2024-06-04T20:30:20.858948Z",
     "start_time": "2024-06-04T20:30:20.845582Z"
    }
   },
   "cell_type": "code",
   "source": [
    "comp_true = compilation_full[\n",
    "    (compilation_full.score3 > 78) \n",
    "    & \n",
    "    (compilation_full.score_d > 0.17)\n",
    "]"
   ],
   "id": "b84488465b507b2",
   "outputs": [],
   "execution_count": 17
  },
  {
   "metadata": {
    "ExecuteTime": {
     "end_time": "2024-06-04T20:30:21.333762Z",
     "start_time": "2024-06-04T20:30:21.306074Z"
    }
   },
   "cell_type": "code",
   "source": "comp_doubt = compilation_full.drop(comp_true.index, axis=0)\n",
   "id": "69703449d42ba34e",
   "outputs": [],
   "execution_count": 18
  },
  {
   "metadata": {
    "ExecuteTime": {
     "end_time": "2024-06-04T20:30:22.261229Z",
     "start_time": "2024-06-04T20:30:22.259031Z"
    }
   },
   "cell_type": "code",
   "source": "",
   "id": "af72cd2f485662c0",
   "outputs": [],
   "execution_count": 18
  },
  {
   "metadata": {
    "ExecuteTime": {
     "end_time": "2024-06-04T20:30:22.578575Z",
     "start_time": "2024-06-04T20:30:22.576272Z"
    }
   },
   "cell_type": "code",
   "source": [
    "# comp_doubt_x = comp_doubt.copy()\n",
    "# comp_doubt_y = comp_doubt.copy()\n",
    "# \n",
    "# comp_doubt_x['items_y']  = ''\n",
    "# comp_doubt_x['Quantity/Volume_y'] = 0\n",
    "# comp_doubt_x['unit_y'] = ''\n",
    "# # comp_doubt['Product or Service Name_y'] = ''\n",
    "# \n",
    "# comp_doubt_y['items_x']  = ''\n",
    "# comp_doubt_y['Quantity/Volume_x'] = 0\n",
    "# comp_doubt_y['unit_x'] = ''\n",
    "# # comp_doubt['Product or Service Name_y'] = ''\n",
    "\n",
    "# comp_doubt_x.shape, comp_doubt_y.shape"
   ],
   "id": "4b0840735bf67639",
   "outputs": [],
   "execution_count": 19
  },
  {
   "metadata": {
    "ExecuteTime": {
     "end_time": "2024-06-04T20:30:23.317928Z",
     "start_time": "2024-06-04T20:30:23.315915Z"
    }
   },
   "cell_type": "code",
   "source": "",
   "id": "18e1c84d8198fc79",
   "outputs": [],
   "execution_count": 19
  },
  {
   "metadata": {
    "ExecuteTime": {
     "end_time": "2024-06-04T20:30:23.683999Z",
     "start_time": "2024-06-04T20:30:23.681225Z"
    }
   },
   "cell_type": "code",
   "source": "compilation_full.shape, comp_true.shape",
   "id": "112b8c279a8ef158",
   "outputs": [
    {
     "data": {
      "text/plain": [
       "((300000, 15), (85196, 15))"
      ]
     },
     "execution_count": 20,
     "metadata": {},
     "output_type": "execute_result"
    }
   ],
   "execution_count": 20
  },
  {
   "metadata": {
    "ExecuteTime": {
     "end_time": "2024-06-04T20:30:24.495448Z",
     "start_time": "2024-06-04T20:30:24.493532Z"
    }
   },
   "cell_type": "code",
   "source": "",
   "id": "8afee1f27423d64f",
   "outputs": [],
   "execution_count": 20
  },
  {
   "metadata": {
    "ExecuteTime": {
     "end_time": "2024-06-04T20:30:56.273087Z",
     "start_time": "2024-06-04T20:30:56.269567Z"
    }
   },
   "cell_type": "code",
   "source": "comp_true.shape[0] / compilation_full.shape[0]",
   "id": "1160241fa92fe150",
   "outputs": [
    {
     "data": {
      "text/plain": [
       "0.28398666666666667"
      ]
     },
     "execution_count": 28,
     "metadata": {},
     "output_type": "execute_result"
    }
   ],
   "execution_count": 28
  },
  {
   "metadata": {
    "ExecuteTime": {
     "end_time": "2024-06-04T20:30:25.630824Z",
     "start_time": "2024-06-04T20:30:25.628848Z"
    }
   },
   "cell_type": "code",
   "source": "",
   "id": "2cc383c91e3fa80d",
   "outputs": [],
   "execution_count": 21
  },
  {
   "metadata": {
    "ExecuteTime": {
     "end_time": "2024-06-04T20:30:32.571861Z",
     "start_time": "2024-06-04T20:30:32.569826Z"
    }
   },
   "cell_type": "code",
   "source": "",
   "id": "512266d9670cd2f3",
   "outputs": [],
   "execution_count": 22
  },
  {
   "metadata": {
    "ExecuteTime": {
     "end_time": "2024-06-04T20:30:33.051336Z",
     "start_time": "2024-06-04T20:30:33.048789Z"
    }
   },
   "cell_type": "code",
   "source": "compilation_scored = comp_true",
   "id": "426ffacf39ed4806",
   "outputs": [],
   "execution_count": 23
  },
  {
   "metadata": {
    "ExecuteTime": {
     "end_time": "2024-06-04T20:30:33.724554Z",
     "start_time": "2024-06-04T20:30:33.677238Z"
    }
   },
   "cell_type": "code",
   "source": [
    "compilation_scored['unit_common'] = compilation_scored['unit_x'] + ' ' +  compilation_scored['unit_y']\n",
    "compilation_scored['unit_common_set'] = compilation_scored['unit_common'].apply(lambda x: set(str(x).replace('.', ' ').split()))"
   ],
   "id": "3fe47b5fe348b7dd",
   "outputs": [
    {
     "name": "stderr",
     "output_type": "stream",
     "text": [
      "/tmp/ipykernel_41072/3152849601.py:1: SettingWithCopyWarning: \n",
      "A value is trying to be set on a copy of a slice from a DataFrame.\n",
      "Try using .loc[row_indexer,col_indexer] = value instead\n",
      "\n",
      "See the caveats in the documentation: https://pandas.pydata.org/pandas-docs/stable/user_guide/indexing.html#returning-a-view-versus-a-copy\n",
      "  compilation_scored['unit_common'] = compilation_scored['unit_x'] + ' ' +  compilation_scored['unit_y']\n",
      "/tmp/ipykernel_41072/3152849601.py:2: SettingWithCopyWarning: \n",
      "A value is trying to be set on a copy of a slice from a DataFrame.\n",
      "Try using .loc[row_indexer,col_indexer] = value instead\n",
      "\n",
      "See the caveats in the documentation: https://pandas.pydata.org/pandas-docs/stable/user_guide/indexing.html#returning-a-view-versus-a-copy\n",
      "  compilation_scored['unit_common_set'] = compilation_scored['unit_common'].apply(lambda x: set(str(x).replace('.', ' ').split()))\n"
     ]
    }
   ],
   "execution_count": 24
  },
  {
   "metadata": {
    "ExecuteTime": {
     "end_time": "2024-06-04T20:30:34.445664Z",
     "start_time": "2024-06-04T20:30:34.417520Z"
    }
   },
   "cell_type": "code",
   "source": [
    "compilation_scored['unit_common_str'] = compilation_scored['unit_common_set'].apply(\n",
    "    lambda x: str(list(x)[0]) if len(list(x)) == 0 else ' '.join(list(x))\n",
    ")"
   ],
   "id": "5e4c34fd8b8de0ff",
   "outputs": [
    {
     "name": "stderr",
     "output_type": "stream",
     "text": [
      "/tmp/ipykernel_41072/3820387171.py:1: SettingWithCopyWarning: \n",
      "A value is trying to be set on a copy of a slice from a DataFrame.\n",
      "Try using .loc[row_indexer,col_indexer] = value instead\n",
      "\n",
      "See the caveats in the documentation: https://pandas.pydata.org/pandas-docs/stable/user_guide/indexing.html#returning-a-view-versus-a-copy\n",
      "  compilation_scored['unit_common_str'] = compilation_scored['unit_common_set'].apply(\n"
     ]
    }
   ],
   "execution_count": 25
  },
  {
   "metadata": {
    "ExecuteTime": {
     "end_time": "2024-06-04T20:30:34.684622Z",
     "start_time": "2024-06-04T20:30:34.628537Z"
    }
   },
   "cell_type": "code",
   "source": [
    "compilation_scored['quant_in'] = compilation_scored['Quantity/Volume_x'].astype('str').str.replace(',', '.').fillna(0).astype('float')\n",
    "compilation_scored['quant_out'] = compilation_scored['Quantity/Volume_y'].astype('str').str.replace(',', '.').fillna(0).astype('float')"
   ],
   "id": "d9ab9df604847391",
   "outputs": [
    {
     "name": "stderr",
     "output_type": "stream",
     "text": [
      "/tmp/ipykernel_41072/2514422162.py:1: SettingWithCopyWarning: \n",
      "A value is trying to be set on a copy of a slice from a DataFrame.\n",
      "Try using .loc[row_indexer,col_indexer] = value instead\n",
      "\n",
      "See the caveats in the documentation: https://pandas.pydata.org/pandas-docs/stable/user_guide/indexing.html#returning-a-view-versus-a-copy\n",
      "  compilation_scored['quant_in'] = compilation_scored['Quantity/Volume_x'].astype('str').str.replace(',', '.').fillna(0).astype('float')\n",
      "/tmp/ipykernel_41072/2514422162.py:2: SettingWithCopyWarning: \n",
      "A value is trying to be set on a copy of a slice from a DataFrame.\n",
      "Try using .loc[row_indexer,col_indexer] = value instead\n",
      "\n",
      "See the caveats in the documentation: https://pandas.pydata.org/pandas-docs/stable/user_guide/indexing.html#returning-a-view-versus-a-copy\n",
      "  compilation_scored['quant_out'] = compilation_scored['Quantity/Volume_y'].astype('str').str.replace(',', '.').fillna(0).astype('float')\n"
     ]
    }
   ],
   "execution_count": 26
  },
  {
   "metadata": {
    "ExecuteTime": {
     "end_time": "2024-06-04T20:31:11.823674Z",
     "start_time": "2024-06-04T20:31:11.817636Z"
    }
   },
   "cell_type": "code",
   "source": "compilation_scored.shape",
   "id": "4cd74d09b89efa03",
   "outputs": [
    {
     "data": {
      "text/plain": [
       "(85196, 20)"
      ]
     },
     "execution_count": 29,
     "metadata": {},
     "output_type": "execute_result"
    }
   ],
   "execution_count": 29
  },
  {
   "metadata": {
    "ExecuteTime": {
     "end_time": "2024-06-04T20:31:12.712416Z",
     "start_time": "2024-06-04T20:31:12.699537Z"
    }
   },
   "cell_type": "code",
   "source": [
    "# x - incoming y - outcoming\n",
    "compilation_scored[\n",
    "    [\n",
    "        'items_x', 'items_y',\n",
    "        'score3', 'score1', 'score2', 'score_w', 'score_d',\n",
    "        'Product or Service Name_y'\n",
    "    ]\n",
    "].sample(250)"
   ],
   "id": "f7d78e5911075ced",
   "outputs": [
    {
     "data": {
      "text/plain": [
       "                                                items_x  \\\n",
       "2389449    sevimli dad kesmik yagsiz 0 pct 180 gr 1 x 1   \n",
       "2791818      milla yoqurt ciyelek 3.5 pct 115 gr 1 x 48   \n",
       "2364019               icimino sud bananli 180 ml 1 x 27   \n",
       "1649170  sevimli dad kesmik kaunas 0.3 pct 180 gr 1 x 1   \n",
       "4086086  sevimli dad kesmik kaunas 0.3 pct 180 gr 1 x 1   \n",
       "...                                                 ...   \n",
       "1184240             sochnaya dolina alma 0.95 lt 1 x 12   \n",
       "4536431               lays rebrishki qril 150 gr 1 x 18   \n",
       "4048471                      doritos acili 74 gr 1 x 24   \n",
       "1748739                     suxari smetan 130 gr 1 x 24   \n",
       "3568678                    suxari shashlik 90 gr 1 x 24   \n",
       "\n",
       "                                                items_y     score3     score1  \\\n",
       "2389449  sevimli dad kesmik yagsiz 0.3 pct 180 gr 1 x 1  97.122882  98.850575   \n",
       "2791818          milla yoqurt gilas 3.5 pct 115 qr x 48  82.191781  78.947368   \n",
       "2364019               süd i̇çi̇mino bananlı 180 ml x 27  84.316186  87.500000   \n",
       "1649170    sevimli dad kesmik kaunas 0 pct 180 gr 1 x 1  97.122882  98.850575   \n",
       "4086086    sevimli dad kesmik kaunas 0 pct 180 gr 1 x 1  97.122882  98.850575   \n",
       "...                                                 ...        ...        ...   \n",
       "1184240                        mirinda alma 0.5 lt x 12  79.115765  73.913043   \n",
       "4536431                lays rebrışki qril 150 q dspx 18  78.045470  77.966102   \n",
       "4048471                        doritos acılı 74 qr x 24  83.125000  87.500000   \n",
       "1748739               suxari xrustim smetan 130 qr x 24  85.714286  92.307692   \n",
       "3568678              suxari xrustim shashlik 90 qr x 24  86.277732  92.592593   \n",
       "\n",
       "            score2   score_w   score_d  \\\n",
       "2389449  95.454545  1.000000  0.411429   \n",
       "2791818  85.714286  0.666667  0.342857   \n",
       "2364019  81.355932  0.000000  0.432000   \n",
       "1649170  95.454545  1.000000  0.453333   \n",
       "4086086  95.454545  1.000000  0.453333   \n",
       "...            ...       ...       ...   \n",
       "1184240  85.106383  0.333333  0.316667   \n",
       "4536431  78.125000  0.571429  0.416000   \n",
       "4048471  79.166667  0.500000  0.380000   \n",
       "1748739  80.000000  0.800000  0.432000   \n",
       "3568678  80.769231  0.800000  0.560000   \n",
       "\n",
       "                         Product or Service Name_y  \n",
       "2389449  SEVIMLI DAD KESMIK YAGSIZ 0.3% 180 GR 1x1  \n",
       "2791818          Milla Yoqurt Gilas 3.5% 115qr *48  \n",
       "2364019          Süd \"İÇİMINO\" Bananlı 180 ML x 27  \n",
       "1649170     SEVIMLI DAD KESMIK KAUNAS 0% 180 GR1x1  \n",
       "4086086     SEVIMLI DAD KESMIK KAUNAS 0% 180 GR1x1  \n",
       "...                                            ...  \n",
       "1184240                     Mirinda Alma 0.5 lt*12  \n",
       "4536431           Lay's Rebrışki Qril 150q DSPX 18  \n",
       "4048471                     Doritos Acılı 74qr X24  \n",
       "1748739            Suxari Xrustim Smetan 130qr X24  \n",
       "3568678           Suxari Xrustim Shashlik 90qr X24  \n",
       "\n",
       "[250 rows x 8 columns]"
      ],
      "text/html": [
       "<div>\n",
       "<style scoped>\n",
       "    .dataframe tbody tr th:only-of-type {\n",
       "        vertical-align: middle;\n",
       "    }\n",
       "\n",
       "    .dataframe tbody tr th {\n",
       "        vertical-align: top;\n",
       "    }\n",
       "\n",
       "    .dataframe thead th {\n",
       "        text-align: right;\n",
       "    }\n",
       "</style>\n",
       "<table border=\"1\" class=\"dataframe\">\n",
       "  <thead>\n",
       "    <tr style=\"text-align: right;\">\n",
       "      <th></th>\n",
       "      <th>items_x</th>\n",
       "      <th>items_y</th>\n",
       "      <th>score3</th>\n",
       "      <th>score1</th>\n",
       "      <th>score2</th>\n",
       "      <th>score_w</th>\n",
       "      <th>score_d</th>\n",
       "      <th>Product or Service Name_y</th>\n",
       "    </tr>\n",
       "  </thead>\n",
       "  <tbody>\n",
       "    <tr>\n",
       "      <th>2389449</th>\n",
       "      <td>sevimli dad kesmik yagsiz 0 pct 180 gr 1 x 1</td>\n",
       "      <td>sevimli dad kesmik yagsiz 0.3 pct 180 gr 1 x 1</td>\n",
       "      <td>97.122882</td>\n",
       "      <td>98.850575</td>\n",
       "      <td>95.454545</td>\n",
       "      <td>1.000000</td>\n",
       "      <td>0.411429</td>\n",
       "      <td>SEVIMLI DAD KESMIK YAGSIZ 0.3% 180 GR 1x1</td>\n",
       "    </tr>\n",
       "    <tr>\n",
       "      <th>2791818</th>\n",
       "      <td>milla yoqurt ciyelek 3.5 pct 115 gr 1 x 48</td>\n",
       "      <td>milla yoqurt gilas 3.5 pct 115 qr x 48</td>\n",
       "      <td>82.191781</td>\n",
       "      <td>78.947368</td>\n",
       "      <td>85.714286</td>\n",
       "      <td>0.666667</td>\n",
       "      <td>0.342857</td>\n",
       "      <td>Milla Yoqurt Gilas 3.5% 115qr *48</td>\n",
       "    </tr>\n",
       "    <tr>\n",
       "      <th>2364019</th>\n",
       "      <td>icimino sud bananli 180 ml 1 x 27</td>\n",
       "      <td>süd i̇çi̇mino bananlı 180 ml x 27</td>\n",
       "      <td>84.316186</td>\n",
       "      <td>87.500000</td>\n",
       "      <td>81.355932</td>\n",
       "      <td>0.000000</td>\n",
       "      <td>0.432000</td>\n",
       "      <td>Süd \"İÇİMINO\" Bananlı 180 ML x 27</td>\n",
       "    </tr>\n",
       "    <tr>\n",
       "      <th>1649170</th>\n",
       "      <td>sevimli dad kesmik kaunas 0.3 pct 180 gr 1 x 1</td>\n",
       "      <td>sevimli dad kesmik kaunas 0 pct 180 gr 1 x 1</td>\n",
       "      <td>97.122882</td>\n",
       "      <td>98.850575</td>\n",
       "      <td>95.454545</td>\n",
       "      <td>1.000000</td>\n",
       "      <td>0.453333</td>\n",
       "      <td>SEVIMLI DAD KESMIK KAUNAS 0% 180 GR1x1</td>\n",
       "    </tr>\n",
       "    <tr>\n",
       "      <th>4086086</th>\n",
       "      <td>sevimli dad kesmik kaunas 0.3 pct 180 gr 1 x 1</td>\n",
       "      <td>sevimli dad kesmik kaunas 0 pct 180 gr 1 x 1</td>\n",
       "      <td>97.122882</td>\n",
       "      <td>98.850575</td>\n",
       "      <td>95.454545</td>\n",
       "      <td>1.000000</td>\n",
       "      <td>0.453333</td>\n",
       "      <td>SEVIMLI DAD KESMIK KAUNAS 0% 180 GR1x1</td>\n",
       "    </tr>\n",
       "    <tr>\n",
       "      <th>...</th>\n",
       "      <td>...</td>\n",
       "      <td>...</td>\n",
       "      <td>...</td>\n",
       "      <td>...</td>\n",
       "      <td>...</td>\n",
       "      <td>...</td>\n",
       "      <td>...</td>\n",
       "      <td>...</td>\n",
       "    </tr>\n",
       "    <tr>\n",
       "      <th>1184240</th>\n",
       "      <td>sochnaya dolina alma 0.95 lt 1 x 12</td>\n",
       "      <td>mirinda alma 0.5 lt x 12</td>\n",
       "      <td>79.115765</td>\n",
       "      <td>73.913043</td>\n",
       "      <td>85.106383</td>\n",
       "      <td>0.333333</td>\n",
       "      <td>0.316667</td>\n",
       "      <td>Mirinda Alma 0.5 lt*12</td>\n",
       "    </tr>\n",
       "    <tr>\n",
       "      <th>4536431</th>\n",
       "      <td>lays rebrishki qril 150 gr 1 x 18</td>\n",
       "      <td>lays rebrışki qril 150 q dspx 18</td>\n",
       "      <td>78.045470</td>\n",
       "      <td>77.966102</td>\n",
       "      <td>78.125000</td>\n",
       "      <td>0.571429</td>\n",
       "      <td>0.416000</td>\n",
       "      <td>Lay's Rebrışki Qril 150q DSPX 18</td>\n",
       "    </tr>\n",
       "    <tr>\n",
       "      <th>4048471</th>\n",
       "      <td>doritos acili 74 gr 1 x 24</td>\n",
       "      <td>doritos acılı 74 qr x 24</td>\n",
       "      <td>83.125000</td>\n",
       "      <td>87.500000</td>\n",
       "      <td>79.166667</td>\n",
       "      <td>0.500000</td>\n",
       "      <td>0.380000</td>\n",
       "      <td>Doritos Acılı 74qr X24</td>\n",
       "    </tr>\n",
       "    <tr>\n",
       "      <th>1748739</th>\n",
       "      <td>suxari smetan 130 gr 1 x 24</td>\n",
       "      <td>suxari xrustim smetan 130 qr x 24</td>\n",
       "      <td>85.714286</td>\n",
       "      <td>92.307692</td>\n",
       "      <td>80.000000</td>\n",
       "      <td>0.800000</td>\n",
       "      <td>0.432000</td>\n",
       "      <td>Suxari Xrustim Smetan 130qr X24</td>\n",
       "    </tr>\n",
       "    <tr>\n",
       "      <th>3568678</th>\n",
       "      <td>suxari shashlik 90 gr 1 x 24</td>\n",
       "      <td>suxari xrustim shashlik 90 qr x 24</td>\n",
       "      <td>86.277732</td>\n",
       "      <td>92.592593</td>\n",
       "      <td>80.769231</td>\n",
       "      <td>0.800000</td>\n",
       "      <td>0.560000</td>\n",
       "      <td>Suxari Xrustim Shashlik 90qr X24</td>\n",
       "    </tr>\n",
       "  </tbody>\n",
       "</table>\n",
       "<p>250 rows × 8 columns</p>\n",
       "</div>"
      ]
     },
     "execution_count": 30,
     "metadata": {},
     "output_type": "execute_result"
    }
   ],
   "execution_count": 30
  },
  {
   "metadata": {
    "ExecuteTime": {
     "end_time": "2024-06-04T20:31:14.974086Z",
     "start_time": "2024-06-04T20:31:14.972512Z"
    }
   },
   "cell_type": "code",
   "source": "",
   "id": "efaeed1f35e428eb",
   "outputs": [],
   "execution_count": 30
  },
  {
   "metadata": {
    "ExecuteTime": {
     "end_time": "2024-06-04T20:31:15.729284Z",
     "start_time": "2024-06-04T20:31:15.572277Z"
    }
   },
   "cell_type": "code",
   "source": "compilation_scored['items_x_numberless'] = compilation_scored['items_x'].apply(lambda x: remove_numbers(x))",
   "id": "306cb9b5838606d8",
   "outputs": [
    {
     "name": "stderr",
     "output_type": "stream",
     "text": [
      "/tmp/ipykernel_41072/3752593017.py:1: SettingWithCopyWarning: \n",
      "A value is trying to be set on a copy of a slice from a DataFrame.\n",
      "Try using .loc[row_indexer,col_indexer] = value instead\n",
      "\n",
      "See the caveats in the documentation: https://pandas.pydata.org/pandas-docs/stable/user_guide/indexing.html#returning-a-view-versus-a-copy\n",
      "  compilation_scored['items_x_numberless'] = compilation_scored['items_x'].apply(lambda x: remove_numbers(x))\n"
     ]
    }
   ],
   "execution_count": 31
  },
  {
   "metadata": {
    "ExecuteTime": {
     "end_time": "2024-06-04T20:33:51.975898Z",
     "start_time": "2024-06-04T20:32:53.802531Z"
    }
   },
   "cell_type": "code",
   "source": [
    "compilation_scored['product_group'] = compilation_scored['items_x_numberless'].apply(lambda x: get_product_group(x))\n",
    "compilation_scored['parent_group'] = compilation_scored['product_group'].apply(lambda x: get_parent_group(x))"
   ],
   "id": "8d1ebb7fb17aa76d",
   "outputs": [
    {
     "name": "stderr",
     "output_type": "stream",
     "text": [
      "/tmp/ipykernel_41072/3845966172.py:1: SettingWithCopyWarning: \n",
      "A value is trying to be set on a copy of a slice from a DataFrame.\n",
      "Try using .loc[row_indexer,col_indexer] = value instead\n",
      "\n",
      "See the caveats in the documentation: https://pandas.pydata.org/pandas-docs/stable/user_guide/indexing.html#returning-a-view-versus-a-copy\n",
      "  compilation_scored['product_group'] = compilation_scored['items_x_numberless'].apply(lambda x: get_product_group(x))\n",
      "/tmp/ipykernel_41072/3845966172.py:2: SettingWithCopyWarning: \n",
      "A value is trying to be set on a copy of a slice from a DataFrame.\n",
      "Try using .loc[row_indexer,col_indexer] = value instead\n",
      "\n",
      "See the caveats in the documentation: https://pandas.pydata.org/pandas-docs/stable/user_guide/indexing.html#returning-a-view-versus-a-copy\n",
      "  compilation_scored['parent_group'] = compilation_scored['product_group'].apply(lambda x: get_parent_group(x))\n"
     ]
    }
   ],
   "execution_count": 32
  },
  {
   "metadata": {
    "ExecuteTime": {
     "end_time": "2024-06-04T20:25:19.684770Z",
     "start_time": "2024-06-04T20:25:19.679557Z"
    }
   },
   "cell_type": "code",
   "source": "",
   "id": "e31008cbae4797fb",
   "outputs": [],
   "execution_count": 74
  },
  {
   "metadata": {
    "ExecuteTime": {
     "end_time": "2024-06-04T20:33:58.865708Z",
     "start_time": "2024-06-04T20:33:58.838382Z"
    }
   },
   "cell_type": "code",
   "source": [
    "compilation_scored.groupby(\n",
    "    by=['parent_group', 'product_group', 'items_x', 'unit_common_str']\n",
    ").agg(\n",
    "    {'quant_in':'sum','quant_out':'sum'}\n",
    ").sort_values(\n",
    "    ['unit_common_str']\n",
    ")"
   ],
   "id": "49587c7c523c6d18",
   "outputs": [
    {
     "data": {
      "text/plain": [
       "                                                                                          quant_in  \\\n",
       "parent_group product_group       items_x                                 unit_common_str             \n",
       "xama         president xama      president xama 30 pct.200 gr 1 x 8      cl eded adet         31.0   \n",
       "                                 president xama 10 pct 350 gr 1 x 8      cl eded adet         35.0   \n",
       "sud          sud icim            sud icim yarim yagli 1 lt 1 x 12        cl eded adet        346.0   \n",
       "xama         president xama      president xama 15 pct 350 gr 1 x 8      cl eded adet       2140.0   \n",
       "kefir        president kefir     president kefir 2.5 pct 450 gr 1 x 8    cl eded adet       1278.0   \n",
       "...                                                                                            ...   \n",
       "qaymaq       president qaymaq    president qaymaq 200 gr 1 x 27          ədəd lt adet       6718.0   \n",
       "kesmik       prezident kesmik    prezident kesmik 9 pct 200 gr           ədəd lt adet        282.0   \n",
       "president    president tradisiya president tradisiya kesmik 9 pct 250 gr ədəd lt adet        128.0   \n",
       "pro          pro canax           m.pro canax pendiri 500 gr              ədəd lt adet       4953.0   \n",
       "lays         lays stiks          lays stiks ketcup cips 65 gr            ədəd lt adet       1305.0   \n",
       "\n",
       "                                                                                          quant_out  \n",
       "parent_group product_group       items_x                                 unit_common_str             \n",
       "xama         president xama      president xama 30 pct.200 gr 1 x 8      cl eded adet        2920.0  \n",
       "                                 president xama 10 pct 350 gr 1 x 8      cl eded adet        2920.0  \n",
       "sud          sud icim            sud icim yarim yagli 1 lt 1 x 12        cl eded adet        5418.0  \n",
       "xama         president xama      president xama 15 pct 350 gr 1 x 8      cl eded adet      144248.0  \n",
       "kefir        president kefir     president kefir 2.5 pct 450 gr 1 x 8    cl eded adet      103368.0  \n",
       "...                                                                                             ...  \n",
       "qaymaq       president qaymaq    president qaymaq 200 gr 1 x 27          ədəd lt adet      491400.0  \n",
       "kesmik       prezident kesmik    prezident kesmik 9 pct 200 gr           ədəd lt adet        3780.0  \n",
       "president    president tradisiya president tradisiya kesmik 9 pct 250 gr ədəd lt adet        1980.0  \n",
       "pro          pro canax           m.pro canax pendiri 500 gr              ədəd lt adet          14.0  \n",
       "lays         lays stiks          lays stiks ketcup cips 65 gr            ədəd lt adet      384912.0  \n",
       "\n",
       "[431 rows x 2 columns]"
      ],
      "text/html": [
       "<div>\n",
       "<style scoped>\n",
       "    .dataframe tbody tr th:only-of-type {\n",
       "        vertical-align: middle;\n",
       "    }\n",
       "\n",
       "    .dataframe tbody tr th {\n",
       "        vertical-align: top;\n",
       "    }\n",
       "\n",
       "    .dataframe thead th {\n",
       "        text-align: right;\n",
       "    }\n",
       "</style>\n",
       "<table border=\"1\" class=\"dataframe\">\n",
       "  <thead>\n",
       "    <tr style=\"text-align: right;\">\n",
       "      <th></th>\n",
       "      <th></th>\n",
       "      <th></th>\n",
       "      <th></th>\n",
       "      <th>quant_in</th>\n",
       "      <th>quant_out</th>\n",
       "    </tr>\n",
       "    <tr>\n",
       "      <th>parent_group</th>\n",
       "      <th>product_group</th>\n",
       "      <th>items_x</th>\n",
       "      <th>unit_common_str</th>\n",
       "      <th></th>\n",
       "      <th></th>\n",
       "    </tr>\n",
       "  </thead>\n",
       "  <tbody>\n",
       "    <tr>\n",
       "      <th rowspan=\"2\" valign=\"top\">xama</th>\n",
       "      <th rowspan=\"2\" valign=\"top\">president xama</th>\n",
       "      <th>president xama 30 pct.200 gr 1 x 8</th>\n",
       "      <th>cl eded adet</th>\n",
       "      <td>31.0</td>\n",
       "      <td>2920.0</td>\n",
       "    </tr>\n",
       "    <tr>\n",
       "      <th>president xama 10 pct 350 gr 1 x 8</th>\n",
       "      <th>cl eded adet</th>\n",
       "      <td>35.0</td>\n",
       "      <td>2920.0</td>\n",
       "    </tr>\n",
       "    <tr>\n",
       "      <th>sud</th>\n",
       "      <th>sud icim</th>\n",
       "      <th>sud icim yarim yagli 1 lt 1 x 12</th>\n",
       "      <th>cl eded adet</th>\n",
       "      <td>346.0</td>\n",
       "      <td>5418.0</td>\n",
       "    </tr>\n",
       "    <tr>\n",
       "      <th>xama</th>\n",
       "      <th>president xama</th>\n",
       "      <th>president xama 15 pct 350 gr 1 x 8</th>\n",
       "      <th>cl eded adet</th>\n",
       "      <td>2140.0</td>\n",
       "      <td>144248.0</td>\n",
       "    </tr>\n",
       "    <tr>\n",
       "      <th>kefir</th>\n",
       "      <th>president kefir</th>\n",
       "      <th>president kefir 2.5 pct 450 gr 1 x 8</th>\n",
       "      <th>cl eded adet</th>\n",
       "      <td>1278.0</td>\n",
       "      <td>103368.0</td>\n",
       "    </tr>\n",
       "    <tr>\n",
       "      <th>...</th>\n",
       "      <th>...</th>\n",
       "      <th>...</th>\n",
       "      <th>...</th>\n",
       "      <td>...</td>\n",
       "      <td>...</td>\n",
       "    </tr>\n",
       "    <tr>\n",
       "      <th>qaymaq</th>\n",
       "      <th>president qaymaq</th>\n",
       "      <th>president qaymaq 200 gr 1 x 27</th>\n",
       "      <th>ədəd lt adet</th>\n",
       "      <td>6718.0</td>\n",
       "      <td>491400.0</td>\n",
       "    </tr>\n",
       "    <tr>\n",
       "      <th>kesmik</th>\n",
       "      <th>prezident kesmik</th>\n",
       "      <th>prezident kesmik 9 pct 200 gr</th>\n",
       "      <th>ədəd lt adet</th>\n",
       "      <td>282.0</td>\n",
       "      <td>3780.0</td>\n",
       "    </tr>\n",
       "    <tr>\n",
       "      <th>president</th>\n",
       "      <th>president tradisiya</th>\n",
       "      <th>president tradisiya kesmik 9 pct 250 gr</th>\n",
       "      <th>ədəd lt adet</th>\n",
       "      <td>128.0</td>\n",
       "      <td>1980.0</td>\n",
       "    </tr>\n",
       "    <tr>\n",
       "      <th>pro</th>\n",
       "      <th>pro canax</th>\n",
       "      <th>m.pro canax pendiri 500 gr</th>\n",
       "      <th>ədəd lt adet</th>\n",
       "      <td>4953.0</td>\n",
       "      <td>14.0</td>\n",
       "    </tr>\n",
       "    <tr>\n",
       "      <th>lays</th>\n",
       "      <th>lays stiks</th>\n",
       "      <th>lays stiks ketcup cips 65 gr</th>\n",
       "      <th>ədəd lt adet</th>\n",
       "      <td>1305.0</td>\n",
       "      <td>384912.0</td>\n",
       "    </tr>\n",
       "  </tbody>\n",
       "</table>\n",
       "<p>431 rows × 2 columns</p>\n",
       "</div>"
      ]
     },
     "execution_count": 33,
     "metadata": {},
     "output_type": "execute_result"
    }
   ],
   "execution_count": 33
  },
  {
   "metadata": {
    "ExecuteTime": {
     "end_time": "2024-06-04T20:38:03.779345Z",
     "start_time": "2024-06-04T20:38:03.726506Z"
    }
   },
   "cell_type": "code",
   "source": [
    "general_aggregate = compilation_scored.groupby(\n",
    "    by=['parent_group', 'product_group', 'items_x', 'unit_common_str']\n",
    ").agg(\n",
    "    {'quant_in':'sum','quant_out':'sum'}\n",
    ").sort_values(\n",
    "    ['unit_common_str']\n",
    ")"
   ],
   "id": "c4da6804d0a6a691",
   "outputs": [],
   "execution_count": 34
  },
  {
   "metadata": {},
   "cell_type": "code",
   "outputs": [],
   "execution_count": null,
   "source": "",
   "id": "459107375fd78bda"
  },
  {
   "metadata": {
    "ExecuteTime": {
     "end_time": "2024-06-04T20:38:53.068061Z",
     "start_time": "2024-06-04T20:38:53.044754Z"
    }
   },
   "cell_type": "code",
   "source": [
    "brand_agg = compilation_scored.groupby(['parent_group', 'product_group', 'items_x', 'unit_common_str']).agg({'quant_in': 'sum', 'quant_out': 'sum'}).reset_index()\n",
    "brand_agg.rename(columns={'quant_in': 'brand_inventory_in', 'quant_out': 'brand_inventory_out'}, inplace=True)\n",
    "\n",
    "result = pd.merge(brand_agg, general_aggregate, on='parent_group', how='left')"
   ],
   "id": "79acdb594eba7996",
   "outputs": [],
   "execution_count": 38
  },
  {
   "metadata": {
    "ExecuteTime": {
     "end_time": "2024-06-04T20:40:04.542545Z",
     "start_time": "2024-06-04T20:40:04.526922Z"
    }
   },
   "cell_type": "code",
   "source": [
    "result.groupby(\n",
    "    by=['parent_group', 'product_group', 'items_x', 'unit_common_str']\n",
    ").agg(\n",
    "    {'quant_in':'sum','quant_out':'sum', 'brand_inventory_in': 'max', 'brand_inventory_out': 'max'}\n",
    ")"
   ],
   "id": "d1627afcc6465364",
   "outputs": [
    {
     "data": {
      "text/plain": [
       "                                                                                                  quant_in  \\\n",
       "parent_group product_group    items_x                                           unit_common_str              \n",
       "                              7 up 0.5 lt 1 x 12                                eded lt adet       1182.00   \n",
       "                              7 up 1 lt 1 x 12                                  eded lt adet       1182.00   \n",
       "                              7 up 2 lt 1 x 6                                   eded lt adet       1182.00   \n",
       "acili        doritos acili    doritos acili 130 gr 1 x 16                       eded              57756.50   \n",
       "                              doritos acili 74 gr 1 x 24                        eded              57756.50   \n",
       "...                                                                                                    ...   \n",
       "xama         sevimli xama     sevimli dad xama kaunas 10 pct 200 gr 1 x 12      eded             616299.02   \n",
       "                              sevimli dad xama kaunasskaya 20 pct 200 gr 1 x 12 eded             616299.02   \n",
       "                              sevimli dad xama kaunasskaya 20 pct 350 gr 1 x 12 eded             616299.02   \n",
       "                              sevimli dad xama kaunasskaya 30 pct 200 gr 1 x 12 eded             616299.02   \n",
       "xrustem      xrustem biftekli xrustem biftekli 75 gr                            kg ədəd adet       1152.00   \n",
       "\n",
       "                                                                                                  quant_out  \\\n",
       "parent_group product_group    items_x                                           unit_common_str               \n",
       "                              7 up 0.5 lt 1 x 12                                eded lt adet        36360.0   \n",
       "                              7 up 1 lt 1 x 12                                  eded lt adet        36360.0   \n",
       "                              7 up 2 lt 1 x 6                                   eded lt adet        36360.0   \n",
       "acili        doritos acili    doritos acili 130 gr 1 x 16                       eded             68674704.0   \n",
       "                              doritos acili 74 gr 1 x 24                        eded             68674704.0   \n",
       "...                                                                                                     ...   \n",
       "xama         sevimli xama     sevimli dad xama kaunas 10 pct 200 gr 1 x 12      eded             60626273.0   \n",
       "                              sevimli dad xama kaunasskaya 20 pct 200 gr 1 x 12 eded             60626273.0   \n",
       "                              sevimli dad xama kaunasskaya 20 pct 350 gr 1 x 12 eded             60626273.0   \n",
       "                              sevimli dad xama kaunasskaya 30 pct 200 gr 1 x 12 eded             60626273.0   \n",
       "xrustem      xrustem biftekli xrustem biftekli 75 gr                            kg ədəd adet       373248.0   \n",
       "\n",
       "                                                                                                 brand_inventory_in  \\\n",
       "parent_group product_group    items_x                                           unit_common_str                       \n",
       "                              7 up 0.5 lt 1 x 12                                eded lt adet                  146.0   \n",
       "                              7 up 1 lt 1 x 12                                  eded lt adet                  350.0   \n",
       "                              7 up 2 lt 1 x 6                                   eded lt adet                  686.0   \n",
       "acili        doritos acili    doritos acili 130 gr 1 x 16                       eded                        31578.5   \n",
       "                              doritos acili 74 gr 1 x 24                        eded                        26178.0   \n",
       "...                                                                                                             ...   \n",
       "xama         sevimli xama     sevimli dad xama kaunas 10 pct 200 gr 1 x 12      eded                        97068.0   \n",
       "                              sevimli dad xama kaunasskaya 20 pct 200 gr 1 x 12 eded                       272818.0   \n",
       "                              sevimli dad xama kaunasskaya 20 pct 350 gr 1 x 12 eded                       115600.0   \n",
       "                              sevimli dad xama kaunasskaya 30 pct 200 gr 1 x 12 eded                        52494.0   \n",
       "xrustem      xrustem biftekli xrustem biftekli 75 gr                            kg ədəd adet                 1152.0   \n",
       "\n",
       "                                                                                                 brand_inventory_out  \n",
       "parent_group product_group    items_x                                           unit_common_str                       \n",
       "                              7 up 0.5 lt 1 x 12                                eded lt adet                 10800.0  \n",
       "                              7 up 1 lt 1 x 12                                  eded lt adet                 19800.0  \n",
       "                              7 up 2 lt 1 x 6                                   eded lt adet                  5760.0  \n",
       "acili        doritos acili    doritos acili 130 gr 1 x 16                       eded                      30888000.0  \n",
       "                              doritos acili 74 gr 1 x 24                        eded                      37786704.0  \n",
       "...                                                                                                              ...  \n",
       "xama         sevimli xama     sevimli dad xama kaunas 10 pct 200 gr 1 x 12      eded                      18825646.0  \n",
       "                              sevimli dad xama kaunasskaya 20 pct 200 gr 1 x 12 eded                      13467693.0  \n",
       "                              sevimli dad xama kaunasskaya 20 pct 350 gr 1 x 12 eded                      11232270.0  \n",
       "                              sevimli dad xama kaunasskaya 30 pct 200 gr 1 x 12 eded                       4596900.0  \n",
       "xrustem      xrustem biftekli xrustem biftekli 75 gr                            kg ədəd adet                373248.0  \n",
       "\n",
       "[431 rows x 4 columns]"
      ],
      "text/html": [
       "<div>\n",
       "<style scoped>\n",
       "    .dataframe tbody tr th:only-of-type {\n",
       "        vertical-align: middle;\n",
       "    }\n",
       "\n",
       "    .dataframe tbody tr th {\n",
       "        vertical-align: top;\n",
       "    }\n",
       "\n",
       "    .dataframe thead th {\n",
       "        text-align: right;\n",
       "    }\n",
       "</style>\n",
       "<table border=\"1\" class=\"dataframe\">\n",
       "  <thead>\n",
       "    <tr style=\"text-align: right;\">\n",
       "      <th></th>\n",
       "      <th></th>\n",
       "      <th></th>\n",
       "      <th></th>\n",
       "      <th>quant_in</th>\n",
       "      <th>quant_out</th>\n",
       "      <th>brand_inventory_in</th>\n",
       "      <th>brand_inventory_out</th>\n",
       "    </tr>\n",
       "    <tr>\n",
       "      <th>parent_group</th>\n",
       "      <th>product_group</th>\n",
       "      <th>items_x</th>\n",
       "      <th>unit_common_str</th>\n",
       "      <th></th>\n",
       "      <th></th>\n",
       "      <th></th>\n",
       "      <th></th>\n",
       "    </tr>\n",
       "  </thead>\n",
       "  <tbody>\n",
       "    <tr>\n",
       "      <th rowspan=\"3\" valign=\"top\"></th>\n",
       "      <th rowspan=\"3\" valign=\"top\"></th>\n",
       "      <th>7 up 0.5 lt 1 x 12</th>\n",
       "      <th>eded lt adet</th>\n",
       "      <td>1182.00</td>\n",
       "      <td>36360.0</td>\n",
       "      <td>146.0</td>\n",
       "      <td>10800.0</td>\n",
       "    </tr>\n",
       "    <tr>\n",
       "      <th>7 up 1 lt 1 x 12</th>\n",
       "      <th>eded lt adet</th>\n",
       "      <td>1182.00</td>\n",
       "      <td>36360.0</td>\n",
       "      <td>350.0</td>\n",
       "      <td>19800.0</td>\n",
       "    </tr>\n",
       "    <tr>\n",
       "      <th>7 up 2 lt 1 x 6</th>\n",
       "      <th>eded lt adet</th>\n",
       "      <td>1182.00</td>\n",
       "      <td>36360.0</td>\n",
       "      <td>686.0</td>\n",
       "      <td>5760.0</td>\n",
       "    </tr>\n",
       "    <tr>\n",
       "      <th rowspan=\"2\" valign=\"top\">acili</th>\n",
       "      <th rowspan=\"2\" valign=\"top\">doritos acili</th>\n",
       "      <th>doritos acili 130 gr 1 x 16</th>\n",
       "      <th>eded</th>\n",
       "      <td>57756.50</td>\n",
       "      <td>68674704.0</td>\n",
       "      <td>31578.5</td>\n",
       "      <td>30888000.0</td>\n",
       "    </tr>\n",
       "    <tr>\n",
       "      <th>doritos acili 74 gr 1 x 24</th>\n",
       "      <th>eded</th>\n",
       "      <td>57756.50</td>\n",
       "      <td>68674704.0</td>\n",
       "      <td>26178.0</td>\n",
       "      <td>37786704.0</td>\n",
       "    </tr>\n",
       "    <tr>\n",
       "      <th>...</th>\n",
       "      <th>...</th>\n",
       "      <th>...</th>\n",
       "      <th>...</th>\n",
       "      <td>...</td>\n",
       "      <td>...</td>\n",
       "      <td>...</td>\n",
       "      <td>...</td>\n",
       "    </tr>\n",
       "    <tr>\n",
       "      <th rowspan=\"4\" valign=\"top\">xama</th>\n",
       "      <th rowspan=\"4\" valign=\"top\">sevimli xama</th>\n",
       "      <th>sevimli dad xama kaunas 10 pct 200 gr 1 x 12</th>\n",
       "      <th>eded</th>\n",
       "      <td>616299.02</td>\n",
       "      <td>60626273.0</td>\n",
       "      <td>97068.0</td>\n",
       "      <td>18825646.0</td>\n",
       "    </tr>\n",
       "    <tr>\n",
       "      <th>sevimli dad xama kaunasskaya 20 pct 200 gr 1 x 12</th>\n",
       "      <th>eded</th>\n",
       "      <td>616299.02</td>\n",
       "      <td>60626273.0</td>\n",
       "      <td>272818.0</td>\n",
       "      <td>13467693.0</td>\n",
       "    </tr>\n",
       "    <tr>\n",
       "      <th>sevimli dad xama kaunasskaya 20 pct 350 gr 1 x 12</th>\n",
       "      <th>eded</th>\n",
       "      <td>616299.02</td>\n",
       "      <td>60626273.0</td>\n",
       "      <td>115600.0</td>\n",
       "      <td>11232270.0</td>\n",
       "    </tr>\n",
       "    <tr>\n",
       "      <th>sevimli dad xama kaunasskaya 30 pct 200 gr 1 x 12</th>\n",
       "      <th>eded</th>\n",
       "      <td>616299.02</td>\n",
       "      <td>60626273.0</td>\n",
       "      <td>52494.0</td>\n",
       "      <td>4596900.0</td>\n",
       "    </tr>\n",
       "    <tr>\n",
       "      <th>xrustem</th>\n",
       "      <th>xrustem biftekli</th>\n",
       "      <th>xrustem biftekli 75 gr</th>\n",
       "      <th>kg ədəd adet</th>\n",
       "      <td>1152.00</td>\n",
       "      <td>373248.0</td>\n",
       "      <td>1152.0</td>\n",
       "      <td>373248.0</td>\n",
       "    </tr>\n",
       "  </tbody>\n",
       "</table>\n",
       "<p>431 rows × 4 columns</p>\n",
       "</div>"
      ]
     },
     "execution_count": 40,
     "metadata": {},
     "output_type": "execute_result"
    }
   ],
   "execution_count": 40
  },
  {
   "metadata": {},
   "cell_type": "code",
   "outputs": [],
   "execution_count": null,
   "source": "",
   "id": "faa7913c6e870ad1"
  }
 ],
 "metadata": {
  "kernelspec": {
   "display_name": "Python 3",
   "language": "python",
   "name": "python3"
  },
  "language_info": {
   "codemirror_mode": {
    "name": "ipython",
    "version": 2
   },
   "file_extension": ".py",
   "mimetype": "text/x-python",
   "name": "python",
   "nbconvert_exporter": "python",
   "pygments_lexer": "ipython2",
   "version": "2.7.6"
  }
 },
 "nbformat": 4,
 "nbformat_minor": 5
}
