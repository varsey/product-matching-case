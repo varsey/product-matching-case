{
 "cells": [
  {
   "cell_type": "code",
   "id": "initial_id",
   "metadata": {
    "collapsed": true,
    "ExecuteTime": {
     "end_time": "2024-07-30T20:47:24.743995Z",
     "start_time": "2024-07-30T20:47:24.459805Z"
    }
   },
   "source": [
    "import os\n",
    "import regex as re\n",
    "import pandas as pd"
   ],
   "outputs": [],
   "execution_count": 1
  },
  {
   "metadata": {
    "ExecuteTime": {
     "end_time": "2024-07-30T20:47:24.747804Z",
     "start_time": "2024-07-30T20:47:24.745213Z"
    }
   },
   "cell_type": "code",
   "source": "from collections import Counter",
   "id": "a7c41584b3dd22c",
   "outputs": [],
   "execution_count": 2
  },
  {
   "metadata": {
    "ExecuteTime": {
     "end_time": "2024-07-30T20:47:25.711341Z",
     "start_time": "2024-07-30T20:47:24.748683Z"
    }
   },
   "cell_type": "code",
   "source": [
    "import nltk\n",
    "nltk.download('punkt')\n",
    "nltk.download('stopwords')\n",
    "nltk.download('averaged_perceptron_tagger_ru')"
   ],
   "id": "9595b0e1470fcd00",
   "outputs": [
    {
     "name": "stderr",
     "output_type": "stream",
     "text": [
      "[nltk_data] Downloading package punkt to /home/varsey/nltk_data...\n",
      "[nltk_data]   Package punkt is already up-to-date!\n",
      "[nltk_data] Downloading package stopwords to /home/varsey/nltk_data...\n",
      "[nltk_data]   Package stopwords is already up-to-date!\n",
      "[nltk_data] Downloading package averaged_perceptron_tagger_ru to\n",
      "[nltk_data]     /home/varsey/nltk_data...\n",
      "[nltk_data]   Package averaged_perceptron_tagger_ru is already up-to-\n",
      "[nltk_data]       date!\n"
     ]
    },
    {
     "data": {
      "text/plain": [
       "True"
      ]
     },
     "execution_count": 3,
     "metadata": {},
     "output_type": "execute_result"
    }
   ],
   "execution_count": 3
  },
  {
   "metadata": {
    "ExecuteTime": {
     "end_time": "2024-07-30T20:47:25.729832Z",
     "start_time": "2024-07-30T20:47:25.712661Z"
    }
   },
   "cell_type": "code",
   "source": [
    "from rapidfuzz import process as proc\n",
    "from rapidfuzz import fuzz"
   ],
   "id": "f47e1eeb02d05eab",
   "outputs": [],
   "execution_count": 4
  },
  {
   "metadata": {
    "ExecuteTime": {
     "end_time": "2024-07-30T20:47:25.738838Z",
     "start_time": "2024-07-30T20:47:25.731016Z"
    }
   },
   "cell_type": "code",
   "source": "from tqdm import tqdm",
   "id": "bbd656c76aa4ff",
   "outputs": [],
   "execution_count": 5
  },
  {
   "metadata": {
    "ExecuteTime": {
     "end_time": "2024-07-30T20:47:25.741964Z",
     "start_time": "2024-07-30T20:47:25.740111Z"
    }
   },
   "cell_type": "code",
   "source": "",
   "id": "77307c6522a0d3fe",
   "outputs": [],
   "execution_count": 5
  },
  {
   "metadata": {
    "ExecuteTime": {
     "end_time": "2024-07-30T20:47:25.900943Z",
     "start_time": "2024-07-30T20:47:25.898022Z"
    }
   },
   "cell_type": "code",
   "source": "import re",
   "id": "6c093331b704069f",
   "outputs": [],
   "execution_count": 6
  },
  {
   "metadata": {
    "ExecuteTime": {
     "end_time": "2024-07-30T20:47:30.616282Z",
     "start_time": "2024-07-30T20:47:30.614452Z"
    }
   },
   "cell_type": "code",
   "source": "",
   "id": "da1a93fa433e1566",
   "outputs": [],
   "execution_count": 8
  },
  {
   "metadata": {
    "ExecuteTime": {
     "end_time": "2024-07-30T20:47:30.872333Z",
     "start_time": "2024-07-30T20:47:30.870110Z"
    }
   },
   "cell_type": "code",
   "source": "import yake",
   "id": "52525520ba38ea5c",
   "outputs": [],
   "execution_count": 9
  },
  {
   "metadata": {
    "ExecuteTime": {
     "end_time": "2024-07-30T20:47:31.240822Z",
     "start_time": "2024-07-30T20:47:31.238828Z"
    }
   },
   "cell_type": "code",
   "source": "",
   "id": "c7b4a1988a6ede45",
   "outputs": [],
   "execution_count": 9
  },
  {
   "metadata": {
    "ExecuteTime": {
     "end_time": "2024-07-30T20:47:31.477507Z",
     "start_time": "2024-07-30T20:47:31.474385Z"
    }
   },
   "cell_type": "code",
   "source": [
    "flt_chars = [\n",
    "    ')', '(', ',', '!', '', ':', '|', '>', '<', '[', ']', '...', './', '/\\n', '\\xa0',\n",
    "    '«', '»', '_', '?', '~', '=', '\\\\', ';', '\\n', '``', \"''\", '✅', '/n', '/', '..', '`', \"'\", '-',\n",
    "    '✔', '⇒', '\"', '$', '%', '&', \"'\", ',', '^', '`', '{', '}', \"('\",\n",
    "]"
   ],
   "id": "fbe5d6eeffd82553",
   "outputs": [],
   "execution_count": 10
  },
  {
   "metadata": {
    "ExecuteTime": {
     "end_time": "2024-07-30T20:47:31.656076Z",
     "start_time": "2024-07-30T20:47:31.650131Z"
    }
   },
   "cell_type": "code",
   "source": [
    "stop_words = (nltk.corpus.stopwords.words('russian')\n",
    "              + nltk.corpus.stopwords.words('english')\n",
    "              + nltk.corpus.stopwords.words('azerbaijani'))\n",
    "exclude = [x for x in set(stop_words + flt_chars) if len(x) > 0] + ['pet']\n",
    "exclude.remove('up')\n",
    "exclude.remove('s')\n",
    "exclude.remove('ya')\n",
    "exclude = set(exclude)"
   ],
   "id": "878443ef843b4f63",
   "outputs": [],
   "execution_count": 11
  },
  {
   "metadata": {
    "ExecuteTime": {
     "end_time": "2024-07-30T20:47:32.109647Z",
     "start_time": "2024-07-30T20:47:32.106745Z"
    }
   },
   "cell_type": "code",
   "source": "'ya' in exclude",
   "id": "f8c34cfc2879d037",
   "outputs": [
    {
     "data": {
      "text/plain": [
       "False"
      ]
     },
     "execution_count": 12,
     "metadata": {},
     "output_type": "execute_result"
    }
   ],
   "execution_count": 12
  },
  {
   "metadata": {
    "ExecuteTime": {
     "end_time": "2024-07-30T20:47:33.305821Z",
     "start_time": "2024-07-30T20:47:33.302732Z"
    }
   },
   "cell_type": "code",
   "source": [
    "remove_chars = {\n",
    "    '-': ' ',\n",
    "    \"'\": ' ',\n",
    "    \"(\": ' ',\n",
    "    \")\": ' ',\n",
    "    '\"': ' ',\n",
    "    '<': ' ',\n",
    "    '>': ' ',\n",
    "    \"/\": ' ',\n",
    "}\n",
    "replace_chars = {\n",
    "    '*': ' x ',\n",
    "    \"%\": 'pct',\n",
    "    \",\": '.',\n",
    "    \" s \":  's '\n",
    "}\n"
   ],
   "id": "bb22f9e1f36abdaf",
   "outputs": [],
   "execution_count": 13
  },
  {
   "metadata": {
    "ExecuteTime": {
     "end_time": "2024-07-30T20:47:34.056305Z",
     "start_time": "2024-07-30T20:47:34.053040Z"
    }
   },
   "cell_type": "code",
   "source": [
    "def simple_process_item(x: str):\n",
    "    x = x.lower()\n",
    "    for char in remove_chars.keys():\n",
    "        x = x.replace(char, ' ')\n",
    "    for k, v in replace_chars.items():\n",
    "        x = x.replace(k, v)\n",
    "    item = ' '.join(re.split(r'(\\d+)', x))\n",
    "    while item.count(2 * \" \") > 0:\n",
    "        item = item.replace(2 * \" \", \" \")\n",
    "    item = item.replace(' .', '.').replace('. ', '.')\n",
    "    return ' '.join([x for x in item.split() if x not in exclude])"
   ],
   "id": "c7081d69bdfd5033",
   "outputs": [],
   "execution_count": 14
  },
  {
   "metadata": {
    "ExecuteTime": {
     "end_time": "2024-07-30T20:47:34.685615Z",
     "start_time": "2024-07-30T20:47:34.682475Z"
    }
   },
   "cell_type": "code",
   "source": [
    "def count_common_words(str1, str2):\n",
    "    set1 = set([x for x in str1.lower().split() if len(x) > 3 and not x.isdigit()])\n",
    "    set2 = set([x for x in str2.lower().split() if len(x) > 3 and not x.isdigit()])\n",
    "    if ((len(set1) + len(set2))/2) == 0:\n",
    "        return 0\n",
    "    return len(set1.intersection(set2))/((len(set1) + len(set2))/2)"
   ],
   "id": "6a587fd792a4655a",
   "outputs": [],
   "execution_count": 15
  },
  {
   "metadata": {
    "ExecuteTime": {
     "end_time": "2024-07-30T20:47:35.081123Z",
     "start_time": "2024-07-30T20:47:35.077840Z"
    }
   },
   "cell_type": "code",
   "source": [
    "def count_common_digits(str1, str2):\n",
    "    set1 = set([x for x in str1.lower().split() if x.isdigit()])\n",
    "    set2 = set([x for x in str2.lower().split() if x.isdigit()])\n",
    "    if ((len(set1) + len(set2))/2) == 0:\n",
    "        return 0\n",
    "    return len(set1.intersection(set2))/((len(set1) + len(set2))/2)"
   ],
   "id": "e9d75910c823f24f",
   "outputs": [],
   "execution_count": 16
  },
  {
   "metadata": {
    "ExecuteTime": {
     "end_time": "2024-07-30T20:47:35.393913Z",
     "start_time": "2024-07-30T20:47:35.391464Z"
    }
   },
   "cell_type": "code",
   "source": [
    "def count_digit_share(x: str):\n",
    "    counter = 0\n",
    "    for char in x:\n",
    "        if char.isdigit():\n",
    "            counter += 1\n",
    "    return counter/len(x.replace(' ', '')) if len(x) > len(x.replace(' ', '')) and counter > 0 else 0.5"
   ],
   "id": "1b64764d41f3d155",
   "outputs": [],
   "execution_count": 17
  },
  {
   "metadata": {
    "ExecuteTime": {
     "end_time": "2024-07-30T20:47:35.788013Z",
     "start_time": "2024-07-30T20:47:35.784920Z"
    }
   },
   "cell_type": "code",
   "source": [
    "def remove_numbers(text):\n",
    "    text = text.lower()\n",
    "    text = re.sub(r'\\d+', '', text)\n",
    "    text = ' '.join(text.split('.'))\n",
    "    return ' '.join([x for x in text.split() if len(x) > 2 and x not in ('pct', 'dad')][:3])"
   ],
   "id": "d6db81cc3901679d",
   "outputs": [],
   "execution_count": 18
  },
  {
   "metadata": {
    "ExecuteTime": {
     "end_time": "2024-07-30T20:48:22.703521Z",
     "start_time": "2024-07-30T20:48:22.699484Z"
    }
   },
   "cell_type": "code",
   "source": [
    "data_folder = '/'.join(os.getcwd().split('/')[:-1])\n",
    "data_folder"
   ],
   "id": "5f94c9542d394096",
   "outputs": [
    {
     "data": {
      "text/plain": [
       "'/home/varsey/PycharmProjects/drl-case'"
      ]
     },
     "execution_count": 20,
     "metadata": {},
     "output_type": "execute_result"
    }
   ],
   "execution_count": 20
  },
  {
   "metadata": {
    "ExecuteTime": {
     "end_time": "2024-07-30T20:48:23.409340Z",
     "start_time": "2024-07-30T20:48:23.395994Z"
    }
   },
   "cell_type": "code",
   "source": [
    "# Loading data\n",
    "df_incoming = pd.read_csv(f'{data_folder}/data/incoming.csv')\n",
    "df_outcoming = pd.read_csv(f'{data_folder}/data/outcoming.csv')"
   ],
   "id": "edef4bf48f24cc85",
   "outputs": [],
   "execution_count": 21
  },
  {
   "metadata": {
    "ExecuteTime": {
     "end_time": "2024-07-30T20:48:24.264278Z",
     "start_time": "2024-07-30T20:48:24.260363Z"
    }
   },
   "cell_type": "code",
   "source": [
    "df_outcoming['unit'] = df_incoming['Unit'].str.lower()\n",
    "df_incoming['unit'] = df_incoming['Unit'].str.lower()"
   ],
   "id": "dcf9da31a0b05ae",
   "outputs": [],
   "execution_count": 22
  },
  {
   "metadata": {
    "ExecuteTime": {
     "end_time": "2024-07-30T20:48:24.894831Z",
     "start_time": "2024-07-30T20:48:24.892905Z"
    }
   },
   "cell_type": "code",
   "source": "",
   "id": "68df6f220adbe75a",
   "outputs": [],
   "execution_count": 22
  },
  {
   "metadata": {
    "ExecuteTime": {
     "end_time": "2024-07-30T20:48:25.169040Z",
     "start_time": "2024-07-30T20:48:25.164114Z"
    }
   },
   "cell_type": "code",
   "source": [
    "text = df_outcoming.sample(1)['Product or Service Name'].values[0]\n",
    "print(text)\n",
    "simple_process_item(text)"
   ],
   "id": "70b1602d04f44cf6",
   "outputs": [
    {
     "name": "stdout",
     "output_type": "stream",
     "text": [
      "QLAVPRODUKT BADIMCAN KURUSU 450 QR 1X12\n"
     ]
    },
    {
     "data": {
      "text/plain": [
       "'qlavprodukt badimcan kurusu 450 qr 1 x 12'"
      ]
     },
     "execution_count": 23,
     "metadata": {},
     "output_type": "execute_result"
    }
   ],
   "execution_count": 23
  },
  {
   "metadata": {
    "ExecuteTime": {
     "end_time": "2024-07-30T20:48:25.347881Z",
     "start_time": "2024-07-30T20:48:25.345889Z"
    }
   },
   "cell_type": "code",
   "source": "",
   "id": "e2002ba9df784de6",
   "outputs": [],
   "execution_count": 23
  },
  {
   "metadata": {
    "ExecuteTime": {
     "end_time": "2024-07-30T20:48:25.620206Z",
     "start_time": "2024-07-30T20:48:25.576636Z"
    }
   },
   "cell_type": "code",
   "source": [
    "df_outcoming['items'] = df_outcoming['Product or Service Name'].apply(lambda x: simple_process_item(x))\n",
    "df_incoming['items'] = df_incoming['Product or Service Name'].apply(lambda x: simple_process_item(x))"
   ],
   "id": "65cd74d211cba843",
   "outputs": [],
   "execution_count": 24
  },
  {
   "metadata": {
    "ExecuteTime": {
     "end_time": "2024-07-30T20:48:25.744890Z",
     "start_time": "2024-07-30T20:48:25.742812Z"
    }
   },
   "cell_type": "code",
   "source": "",
   "id": "35109f05cd507551",
   "outputs": [],
   "execution_count": 24
  },
  {
   "metadata": {
    "ExecuteTime": {
     "end_time": "2024-07-30T20:48:25.950438Z",
     "start_time": "2024-07-30T20:48:25.939318Z"
    }
   },
   "cell_type": "code",
   "source": "Counter(\" \".join(df_outcoming['items']).split()).most_common(50)",
   "id": "85f073ca563900b6",
   "outputs": [
    {
     "data": {
      "text/plain": [
       "[('1', 5396),\n",
       " ('x', 5072),\n",
       " ('gr', 3748),\n",
       " ('12', 1452),\n",
       " ('pct', 1055),\n",
       " ('sevimli', 771),\n",
       " ('dad', 771),\n",
       " ('24', 637),\n",
       " ('pinar', 590),\n",
       " ('lays', 488),\n",
       " ('200', 480),\n",
       " ('6', 424),\n",
       " ('20', 397),\n",
       " ('180', 382),\n",
       " ('lt', 332),\n",
       " ('president', 324),\n",
       " ('500', 290),\n",
       " ('150', 286),\n",
       " ('qr', 267),\n",
       " ('90', 266),\n",
       " ('10', 257),\n",
       " ('15', 256),\n",
       " ('30', 256),\n",
       " ('suxari', 250),\n",
       " ('kesmik', 249),\n",
       " ('18', 247),\n",
       " ('ml', 234),\n",
       " ('xama', 228),\n",
       " ('25', 218),\n",
       " ('ulker', 199),\n",
       " ('8', 192),\n",
       " ('40', 191),\n",
       " ('16', 174),\n",
       " ('tadim', 172),\n",
       " ('50', 171),\n",
       " ('kg', 169),\n",
       " ('250', 165),\n",
       " ('labne', 157),\n",
       " ('bebeto', 156),\n",
       " ('0', 154),\n",
       " ('pendir', 152),\n",
       " ('60', 147),\n",
       " ('peynir', 145),\n",
       " ('300', 144),\n",
       " ('100', 142),\n",
       " ('kefir', 142),\n",
       " ('130', 138),\n",
       " ('4', 137),\n",
       " ('yagi', 136),\n",
       " ('9', 133)]"
      ]
     },
     "execution_count": 25,
     "metadata": {},
     "output_type": "execute_result"
    }
   ],
   "execution_count": 25
  },
  {
   "metadata": {
    "ExecuteTime": {
     "end_time": "2024-07-30T20:48:26.149014Z",
     "start_time": "2024-07-30T20:48:26.147439Z"
    }
   },
   "cell_type": "code",
   "source": "",
   "id": "d8dc5dc70494d5d0",
   "outputs": [],
   "execution_count": 25
  },
  {
   "metadata": {
    "ExecuteTime": {
     "end_time": "2024-07-30T20:48:26.345289Z",
     "start_time": "2024-07-30T20:48:26.343355Z"
    }
   },
   "cell_type": "code",
   "source": "",
   "id": "ae67a9606dfe3052",
   "outputs": [],
   "execution_count": 25
  },
  {
   "metadata": {
    "ExecuteTime": {
     "end_time": "2024-07-30T20:48:28.526422Z",
     "start_time": "2024-07-30T20:48:26.497029Z"
    }
   },
   "cell_type": "code",
   "source": [
    "%%time\n",
    "\n",
    "to_find = df_incoming['items'].to_list()[:1000]\n",
    "candidates = set(df_outcoming['items'].to_list())\n",
    "\n",
    "outcoming, incoming1, incoming2, score1, score2, score_w, score_d = [], [], [], [], [], [], []\n",
    "for item in tqdm(to_find[:]):\n",
    "    res1 = proc.extract(\n",
    "                item,\n",
    "                candidates,\n",
    "                scorer=fuzz.partial_token_sort_ratio,\n",
    "                limit=1\n",
    "    )[0]\n",
    "    res2 = proc.extract(\n",
    "                item,\n",
    "                candidates,\n",
    "                scorer=fuzz.partial_ratio,\n",
    "                limit=1\n",
    "    )[0]\n",
    "    outcoming.append(item)\n",
    "    incoming1.append(res1[0])\n",
    "    incoming2.append(res2[0])\n",
    "    score1.append(res1[1])\n",
    "    score2.append(res2[1])\n",
    "    if len(res1) > 0:\n",
    "        score_w.append(count_common_words(item, res1[0]))\n",
    "        score_d.append(count_common_digits(item, res1[0]) / count_digit_share(res1[0]))\n"
   ],
   "id": "e7d700e3c78e60ec",
   "outputs": [
    {
     "name": "stderr",
     "output_type": "stream",
     "text": [
      "100%|██████████| 1000/1000 [00:02<00:00, 494.18it/s]"
     ]
    },
    {
     "name": "stdout",
     "output_type": "stream",
     "text": [
      "CPU times: user 2.02 s, sys: 6.23 ms, total: 2.03 s\n",
      "Wall time: 2.03 s\n"
     ]
    },
    {
     "name": "stderr",
     "output_type": "stream",
     "text": [
      "\n"
     ]
    }
   ],
   "execution_count": 26
  },
  {
   "metadata": {
    "ExecuteTime": {
     "end_time": "2024-07-30T20:48:28.533017Z",
     "start_time": "2024-07-30T20:48:28.527416Z"
    }
   },
   "cell_type": "code",
   "source": [
    "comp = pd.DataFrame()\n",
    "comp['right'] = outcoming\n",
    "comp['left1'] = incoming1\n",
    "comp['left2'] = incoming2\n",
    "comp['score1'] = score1\n",
    "comp['score2'] = score2\n",
    "comp['score3'] = 2*comp['score1'] *comp['score2'] /(comp['score1'] + comp['score2'] )\n",
    "comp['score_w'] = score_w\n",
    "comp['score_d'] = score_d\n",
    "comp['score_d'] = comp['score_d'] /10"
   ],
   "id": "62421c432d0cc524",
   "outputs": [],
   "execution_count": 27
  },
  {
   "metadata": {
    "ExecuteTime": {
     "end_time": "2024-07-30T20:48:28.536100Z",
     "start_time": "2024-07-30T20:48:28.534318Z"
    }
   },
   "cell_type": "code",
   "source": [
    "# parq_write(\n",
    "#     f'{os.getcwd()}/comp.parq',\n",
    "#     comp,\n",
    "#     compression='GZIP'\n",
    "# )"
   ],
   "id": "6e7190e8e7b9a4b7",
   "outputs": [],
   "execution_count": 28
  },
  {
   "metadata": {
    "ExecuteTime": {
     "end_time": "2024-07-30T20:48:28.538765Z",
     "start_time": "2024-07-30T20:48:28.537165Z"
    }
   },
   "cell_type": "code",
   "source": "",
   "id": "c3f62fc3fc5e58f9",
   "outputs": [],
   "execution_count": 28
  },
  {
   "metadata": {
    "ExecuteTime": {
     "end_time": "2024-07-30T20:48:28.541120Z",
     "start_time": "2024-07-30T20:48:28.539380Z"
    }
   },
   "cell_type": "code",
   "source": [
    "# comp_parq = ParquetFile(f'{os.getcwd()}/comp.parq',)\n",
    "# comp = comp_parq.to_pandas()"
   ],
   "id": "731856922b24801d",
   "outputs": [],
   "execution_count": 29
  },
  {
   "metadata": {
    "ExecuteTime": {
     "end_time": "2024-07-30T20:48:28.544547Z",
     "start_time": "2024-07-30T20:48:28.541935Z"
    }
   },
   "cell_type": "code",
   "source": "df_outcoming.shape, df_incoming.shape, comp.shape",
   "id": "84668e641b52e248",
   "outputs": [
    {
     "data": {
      "text/plain": [
       "((5000, 7), (5000, 7), (1000, 8))"
      ]
     },
     "execution_count": 30,
     "metadata": {},
     "output_type": "execute_result"
    }
   ],
   "execution_count": 30
  },
  {
   "metadata": {
    "ExecuteTime": {
     "end_time": "2024-07-30T20:48:28.546729Z",
     "start_time": "2024-07-30T20:48:28.545241Z"
    }
   },
   "cell_type": "code",
   "source": "",
   "id": "7046236a3704890f",
   "outputs": [],
   "execution_count": 30
  },
  {
   "metadata": {
    "ExecuteTime": {
     "end_time": "2024-07-30T20:48:28.552181Z",
     "start_time": "2024-07-30T20:48:28.547295Z"
    }
   },
   "cell_type": "code",
   "source": [
    "sub_result = pd.concat(\n",
    "    [\n",
    "        df_incoming[:1000],\n",
    "        comp\n",
    "    ],\n",
    "    axis=1,\n",
    ")\n",
    "sub_result.shape"
   ],
   "id": "64b0d8b097cbcdf8",
   "outputs": [
    {
     "data": {
      "text/plain": [
       "(1000, 15)"
      ]
     },
     "execution_count": 31,
     "metadata": {},
     "output_type": "execute_result"
    }
   ],
   "execution_count": 31
  },
  {
   "metadata": {
    "ExecuteTime": {
     "end_time": "2024-07-30T20:48:28.567812Z",
     "start_time": "2024-07-30T20:48:28.553296Z"
    }
   },
   "cell_type": "code",
   "source": [
    "compilation_full = sub_result.merge(df_outcoming, how='left', left_on='left1', right_on='items')\n",
    "compilation_full = compilation_full.drop_duplicates(subset=['#_x']) \n",
    "compilation_full.shape"
   ],
   "id": "94f68247e1883a6c",
   "outputs": [
    {
     "data": {
      "text/plain": [
       "(1000, 22)"
      ]
     },
     "execution_count": 32,
     "metadata": {},
     "output_type": "execute_result"
    }
   ],
   "execution_count": 32
  },
  {
   "metadata": {
    "ExecuteTime": {
     "end_time": "2024-07-30T20:48:28.570834Z",
     "start_time": "2024-07-30T20:48:28.569226Z"
    }
   },
   "cell_type": "code",
   "source": "",
   "id": "8d2ae54410b6c42e",
   "outputs": [],
   "execution_count": 32
  },
  {
   "metadata": {
    "ExecuteTime": {
     "end_time": "2024-07-30T20:48:28.808156Z",
     "start_time": "2024-07-30T20:48:28.803505Z"
    }
   },
   "cell_type": "code",
   "source": [
    "compilation_full = compilation_full[[\n",
    "          'items_x', 'items_y',\n",
    "          'Quantity/Volume_x', 'unit_x', 'Quantity/Volume_y', 'unit_y',\n",
    "          'score1', 'score2', 'score3', 'score_w', 'score_d',\n",
    "          'Product or Service Name_x', 'Product or Service Name_y', ]]"
   ],
   "id": "a69a13aa532b9cde",
   "outputs": [],
   "execution_count": 33
  },
  {
   "metadata": {
    "ExecuteTime": {
     "end_time": "2024-07-30T20:48:28.916620Z",
     "start_time": "2024-07-30T20:48:28.913793Z"
    }
   },
   "cell_type": "code",
   "source": [
    "comp_true = compilation_full[\n",
    "    (compilation_full.score3 > 78) \n",
    "    # & (compilation_full.score_w > 0.0)\n",
    "    & (compilation_full.score_d > 0.17)\n",
    "]"
   ],
   "id": "1ce39162f3dc765b",
   "outputs": [],
   "execution_count": 34
  },
  {
   "metadata": {
    "ExecuteTime": {
     "end_time": "2024-07-30T20:48:29.132117Z",
     "start_time": "2024-07-30T20:48:29.129721Z"
    }
   },
   "cell_type": "code",
   "source": "comp_doubt = compilation_full.drop(comp_true.index, axis=0)",
   "id": "b0ea01caf4eabba0",
   "outputs": [],
   "execution_count": 35
  },
  {
   "metadata": {
    "ExecuteTime": {
     "end_time": "2024-07-30T20:48:29.341809Z",
     "start_time": "2024-07-30T20:48:29.339072Z"
    }
   },
   "cell_type": "code",
   "source": [
    "comp_doubt['items_y']  = ''\n",
    "comp_doubt['Quantity/Volume_y'] = 0\n",
    "comp_doubt['unit_y'] = ''\n",
    "# comp_doubt['Product or Service Name_y'] = ''"
   ],
   "id": "fcc46d128f0959",
   "outputs": [],
   "execution_count": 36
  },
  {
   "metadata": {
    "ExecuteTime": {
     "end_time": "2024-07-30T20:48:29.555683Z",
     "start_time": "2024-07-30T20:48:29.552868Z"
    }
   },
   "cell_type": "code",
   "source": "comp_true.shape[0] / comp_doubt.shape[0]",
   "id": "990bfcf8e6cd73a8",
   "outputs": [
    {
     "data": {
      "text/plain": [
       "20.27659574468085"
      ]
     },
     "execution_count": 37,
     "metadata": {},
     "output_type": "execute_result"
    }
   ],
   "execution_count": 37
  },
  {
   "metadata": {
    "ExecuteTime": {
     "end_time": "2024-07-30T20:48:29.751105Z",
     "start_time": "2024-07-30T20:48:29.743848Z"
    }
   },
   "cell_type": "code",
   "source": "comp_doubt.sample(5)",
   "id": "2e1cd8492e6b0f9e",
   "outputs": [
    {
     "data": {
      "text/plain": [
       "                                                items_x items_y  \\\n",
       "989                               lays cili laym 150 gr           \n",
       "3855                       prezident xama 15 pct 200 gr           \n",
       "6988                    aqua minerale qazsiz 2 lt 1 x 6           \n",
       "2395  hazer.lok.small cut rose lemn menth flv.350 gr...           \n",
       "2875       kardelen fritur yagi kizartmalik 18 lt 1 x 1           \n",
       "\n",
       "     Quantity/Volume_x   unit_x  Quantity/Volume_y unit_y     score1  \\\n",
       "989                108     ədəd                  0         72.222222   \n",
       "3855                 9     ədəd                  0         90.566038   \n",
       "6988                18  adet.lt                  0         62.745098   \n",
       "2395                16     eded                  0         67.415730   \n",
       "2875                 5  adet.lt                  0         61.111111   \n",
       "\n",
       "         score2     score3   score_w   score_d  \\\n",
       "989   72.222222  72.222222  0.333333  0.000000   \n",
       "3855  92.857143  91.697281  0.500000  0.000000   \n",
       "6988  74.285714  68.029436  0.000000  0.560000   \n",
       "2395  66.666667  67.039106  0.250000  0.136667   \n",
       "2875  78.571429  68.750000  0.000000  0.213333   \n",
       "\n",
       "                              Product or Service Name_x  \\\n",
       "989                                LAYS CILI LAYM 150GR   \n",
       "3855                          PREZIDENT XAMA 15% 200 GR   \n",
       "6988                      AQUA MINERALE QAZSIZ 2 LT 1X6   \n",
       "2395  HAZER.LOK.SMALL CUT ROSE LEMN MENTH FLV.350GR ...   \n",
       "2875     KARDELEN FRITUR YAGI(KIZARTMALIK) 18LT PET 1X1   \n",
       "\n",
       "                              Product or Service Name_y  \n",
       "989                             LAYS PAPRIKA CIPS 50 GR  \n",
       "3855                          PRESIDENT XAMA 20% 350 GR  \n",
       "6988                          MILLA AYRAN NANELI 1L 1X6  \n",
       "2395  HAZER.LOK.PISTACHIO ROSE LEMON 454 GR 1X12 (4132)  \n",
       "2875                             LAYS SIR 150 GR 1 x 18  "
      ],
      "text/html": [
       "<div>\n",
       "<style scoped>\n",
       "    .dataframe tbody tr th:only-of-type {\n",
       "        vertical-align: middle;\n",
       "    }\n",
       "\n",
       "    .dataframe tbody tr th {\n",
       "        vertical-align: top;\n",
       "    }\n",
       "\n",
       "    .dataframe thead th {\n",
       "        text-align: right;\n",
       "    }\n",
       "</style>\n",
       "<table border=\"1\" class=\"dataframe\">\n",
       "  <thead>\n",
       "    <tr style=\"text-align: right;\">\n",
       "      <th></th>\n",
       "      <th>items_x</th>\n",
       "      <th>items_y</th>\n",
       "      <th>Quantity/Volume_x</th>\n",
       "      <th>unit_x</th>\n",
       "      <th>Quantity/Volume_y</th>\n",
       "      <th>unit_y</th>\n",
       "      <th>score1</th>\n",
       "      <th>score2</th>\n",
       "      <th>score3</th>\n",
       "      <th>score_w</th>\n",
       "      <th>score_d</th>\n",
       "      <th>Product or Service Name_x</th>\n",
       "      <th>Product or Service Name_y</th>\n",
       "    </tr>\n",
       "  </thead>\n",
       "  <tbody>\n",
       "    <tr>\n",
       "      <th>989</th>\n",
       "      <td>lays cili laym 150 gr</td>\n",
       "      <td></td>\n",
       "      <td>108</td>\n",
       "      <td>ədəd</td>\n",
       "      <td>0</td>\n",
       "      <td></td>\n",
       "      <td>72.222222</td>\n",
       "      <td>72.222222</td>\n",
       "      <td>72.222222</td>\n",
       "      <td>0.333333</td>\n",
       "      <td>0.000000</td>\n",
       "      <td>LAYS CILI LAYM 150GR</td>\n",
       "      <td>LAYS PAPRIKA CIPS 50 GR</td>\n",
       "    </tr>\n",
       "    <tr>\n",
       "      <th>3855</th>\n",
       "      <td>prezident xama 15 pct 200 gr</td>\n",
       "      <td></td>\n",
       "      <td>9</td>\n",
       "      <td>ədəd</td>\n",
       "      <td>0</td>\n",
       "      <td></td>\n",
       "      <td>90.566038</td>\n",
       "      <td>92.857143</td>\n",
       "      <td>91.697281</td>\n",
       "      <td>0.500000</td>\n",
       "      <td>0.000000</td>\n",
       "      <td>PREZIDENT XAMA 15% 200 GR</td>\n",
       "      <td>PRESIDENT XAMA 20% 350 GR</td>\n",
       "    </tr>\n",
       "    <tr>\n",
       "      <th>6988</th>\n",
       "      <td>aqua minerale qazsiz 2 lt 1 x 6</td>\n",
       "      <td></td>\n",
       "      <td>18</td>\n",
       "      <td>adet.lt</td>\n",
       "      <td>0</td>\n",
       "      <td></td>\n",
       "      <td>62.745098</td>\n",
       "      <td>74.285714</td>\n",
       "      <td>68.029436</td>\n",
       "      <td>0.000000</td>\n",
       "      <td>0.560000</td>\n",
       "      <td>AQUA MINERALE QAZSIZ 2 LT 1X6</td>\n",
       "      <td>MILLA AYRAN NANELI 1L 1X6</td>\n",
       "    </tr>\n",
       "    <tr>\n",
       "      <th>2395</th>\n",
       "      <td>hazer.lok.small cut rose lemn menth flv.350 gr...</td>\n",
       "      <td></td>\n",
       "      <td>16</td>\n",
       "      <td>eded</td>\n",
       "      <td>0</td>\n",
       "      <td></td>\n",
       "      <td>67.415730</td>\n",
       "      <td>66.666667</td>\n",
       "      <td>67.039106</td>\n",
       "      <td>0.250000</td>\n",
       "      <td>0.136667</td>\n",
       "      <td>HAZER.LOK.SMALL CUT ROSE LEMN MENTH FLV.350GR ...</td>\n",
       "      <td>HAZER.LOK.PISTACHIO ROSE LEMON 454 GR 1X12 (4132)</td>\n",
       "    </tr>\n",
       "    <tr>\n",
       "      <th>2875</th>\n",
       "      <td>kardelen fritur yagi kizartmalik 18 lt 1 x 1</td>\n",
       "      <td></td>\n",
       "      <td>5</td>\n",
       "      <td>adet.lt</td>\n",
       "      <td>0</td>\n",
       "      <td></td>\n",
       "      <td>61.111111</td>\n",
       "      <td>78.571429</td>\n",
       "      <td>68.750000</td>\n",
       "      <td>0.000000</td>\n",
       "      <td>0.213333</td>\n",
       "      <td>KARDELEN FRITUR YAGI(KIZARTMALIK) 18LT PET 1X1</td>\n",
       "      <td>LAYS SIR 150 GR 1 x 18</td>\n",
       "    </tr>\n",
       "  </tbody>\n",
       "</table>\n",
       "</div>"
      ]
     },
     "execution_count": 38,
     "metadata": {},
     "output_type": "execute_result"
    }
   ],
   "execution_count": 38
  },
  {
   "metadata": {
    "ExecuteTime": {
     "end_time": "2024-07-30T20:48:29.968208Z",
     "start_time": "2024-07-30T20:48:29.966731Z"
    }
   },
   "cell_type": "code",
   "source": "",
   "id": "5849c6d901527c80",
   "outputs": [],
   "execution_count": 38
  },
  {
   "metadata": {
    "ExecuteTime": {
     "end_time": "2024-07-30T20:48:30.154550Z",
     "start_time": "2024-07-30T20:48:30.150996Z"
    }
   },
   "cell_type": "code",
   "source": "compilation_scored = pd.concat([comp_true, comp_doubt])",
   "id": "42468dfdb119f736",
   "outputs": [],
   "execution_count": 39
  },
  {
   "metadata": {
    "ExecuteTime": {
     "end_time": "2024-07-30T20:48:30.370775Z",
     "start_time": "2024-07-30T20:48:30.367016Z"
    }
   },
   "cell_type": "code",
   "source": "compilation_scored['unit_common'] = compilation_scored['unit_x'] + ' ' +  compilation_scored['unit_y']",
   "id": "785fc73aebe0d7c0",
   "outputs": [],
   "execution_count": 40
  },
  {
   "metadata": {
    "ExecuteTime": {
     "end_time": "2024-07-30T20:48:30.596171Z",
     "start_time": "2024-07-30T20:48:30.592774Z"
    }
   },
   "cell_type": "code",
   "source": "compilation_scored['unit_common_set'] = compilation_scored['unit_common'].apply(lambda x: set(str(x).replace('.', ' ').split()))",
   "id": "76857e8b80f2cb98",
   "outputs": [],
   "execution_count": 41
  },
  {
   "metadata": {
    "ExecuteTime": {
     "end_time": "2024-07-30T20:48:30.811014Z",
     "start_time": "2024-07-30T20:48:30.807910Z"
    }
   },
   "cell_type": "code",
   "source": [
    "compilation_scored['unit_common_str'] = compilation_scored['unit_common_set'].apply(\n",
    "    lambda x: str(list(x)[0]) if len(list(x)) == 0 else ' '.join(list(x))\n",
    ")"
   ],
   "id": "fe90589fd17f2fad",
   "outputs": [],
   "execution_count": 42
  },
  {
   "metadata": {
    "ExecuteTime": {
     "end_time": "2024-07-30T20:48:31.000025Z",
     "start_time": "2024-07-30T20:48:30.994107Z"
    }
   },
   "cell_type": "code",
   "source": [
    "compilation_scored['quant_in'] = compilation_scored['Quantity/Volume_x'].astype('str').str.replace(',', '.').fillna(0).astype('float')\n",
    "compilation_scored['quant_out'] = compilation_scored['Quantity/Volume_y'].astype('str').str.replace(',', '.').fillna(0).astype('float')"
   ],
   "id": "9f905fa068adae67",
   "outputs": [],
   "execution_count": 43
  },
  {
   "metadata": {
    "ExecuteTime": {
     "end_time": "2024-07-30T20:48:31.217785Z",
     "start_time": "2024-07-30T20:48:31.208748Z"
    }
   },
   "cell_type": "code",
   "source": [
    "# x - incoming y - outcoming\n",
    "compilation_scored[[\n",
    "          'items_x', 'items_y',\n",
    "          'score3', 'score1', 'score2', 'score_w', 'score_d', 'Product or Service Name_y']].sample(250)"
   ],
   "id": "e6a43ce336ad9833",
   "outputs": [
    {
     "data": {
      "text/plain": [
       "                                                items_x  \\\n",
       "4040            pinar ketcap acili plastik 600 gr 1 x 6   \n",
       "854                     bebeto super belts 75 gr 1 x 12   \n",
       "4606  president sirin k dolce erik 20 pct 200 gr 1 x 12   \n",
       "1166      sevimli dad kesmik gaysili 9 pct 180 gr 1 x 1   \n",
       "2617                    ulker pendir labne 400 gr 1 x 6   \n",
       "...                                                 ...   \n",
       "8415           qlavprodukt gobelek opyata 580 qr 1 x 12   \n",
       "3256       doktor milk kesmik 0 pct 180 qr uzumlu 1 x 1   \n",
       "914            ulker puding icim ciyelekli 60 gr 1 x 24   \n",
       "3891         kirlangic riviera zeytinyagi 0.5 lt 1 x 18   \n",
       "992              pinar peynir labne light 200 gr 1 x 12   \n",
       "\n",
       "                                                items_y  score3  score1  \\\n",
       "4040                  pinar ketcap acili plastik 600 gr   100.0   100.0   \n",
       "854                     bebeto super belts 75 gr 1 x 12   100.0   100.0   \n",
       "4606  president sirin k dolce erik 20 pct 200 gr 1 x 12   100.0   100.0   \n",
       "1166      sevimli dad kesmik gaysili 9 pct 180 gr 1 x 1   100.0   100.0   \n",
       "2617                    ulker pendir labne 400 gr 1 x 6   100.0   100.0   \n",
       "...                                                 ...     ...     ...   \n",
       "8415           qlavprodukt gobelek opyata 580 qr 1 x 12   100.0   100.0   \n",
       "3256       doktor milk kesmik 0 pct 180 qr uzumlu 1 x 1   100.0   100.0   \n",
       "914            ulker puding icim ciyelekli 60 gr 1 x 24   100.0   100.0   \n",
       "3891         kirlangic riviera zeytinyagi 0.5 lt 1 x 18   100.0   100.0   \n",
       "992              pinar peynir labne light 200 gr 1 x 12   100.0   100.0   \n",
       "\n",
       "      score2  score_w   score_d                      Product or Service Name_y  \n",
       "4040   100.0      1.0  0.466667              PINAR KETCAP ACILI PLASTIK 600 GR  \n",
       "854    100.0      1.0  0.480000                  BEBETO SUPER BELTS 75 GR 1X12  \n",
       "4606   100.0      1.0  0.475000  PRESIDENT SIRIN K/M DOLCE ERIK 20% 200GR 1X12  \n",
       "1166   100.0      1.0  0.583333       SEVIMLI DAD KESMIK GAYSILI 9% 180 GR 1x1  \n",
       "2617   100.0      1.0  0.480000                  ULKER PENDIR LABNE 400 GR 1X6  \n",
       "...      ...      ...       ...                                            ...  \n",
       "8415   100.0      1.0  0.550000         QLAVPRODUKT GOBELEK OPYATA 580 QR 1X12  \n",
       "3256   100.0      1.0  0.566667        DOKTOR MILK KESMIK 0% 180 QR UZUMLU 1x1  \n",
       "914    100.0      1.0  0.640000         ULKER PUDING ICIM CIYELEKLI 60 GR 1X24  \n",
       "3891   100.0      1.0  0.700000   KIRLANGIC RIVIERA ZEYTINYAGI 0,5 LT PET 1X18  \n",
       "992    100.0      1.0  0.500000           PINAR PEYNIR LABNE LIGHT 200 GR 1x12  \n",
       "\n",
       "[250 rows x 8 columns]"
      ],
      "text/html": [
       "<div>\n",
       "<style scoped>\n",
       "    .dataframe tbody tr th:only-of-type {\n",
       "        vertical-align: middle;\n",
       "    }\n",
       "\n",
       "    .dataframe tbody tr th {\n",
       "        vertical-align: top;\n",
       "    }\n",
       "\n",
       "    .dataframe thead th {\n",
       "        text-align: right;\n",
       "    }\n",
       "</style>\n",
       "<table border=\"1\" class=\"dataframe\">\n",
       "  <thead>\n",
       "    <tr style=\"text-align: right;\">\n",
       "      <th></th>\n",
       "      <th>items_x</th>\n",
       "      <th>items_y</th>\n",
       "      <th>score3</th>\n",
       "      <th>score1</th>\n",
       "      <th>score2</th>\n",
       "      <th>score_w</th>\n",
       "      <th>score_d</th>\n",
       "      <th>Product or Service Name_y</th>\n",
       "    </tr>\n",
       "  </thead>\n",
       "  <tbody>\n",
       "    <tr>\n",
       "      <th>4040</th>\n",
       "      <td>pinar ketcap acili plastik 600 gr 1 x 6</td>\n",
       "      <td>pinar ketcap acili plastik 600 gr</td>\n",
       "      <td>100.0</td>\n",
       "      <td>100.0</td>\n",
       "      <td>100.0</td>\n",
       "      <td>1.0</td>\n",
       "      <td>0.466667</td>\n",
       "      <td>PINAR KETCAP ACILI PLASTIK 600 GR</td>\n",
       "    </tr>\n",
       "    <tr>\n",
       "      <th>854</th>\n",
       "      <td>bebeto super belts 75 gr 1 x 12</td>\n",
       "      <td>bebeto super belts 75 gr 1 x 12</td>\n",
       "      <td>100.0</td>\n",
       "      <td>100.0</td>\n",
       "      <td>100.0</td>\n",
       "      <td>1.0</td>\n",
       "      <td>0.480000</td>\n",
       "      <td>BEBETO SUPER BELTS 75 GR 1X12</td>\n",
       "    </tr>\n",
       "    <tr>\n",
       "      <th>4606</th>\n",
       "      <td>president sirin k dolce erik 20 pct 200 gr 1 x 12</td>\n",
       "      <td>president sirin k dolce erik 20 pct 200 gr 1 x 12</td>\n",
       "      <td>100.0</td>\n",
       "      <td>100.0</td>\n",
       "      <td>100.0</td>\n",
       "      <td>1.0</td>\n",
       "      <td>0.475000</td>\n",
       "      <td>PRESIDENT SIRIN K/M DOLCE ERIK 20% 200GR 1X12</td>\n",
       "    </tr>\n",
       "    <tr>\n",
       "      <th>1166</th>\n",
       "      <td>sevimli dad kesmik gaysili 9 pct 180 gr 1 x 1</td>\n",
       "      <td>sevimli dad kesmik gaysili 9 pct 180 gr 1 x 1</td>\n",
       "      <td>100.0</td>\n",
       "      <td>100.0</td>\n",
       "      <td>100.0</td>\n",
       "      <td>1.0</td>\n",
       "      <td>0.583333</td>\n",
       "      <td>SEVIMLI DAD KESMIK GAYSILI 9% 180 GR 1x1</td>\n",
       "    </tr>\n",
       "    <tr>\n",
       "      <th>2617</th>\n",
       "      <td>ulker pendir labne 400 gr 1 x 6</td>\n",
       "      <td>ulker pendir labne 400 gr 1 x 6</td>\n",
       "      <td>100.0</td>\n",
       "      <td>100.0</td>\n",
       "      <td>100.0</td>\n",
       "      <td>1.0</td>\n",
       "      <td>0.480000</td>\n",
       "      <td>ULKER PENDIR LABNE 400 GR 1X6</td>\n",
       "    </tr>\n",
       "    <tr>\n",
       "      <th>...</th>\n",
       "      <td>...</td>\n",
       "      <td>...</td>\n",
       "      <td>...</td>\n",
       "      <td>...</td>\n",
       "      <td>...</td>\n",
       "      <td>...</td>\n",
       "      <td>...</td>\n",
       "      <td>...</td>\n",
       "    </tr>\n",
       "    <tr>\n",
       "      <th>8415</th>\n",
       "      <td>qlavprodukt gobelek opyata 580 qr 1 x 12</td>\n",
       "      <td>qlavprodukt gobelek opyata 580 qr 1 x 12</td>\n",
       "      <td>100.0</td>\n",
       "      <td>100.0</td>\n",
       "      <td>100.0</td>\n",
       "      <td>1.0</td>\n",
       "      <td>0.550000</td>\n",
       "      <td>QLAVPRODUKT GOBELEK OPYATA 580 QR 1X12</td>\n",
       "    </tr>\n",
       "    <tr>\n",
       "      <th>3256</th>\n",
       "      <td>doktor milk kesmik 0 pct 180 qr uzumlu 1 x 1</td>\n",
       "      <td>doktor milk kesmik 0 pct 180 qr uzumlu 1 x 1</td>\n",
       "      <td>100.0</td>\n",
       "      <td>100.0</td>\n",
       "      <td>100.0</td>\n",
       "      <td>1.0</td>\n",
       "      <td>0.566667</td>\n",
       "      <td>DOKTOR MILK KESMIK 0% 180 QR UZUMLU 1x1</td>\n",
       "    </tr>\n",
       "    <tr>\n",
       "      <th>914</th>\n",
       "      <td>ulker puding icim ciyelekli 60 gr 1 x 24</td>\n",
       "      <td>ulker puding icim ciyelekli 60 gr 1 x 24</td>\n",
       "      <td>100.0</td>\n",
       "      <td>100.0</td>\n",
       "      <td>100.0</td>\n",
       "      <td>1.0</td>\n",
       "      <td>0.640000</td>\n",
       "      <td>ULKER PUDING ICIM CIYELEKLI 60 GR 1X24</td>\n",
       "    </tr>\n",
       "    <tr>\n",
       "      <th>3891</th>\n",
       "      <td>kirlangic riviera zeytinyagi 0.5 lt 1 x 18</td>\n",
       "      <td>kirlangic riviera zeytinyagi 0.5 lt 1 x 18</td>\n",
       "      <td>100.0</td>\n",
       "      <td>100.0</td>\n",
       "      <td>100.0</td>\n",
       "      <td>1.0</td>\n",
       "      <td>0.700000</td>\n",
       "      <td>KIRLANGIC RIVIERA ZEYTINYAGI 0,5 LT PET 1X18</td>\n",
       "    </tr>\n",
       "    <tr>\n",
       "      <th>992</th>\n",
       "      <td>pinar peynir labne light 200 gr 1 x 12</td>\n",
       "      <td>pinar peynir labne light 200 gr 1 x 12</td>\n",
       "      <td>100.0</td>\n",
       "      <td>100.0</td>\n",
       "      <td>100.0</td>\n",
       "      <td>1.0</td>\n",
       "      <td>0.500000</td>\n",
       "      <td>PINAR PEYNIR LABNE LIGHT 200 GR 1x12</td>\n",
       "    </tr>\n",
       "  </tbody>\n",
       "</table>\n",
       "<p>250 rows × 8 columns</p>\n",
       "</div>"
      ]
     },
     "execution_count": 44,
     "metadata": {},
     "output_type": "execute_result"
    }
   ],
   "execution_count": 44
  },
  {
   "metadata": {
    "ExecuteTime": {
     "end_time": "2024-07-30T20:48:31.411368Z",
     "start_time": "2024-07-30T20:48:31.409157Z"
    }
   },
   "cell_type": "code",
   "source": "",
   "id": "f2a4a74822c6512",
   "outputs": [],
   "execution_count": 44
  },
  {
   "metadata": {
    "ExecuteTime": {
     "end_time": "2024-07-30T20:48:31.677431Z",
     "start_time": "2024-07-30T20:48:31.669644Z"
    }
   },
   "cell_type": "code",
   "source": "compilation_scored['items_x_numberless'] = compilation_scored['items_x'].apply(lambda x: remove_numbers(x))",
   "id": "863d1c0f691c1276",
   "outputs": [],
   "execution_count": 45
  },
  {
   "metadata": {
    "ExecuteTime": {
     "end_time": "2024-07-30T20:48:31.793315Z",
     "start_time": "2024-07-30T20:48:31.791548Z"
    }
   },
   "cell_type": "code",
   "source": "",
   "id": "bac680604a2be7f9",
   "outputs": [],
   "execution_count": 45
  },
  {
   "metadata": {
    "ExecuteTime": {
     "end_time": "2024-07-30T20:48:32.005958Z",
     "start_time": "2024-07-30T20:48:32.001086Z"
    }
   },
   "cell_type": "code",
   "source": [
    "kw_extractor1 = yake.KeywordExtractor(\n",
    "    n=3,\n",
    "    dedupLim=0.5,\n",
    "    dedupFunc='sequencematcher',\n",
    "    windowsSize=2,\n",
    "    top=3,\n",
    "    features=None\n",
    ")\n",
    "\n",
    "kw_extractor2 = yake.KeywordExtractor(\n",
    "    n=1,\n",
    "    dedupLim=0.5,\n",
    "    dedupFunc='sequencematcher',\n",
    "    windowsSize=2,\n",
    "    top=1,\n",
    "    features=None\n",
    ")\n",
    "\n",
    "kw_extractor = yake.KeywordExtractor(\n",
    "    n=2,\n",
    "    dedupLim=0.5,\n",
    "    dedupFunc='sequencematcher',\n",
    "    windowsSize=2,\n",
    "    top=3,\n",
    "    features=None\n",
    ")\n"
   ],
   "id": "c57caf460d8b6373",
   "outputs": [],
   "execution_count": 46
  },
  {
   "metadata": {
    "ExecuteTime": {
     "end_time": "2024-07-30T20:48:32.221624Z",
     "start_time": "2024-07-30T20:48:32.219744Z"
    }
   },
   "cell_type": "code",
   "source": "",
   "id": "56f344affb384b3d",
   "outputs": [],
   "execution_count": 46
  },
  {
   "metadata": {
    "ExecuteTime": {
     "end_time": "2024-07-30T20:48:32.416485Z",
     "start_time": "2024-07-30T20:48:32.413562Z"
    }
   },
   "cell_type": "code",
   "source": [
    "def get_2main_word(word: str):\n",
    "    keywords = kw_extractor.extract_keywords(word)\n",
    "    x = {kw[0]: kw[1] for kw in keywords}\n",
    "    if len(x) > 0:\n",
    "        return min(x, key=x.get)\n",
    "    else:\n",
    "        return ''\n",
    "\n",
    "def get_1main_word(words: str):\n",
    "    if len(words) > 0:\n",
    "        fltr = kw_extractor.extract_keywords(words)\n",
    "        fltr_dct = {kw[0]: kw[1] for kw in fltr}\n",
    "        return max(fltr_dct, key=fltr_dct.get)\n",
    "    else:\n",
    "        return ''"
   ],
   "id": "15b6518b39e26d4",
   "outputs": [],
   "execution_count": 47
  },
  {
   "metadata": {
    "ExecuteTime": {
     "end_time": "2024-07-30T20:48:32.684344Z",
     "start_time": "2024-07-30T20:48:32.643627Z"
    }
   },
   "cell_type": "code",
   "source": [
    "for item in compilation_scored.sample(50)['items_x_numberless']:\n",
    "    words = get_2main_word(item)\n",
    "    word = get_1main_word(words)\n",
    "    print(item)\n",
    "    print('---')\n",
    "    splitted_words = words.split()\n",
    "    if len(splitted_words) == 2:\n",
    "        print(' '.join(splitted_words))\n",
    "        print(' '.join(splitted_words[:-1]))\n",
    "        # print(' '.join(splitted_words[-1:]))\n",
    "    elif len(splitted_words) == 3:\n",
    "        print(' '.join(splitted_words[:-1]))\n",
    "        print(splitted_words[-1])\n",
    "    # print(word)\n",
    "    print()"
   ],
   "id": "843fac3c2275cb3",
   "outputs": [
    {
     "name": "stdout",
     "output_type": "stream",
     "text": [
      "tadim antep fistigi\n",
      "---\n",
      "tadim antep\n",
      "tadim\n",
      "\n",
      "ulker puding cokokrem\n",
      "---\n",
      "ulker puding\n",
      "ulker\n",
      "\n",
      "pinar salam bitir\n",
      "---\n",
      "pinar salam\n",
      "pinar\n",
      "\n",
      "halk kapkek meyveli\n",
      "---\n",
      "halk kapkek\n",
      "halk\n",
      "\n",
      "semeyniy budj mal\n",
      "---\n",
      "semeyniy budj\n",
      "semeyniy\n",
      "\n",
      "kardelen fritur yagi\n",
      "---\n",
      "kardelen fritur\n",
      "kardelen\n",
      "\n",
      "doktor milk teze\n",
      "---\n",
      "doktor milk\n",
      "doktor\n",
      "\n",
      "korolevskiy pinqvin limonad\n",
      "---\n",
      "korolevskiy pinqvin\n",
      "korolevskiy\n",
      "\n",
      "doritos taco\n",
      "---\n",
      "doritos taco\n",
      "doritos\n",
      "\n",
      "sevimli gatig suse\n",
      "---\n",
      "sevimli gatig\n",
      "sevimli\n",
      "\n",
      "pinar hindi sosis\n",
      "---\n",
      "pinar hindi\n",
      "pinar\n",
      "\n",
      "semeyniy budj mal\n",
      "---\n",
      "semeyniy budj\n",
      "semeyniy\n",
      "\n",
      "tadim badem ici\n",
      "---\n",
      "tadim badem\n",
      "tadim\n",
      "\n",
      "komili misir yagi\n",
      "---\n",
      "komili misir\n",
      "komili\n",
      "\n",
      "qlavprodukt pashtet toyuq\n",
      "---\n",
      "qlavprodukt pashtet\n",
      "qlavprodukt\n",
      "\n",
      "dolcia puding bananli\n",
      "---\n",
      "dolcia puding\n",
      "dolcia\n",
      "\n",
      "sevimli gatig\n",
      "---\n",
      "sevimli gatig\n",
      "sevimli\n",
      "\n",
      "bimba yoqurt albali\n",
      "---\n",
      "bimba yoqurt\n",
      "bimba\n",
      "\n",
      "sevimli kesmik yagli\n",
      "---\n",
      "sevimli kesmik\n",
      "sevimli\n",
      "\n",
      "ulker pendir labne\n",
      "---\n",
      "ulker pendir\n",
      "ulker\n",
      "\n",
      "frico gouda loaf\n",
      "---\n",
      "frico gouda\n",
      "frico\n",
      "\n",
      "semeyniy budj mal\n",
      "---\n",
      "semeyniy budj\n",
      "semeyniy\n",
      "\n",
      "qlavp baliq kons\n",
      "---\n",
      "qlavp baliq\n",
      "qlavp\n",
      "\n",
      "president xama\n",
      "---\n",
      "president xama\n",
      "president\n",
      "\n",
      "lays stix ketchup\n",
      "---\n",
      "lays stix\n",
      "lays\n",
      "\n",
      "sevimli kefir\n",
      "---\n",
      "sevimli kefir\n",
      "sevimli\n",
      "\n",
      "president kefir\n",
      "---\n",
      "president kefir\n",
      "president\n",
      "\n",
      "sev makaron qelem\n",
      "---\n",
      "sev makaron\n",
      "sev\n",
      "\n",
      "superfresh patates\n",
      "---\n",
      "superfresh patates\n",
      "superfresh\n",
      "\n",
      "pinar peynir labne\n",
      "---\n",
      "pinar peynir\n",
      "pinar\n",
      "\n",
      "kirlangic sizma zeytinyagi\n",
      "---\n",
      "kirlangic sizma\n",
      "kirlangic\n",
      "\n",
      "elvan today souffle\n",
      "---\n",
      "elvan today\n",
      "elvan\n",
      "\n",
      "ulker puding cokokrem\n",
      "---\n",
      "ulker puding\n",
      "ulker\n",
      "\n",
      "fersan elma sirkesi\n",
      "---\n",
      "fersan elma\n",
      "fersan\n",
      "\n",
      "elvan today goldies\n",
      "---\n",
      "elvan today\n",
      "elvan\n",
      "\n",
      "president kesme mocarella\n",
      "---\n",
      "president kesme\n",
      "president\n",
      "\n",
      "osmanli lokum findiqli\n",
      "---\n",
      "osmanli lokum\n",
      "osmanli\n",
      "\n",
      "quickbury tortillaslavas\n",
      "---\n",
      "quickbury tortillaslavas\n",
      "quickbury\n",
      "\n",
      "bebeto triple watermelon\n",
      "---\n",
      "bebeto triple\n",
      "bebeto\n",
      "\n",
      "delverde mezzi rigatoni\n",
      "---\n",
      "delverde mezzi\n",
      "delverde\n",
      "\n",
      "superfresh superton\n",
      "---\n",
      "superfresh superton\n",
      "superfresh\n",
      "\n",
      "pamuk lokum badamli\n",
      "---\n",
      "pamuk lokum\n",
      "pamuk\n",
      "\n",
      "sevimli kefir kaunas\n",
      "---\n",
      "sevimli kefir\n",
      "sevimli\n",
      "\n",
      "sonti alma nektari\n",
      "---\n",
      "sonti alma\n",
      "sonti\n",
      "\n",
      "qlavprodukt xardal russkaya\n",
      "---\n",
      "qlavprodukt xardal\n",
      "qlavprodukt\n",
      "\n",
      "sokovita alma saftali\n",
      "---\n",
      "sokovita alma\n",
      "sokovita\n",
      "\n",
      "tadim antep fistigi\n",
      "---\n",
      "tadim antep\n",
      "tadim\n",
      "\n",
      "komili misir yagi\n",
      "---\n",
      "komili misir\n",
      "komili\n",
      "\n",
      "ulker puding icim\n",
      "---\n",
      "ulker puding\n",
      "ulker\n",
      "\n",
      "superfresh ton royal\n",
      "---\n",
      "superfresh ton\n",
      "superfresh\n",
      "\n"
     ]
    }
   ],
   "execution_count": 48
  },
  {
   "metadata": {
    "ExecuteTime": {
     "end_time": "2024-07-30T20:48:32.838958Z",
     "start_time": "2024-07-30T20:48:32.837057Z"
    }
   },
   "cell_type": "code",
   "source": "",
   "id": "7f46173a42c2d116",
   "outputs": [],
   "execution_count": 48
  },
  {
   "metadata": {
    "ExecuteTime": {
     "end_time": "2024-07-30T20:48:33.687486Z",
     "start_time": "2024-07-30T20:48:33.026351Z"
    }
   },
   "cell_type": "code",
   "source": [
    "compilation_scored['main_2word'] = compilation_scored['items_x_numberless'].apply(lambda x: get_2main_word(x))\n",
    "compilation_scored['main_1word'] = compilation_scored['main_2word'].apply(lambda x: get_1main_word(x))"
   ],
   "id": "667ec29debc908e9",
   "outputs": [],
   "execution_count": 49
  },
  {
   "metadata": {
    "ExecuteTime": {
     "end_time": "2024-07-30T20:48:33.698159Z",
     "start_time": "2024-07-30T20:48:33.688659Z"
    }
   },
   "cell_type": "code",
   "source": "compilation_scored.groupby(by=['main_1word', 'main_2word', 'items_x', 'items_y', 'unit_common_str']).agg({'quant_in':'sum','quant_out':'sum'}) # .sort_values(['unit_common_str'])",
   "id": "c9209f535ad8f825",
   "outputs": [
    {
     "data": {
      "text/plain": [
       "                                                                                                                                                     quant_in  \\\n",
       "main_1word main_2word         items_x                                            items_y                                            unit_common_str             \n",
       "aci        berrak aci         berrak aci sus biberi tursusu 370 ml 1 x 12        berrak aci sus biberi tursusu 370 ml 1 x 12        adet eded ml         12.0   \n",
       "acili      doritos acili      doritos acili 130 gr 1 x 16                        doritos acili 130 gr 1 x 16                        eded                 90.0   \n",
       "                              doritos acili 74 gr 1 x 24                         doritos acili 74 gr 1 x 24                         eded                130.0   \n",
       "adjika     qlavprodukt adjika qlavprodukt adjika aromatnaya 170 qr 1 x 15        qlavprodukt adjika aromatnaya 170 qr 1 x 15        eded                825.0   \n",
       "                              qlavprodukt adjika domasnaya 170 gr                qlavprodukt adjika aromatnaya 170 gr               ədəd eded            10.0   \n",
       "...                                                                                                                                                       ...   \n",
       "zolotoy    zolotoy petusok    zolotoy petusok naggets pendir 300 gr 1 x 12 4608  zolotoy petusok naggets pendir 300 gr 1 x 12 4608  eded                 12.0   \n",
       "                              zolotoy petusok naggets toyuqlu 300 gr 1 x 12 4639 zolotoy petusok naggets toyuqlu 300 gr 1 x 12 4639 eded                  6.0   \n",
       "                              zolotoy petusok naggets vkus.300 gr 1 x 12 4719    zolotoy petusok naggets vkus.300 gr 1 x 12 4719    eded                 24.0   \n",
       "                              zolotoy petusok strips vkusnyaski 300 gr 1 x 12... zolotoy petusok strips vkusnyaski 300 gr 1 x 12... eded                  3.0   \n",
       "                              zolotoy petusok suxari toyuq steyk 280 gr 1 x 1... zolotoy petusok suxari toyuq steyk 280 gr 1 x 1... eded                 12.0   \n",
       "\n",
       "                                                                                                                                                     quant_out  \n",
       "main_1word main_2word         items_x                                            items_y                                            unit_common_str             \n",
       "aci        berrak aci         berrak aci sus biberi tursusu 370 ml 1 x 12        berrak aci sus biberi tursusu 370 ml 1 x 12        adet eded ml           4.0  \n",
       "acili      doritos acili      doritos acili 130 gr 1 x 16                        doritos acili 130 gr 1 x 16                        eded                  80.0  \n",
       "                              doritos acili 74 gr 1 x 24                         doritos acili 74 gr 1 x 24                         eded                  12.0  \n",
       "adjika     qlavprodukt adjika qlavprodukt adjika aromatnaya 170 qr 1 x 15        qlavprodukt adjika aromatnaya 170 qr 1 x 15        eded                  10.0  \n",
       "                              qlavprodukt adjika domasnaya 170 gr                qlavprodukt adjika aromatnaya 170 gr               ədəd eded             90.0  \n",
       "...                                                                                                                                                        ...  \n",
       "zolotoy    zolotoy petusok    zolotoy petusok naggets pendir 300 gr 1 x 12 4608  zolotoy petusok naggets pendir 300 gr 1 x 12 4608  eded                   8.0  \n",
       "                              zolotoy petusok naggets toyuqlu 300 gr 1 x 12 4639 zolotoy petusok naggets toyuqlu 300 gr 1 x 12 4639 eded                   4.0  \n",
       "                              zolotoy petusok naggets vkus.300 gr 1 x 12 4719    zolotoy petusok naggets vkus.300 gr 1 x 12 4719    eded                   3.0  \n",
       "                              zolotoy petusok strips vkusnyaski 300 gr 1 x 12... zolotoy petusok strips vkusnyaski 300 gr 1 x 12... eded                  12.0  \n",
       "                              zolotoy petusok suxari toyuq steyk 280 gr 1 x 1... zolotoy petusok suxari toyuq steyk 280 gr 1 x 1... eded                   2.0  \n",
       "\n",
       "[526 rows x 2 columns]"
      ],
      "text/html": [
       "<div>\n",
       "<style scoped>\n",
       "    .dataframe tbody tr th:only-of-type {\n",
       "        vertical-align: middle;\n",
       "    }\n",
       "\n",
       "    .dataframe tbody tr th {\n",
       "        vertical-align: top;\n",
       "    }\n",
       "\n",
       "    .dataframe thead th {\n",
       "        text-align: right;\n",
       "    }\n",
       "</style>\n",
       "<table border=\"1\" class=\"dataframe\">\n",
       "  <thead>\n",
       "    <tr style=\"text-align: right;\">\n",
       "      <th></th>\n",
       "      <th></th>\n",
       "      <th></th>\n",
       "      <th></th>\n",
       "      <th></th>\n",
       "      <th>quant_in</th>\n",
       "      <th>quant_out</th>\n",
       "    </tr>\n",
       "    <tr>\n",
       "      <th>main_1word</th>\n",
       "      <th>main_2word</th>\n",
       "      <th>items_x</th>\n",
       "      <th>items_y</th>\n",
       "      <th>unit_common_str</th>\n",
       "      <th></th>\n",
       "      <th></th>\n",
       "    </tr>\n",
       "  </thead>\n",
       "  <tbody>\n",
       "    <tr>\n",
       "      <th>aci</th>\n",
       "      <th>berrak aci</th>\n",
       "      <th>berrak aci sus biberi tursusu 370 ml 1 x 12</th>\n",
       "      <th>berrak aci sus biberi tursusu 370 ml 1 x 12</th>\n",
       "      <th>adet eded ml</th>\n",
       "      <td>12.0</td>\n",
       "      <td>4.0</td>\n",
       "    </tr>\n",
       "    <tr>\n",
       "      <th rowspan=\"2\" valign=\"top\">acili</th>\n",
       "      <th rowspan=\"2\" valign=\"top\">doritos acili</th>\n",
       "      <th>doritos acili 130 gr 1 x 16</th>\n",
       "      <th>doritos acili 130 gr 1 x 16</th>\n",
       "      <th>eded</th>\n",
       "      <td>90.0</td>\n",
       "      <td>80.0</td>\n",
       "    </tr>\n",
       "    <tr>\n",
       "      <th>doritos acili 74 gr 1 x 24</th>\n",
       "      <th>doritos acili 74 gr 1 x 24</th>\n",
       "      <th>eded</th>\n",
       "      <td>130.0</td>\n",
       "      <td>12.0</td>\n",
       "    </tr>\n",
       "    <tr>\n",
       "      <th rowspan=\"2\" valign=\"top\">adjika</th>\n",
       "      <th rowspan=\"2\" valign=\"top\">qlavprodukt adjika</th>\n",
       "      <th>qlavprodukt adjika aromatnaya 170 qr 1 x 15</th>\n",
       "      <th>qlavprodukt adjika aromatnaya 170 qr 1 x 15</th>\n",
       "      <th>eded</th>\n",
       "      <td>825.0</td>\n",
       "      <td>10.0</td>\n",
       "    </tr>\n",
       "    <tr>\n",
       "      <th>qlavprodukt adjika domasnaya 170 gr</th>\n",
       "      <th>qlavprodukt adjika aromatnaya 170 gr</th>\n",
       "      <th>ədəd eded</th>\n",
       "      <td>10.0</td>\n",
       "      <td>90.0</td>\n",
       "    </tr>\n",
       "    <tr>\n",
       "      <th>...</th>\n",
       "      <th>...</th>\n",
       "      <th>...</th>\n",
       "      <th>...</th>\n",
       "      <th>...</th>\n",
       "      <td>...</td>\n",
       "      <td>...</td>\n",
       "    </tr>\n",
       "    <tr>\n",
       "      <th rowspan=\"5\" valign=\"top\">zolotoy</th>\n",
       "      <th rowspan=\"5\" valign=\"top\">zolotoy petusok</th>\n",
       "      <th>zolotoy petusok naggets pendir 300 gr 1 x 12 4608</th>\n",
       "      <th>zolotoy petusok naggets pendir 300 gr 1 x 12 4608</th>\n",
       "      <th>eded</th>\n",
       "      <td>12.0</td>\n",
       "      <td>8.0</td>\n",
       "    </tr>\n",
       "    <tr>\n",
       "      <th>zolotoy petusok naggets toyuqlu 300 gr 1 x 12 4639</th>\n",
       "      <th>zolotoy petusok naggets toyuqlu 300 gr 1 x 12 4639</th>\n",
       "      <th>eded</th>\n",
       "      <td>6.0</td>\n",
       "      <td>4.0</td>\n",
       "    </tr>\n",
       "    <tr>\n",
       "      <th>zolotoy petusok naggets vkus.300 gr 1 x 12 4719</th>\n",
       "      <th>zolotoy petusok naggets vkus.300 gr 1 x 12 4719</th>\n",
       "      <th>eded</th>\n",
       "      <td>24.0</td>\n",
       "      <td>3.0</td>\n",
       "    </tr>\n",
       "    <tr>\n",
       "      <th>zolotoy petusok strips vkusnyaski 300 gr 1 x 12 4718</th>\n",
       "      <th>zolotoy petusok strips vkusnyaski 300 gr 1 x 12 4718</th>\n",
       "      <th>eded</th>\n",
       "      <td>3.0</td>\n",
       "      <td>12.0</td>\n",
       "    </tr>\n",
       "    <tr>\n",
       "      <th>zolotoy petusok suxari toyuq steyk 280 gr 1 x 12 4960</th>\n",
       "      <th>zolotoy petusok suxari toyuq steyk 280 gr 1 x 12 4960</th>\n",
       "      <th>eded</th>\n",
       "      <td>12.0</td>\n",
       "      <td>2.0</td>\n",
       "    </tr>\n",
       "  </tbody>\n",
       "</table>\n",
       "<p>526 rows × 2 columns</p>\n",
       "</div>"
      ]
     },
     "execution_count": 50,
     "metadata": {},
     "output_type": "execute_result"
    }
   ],
   "execution_count": 50
  },
  {
   "metadata": {
    "ExecuteTime": {
     "end_time": "2024-07-30T20:48:33.705982Z",
     "start_time": "2024-07-30T20:48:33.698895Z"
    }
   },
   "cell_type": "code",
   "source": "compilation_scored.groupby(['main_1word']).agg({'quant_in': 'sum', 'quant_out': 'sum'})",
   "id": "94492e77639232e8",
   "outputs": [
    {
     "data": {
      "text/plain": [
       "            quant_in  quant_out\n",
       "main_1word                     \n",
       "aci             12.0        4.0\n",
       "acili          220.0       92.0\n",
       "adjika         840.0      106.0\n",
       "alma            73.0      171.0\n",
       "angry           44.0      375.0\n",
       "...              ...        ...\n",
       "xardal         320.0      623.0\n",
       "xlorami        200.0        0.0\n",
       "xren            42.0       50.0\n",
       "yagli          469.0      274.0\n",
       "zolotoy         71.0       35.0\n",
       "\n",
       "[143 rows x 2 columns]"
      ],
      "text/html": [
       "<div>\n",
       "<style scoped>\n",
       "    .dataframe tbody tr th:only-of-type {\n",
       "        vertical-align: middle;\n",
       "    }\n",
       "\n",
       "    .dataframe tbody tr th {\n",
       "        vertical-align: top;\n",
       "    }\n",
       "\n",
       "    .dataframe thead th {\n",
       "        text-align: right;\n",
       "    }\n",
       "</style>\n",
       "<table border=\"1\" class=\"dataframe\">\n",
       "  <thead>\n",
       "    <tr style=\"text-align: right;\">\n",
       "      <th></th>\n",
       "      <th>quant_in</th>\n",
       "      <th>quant_out</th>\n",
       "    </tr>\n",
       "    <tr>\n",
       "      <th>main_1word</th>\n",
       "      <th></th>\n",
       "      <th></th>\n",
       "    </tr>\n",
       "  </thead>\n",
       "  <tbody>\n",
       "    <tr>\n",
       "      <th>aci</th>\n",
       "      <td>12.0</td>\n",
       "      <td>4.0</td>\n",
       "    </tr>\n",
       "    <tr>\n",
       "      <th>acili</th>\n",
       "      <td>220.0</td>\n",
       "      <td>92.0</td>\n",
       "    </tr>\n",
       "    <tr>\n",
       "      <th>adjika</th>\n",
       "      <td>840.0</td>\n",
       "      <td>106.0</td>\n",
       "    </tr>\n",
       "    <tr>\n",
       "      <th>alma</th>\n",
       "      <td>73.0</td>\n",
       "      <td>171.0</td>\n",
       "    </tr>\n",
       "    <tr>\n",
       "      <th>angry</th>\n",
       "      <td>44.0</td>\n",
       "      <td>375.0</td>\n",
       "    </tr>\n",
       "    <tr>\n",
       "      <th>...</th>\n",
       "      <td>...</td>\n",
       "      <td>...</td>\n",
       "    </tr>\n",
       "    <tr>\n",
       "      <th>xardal</th>\n",
       "      <td>320.0</td>\n",
       "      <td>623.0</td>\n",
       "    </tr>\n",
       "    <tr>\n",
       "      <th>xlorami</th>\n",
       "      <td>200.0</td>\n",
       "      <td>0.0</td>\n",
       "    </tr>\n",
       "    <tr>\n",
       "      <th>xren</th>\n",
       "      <td>42.0</td>\n",
       "      <td>50.0</td>\n",
       "    </tr>\n",
       "    <tr>\n",
       "      <th>yagli</th>\n",
       "      <td>469.0</td>\n",
       "      <td>274.0</td>\n",
       "    </tr>\n",
       "    <tr>\n",
       "      <th>zolotoy</th>\n",
       "      <td>71.0</td>\n",
       "      <td>35.0</td>\n",
       "    </tr>\n",
       "  </tbody>\n",
       "</table>\n",
       "<p>143 rows × 2 columns</p>\n",
       "</div>"
      ]
     },
     "execution_count": 51,
     "metadata": {},
     "output_type": "execute_result"
    }
   ],
   "execution_count": 51
  },
  {
   "metadata": {
    "ExecuteTime": {
     "end_time": "2024-07-30T20:48:33.710194Z",
     "start_time": "2024-07-30T20:48:33.708202Z"
    }
   },
   "cell_type": "code",
   "source": "",
   "id": "de2b504f84a0b36b",
   "outputs": [],
   "execution_count": 51
  },
  {
   "metadata": {
    "ExecuteTime": {
     "end_time": "2024-07-30T20:48:34.136251Z",
     "start_time": "2024-07-30T20:48:34.125580Z"
    }
   },
   "cell_type": "code",
   "source": [
    "brand_agg = compilation_scored.groupby(['main_1word', 'main_2word', 'items_x', 'items_y', 'unit_common_str']).agg({'quant_in': 'sum', 'quant_out': 'sum'}).reset_index()\n",
    "brand_agg.rename(columns={'quant_in': 'brand_inventory_in', 'quant_out': 'brand_inventory_out'}, inplace=True)\n",
    "\n",
    "# Aggregate at the item_type level within each brand group\n",
    "type_agg = compilation_scored.groupby(['main_1word', 'main_2word']).agg({'quant_in': 'sum', 'quant_out': 'sum'}).reset_index()\n",
    "\n",
    "# Merge the two aggregation results\n",
    "result = pd.merge(brand_agg, type_agg, on='main_1word', how='left')"
   ],
   "id": "f0f3ad520faac469",
   "outputs": [],
   "execution_count": 52
  },
  {
   "metadata": {
    "ExecuteTime": {
     "end_time": "2024-07-30T20:48:34.417222Z",
     "start_time": "2024-07-30T20:48:34.407802Z"
    }
   },
   "cell_type": "code",
   "source": "result",
   "id": "19f1e11de14ace46",
   "outputs": [
    {
     "data": {
      "text/plain": [
       "     main_1word        main_2word_x  \\\n",
       "0           aci          berrak aci   \n",
       "1         acili       doritos acili   \n",
       "2         acili       doritos acili   \n",
       "3        adjika  qlavprodukt adjika   \n",
       "4        adjika  qlavprodukt adjika   \n",
       "...         ...                 ...   \n",
       "2762    zolotoy     zolotoy petusok   \n",
       "2763    zolotoy     zolotoy petusok   \n",
       "2764    zolotoy     zolotoy petusok   \n",
       "2765    zolotoy     zolotoy petusok   \n",
       "2766    zolotoy     zolotoy petusok   \n",
       "\n",
       "                                                items_x  \\\n",
       "0           berrak aci sus biberi tursusu 370 ml 1 x 12   \n",
       "1                           doritos acili 130 gr 1 x 16   \n",
       "2                            doritos acili 74 gr 1 x 24   \n",
       "3           qlavprodukt adjika aromatnaya 170 qr 1 x 15   \n",
       "4                   qlavprodukt adjika domasnaya 170 gr   \n",
       "...                                                 ...   \n",
       "2762  zolotoy petusok naggets pendir 300 gr 1 x 12 4608   \n",
       "2763  zolotoy petusok naggets toyuqlu 300 gr 1 x 12 ...   \n",
       "2764    zolotoy petusok naggets vkus.300 gr 1 x 12 4719   \n",
       "2765  zolotoy petusok strips vkusnyaski 300 gr 1 x 1...   \n",
       "2766  zolotoy petusok suxari toyuq steyk 280 gr 1 x ...   \n",
       "\n",
       "                                                items_y unit_common_str  \\\n",
       "0           berrak aci sus biberi tursusu 370 ml 1 x 12    adet eded ml   \n",
       "1                           doritos acili 130 gr 1 x 16            eded   \n",
       "2                            doritos acili 74 gr 1 x 24            eded   \n",
       "3           qlavprodukt adjika aromatnaya 170 qr 1 x 15            eded   \n",
       "4                  qlavprodukt adjika aromatnaya 170 gr       ədəd eded   \n",
       "...                                                 ...             ...   \n",
       "2762  zolotoy petusok naggets pendir 300 gr 1 x 12 4608            eded   \n",
       "2763  zolotoy petusok naggets toyuqlu 300 gr 1 x 12 ...            eded   \n",
       "2764    zolotoy petusok naggets vkus.300 gr 1 x 12 4719            eded   \n",
       "2765  zolotoy petusok strips vkusnyaski 300 gr 1 x 1...            eded   \n",
       "2766  zolotoy petusok suxari toyuq steyk 280 gr 1 x ...            eded   \n",
       "\n",
       "      brand_inventory_in  brand_inventory_out        main_2word_y  quant_in  \\\n",
       "0                   12.0                  4.0          berrak aci      12.0   \n",
       "1                   90.0                 80.0       doritos acili     220.0   \n",
       "2                  130.0                 12.0       doritos acili     220.0   \n",
       "3                  825.0                 10.0  qlavprodukt adjika     840.0   \n",
       "4                   10.0                 90.0  qlavprodukt adjika     840.0   \n",
       "...                  ...                  ...                 ...       ...   \n",
       "2762                12.0                  8.0     zolotoy petusok      71.0   \n",
       "2763                 6.0                  4.0     zolotoy petusok      71.0   \n",
       "2764                24.0                  3.0     zolotoy petusok      71.0   \n",
       "2765                 3.0                 12.0     zolotoy petusok      71.0   \n",
       "2766                12.0                  2.0     zolotoy petusok      71.0   \n",
       "\n",
       "      quant_out  \n",
       "0           4.0  \n",
       "1          92.0  \n",
       "2          92.0  \n",
       "3         106.0  \n",
       "4         106.0  \n",
       "...         ...  \n",
       "2762       35.0  \n",
       "2763       35.0  \n",
       "2764       35.0  \n",
       "2765       35.0  \n",
       "2766       35.0  \n",
       "\n",
       "[2767 rows x 10 columns]"
      ],
      "text/html": [
       "<div>\n",
       "<style scoped>\n",
       "    .dataframe tbody tr th:only-of-type {\n",
       "        vertical-align: middle;\n",
       "    }\n",
       "\n",
       "    .dataframe tbody tr th {\n",
       "        vertical-align: top;\n",
       "    }\n",
       "\n",
       "    .dataframe thead th {\n",
       "        text-align: right;\n",
       "    }\n",
       "</style>\n",
       "<table border=\"1\" class=\"dataframe\">\n",
       "  <thead>\n",
       "    <tr style=\"text-align: right;\">\n",
       "      <th></th>\n",
       "      <th>main_1word</th>\n",
       "      <th>main_2word_x</th>\n",
       "      <th>items_x</th>\n",
       "      <th>items_y</th>\n",
       "      <th>unit_common_str</th>\n",
       "      <th>brand_inventory_in</th>\n",
       "      <th>brand_inventory_out</th>\n",
       "      <th>main_2word_y</th>\n",
       "      <th>quant_in</th>\n",
       "      <th>quant_out</th>\n",
       "    </tr>\n",
       "  </thead>\n",
       "  <tbody>\n",
       "    <tr>\n",
       "      <th>0</th>\n",
       "      <td>aci</td>\n",
       "      <td>berrak aci</td>\n",
       "      <td>berrak aci sus biberi tursusu 370 ml 1 x 12</td>\n",
       "      <td>berrak aci sus biberi tursusu 370 ml 1 x 12</td>\n",
       "      <td>adet eded ml</td>\n",
       "      <td>12.0</td>\n",
       "      <td>4.0</td>\n",
       "      <td>berrak aci</td>\n",
       "      <td>12.0</td>\n",
       "      <td>4.0</td>\n",
       "    </tr>\n",
       "    <tr>\n",
       "      <th>1</th>\n",
       "      <td>acili</td>\n",
       "      <td>doritos acili</td>\n",
       "      <td>doritos acili 130 gr 1 x 16</td>\n",
       "      <td>doritos acili 130 gr 1 x 16</td>\n",
       "      <td>eded</td>\n",
       "      <td>90.0</td>\n",
       "      <td>80.0</td>\n",
       "      <td>doritos acili</td>\n",
       "      <td>220.0</td>\n",
       "      <td>92.0</td>\n",
       "    </tr>\n",
       "    <tr>\n",
       "      <th>2</th>\n",
       "      <td>acili</td>\n",
       "      <td>doritos acili</td>\n",
       "      <td>doritos acili 74 gr 1 x 24</td>\n",
       "      <td>doritos acili 74 gr 1 x 24</td>\n",
       "      <td>eded</td>\n",
       "      <td>130.0</td>\n",
       "      <td>12.0</td>\n",
       "      <td>doritos acili</td>\n",
       "      <td>220.0</td>\n",
       "      <td>92.0</td>\n",
       "    </tr>\n",
       "    <tr>\n",
       "      <th>3</th>\n",
       "      <td>adjika</td>\n",
       "      <td>qlavprodukt adjika</td>\n",
       "      <td>qlavprodukt adjika aromatnaya 170 qr 1 x 15</td>\n",
       "      <td>qlavprodukt adjika aromatnaya 170 qr 1 x 15</td>\n",
       "      <td>eded</td>\n",
       "      <td>825.0</td>\n",
       "      <td>10.0</td>\n",
       "      <td>qlavprodukt adjika</td>\n",
       "      <td>840.0</td>\n",
       "      <td>106.0</td>\n",
       "    </tr>\n",
       "    <tr>\n",
       "      <th>4</th>\n",
       "      <td>adjika</td>\n",
       "      <td>qlavprodukt adjika</td>\n",
       "      <td>qlavprodukt adjika domasnaya 170 gr</td>\n",
       "      <td>qlavprodukt adjika aromatnaya 170 gr</td>\n",
       "      <td>ədəd eded</td>\n",
       "      <td>10.0</td>\n",
       "      <td>90.0</td>\n",
       "      <td>qlavprodukt adjika</td>\n",
       "      <td>840.0</td>\n",
       "      <td>106.0</td>\n",
       "    </tr>\n",
       "    <tr>\n",
       "      <th>...</th>\n",
       "      <td>...</td>\n",
       "      <td>...</td>\n",
       "      <td>...</td>\n",
       "      <td>...</td>\n",
       "      <td>...</td>\n",
       "      <td>...</td>\n",
       "      <td>...</td>\n",
       "      <td>...</td>\n",
       "      <td>...</td>\n",
       "      <td>...</td>\n",
       "    </tr>\n",
       "    <tr>\n",
       "      <th>2762</th>\n",
       "      <td>zolotoy</td>\n",
       "      <td>zolotoy petusok</td>\n",
       "      <td>zolotoy petusok naggets pendir 300 gr 1 x 12 4608</td>\n",
       "      <td>zolotoy petusok naggets pendir 300 gr 1 x 12 4608</td>\n",
       "      <td>eded</td>\n",
       "      <td>12.0</td>\n",
       "      <td>8.0</td>\n",
       "      <td>zolotoy petusok</td>\n",
       "      <td>71.0</td>\n",
       "      <td>35.0</td>\n",
       "    </tr>\n",
       "    <tr>\n",
       "      <th>2763</th>\n",
       "      <td>zolotoy</td>\n",
       "      <td>zolotoy petusok</td>\n",
       "      <td>zolotoy petusok naggets toyuqlu 300 gr 1 x 12 ...</td>\n",
       "      <td>zolotoy petusok naggets toyuqlu 300 gr 1 x 12 ...</td>\n",
       "      <td>eded</td>\n",
       "      <td>6.0</td>\n",
       "      <td>4.0</td>\n",
       "      <td>zolotoy petusok</td>\n",
       "      <td>71.0</td>\n",
       "      <td>35.0</td>\n",
       "    </tr>\n",
       "    <tr>\n",
       "      <th>2764</th>\n",
       "      <td>zolotoy</td>\n",
       "      <td>zolotoy petusok</td>\n",
       "      <td>zolotoy petusok naggets vkus.300 gr 1 x 12 4719</td>\n",
       "      <td>zolotoy petusok naggets vkus.300 gr 1 x 12 4719</td>\n",
       "      <td>eded</td>\n",
       "      <td>24.0</td>\n",
       "      <td>3.0</td>\n",
       "      <td>zolotoy petusok</td>\n",
       "      <td>71.0</td>\n",
       "      <td>35.0</td>\n",
       "    </tr>\n",
       "    <tr>\n",
       "      <th>2765</th>\n",
       "      <td>zolotoy</td>\n",
       "      <td>zolotoy petusok</td>\n",
       "      <td>zolotoy petusok strips vkusnyaski 300 gr 1 x 1...</td>\n",
       "      <td>zolotoy petusok strips vkusnyaski 300 gr 1 x 1...</td>\n",
       "      <td>eded</td>\n",
       "      <td>3.0</td>\n",
       "      <td>12.0</td>\n",
       "      <td>zolotoy petusok</td>\n",
       "      <td>71.0</td>\n",
       "      <td>35.0</td>\n",
       "    </tr>\n",
       "    <tr>\n",
       "      <th>2766</th>\n",
       "      <td>zolotoy</td>\n",
       "      <td>zolotoy petusok</td>\n",
       "      <td>zolotoy petusok suxari toyuq steyk 280 gr 1 x ...</td>\n",
       "      <td>zolotoy petusok suxari toyuq steyk 280 gr 1 x ...</td>\n",
       "      <td>eded</td>\n",
       "      <td>12.0</td>\n",
       "      <td>2.0</td>\n",
       "      <td>zolotoy petusok</td>\n",
       "      <td>71.0</td>\n",
       "      <td>35.0</td>\n",
       "    </tr>\n",
       "  </tbody>\n",
       "</table>\n",
       "<p>2767 rows × 10 columns</p>\n",
       "</div>"
      ]
     },
     "execution_count": 53,
     "metadata": {},
     "output_type": "execute_result"
    }
   ],
   "execution_count": 53
  },
  {
   "metadata": {
    "ExecuteTime": {
     "end_time": "2024-07-30T20:48:34.609505Z",
     "start_time": "2024-07-30T20:48:34.598237Z"
    }
   },
   "cell_type": "code",
   "source": [
    "result.groupby(by=['main_1word', 'main_2word_x', 'items_x', 'items_y', 'unit_common_str']).agg(\n",
    "    {'quant_in':'sum','quant_out':'sum', 'brand_inventory_in': 'max', 'brand_inventory_out': 'max'}\n",
    ") # .sort_values(['unit_common_str'])"
   ],
   "id": "c7d7471718f86887",
   "outputs": [
    {
     "data": {
      "text/plain": [
       "                                                                                                                                                     quant_in  \\\n",
       "main_1word main_2word_x       items_x                                            items_y                                            unit_common_str             \n",
       "aci        berrak aci         berrak aci sus biberi tursusu 370 ml 1 x 12        berrak aci sus biberi tursusu 370 ml 1 x 12        adet eded ml         12.0   \n",
       "acili      doritos acili      doritos acili 130 gr 1 x 16                        doritos acili 130 gr 1 x 16                        eded                220.0   \n",
       "                              doritos acili 74 gr 1 x 24                         doritos acili 74 gr 1 x 24                         eded                220.0   \n",
       "adjika     qlavprodukt adjika qlavprodukt adjika aromatnaya 170 qr 1 x 15        qlavprodukt adjika aromatnaya 170 qr 1 x 15        eded                840.0   \n",
       "                              qlavprodukt adjika domasnaya 170 gr                qlavprodukt adjika aromatnaya 170 gr               ədəd eded           840.0   \n",
       "...                                                                                                                                                       ...   \n",
       "zolotoy    zolotoy petusok    zolotoy petusok naggets pendir 300 gr 1 x 12 4608  zolotoy petusok naggets pendir 300 gr 1 x 12 4608  eded                 71.0   \n",
       "                              zolotoy petusok naggets toyuqlu 300 gr 1 x 12 4639 zolotoy petusok naggets toyuqlu 300 gr 1 x 12 4639 eded                 71.0   \n",
       "                              zolotoy petusok naggets vkus.300 gr 1 x 12 4719    zolotoy petusok naggets vkus.300 gr 1 x 12 4719    eded                 71.0   \n",
       "                              zolotoy petusok strips vkusnyaski 300 gr 1 x 12... zolotoy petusok strips vkusnyaski 300 gr 1 x 12... eded                 71.0   \n",
       "                              zolotoy petusok suxari toyuq steyk 280 gr 1 x 1... zolotoy petusok suxari toyuq steyk 280 gr 1 x 1... eded                 71.0   \n",
       "\n",
       "                                                                                                                                                     quant_out  \\\n",
       "main_1word main_2word_x       items_x                                            items_y                                            unit_common_str              \n",
       "aci        berrak aci         berrak aci sus biberi tursusu 370 ml 1 x 12        berrak aci sus biberi tursusu 370 ml 1 x 12        adet eded ml           4.0   \n",
       "acili      doritos acili      doritos acili 130 gr 1 x 16                        doritos acili 130 gr 1 x 16                        eded                  92.0   \n",
       "                              doritos acili 74 gr 1 x 24                         doritos acili 74 gr 1 x 24                         eded                  92.0   \n",
       "adjika     qlavprodukt adjika qlavprodukt adjika aromatnaya 170 qr 1 x 15        qlavprodukt adjika aromatnaya 170 qr 1 x 15        eded                 106.0   \n",
       "                              qlavprodukt adjika domasnaya 170 gr                qlavprodukt adjika aromatnaya 170 gr               ədəd eded            106.0   \n",
       "...                                                                                                                                                        ...   \n",
       "zolotoy    zolotoy petusok    zolotoy petusok naggets pendir 300 gr 1 x 12 4608  zolotoy petusok naggets pendir 300 gr 1 x 12 4608  eded                  35.0   \n",
       "                              zolotoy petusok naggets toyuqlu 300 gr 1 x 12 4639 zolotoy petusok naggets toyuqlu 300 gr 1 x 12 4639 eded                  35.0   \n",
       "                              zolotoy petusok naggets vkus.300 gr 1 x 12 4719    zolotoy petusok naggets vkus.300 gr 1 x 12 4719    eded                  35.0   \n",
       "                              zolotoy petusok strips vkusnyaski 300 gr 1 x 12... zolotoy petusok strips vkusnyaski 300 gr 1 x 12... eded                  35.0   \n",
       "                              zolotoy petusok suxari toyuq steyk 280 gr 1 x 1... zolotoy petusok suxari toyuq steyk 280 gr 1 x 1... eded                  35.0   \n",
       "\n",
       "                                                                                                                                                     brand_inventory_in  \\\n",
       "main_1word main_2word_x       items_x                                            items_y                                            unit_common_str                       \n",
       "aci        berrak aci         berrak aci sus biberi tursusu 370 ml 1 x 12        berrak aci sus biberi tursusu 370 ml 1 x 12        adet eded ml                   12.0   \n",
       "acili      doritos acili      doritos acili 130 gr 1 x 16                        doritos acili 130 gr 1 x 16                        eded                           90.0   \n",
       "                              doritos acili 74 gr 1 x 24                         doritos acili 74 gr 1 x 24                         eded                          130.0   \n",
       "adjika     qlavprodukt adjika qlavprodukt adjika aromatnaya 170 qr 1 x 15        qlavprodukt adjika aromatnaya 170 qr 1 x 15        eded                          825.0   \n",
       "                              qlavprodukt adjika domasnaya 170 gr                qlavprodukt adjika aromatnaya 170 gr               ədəd eded                      10.0   \n",
       "...                                                                                                                                                                 ...   \n",
       "zolotoy    zolotoy petusok    zolotoy petusok naggets pendir 300 gr 1 x 12 4608  zolotoy petusok naggets pendir 300 gr 1 x 12 4608  eded                           12.0   \n",
       "                              zolotoy petusok naggets toyuqlu 300 gr 1 x 12 4639 zolotoy petusok naggets toyuqlu 300 gr 1 x 12 4639 eded                            6.0   \n",
       "                              zolotoy petusok naggets vkus.300 gr 1 x 12 4719    zolotoy petusok naggets vkus.300 gr 1 x 12 4719    eded                           24.0   \n",
       "                              zolotoy petusok strips vkusnyaski 300 gr 1 x 12... zolotoy petusok strips vkusnyaski 300 gr 1 x 12... eded                            3.0   \n",
       "                              zolotoy petusok suxari toyuq steyk 280 gr 1 x 1... zolotoy petusok suxari toyuq steyk 280 gr 1 x 1... eded                           12.0   \n",
       "\n",
       "                                                                                                                                                     brand_inventory_out  \n",
       "main_1word main_2word_x       items_x                                            items_y                                            unit_common_str                       \n",
       "aci        berrak aci         berrak aci sus biberi tursusu 370 ml 1 x 12        berrak aci sus biberi tursusu 370 ml 1 x 12        adet eded ml                     4.0  \n",
       "acili      doritos acili      doritos acili 130 gr 1 x 16                        doritos acili 130 gr 1 x 16                        eded                            80.0  \n",
       "                              doritos acili 74 gr 1 x 24                         doritos acili 74 gr 1 x 24                         eded                            12.0  \n",
       "adjika     qlavprodukt adjika qlavprodukt adjika aromatnaya 170 qr 1 x 15        qlavprodukt adjika aromatnaya 170 qr 1 x 15        eded                            10.0  \n",
       "                              qlavprodukt adjika domasnaya 170 gr                qlavprodukt adjika aromatnaya 170 gr               ədəd eded                       90.0  \n",
       "...                                                                                                                                                                  ...  \n",
       "zolotoy    zolotoy petusok    zolotoy petusok naggets pendir 300 gr 1 x 12 4608  zolotoy petusok naggets pendir 300 gr 1 x 12 4608  eded                             8.0  \n",
       "                              zolotoy petusok naggets toyuqlu 300 gr 1 x 12 4639 zolotoy petusok naggets toyuqlu 300 gr 1 x 12 4639 eded                             4.0  \n",
       "                              zolotoy petusok naggets vkus.300 gr 1 x 12 4719    zolotoy petusok naggets vkus.300 gr 1 x 12 4719    eded                             3.0  \n",
       "                              zolotoy petusok strips vkusnyaski 300 gr 1 x 12... zolotoy petusok strips vkusnyaski 300 gr 1 x 12... eded                            12.0  \n",
       "                              zolotoy petusok suxari toyuq steyk 280 gr 1 x 1... zolotoy petusok suxari toyuq steyk 280 gr 1 x 1... eded                             2.0  \n",
       "\n",
       "[526 rows x 4 columns]"
      ],
      "text/html": [
       "<div>\n",
       "<style scoped>\n",
       "    .dataframe tbody tr th:only-of-type {\n",
       "        vertical-align: middle;\n",
       "    }\n",
       "\n",
       "    .dataframe tbody tr th {\n",
       "        vertical-align: top;\n",
       "    }\n",
       "\n",
       "    .dataframe thead th {\n",
       "        text-align: right;\n",
       "    }\n",
       "</style>\n",
       "<table border=\"1\" class=\"dataframe\">\n",
       "  <thead>\n",
       "    <tr style=\"text-align: right;\">\n",
       "      <th></th>\n",
       "      <th></th>\n",
       "      <th></th>\n",
       "      <th></th>\n",
       "      <th></th>\n",
       "      <th>quant_in</th>\n",
       "      <th>quant_out</th>\n",
       "      <th>brand_inventory_in</th>\n",
       "      <th>brand_inventory_out</th>\n",
       "    </tr>\n",
       "    <tr>\n",
       "      <th>main_1word</th>\n",
       "      <th>main_2word_x</th>\n",
       "      <th>items_x</th>\n",
       "      <th>items_y</th>\n",
       "      <th>unit_common_str</th>\n",
       "      <th></th>\n",
       "      <th></th>\n",
       "      <th></th>\n",
       "      <th></th>\n",
       "    </tr>\n",
       "  </thead>\n",
       "  <tbody>\n",
       "    <tr>\n",
       "      <th>aci</th>\n",
       "      <th>berrak aci</th>\n",
       "      <th>berrak aci sus biberi tursusu 370 ml 1 x 12</th>\n",
       "      <th>berrak aci sus biberi tursusu 370 ml 1 x 12</th>\n",
       "      <th>adet eded ml</th>\n",
       "      <td>12.0</td>\n",
       "      <td>4.0</td>\n",
       "      <td>12.0</td>\n",
       "      <td>4.0</td>\n",
       "    </tr>\n",
       "    <tr>\n",
       "      <th rowspan=\"2\" valign=\"top\">acili</th>\n",
       "      <th rowspan=\"2\" valign=\"top\">doritos acili</th>\n",
       "      <th>doritos acili 130 gr 1 x 16</th>\n",
       "      <th>doritos acili 130 gr 1 x 16</th>\n",
       "      <th>eded</th>\n",
       "      <td>220.0</td>\n",
       "      <td>92.0</td>\n",
       "      <td>90.0</td>\n",
       "      <td>80.0</td>\n",
       "    </tr>\n",
       "    <tr>\n",
       "      <th>doritos acili 74 gr 1 x 24</th>\n",
       "      <th>doritos acili 74 gr 1 x 24</th>\n",
       "      <th>eded</th>\n",
       "      <td>220.0</td>\n",
       "      <td>92.0</td>\n",
       "      <td>130.0</td>\n",
       "      <td>12.0</td>\n",
       "    </tr>\n",
       "    <tr>\n",
       "      <th rowspan=\"2\" valign=\"top\">adjika</th>\n",
       "      <th rowspan=\"2\" valign=\"top\">qlavprodukt adjika</th>\n",
       "      <th>qlavprodukt adjika aromatnaya 170 qr 1 x 15</th>\n",
       "      <th>qlavprodukt adjika aromatnaya 170 qr 1 x 15</th>\n",
       "      <th>eded</th>\n",
       "      <td>840.0</td>\n",
       "      <td>106.0</td>\n",
       "      <td>825.0</td>\n",
       "      <td>10.0</td>\n",
       "    </tr>\n",
       "    <tr>\n",
       "      <th>qlavprodukt adjika domasnaya 170 gr</th>\n",
       "      <th>qlavprodukt adjika aromatnaya 170 gr</th>\n",
       "      <th>ədəd eded</th>\n",
       "      <td>840.0</td>\n",
       "      <td>106.0</td>\n",
       "      <td>10.0</td>\n",
       "      <td>90.0</td>\n",
       "    </tr>\n",
       "    <tr>\n",
       "      <th>...</th>\n",
       "      <th>...</th>\n",
       "      <th>...</th>\n",
       "      <th>...</th>\n",
       "      <th>...</th>\n",
       "      <td>...</td>\n",
       "      <td>...</td>\n",
       "      <td>...</td>\n",
       "      <td>...</td>\n",
       "    </tr>\n",
       "    <tr>\n",
       "      <th rowspan=\"5\" valign=\"top\">zolotoy</th>\n",
       "      <th rowspan=\"5\" valign=\"top\">zolotoy petusok</th>\n",
       "      <th>zolotoy petusok naggets pendir 300 gr 1 x 12 4608</th>\n",
       "      <th>zolotoy petusok naggets pendir 300 gr 1 x 12 4608</th>\n",
       "      <th>eded</th>\n",
       "      <td>71.0</td>\n",
       "      <td>35.0</td>\n",
       "      <td>12.0</td>\n",
       "      <td>8.0</td>\n",
       "    </tr>\n",
       "    <tr>\n",
       "      <th>zolotoy petusok naggets toyuqlu 300 gr 1 x 12 4639</th>\n",
       "      <th>zolotoy petusok naggets toyuqlu 300 gr 1 x 12 4639</th>\n",
       "      <th>eded</th>\n",
       "      <td>71.0</td>\n",
       "      <td>35.0</td>\n",
       "      <td>6.0</td>\n",
       "      <td>4.0</td>\n",
       "    </tr>\n",
       "    <tr>\n",
       "      <th>zolotoy petusok naggets vkus.300 gr 1 x 12 4719</th>\n",
       "      <th>zolotoy petusok naggets vkus.300 gr 1 x 12 4719</th>\n",
       "      <th>eded</th>\n",
       "      <td>71.0</td>\n",
       "      <td>35.0</td>\n",
       "      <td>24.0</td>\n",
       "      <td>3.0</td>\n",
       "    </tr>\n",
       "    <tr>\n",
       "      <th>zolotoy petusok strips vkusnyaski 300 gr 1 x 12 4718</th>\n",
       "      <th>zolotoy petusok strips vkusnyaski 300 gr 1 x 12 4718</th>\n",
       "      <th>eded</th>\n",
       "      <td>71.0</td>\n",
       "      <td>35.0</td>\n",
       "      <td>3.0</td>\n",
       "      <td>12.0</td>\n",
       "    </tr>\n",
       "    <tr>\n",
       "      <th>zolotoy petusok suxari toyuq steyk 280 gr 1 x 12 4960</th>\n",
       "      <th>zolotoy petusok suxari toyuq steyk 280 gr 1 x 12 4960</th>\n",
       "      <th>eded</th>\n",
       "      <td>71.0</td>\n",
       "      <td>35.0</td>\n",
       "      <td>12.0</td>\n",
       "      <td>2.0</td>\n",
       "    </tr>\n",
       "  </tbody>\n",
       "</table>\n",
       "<p>526 rows × 4 columns</p>\n",
       "</div>"
      ]
     },
     "execution_count": 54,
     "metadata": {},
     "output_type": "execute_result"
    }
   ],
   "execution_count": 54
  },
  {
   "metadata": {
    "ExecuteTime": {
     "end_time": "2024-07-30T20:48:34.937451Z",
     "start_time": "2024-07-30T20:48:34.935531Z"
    }
   },
   "cell_type": "code",
   "source": "",
   "id": "f88b56cfe5c874fe",
   "outputs": [],
   "execution_count": 54
  },
  {
   "metadata": {
    "ExecuteTime": {
     "end_time": "2024-07-30T20:48:35.168303Z",
     "start_time": "2024-07-30T20:48:35.158431Z"
    }
   },
   "cell_type": "code",
   "source": "compilation_scored[compilation_scored['items_y'] == 'sevimli dad rossiyskiy pendir 1 x 1']",
   "id": "a0367981f845e8c9",
   "outputs": [
    {
     "data": {
      "text/plain": [
       "                                  items_x  \\\n",
       "9926  sevimli dad rossiyskiy pendir 1 x 1   \n",
       "\n",
       "                                  items_y Quantity/Volume_x   unit_x  \\\n",
       "9926  sevimli dad rossiyskiy pendir 1 x 1                16  adet.kg   \n",
       "\n",
       "     Quantity/Volume_y unit_y  score1  score2  score3  score_w  ...  \\\n",
       "9926               5,6   eded   100.0   100.0   100.0      1.0  ...   \n",
       "\n",
       "              Product or Service Name_x          Product or Service Name_y  \\\n",
       "9926  SEVIMLI DAD ROSSIYSKIY PENDIR 1x1  SEVIMLI DAD ROSSIYSKIY PENDIR 1x1   \n",
       "\n",
       "       unit_common   unit_common_set unit_common_str quant_in  quant_out  \\\n",
       "9926  adet.kg eded  {adet, eded, kg}    adet eded kg     16.0        5.6   \n",
       "\n",
       "             items_x_numberless          main_2word main_1word  \n",
       "9926  sevimli rossiyskiy pendir  sevimli rossiyskiy    sevimli  \n",
       "\n",
       "[1 rows x 21 columns]"
      ],
      "text/html": [
       "<div>\n",
       "<style scoped>\n",
       "    .dataframe tbody tr th:only-of-type {\n",
       "        vertical-align: middle;\n",
       "    }\n",
       "\n",
       "    .dataframe tbody tr th {\n",
       "        vertical-align: top;\n",
       "    }\n",
       "\n",
       "    .dataframe thead th {\n",
       "        text-align: right;\n",
       "    }\n",
       "</style>\n",
       "<table border=\"1\" class=\"dataframe\">\n",
       "  <thead>\n",
       "    <tr style=\"text-align: right;\">\n",
       "      <th></th>\n",
       "      <th>items_x</th>\n",
       "      <th>items_y</th>\n",
       "      <th>Quantity/Volume_x</th>\n",
       "      <th>unit_x</th>\n",
       "      <th>Quantity/Volume_y</th>\n",
       "      <th>unit_y</th>\n",
       "      <th>score1</th>\n",
       "      <th>score2</th>\n",
       "      <th>score3</th>\n",
       "      <th>score_w</th>\n",
       "      <th>...</th>\n",
       "      <th>Product or Service Name_x</th>\n",
       "      <th>Product or Service Name_y</th>\n",
       "      <th>unit_common</th>\n",
       "      <th>unit_common_set</th>\n",
       "      <th>unit_common_str</th>\n",
       "      <th>quant_in</th>\n",
       "      <th>quant_out</th>\n",
       "      <th>items_x_numberless</th>\n",
       "      <th>main_2word</th>\n",
       "      <th>main_1word</th>\n",
       "    </tr>\n",
       "  </thead>\n",
       "  <tbody>\n",
       "    <tr>\n",
       "      <th>9926</th>\n",
       "      <td>sevimli dad rossiyskiy pendir 1 x 1</td>\n",
       "      <td>sevimli dad rossiyskiy pendir 1 x 1</td>\n",
       "      <td>16</td>\n",
       "      <td>adet.kg</td>\n",
       "      <td>5,6</td>\n",
       "      <td>eded</td>\n",
       "      <td>100.0</td>\n",
       "      <td>100.0</td>\n",
       "      <td>100.0</td>\n",
       "      <td>1.0</td>\n",
       "      <td>...</td>\n",
       "      <td>SEVIMLI DAD ROSSIYSKIY PENDIR 1x1</td>\n",
       "      <td>SEVIMLI DAD ROSSIYSKIY PENDIR 1x1</td>\n",
       "      <td>adet.kg eded</td>\n",
       "      <td>{adet, eded, kg}</td>\n",
       "      <td>adet eded kg</td>\n",
       "      <td>16.0</td>\n",
       "      <td>5.6</td>\n",
       "      <td>sevimli rossiyskiy pendir</td>\n",
       "      <td>sevimli rossiyskiy</td>\n",
       "      <td>sevimli</td>\n",
       "    </tr>\n",
       "  </tbody>\n",
       "</table>\n",
       "<p>1 rows × 21 columns</p>\n",
       "</div>"
      ]
     },
     "execution_count": 55,
     "metadata": {},
     "output_type": "execute_result"
    }
   ],
   "execution_count": 55
  },
  {
   "metadata": {
    "ExecuteTime": {
     "end_time": "2024-07-30T20:48:35.376231Z",
     "start_time": "2024-07-30T20:48:35.369144Z"
    }
   },
   "cell_type": "code",
   "source": "compilation_scored[compilation_scored['items_y'] == 'mia limon 1 x 12']",
   "id": "acd75ad0aea2b0b",
   "outputs": [
    {
     "data": {
      "text/plain": [
       "Empty DataFrame\n",
       "Columns: [items_x, items_y, Quantity/Volume_x, unit_x, Quantity/Volume_y, unit_y, score1, score2, score3, score_w, score_d, Product or Service Name_x, Product or Service Name_y, unit_common, unit_common_set, unit_common_str, quant_in, quant_out, items_x_numberless, main_2word, main_1word]\n",
       "Index: []\n",
       "\n",
       "[0 rows x 21 columns]"
      ],
      "text/html": [
       "<div>\n",
       "<style scoped>\n",
       "    .dataframe tbody tr th:only-of-type {\n",
       "        vertical-align: middle;\n",
       "    }\n",
       "\n",
       "    .dataframe tbody tr th {\n",
       "        vertical-align: top;\n",
       "    }\n",
       "\n",
       "    .dataframe thead th {\n",
       "        text-align: right;\n",
       "    }\n",
       "</style>\n",
       "<table border=\"1\" class=\"dataframe\">\n",
       "  <thead>\n",
       "    <tr style=\"text-align: right;\">\n",
       "      <th></th>\n",
       "      <th>items_x</th>\n",
       "      <th>items_y</th>\n",
       "      <th>Quantity/Volume_x</th>\n",
       "      <th>unit_x</th>\n",
       "      <th>Quantity/Volume_y</th>\n",
       "      <th>unit_y</th>\n",
       "      <th>score1</th>\n",
       "      <th>score2</th>\n",
       "      <th>score3</th>\n",
       "      <th>score_w</th>\n",
       "      <th>...</th>\n",
       "      <th>Product or Service Name_x</th>\n",
       "      <th>Product or Service Name_y</th>\n",
       "      <th>unit_common</th>\n",
       "      <th>unit_common_set</th>\n",
       "      <th>unit_common_str</th>\n",
       "      <th>quant_in</th>\n",
       "      <th>quant_out</th>\n",
       "      <th>items_x_numberless</th>\n",
       "      <th>main_2word</th>\n",
       "      <th>main_1word</th>\n",
       "    </tr>\n",
       "  </thead>\n",
       "  <tbody>\n",
       "  </tbody>\n",
       "</table>\n",
       "<p>0 rows × 21 columns</p>\n",
       "</div>"
      ]
     },
     "execution_count": 56,
     "metadata": {},
     "output_type": "execute_result"
    }
   ],
   "execution_count": 56
  },
  {
   "metadata": {
    "ExecuteTime": {
     "end_time": "2024-07-30T20:48:35.600473Z",
     "start_time": "2024-07-30T20:48:35.593708Z"
    }
   },
   "cell_type": "code",
   "source": "compilation_scored[compilation_scored['items_y'] == '7 up 1 x 12']",
   "id": "c4632ab26acca04c",
   "outputs": [
    {
     "data": {
      "text/plain": [
       "Empty DataFrame\n",
       "Columns: [items_x, items_y, Quantity/Volume_x, unit_x, Quantity/Volume_y, unit_y, score1, score2, score3, score_w, score_d, Product or Service Name_x, Product or Service Name_y, unit_common, unit_common_set, unit_common_str, quant_in, quant_out, items_x_numberless, main_2word, main_1word]\n",
       "Index: []\n",
       "\n",
       "[0 rows x 21 columns]"
      ],
      "text/html": [
       "<div>\n",
       "<style scoped>\n",
       "    .dataframe tbody tr th:only-of-type {\n",
       "        vertical-align: middle;\n",
       "    }\n",
       "\n",
       "    .dataframe tbody tr th {\n",
       "        vertical-align: top;\n",
       "    }\n",
       "\n",
       "    .dataframe thead th {\n",
       "        text-align: right;\n",
       "    }\n",
       "</style>\n",
       "<table border=\"1\" class=\"dataframe\">\n",
       "  <thead>\n",
       "    <tr style=\"text-align: right;\">\n",
       "      <th></th>\n",
       "      <th>items_x</th>\n",
       "      <th>items_y</th>\n",
       "      <th>Quantity/Volume_x</th>\n",
       "      <th>unit_x</th>\n",
       "      <th>Quantity/Volume_y</th>\n",
       "      <th>unit_y</th>\n",
       "      <th>score1</th>\n",
       "      <th>score2</th>\n",
       "      <th>score3</th>\n",
       "      <th>score_w</th>\n",
       "      <th>...</th>\n",
       "      <th>Product or Service Name_x</th>\n",
       "      <th>Product or Service Name_y</th>\n",
       "      <th>unit_common</th>\n",
       "      <th>unit_common_set</th>\n",
       "      <th>unit_common_str</th>\n",
       "      <th>quant_in</th>\n",
       "      <th>quant_out</th>\n",
       "      <th>items_x_numberless</th>\n",
       "      <th>main_2word</th>\n",
       "      <th>main_1word</th>\n",
       "    </tr>\n",
       "  </thead>\n",
       "  <tbody>\n",
       "  </tbody>\n",
       "</table>\n",
       "<p>0 rows × 21 columns</p>\n",
       "</div>"
      ]
     },
     "execution_count": 57,
     "metadata": {},
     "output_type": "execute_result"
    }
   ],
   "execution_count": 57
  },
  {
   "metadata": {
    "ExecuteTime": {
     "end_time": "2024-07-30T20:48:35.850407Z",
     "start_time": "2024-07-30T20:48:35.845642Z"
    }
   },
   "cell_type": "code",
   "source": "",
   "id": "c3f29c3ea1c230c8",
   "outputs": [],
   "execution_count": 57
  },
  {
   "metadata": {
    "ExecuteTime": {
     "end_time": "2024-07-30T20:48:36.031248Z",
     "start_time": "2024-07-30T20:48:36.028383Z"
    }
   },
   "cell_type": "code",
   "source": "remove_numbers(simple_process_item('SEVIMLI.XAMA KAUNAS.20% 350GR AL 10% 200GR HDY 1X1'))",
   "id": "88b1e66992f1015a",
   "outputs": [
    {
     "data": {
      "text/plain": [
       "'sevimli xama kaunas'"
      ]
     },
     "execution_count": 58,
     "metadata": {},
     "output_type": "execute_result"
    }
   ],
   "execution_count": 58
  },
  {
   "metadata": {
    "ExecuteTime": {
     "end_time": "2024-07-30T20:48:36.237825Z",
     "start_time": "2024-07-30T20:48:36.235016Z"
    }
   },
   "cell_type": "code",
   "source": "",
   "id": "6f4b8f5f709cc5bf",
   "outputs": [],
   "execution_count": 58
  },
  {
   "metadata": {
    "ExecuteTime": {
     "end_time": "2024-07-30T20:48:39.908766Z",
     "start_time": "2024-07-30T20:48:36.429609Z"
    }
   },
   "cell_type": "code",
   "source": [
    "from transformers import AutoTokenizer, AutoModelForTokenClassification\n",
    "from transformers import pipeline\n",
    "tokenizer = AutoTokenizer.from_pretrained(\"azizbarank/mbert-finetuned-azerbaijani-ner\", is_split_into_words=True)\n",
    "model = AutoModelForTokenClassification.from_pretrained(\"azizbarank/mbert-finetuned-azerbaijani-ner\")\n",
    "nlp = pipeline(\"token-classification\", model=model, tokenizer=tokenizer, aggregation_strategy='simple')\n"
   ],
   "id": "bb87fc19ab26411a",
   "outputs": [],
   "execution_count": 59
  },
  {
   "metadata": {
    "ExecuteTime": {
     "end_time": "2024-07-30T20:48:40.672777Z",
     "start_time": "2024-07-30T20:48:39.913188Z"
    }
   },
   "cell_type": "code",
   "source": [
    "for item in compilation_scored.sample(10)['items_x']:\n",
    "    ner_results = nlp(item)\n",
    "    print(item)\n",
    "    [print(x['word'], ' ', x['entity_group']) for x in ner_results]\n",
    "    print()"
   ],
   "id": "5b64444f88a1f325",
   "outputs": [
    {
     "name": "stdout",
     "output_type": "stream",
     "text": [
      "tadim misir 180 gr corn 1 x 12\n",
      "tadim misir 180 gr corn 1 x 12   LABEL_0\n",
      "\n",
      "nesquik snack latte 26 gr 1 x 20\n",
      "nesquik   LABEL_5\n",
      "snack   LABEL_6\n",
      "latte 26 gr 1 x 20   LABEL_0\n",
      "\n",
      "ulker puding alpella sokoladli 100 gr 1 x 24\n",
      "ulker   LABEL_5\n",
      "puding alpella sokoladli   LABEL_6\n",
      "100 gr 1 x 24   LABEL_0\n",
      "\n",
      "tadim klassik 75 qr govrulmus\n",
      "tadim   LABEL_3\n",
      "klassik 75 qr govrulmus   LABEL_4\n",
      "\n",
      "president yagli 50 gr 1 x 60\n",
      "president   LABEL_3\n",
      "yagli   LABEL_4\n",
      "50 gr 1 x 60   LABEL_0\n",
      "\n",
      "ulker icim yogurt banan 45 gr\n",
      "ulker   LABEL_3\n",
      "icim yogurt banan 45 gr   LABEL_4\n",
      "\n",
      "superfresh bamya sivri 450 gr 1 x 16\n",
      "super   LABEL_1\n",
      "##fre   LABEL_0\n",
      "##sh   LABEL_1\n",
      "bamya   LABEL_6\n",
      "sivri 450 gr 1 x 16   LABEL_0\n",
      "\n",
      "bebeto cobra x 30 gr 1 x 24\n",
      "bebeto   LABEL_5\n",
      "cobra   LABEL_6\n",
      "x 30 gr 1 x 24   LABEL_0\n",
      "\n",
      "sevimli dad kesmik yagli 9 pct 180 gr 1 x 1\n",
      "sevimli   LABEL_3\n",
      "dad kesmik yagli 9 pct 180 gr 1 x 1   LABEL_0\n",
      "\n",
      "tadim fistixx taco yer fistigi 140 gr 1 x 12\n",
      "tadim fistixx taco yer fistigi 140 gr 1 x 12   LABEL_0\n",
      "\n"
     ]
    }
   ],
   "execution_count": 60
  },
  {
   "metadata": {
    "ExecuteTime": {
     "end_time": "2024-07-30T20:48:42.858349Z",
     "start_time": "2024-07-30T20:48:40.673571Z"
    }
   },
   "cell_type": "code",
   "source": [
    "from transformers import AutoTokenizer, AutoModelForTokenClassification\n",
    "from transformers import pipeline\n",
    "tokenizer = AutoTokenizer.from_pretrained(\"orgcatorg/bert-base-multilingual-cased-ner\")\n",
    "model = AutoModelForTokenClassification.from_pretrained(\"orgcatorg/bert-base-multilingual-cased-ner\")\n",
    "nlp = pipeline(\"ner\", model=model, tokenizer=tokenizer)\n",
    "example = 'token-classification'\n",
    "ner_results = nlp(example)\n",
    "ner_results"
   ],
   "id": "f684b08b30a16ba6",
   "outputs": [
    {
     "data": {
      "text/plain": [
       "[{'entity': 'B-ORG',\n",
       "  'score': 0.9993765,\n",
       "  'index': 1,\n",
       "  'word': 'tok',\n",
       "  'start': 0,\n",
       "  'end': 3},\n",
       " {'entity': 'B-ORG',\n",
       "  'score': 0.99934775,\n",
       "  'index': 2,\n",
       "  'word': '##en',\n",
       "  'start': 3,\n",
       "  'end': 5},\n",
       " {'entity': 'I-ORG',\n",
       "  'score': 0.9599418,\n",
       "  'index': 3,\n",
       "  'word': '-',\n",
       "  'start': 5,\n",
       "  'end': 6},\n",
       " {'entity': 'I-ORG',\n",
       "  'score': 0.986715,\n",
       "  'index': 4,\n",
       "  'word': 'classification',\n",
       "  'start': 6,\n",
       "  'end': 20}]"
      ]
     },
     "execution_count": 61,
     "metadata": {},
     "output_type": "execute_result"
    }
   ],
   "execution_count": 61
  },
  {
   "metadata": {
    "ExecuteTime": {
     "end_time": "2024-07-30T20:48:42.863441Z",
     "start_time": "2024-07-30T20:48:42.860928Z"
    }
   },
   "cell_type": "code",
   "source": "",
   "id": "53a9b352db077e30",
   "outputs": [],
   "execution_count": 61
  },
  {
   "metadata": {},
   "cell_type": "code",
   "outputs": [],
   "execution_count": null,
   "source": "",
   "id": "5868a42a8445ffd9"
  }
 ],
 "metadata": {
  "kernelspec": {
   "display_name": "Python 3",
   "language": "python",
   "name": "python3"
  },
  "language_info": {
   "codemirror_mode": {
    "name": "ipython",
    "version": 2
   },
   "file_extension": ".py",
   "mimetype": "text/x-python",
   "name": "python",
   "nbconvert_exporter": "python",
   "pygments_lexer": "ipython2",
   "version": "2.7.6"
  }
 },
 "nbformat": 4,
 "nbformat_minor": 5
}
