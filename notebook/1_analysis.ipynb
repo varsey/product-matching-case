{
 "cells": [
  {
   "cell_type": "code",
   "id": "initial_id",
   "metadata": {
    "collapsed": true,
    "ExecuteTime": {
     "end_time": "2024-06-04T10:33:14.335551Z",
     "start_time": "2024-06-04T10:33:14.041118Z"
    }
   },
   "source": [
    "import os\n",
    "import numpy as np\n",
    "import regex as re\n",
    "import pandas as pd"
   ],
   "outputs": [],
   "execution_count": 1
  },
  {
   "metadata": {
    "ExecuteTime": {
     "end_time": "2024-06-04T10:33:14.338779Z",
     "start_time": "2024-06-04T10:33:14.336749Z"
    }
   },
   "cell_type": "code",
   "source": "from collections import Counter",
   "id": "a7c41584b3dd22c",
   "outputs": [],
   "execution_count": 2
  },
  {
   "metadata": {
    "ExecuteTime": {
     "end_time": "2024-06-04T10:33:15.642350Z",
     "start_time": "2024-06-04T10:33:14.340284Z"
    }
   },
   "cell_type": "code",
   "source": [
    "import nltk\n",
    "nltk.download('punkt')\n",
    "nltk.download('stopwords')\n",
    "nltk.download('averaged_perceptron_tagger_ru')"
   ],
   "id": "9595b0e1470fcd00",
   "outputs": [
    {
     "name": "stderr",
     "output_type": "stream",
     "text": [
      "[nltk_data] Downloading package punkt to /home/varsey/nltk_data...\n",
      "[nltk_data]   Package punkt is already up-to-date!\n",
      "[nltk_data] Downloading package stopwords to /home/varsey/nltk_data...\n",
      "[nltk_data]   Package stopwords is already up-to-date!\n",
      "[nltk_data] Downloading package averaged_perceptron_tagger_ru to\n",
      "[nltk_data]     /home/varsey/nltk_data...\n",
      "[nltk_data]   Package averaged_perceptron_tagger_ru is already up-to-\n",
      "[nltk_data]       date!\n"
     ]
    },
    {
     "data": {
      "text/plain": [
       "True"
      ]
     },
     "execution_count": 3,
     "metadata": {},
     "output_type": "execute_result"
    }
   ],
   "execution_count": 3
  },
  {
   "metadata": {
    "ExecuteTime": {
     "end_time": "2024-06-04T10:33:15.663434Z",
     "start_time": "2024-06-04T10:33:15.643595Z"
    }
   },
   "cell_type": "code",
   "source": [
    "from rapidfuzz import process as proc\n",
    "from rapidfuzz import fuzz"
   ],
   "id": "f47e1eeb02d05eab",
   "outputs": [],
   "execution_count": 4
  },
  {
   "metadata": {
    "ExecuteTime": {
     "end_time": "2024-06-04T10:33:15.801512Z",
     "start_time": "2024-06-04T10:33:15.790728Z"
    }
   },
   "cell_type": "code",
   "source": "from tqdm import tqdm",
   "id": "bbd656c76aa4ff",
   "outputs": [],
   "execution_count": 5
  },
  {
   "metadata": {
    "ExecuteTime": {
     "end_time": "2024-06-04T10:33:16.234197Z",
     "start_time": "2024-06-04T10:33:16.190133Z"
    }
   },
   "cell_type": "code",
   "source": "from fastparquet import ParquetFile, write as parq_write",
   "id": "77307c6522a0d3fe",
   "outputs": [],
   "execution_count": 6
  },
  {
   "metadata": {
    "ExecuteTime": {
     "end_time": "2024-06-04T10:33:18.870789Z",
     "start_time": "2024-06-04T10:33:16.666046Z"
    }
   },
   "cell_type": "code",
   "source": [
    "import re\n",
    "import time\n",
    "from sentence_transformers import SentenceTransformer, util"
   ],
   "id": "6c093331b704069f",
   "outputs": [
    {
     "name": "stderr",
     "output_type": "stream",
     "text": [
      "/home/varsey/PycharmProjects/drl-case/.venv/lib/python3.11/site-packages/sentence_transformers/cross_encoder/CrossEncoder.py:11: TqdmExperimentalWarning: Using `tqdm.autonotebook.tqdm` in notebook mode. Use `tqdm.tqdm` instead to force console mode (e.g. in jupyter console)\n",
      "  from tqdm.autonotebook import tqdm, trange\n"
     ]
    }
   ],
   "execution_count": 7
  },
  {
   "metadata": {
    "ExecuteTime": {
     "end_time": "2024-06-04T10:33:18.873852Z",
     "start_time": "2024-06-04T10:33:18.871875Z"
    }
   },
   "cell_type": "code",
   "source": "import random",
   "id": "da1a93fa433e1566",
   "outputs": [],
   "execution_count": 8
  },
  {
   "metadata": {
    "ExecuteTime": {
     "end_time": "2024-06-04T10:33:18.996535Z",
     "start_time": "2024-06-04T10:33:18.874474Z"
    }
   },
   "cell_type": "code",
   "source": "import yake",
   "id": "52525520ba38ea5c",
   "outputs": [],
   "execution_count": 9
  },
  {
   "metadata": {
    "ExecuteTime": {
     "end_time": "2024-06-04T10:33:18.999966Z",
     "start_time": "2024-06-04T10:33:18.997878Z"
    }
   },
   "cell_type": "code",
   "source": "",
   "id": "c7b4a1988a6ede45",
   "outputs": [],
   "execution_count": 9
  },
  {
   "metadata": {
    "ExecuteTime": {
     "end_time": "2024-06-04T10:33:19.003391Z",
     "start_time": "2024-06-04T10:33:19.000927Z"
    }
   },
   "cell_type": "code",
   "source": [
    "flt_chars = [\n",
    "    ')', '(', ',', '!', '', ':', '|', '>', '<', '[', ']', '...', './', '/\\n', '\\xa0',\n",
    "    '«', '»', '_', '?', '~', '=', '\\\\', ';', '\\n', '``', \"''\", '✅', '/n', '/', '..', '`', \"'\", '-',\n",
    "    '✔', '⇒', '\"', '$', '%', '&', \"'\", ',', '^', '`', '{', '}', \"('\",\n",
    "]"
   ],
   "id": "fbe5d6eeffd82553",
   "outputs": [],
   "execution_count": 10
  },
  {
   "metadata": {
    "ExecuteTime": {
     "end_time": "2024-06-04T12:36:58.984200Z",
     "start_time": "2024-06-04T12:36:58.979780Z"
    }
   },
   "cell_type": "code",
   "source": [
    "stop_words = (nltk.corpus.stopwords.words('russian')\n",
    "              + nltk.corpus.stopwords.words('english')\n",
    "              + nltk.corpus.stopwords.words('azerbaijani'))\n",
    "exclude = [x for x in set(stop_words + flt_chars) if len(x) > 0] + ['pet']\n",
    "exclude.remove('up')\n",
    "exclude.remove('s')\n",
    "exclude.remove('ya')\n",
    "exclude = set(exclude)"
   ],
   "id": "878443ef843b4f63",
   "outputs": [],
   "execution_count": 615
  },
  {
   "metadata": {
    "ExecuteTime": {
     "end_time": "2024-06-04T12:35:35.832930Z",
     "start_time": "2024-06-04T12:35:35.828214Z"
    }
   },
   "cell_type": "code",
   "source": "'ya' in exclude",
   "id": "f8c34cfc2879d037",
   "outputs": [
    {
     "data": {
      "text/plain": [
       "False"
      ]
     },
     "execution_count": 592,
     "metadata": {},
     "output_type": "execute_result"
    }
   ],
   "execution_count": 592
  },
  {
   "metadata": {
    "ExecuteTime": {
     "end_time": "2024-06-04T12:35:36.489098Z",
     "start_time": "2024-06-04T12:35:36.486853Z"
    }
   },
   "cell_type": "code",
   "source": [
    "remove_chars = {\n",
    "    '-': ' ',\n",
    "    \"'\": ' ',\n",
    "    \"(\": ' ',\n",
    "    \")\": ' ',\n",
    "    '\"': ' ',\n",
    "    '<': ' ',\n",
    "    '>': ' ',\n",
    "    \"/\": ' ',\n",
    "}\n",
    "replace_chars = {\n",
    "    '*': ' x ',\n",
    "    \"%\": 'pct',\n",
    "    \",\": '.',\n",
    "    \" s \":  's '\n",
    "}\n"
   ],
   "id": "bb22f9e1f36abdaf",
   "outputs": [],
   "execution_count": 593
  },
  {
   "metadata": {
    "ExecuteTime": {
     "end_time": "2024-06-04T12:35:36.869542Z",
     "start_time": "2024-06-04T12:35:36.866364Z"
    }
   },
   "cell_type": "code",
   "source": [
    "def simple_process_item(x: str):\n",
    "    x = x.lower()\n",
    "    for char in remove_chars.keys():\n",
    "        x = x.replace(char, ' ')\n",
    "    for k, v in replace_chars.items():\n",
    "        x = x.replace(k, v)\n",
    "    item = ' '.join(re.split(r'(\\d+)', x))\n",
    "    while item.count(2 * \" \") > 0:\n",
    "        item = item.replace(2 * \" \", \" \")\n",
    "    item = item.replace(' .', '.').replace('. ', '.')\n",
    "    return ' '.join([x for x in item.split() if x not in exclude])"
   ],
   "id": "c7081d69bdfd5033",
   "outputs": [],
   "execution_count": 594
  },
  {
   "metadata": {
    "ExecuteTime": {
     "end_time": "2024-06-04T12:33:36.738948Z",
     "start_time": "2024-06-04T12:33:36.736185Z"
    }
   },
   "cell_type": "code",
   "source": [
    "def count_common_words(str1, str2):\n",
    "    set1 = set([x for x in str1.lower().split() if len(x) > 3 and not x.isdigit()])\n",
    "    set2 = set([x for x in str2.lower().split() if len(x) > 3 and not x.isdigit()])\n",
    "    if ((len(set1) + len(set2))/2) == 0:\n",
    "        return 0\n",
    "    return len(set1.intersection(set2))/((len(set1) + len(set2))/2)"
   ],
   "id": "6a587fd792a4655a",
   "outputs": [],
   "execution_count": 563
  },
  {
   "metadata": {
    "ExecuteTime": {
     "end_time": "2024-06-04T12:33:36.935986Z",
     "start_time": "2024-06-04T12:33:36.932096Z"
    }
   },
   "cell_type": "code",
   "source": [
    "def count_common_digits(str1, str2):\n",
    "    set1 = set([x for x in str1.lower().split() if x.isdigit()])\n",
    "    set2 = set([x for x in str2.lower().split() if x.isdigit()])\n",
    "    if ((len(set1) + len(set2))/2) == 0:\n",
    "        return 0\n",
    "    return len(set1.intersection(set2))/((len(set1) + len(set2))/2)"
   ],
   "id": "e9d75910c823f24f",
   "outputs": [],
   "execution_count": 564
  },
  {
   "metadata": {
    "ExecuteTime": {
     "end_time": "2024-06-04T12:33:37.215010Z",
     "start_time": "2024-06-04T12:33:37.211711Z"
    }
   },
   "cell_type": "code",
   "source": [
    "def count_digit_share(x: str):\n",
    "    counter = 0\n",
    "    for char in x:\n",
    "        if char.isdigit():\n",
    "            counter += 1\n",
    "    return counter/len(x.replace(' ', '')) if len(x) > len(x.replace(' ', '')) and counter > 0 else 0.5"
   ],
   "id": "1b64764d41f3d155",
   "outputs": [],
   "execution_count": 565
  },
  {
   "metadata": {
    "ExecuteTime": {
     "end_time": "2024-06-04T12:33:37.476990Z",
     "start_time": "2024-06-04T12:33:37.473246Z"
    }
   },
   "cell_type": "code",
   "source": [
    "def remove_numbers(text):\n",
    "    text = text.lower()\n",
    "    text = re.sub(r'\\d+', '', text)\n",
    "    text = ' '.join(text.split('.'))\n",
    "    return ' '.join([x for x in text.split() if len(x) > 2 and x not in ('pct', 'dad')][:3])"
   ],
   "id": "d6db81cc3901679d",
   "outputs": [],
   "execution_count": 566
  },
  {
   "metadata": {
    "ExecuteTime": {
     "end_time": "2024-06-04T12:33:37.703376Z",
     "start_time": "2024-06-04T12:33:37.701315Z"
    }
   },
   "cell_type": "code",
   "source": "",
   "id": "5f94c9542d394096",
   "outputs": [],
   "execution_count": 566
  },
  {
   "metadata": {
    "ExecuteTime": {
     "end_time": "2024-06-04T12:34:03.060943Z",
     "start_time": "2024-06-04T12:33:38.077075Z"
    }
   },
   "cell_type": "code",
   "source": [
    "# Loading data\n",
    "df_incoming = pd.read_excel(f'{os.getcwd()}/data/drl-data.xlsx', sheet_name='Inventory Out')\n",
    "df_outcoming = pd.read_excel(f'{os.getcwd()}/data/drl-data.xlsx', sheet_name='Inventory In')"
   ],
   "id": "edef4bf48f24cc85",
   "outputs": [],
   "execution_count": 567
  },
  {
   "metadata": {
    "ExecuteTime": {
     "end_time": "2024-06-04T12:34:03.282249Z",
     "start_time": "2024-06-04T12:34:03.061946Z"
    }
   },
   "cell_type": "code",
   "source": [
    "df_outcoming['unit'] = df_incoming['Unit'].str.lower()\n",
    "df_incoming['unit'] = df_incoming['Unit'].str.lower()"
   ],
   "id": "dcf9da31a0b05ae",
   "outputs": [],
   "execution_count": 568
  },
  {
   "metadata": {
    "ExecuteTime": {
     "end_time": "2024-06-04T12:34:03.284923Z",
     "start_time": "2024-06-04T12:34:03.283285Z"
    }
   },
   "cell_type": "code",
   "source": "",
   "id": "68df6f220adbe75a",
   "outputs": [],
   "execution_count": 568
  },
  {
   "metadata": {
    "ExecuteTime": {
     "end_time": "2024-06-04T12:34:03.290865Z",
     "start_time": "2024-06-04T12:34:03.286564Z"
    }
   },
   "cell_type": "code",
   "source": [
    "text = df_outcoming.sample(1)['Product or Service Name'].values[0]\n",
    "print(text)\n",
    "simple_process_item(text)"
   ],
   "id": "70b1602d04f44cf6",
   "outputs": [
    {
     "name": "stdout",
     "output_type": "stream",
     "text": [
      "Mimi Yoqurt Banan 3.5% 100qr *48\n"
     ]
    },
    {
     "data": {
      "text/plain": [
       "'mimi yoqurt banan 3.5 pct 100 qr x 48'"
      ]
     },
     "execution_count": 569,
     "metadata": {},
     "output_type": "execute_result"
    }
   ],
   "execution_count": 569
  },
  {
   "metadata": {
    "ExecuteTime": {
     "end_time": "2024-06-04T12:34:03.292608Z",
     "start_time": "2024-06-04T12:34:03.291422Z"
    }
   },
   "cell_type": "code",
   "source": "",
   "id": "e2002ba9df784de6",
   "outputs": [],
   "execution_count": 569
  },
  {
   "metadata": {
    "ExecuteTime": {
     "end_time": "2024-06-04T12:37:11.481810Z",
     "start_time": "2024-06-04T12:37:07.887269Z"
    }
   },
   "cell_type": "code",
   "source": [
    "df_outcoming['items'] = df_outcoming['Product or Service Name'].apply(lambda x: simple_process_item(x))\n",
    "df_incoming['items'] = df_incoming['Product or Service Name'].apply(lambda x: simple_process_item(x))"
   ],
   "id": "65cd74d211cba843",
   "outputs": [],
   "execution_count": 616
  },
  {
   "metadata": {
    "ExecuteTime": {
     "end_time": "2024-06-04T12:37:11.499669Z",
     "start_time": "2024-06-04T12:37:11.497777Z"
    }
   },
   "cell_type": "code",
   "source": "",
   "id": "35109f05cd507551",
   "outputs": [],
   "execution_count": 616
  },
  {
   "metadata": {
    "ExecuteTime": {
     "end_time": "2024-06-04T12:37:11.524001Z",
     "start_time": "2024-06-04T12:37:11.500583Z"
    }
   },
   "cell_type": "code",
   "source": "Counter(\" \".join(df_outcoming['items']).split()).most_common(50)",
   "id": "85f073ca563900b6",
   "outputs": [
    {
     "data": {
      "text/plain": [
       "[('x', 10399),\n",
       " ('qr', 4951),\n",
       " ('pct', 4903),\n",
       " ('milla', 2809),\n",
       " ('1', 2582),\n",
       " ('12', 2282),\n",
       " ('200', 1683),\n",
       " ('lays', 1570),\n",
       " ('ml', 1563),\n",
       " ('24', 1557),\n",
       " ('dərman', 1449),\n",
       " ('yoqurt', 1408),\n",
       " ('48', 1385),\n",
       " ('6', 1304),\n",
       " ('100', 1192),\n",
       " ('20', 1186),\n",
       " ('president', 1168),\n",
       " ('g', 1120),\n",
       " ('kq', 1099),\n",
       " ('№', 1017),\n",
       " ('150', 1005),\n",
       " ('3.5', 1000),\n",
       " ('dsp', 944),\n",
       " ('25', 927),\n",
       " ('gr', 913),\n",
       " ('pendir', 848),\n",
       " ('xama', 823),\n",
       " ('18', 792),\n",
       " ('süd', 770),\n",
       " ('90', 731),\n",
       " ('30', 715),\n",
       " ('xrustim', 692),\n",
       " ('10', 674),\n",
       " ('300', 646),\n",
       " ('l', 637),\n",
       " ('50', 623),\n",
       " ('q', 623),\n",
       " ('8', 621),\n",
       " ('suxari', 618),\n",
       " ('1.5', 612),\n",
       " ('0.5', 593),\n",
       " ('5', 589),\n",
       " ('ayran', 551),\n",
       " ('paprika', 525),\n",
       " ('şaftalı', 506),\n",
       " ('sevimli', 500),\n",
       " ('dad', 500),\n",
       " ('3', 471),\n",
       " ('qaymaq', 466),\n",
       " ('27', 462)]"
      ]
     },
     "execution_count": 617,
     "metadata": {},
     "output_type": "execute_result"
    }
   ],
   "execution_count": 617
  },
  {
   "metadata": {
    "ExecuteTime": {
     "end_time": "2024-06-04T12:37:11.528146Z",
     "start_time": "2024-06-04T12:37:11.526294Z"
    }
   },
   "cell_type": "code",
   "source": "",
   "id": "d8dc5dc70494d5d0",
   "outputs": [],
   "execution_count": 617
  },
  {
   "metadata": {
    "ExecuteTime": {
     "end_time": "2024-06-04T12:37:11.530848Z",
     "start_time": "2024-06-04T12:37:11.529082Z"
    }
   },
   "cell_type": "code",
   "source": "",
   "id": "ae67a9606dfe3052",
   "outputs": [],
   "execution_count": 617
  },
  {
   "metadata": {
    "ExecuteTime": {
     "end_time": "2024-06-04T12:44:06.797766Z",
     "start_time": "2024-06-04T12:43:52.865780Z"
    }
   },
   "cell_type": "code",
   "source": [
    "%%time\n",
    "\n",
    "to_find = df_incoming['items'].to_list()[:1000]\n",
    "candidates = set(df_outcoming['items'].to_list())\n",
    "\n",
    "outcoming, incoming1, incoming2, score1, score2, score_w, score_d = [], [], [], [], [], [], []\n",
    "for item in tqdm(to_find[:]):\n",
    "    res1 = proc.extract(\n",
    "                item,\n",
    "                candidates,\n",
    "                scorer=fuzz.partial_token_sort_ratio,\n",
    "                limit=1\n",
    "    )[0]\n",
    "    res2 = proc.extract(\n",
    "                item,\n",
    "                candidates,\n",
    "                scorer=fuzz.partial_ratio,\n",
    "                limit=1\n",
    "    )[0]\n",
    "    outcoming.append(item)\n",
    "    incoming1.append(res1[0])\n",
    "    incoming2.append(res2[0])\n",
    "    score1.append(res1[1])\n",
    "    score2.append(res2[1])\n",
    "    if len(res1) > 0:\n",
    "        score_w.append(count_common_words(item, res1[0]))\n",
    "        score_d.append(count_common_digits(item, res1[0]) / count_digit_share(res1[0]))\n"
   ],
   "id": "e7d700e3c78e60ec",
   "outputs": [
    {
     "name": "stderr",
     "output_type": "stream",
     "text": [
      "100%|██████████| 1000/1000 [00:13<00:00, 71.87it/s]"
     ]
    },
    {
     "name": "stdout",
     "output_type": "stream",
     "text": [
      "CPU times: user 13.9 s, sys: 27.3 ms, total: 13.9 s\n",
      "Wall time: 13.9 s\n"
     ]
    },
    {
     "name": "stderr",
     "output_type": "stream",
     "text": [
      "\n"
     ]
    }
   ],
   "execution_count": 650
  },
  {
   "metadata": {
    "ExecuteTime": {
     "end_time": "2024-06-04T12:44:07.592155Z",
     "start_time": "2024-06-04T12:44:07.586613Z"
    }
   },
   "cell_type": "code",
   "source": [
    "comp = pd.DataFrame()\n",
    "comp['right'] = outcoming\n",
    "comp['left1'] = incoming1\n",
    "comp['left2'] = incoming2\n",
    "comp['score1'] = score1\n",
    "comp['score2'] = score2\n",
    "comp['score3'] = 2*comp['score1'] *comp['score2'] /(comp['score1'] + comp['score2'] )\n",
    "comp['score_w'] = score_w\n",
    "comp['score_d'] = score_d\n",
    "comp['score_d'] = comp['score_d'] /10"
   ],
   "id": "62421c432d0cc524",
   "outputs": [],
   "execution_count": 651
  },
  {
   "metadata": {
    "ExecuteTime": {
     "end_time": "2024-06-04T12:44:07.852515Z",
     "start_time": "2024-06-04T12:44:07.850328Z"
    }
   },
   "cell_type": "code",
   "source": [
    "# parq_write(\n",
    "#     f'{os.getcwd()}/comp.parq',\n",
    "#     comp,\n",
    "#     compression='GZIP'\n",
    "# )"
   ],
   "id": "6e7190e8e7b9a4b7",
   "outputs": [],
   "execution_count": 652
  },
  {
   "metadata": {
    "ExecuteTime": {
     "end_time": "2024-06-04T12:44:07.973830Z",
     "start_time": "2024-06-04T12:44:07.972012Z"
    }
   },
   "cell_type": "code",
   "source": "",
   "id": "c3f62fc3fc5e58f9",
   "outputs": [],
   "execution_count": 652
  },
  {
   "metadata": {
    "ExecuteTime": {
     "end_time": "2024-06-04T12:44:08.193488Z",
     "start_time": "2024-06-04T12:44:08.191333Z"
    }
   },
   "cell_type": "code",
   "source": [
    "# comp_parq = ParquetFile(f'{os.getcwd()}/comp.parq',)\n",
    "# comp = comp_parq.to_pandas()"
   ],
   "id": "731856922b24801d",
   "outputs": [],
   "execution_count": 653
  },
  {
   "metadata": {
    "ExecuteTime": {
     "end_time": "2024-06-04T12:44:08.425353Z",
     "start_time": "2024-06-04T12:44:08.421939Z"
    }
   },
   "cell_type": "code",
   "source": "df_outcoming.shape, df_incoming.shape, comp.shape",
   "id": "84668e641b52e248",
   "outputs": [
    {
     "data": {
      "text/plain": [
       "((16947, 6), (937415, 6), (1000, 8))"
      ]
     },
     "execution_count": 654,
     "metadata": {},
     "output_type": "execute_result"
    }
   ],
   "execution_count": 654
  },
  {
   "metadata": {
    "ExecuteTime": {
     "end_time": "2024-06-04T12:44:08.742213Z",
     "start_time": "2024-06-04T12:44:08.740315Z"
    }
   },
   "cell_type": "code",
   "source": "",
   "id": "7046236a3704890f",
   "outputs": [],
   "execution_count": 654
  },
  {
   "metadata": {
    "ExecuteTime": {
     "end_time": "2024-06-04T12:44:08.893288Z",
     "start_time": "2024-06-04T12:44:08.889136Z"
    }
   },
   "cell_type": "code",
   "source": [
    "sub_result = pd.concat(\n",
    "    [\n",
    "        df_incoming[:1000],\n",
    "        comp\n",
    "    ],\n",
    "    axis=1,\n",
    ")\n",
    "sub_result.shape"
   ],
   "id": "64b0d8b097cbcdf8",
   "outputs": [
    {
     "data": {
      "text/plain": [
       "(1000, 14)"
      ]
     },
     "execution_count": 655,
     "metadata": {},
     "output_type": "execute_result"
    }
   ],
   "execution_count": 655
  },
  {
   "metadata": {
    "ExecuteTime": {
     "end_time": "2024-06-04T12:44:09.026416Z",
     "start_time": "2024-06-04T12:44:09.013913Z"
    }
   },
   "cell_type": "code",
   "source": [
    "compilation_full = sub_result.merge(df_outcoming, how='left', left_on='left1', right_on='items')\n",
    "compilation_full = compilation_full.drop_duplicates(subset=['#_x']) \n",
    "compilation_full.shape"
   ],
   "id": "94f68247e1883a6c",
   "outputs": [
    {
     "data": {
      "text/plain": [
       "(1000, 20)"
      ]
     },
     "execution_count": 656,
     "metadata": {},
     "output_type": "execute_result"
    }
   ],
   "execution_count": 656
  },
  {
   "metadata": {
    "ExecuteTime": {
     "end_time": "2024-06-04T12:44:09.514678Z",
     "start_time": "2024-06-04T12:44:09.512588Z"
    }
   },
   "cell_type": "code",
   "source": "",
   "id": "8d2ae54410b6c42e",
   "outputs": [],
   "execution_count": 656
  },
  {
   "metadata": {
    "ExecuteTime": {
     "end_time": "2024-06-04T12:44:09.778803Z",
     "start_time": "2024-06-04T12:44:09.775666Z"
    }
   },
   "cell_type": "code",
   "source": [
    "compilation_full = compilation_full[[\n",
    "          'items_x', 'items_y',\n",
    "          'Quantity/Volume_x', 'unit_x', 'Quantity/Volume_y', 'unit_y',\n",
    "          'score1', 'score2', 'score3', 'score_w', 'score_d',\n",
    "          'Product or Service Name_x', 'Product or Service Name_y', ]]"
   ],
   "id": "a69a13aa532b9cde",
   "outputs": [],
   "execution_count": 657
  },
  {
   "metadata": {
    "ExecuteTime": {
     "end_time": "2024-06-04T12:44:10.108947Z",
     "start_time": "2024-06-04T12:44:10.105364Z"
    }
   },
   "cell_type": "code",
   "source": [
    "comp_true = compilation_full[\n",
    "    (compilation_full.score3 > 78) \n",
    "    # & (compilation_full.score_w > 0.0)\n",
    "    & (compilation_full.score_d > 0.17)\n",
    "]"
   ],
   "id": "1ce39162f3dc765b",
   "outputs": [],
   "execution_count": 658
  },
  {
   "metadata": {
    "ExecuteTime": {
     "end_time": "2024-06-04T17:07:59.571766Z",
     "start_time": "2024-06-04T17:07:59.567369Z"
    }
   },
   "cell_type": "code",
   "source": "comp_doubt = compilation_full.drop(comp_true.index, axis=0)",
   "id": "b0ea01caf4eabba0",
   "outputs": [],
   "execution_count": 843
  },
  {
   "metadata": {
    "ExecuteTime": {
     "end_time": "2024-06-04T12:44:10.588695Z",
     "start_time": "2024-06-04T12:44:10.585917Z"
    }
   },
   "cell_type": "code",
   "source": [
    "comp_doubt['items_y']  = ''\n",
    "comp_doubt['Quantity/Volume_y'] = 0\n",
    "comp_doubt['unit_y'] = ''\n",
    "# comp_doubt['Product or Service Name_y'] = ''"
   ],
   "id": "fcc46d128f0959",
   "outputs": [],
   "execution_count": 660
  },
  {
   "metadata": {
    "ExecuteTime": {
     "end_time": "2024-06-04T12:44:10.811656Z",
     "start_time": "2024-06-04T12:44:10.807966Z"
    }
   },
   "cell_type": "code",
   "source": "comp_true.shape[0] / comp_doubt.shape[0]",
   "id": "990bfcf8e6cd73a8",
   "outputs": [
    {
     "data": {
      "text/plain": [
       "0.49700598802395207"
      ]
     },
     "execution_count": 661,
     "metadata": {},
     "output_type": "execute_result"
    }
   ],
   "execution_count": 661
  },
  {
   "metadata": {
    "ExecuteTime": {
     "end_time": "2024-06-04T17:08:08.041050Z",
     "start_time": "2024-06-04T17:08:08.030179Z"
    }
   },
   "cell_type": "code",
   "source": "comp_doubt.sample(5)",
   "id": "2e1cd8492e6b0f9e",
   "outputs": [
    {
     "data": {
      "text/plain": [
       "                                           items_x  \\\n",
       "5897        sochnaya port mango mandar 0.95 1 x 12   \n",
       "5877     sochnaya dolina shaftali alma 0.95 1 x 12   \n",
       "11291             superfresh milfoy 1000 gr 1 x 10   \n",
       "8699   suxari toyuq qanadlari barbeku 90 gr 1 x 24   \n",
       "12847      pinar sut protein kakaolu 500 ml 1 x 12   \n",
       "\n",
       "                                         items_y Quantity/Volume_x   unit_x  \\\n",
       "5897                       mirinda alma 0.5 x 12                12  adet.lt   \n",
       "5877                         mirinda alma 1 x 12                48  adet.lt   \n",
       "11291                           angins 10 100 ml                 4     eded   \n",
       "8699   suxari xrustim toyuq qanadlari 90 qr x 24                10     eded   \n",
       "12847                                    k 45 28                 3  adet.ml   \n",
       "\n",
       "      Quantity/Volume_y   unit_y     score1     score2     score3   score_w  \\\n",
       "5897               3888     eded  68.421053  77.777778  72.800000  0.000000   \n",
       "5877               8640     eded  73.684211  77.777778  75.675676  0.285714   \n",
       "11291                 2     eded  68.750000  66.666667  67.692308  0.000000   \n",
       "8699              25344     eded  75.757576  73.170732  74.441687  0.750000   \n",
       "12847                10  adet.lt  71.428571  77.777778  74.468085  0.000000   \n",
       "\n",
       "        score_d                    Product or Service Name_x  \\\n",
       "5897   0.283333      SOCHNAYA D PORT-MANGO-MANDAR 0.95LT1x12   \n",
       "5877   0.500000   SOCHNAYA DOLINA SHAFTALI-ALMA 0.95 LT 1x12   \n",
       "11291  0.104000               SUPERFRESH MILFOY 1000 GR 1X10   \n",
       "8699   0.680000  SUXARI TOYUQ QANADLARI BARBEKU 90 GR 1 X 24   \n",
       "12847  0.000000        PINAR SUT PROTEIN KAKAOLU 500 ML 1x12   \n",
       "\n",
       "                      Product or Service Name_y  \n",
       "5897                     Mirinda Alma 0.5 lt*12  \n",
       "5877                       Mirinda Alma 1 lt*12  \n",
       "11291                           Angins10 100 ml  \n",
       "8699   Suxari Xrustim Toyuq qanadlari 90 qr X24  \n",
       "12847                                D-k 45/d28  "
      ],
      "text/html": [
       "<div>\n",
       "<style scoped>\n",
       "    .dataframe tbody tr th:only-of-type {\n",
       "        vertical-align: middle;\n",
       "    }\n",
       "\n",
       "    .dataframe tbody tr th {\n",
       "        vertical-align: top;\n",
       "    }\n",
       "\n",
       "    .dataframe thead th {\n",
       "        text-align: right;\n",
       "    }\n",
       "</style>\n",
       "<table border=\"1\" class=\"dataframe\">\n",
       "  <thead>\n",
       "    <tr style=\"text-align: right;\">\n",
       "      <th></th>\n",
       "      <th>items_x</th>\n",
       "      <th>items_y</th>\n",
       "      <th>Quantity/Volume_x</th>\n",
       "      <th>unit_x</th>\n",
       "      <th>Quantity/Volume_y</th>\n",
       "      <th>unit_y</th>\n",
       "      <th>score1</th>\n",
       "      <th>score2</th>\n",
       "      <th>score3</th>\n",
       "      <th>score_w</th>\n",
       "      <th>score_d</th>\n",
       "      <th>Product or Service Name_x</th>\n",
       "      <th>Product or Service Name_y</th>\n",
       "    </tr>\n",
       "  </thead>\n",
       "  <tbody>\n",
       "    <tr>\n",
       "      <th>5897</th>\n",
       "      <td>sochnaya port mango mandar 0.95 1 x 12</td>\n",
       "      <td>mirinda alma 0.5 x 12</td>\n",
       "      <td>12</td>\n",
       "      <td>adet.lt</td>\n",
       "      <td>3888</td>\n",
       "      <td>eded</td>\n",
       "      <td>68.421053</td>\n",
       "      <td>77.777778</td>\n",
       "      <td>72.800000</td>\n",
       "      <td>0.000000</td>\n",
       "      <td>0.283333</td>\n",
       "      <td>SOCHNAYA D PORT-MANGO-MANDAR 0.95LT1x12</td>\n",
       "      <td>Mirinda Alma 0.5 lt*12</td>\n",
       "    </tr>\n",
       "    <tr>\n",
       "      <th>5877</th>\n",
       "      <td>sochnaya dolina shaftali alma 0.95 1 x 12</td>\n",
       "      <td>mirinda alma 1 x 12</td>\n",
       "      <td>48</td>\n",
       "      <td>adet.lt</td>\n",
       "      <td>8640</td>\n",
       "      <td>eded</td>\n",
       "      <td>73.684211</td>\n",
       "      <td>77.777778</td>\n",
       "      <td>75.675676</td>\n",
       "      <td>0.285714</td>\n",
       "      <td>0.500000</td>\n",
       "      <td>SOCHNAYA DOLINA SHAFTALI-ALMA 0.95 LT 1x12</td>\n",
       "      <td>Mirinda Alma 1 lt*12</td>\n",
       "    </tr>\n",
       "    <tr>\n",
       "      <th>11291</th>\n",
       "      <td>superfresh milfoy 1000 gr 1 x 10</td>\n",
       "      <td>angins 10 100 ml</td>\n",
       "      <td>4</td>\n",
       "      <td>eded</td>\n",
       "      <td>2</td>\n",
       "      <td>eded</td>\n",
       "      <td>68.750000</td>\n",
       "      <td>66.666667</td>\n",
       "      <td>67.692308</td>\n",
       "      <td>0.000000</td>\n",
       "      <td>0.104000</td>\n",
       "      <td>SUPERFRESH MILFOY 1000 GR 1X10</td>\n",
       "      <td>Angins10 100 ml</td>\n",
       "    </tr>\n",
       "    <tr>\n",
       "      <th>8699</th>\n",
       "      <td>suxari toyuq qanadlari barbeku 90 gr 1 x 24</td>\n",
       "      <td>suxari xrustim toyuq qanadlari 90 qr x 24</td>\n",
       "      <td>10</td>\n",
       "      <td>eded</td>\n",
       "      <td>25344</td>\n",
       "      <td>eded</td>\n",
       "      <td>75.757576</td>\n",
       "      <td>73.170732</td>\n",
       "      <td>74.441687</td>\n",
       "      <td>0.750000</td>\n",
       "      <td>0.680000</td>\n",
       "      <td>SUXARI TOYUQ QANADLARI BARBEKU 90 GR 1 X 24</td>\n",
       "      <td>Suxari Xrustim Toyuq qanadlari 90 qr X24</td>\n",
       "    </tr>\n",
       "    <tr>\n",
       "      <th>12847</th>\n",
       "      <td>pinar sut protein kakaolu 500 ml 1 x 12</td>\n",
       "      <td>k 45 28</td>\n",
       "      <td>3</td>\n",
       "      <td>adet.ml</td>\n",
       "      <td>10</td>\n",
       "      <td>adet.lt</td>\n",
       "      <td>71.428571</td>\n",
       "      <td>77.777778</td>\n",
       "      <td>74.468085</td>\n",
       "      <td>0.000000</td>\n",
       "      <td>0.000000</td>\n",
       "      <td>PINAR SUT PROTEIN KAKAOLU 500 ML 1x12</td>\n",
       "      <td>D-k 45/d28</td>\n",
       "    </tr>\n",
       "  </tbody>\n",
       "</table>\n",
       "</div>"
      ]
     },
     "execution_count": 844,
     "metadata": {},
     "output_type": "execute_result"
    }
   ],
   "execution_count": 844
  },
  {
   "metadata": {},
   "cell_type": "code",
   "outputs": [],
   "execution_count": null,
   "source": "",
   "id": "5849c6d901527c80"
  },
  {
   "metadata": {
    "ExecuteTime": {
     "end_time": "2024-06-04T12:44:11.663442Z",
     "start_time": "2024-06-04T12:44:11.660302Z"
    }
   },
   "cell_type": "code",
   "source": "compilation_scored = pd.concat([comp_true, comp_doubt])",
   "id": "42468dfdb119f736",
   "outputs": [],
   "execution_count": 662
  },
  {
   "metadata": {
    "ExecuteTime": {
     "end_time": "2024-06-04T12:44:11.869242Z",
     "start_time": "2024-06-04T12:44:11.865199Z"
    }
   },
   "cell_type": "code",
   "source": "compilation_scored['unit_common'] = compilation_scored['unit_x'] + ' ' +  compilation_scored['unit_y']",
   "id": "785fc73aebe0d7c0",
   "outputs": [],
   "execution_count": 663
  },
  {
   "metadata": {
    "ExecuteTime": {
     "end_time": "2024-06-04T12:44:12.143665Z",
     "start_time": "2024-06-04T12:44:12.140077Z"
    }
   },
   "cell_type": "code",
   "source": "compilation_scored['unit_common_set'] = compilation_scored['unit_common'].apply(lambda x: set(str(x).replace('.', ' ').split()))",
   "id": "76857e8b80f2cb98",
   "outputs": [],
   "execution_count": 664
  },
  {
   "metadata": {
    "ExecuteTime": {
     "end_time": "2024-06-04T12:44:12.324047Z",
     "start_time": "2024-06-04T12:44:12.319786Z"
    }
   },
   "cell_type": "code",
   "source": [
    "compilation_scored['unit_common_str'] = compilation_scored['unit_common_set'].apply(\n",
    "    lambda x: str(list(x)[0]) if len(list(x)) == 0 else ' '.join(list(x))\n",
    ")"
   ],
   "id": "fe90589fd17f2fad",
   "outputs": [],
   "execution_count": 665
  },
  {
   "metadata": {
    "ExecuteTime": {
     "end_time": "2024-06-04T12:44:12.540085Z",
     "start_time": "2024-06-04T12:44:12.534618Z"
    }
   },
   "cell_type": "code",
   "source": [
    "compilation_scored['quant_in'] = compilation_scored['Quantity/Volume_x'].astype('str').str.replace(',', '.').fillna(0).astype('float')\n",
    "compilation_scored['quant_out'] = compilation_scored['Quantity/Volume_y'].astype('str').str.replace(',', '.').fillna(0).astype('float')"
   ],
   "id": "9f905fa068adae67",
   "outputs": [],
   "execution_count": 666
  },
  {
   "metadata": {
    "ExecuteTime": {
     "end_time": "2024-06-04T12:44:12.745396Z",
     "start_time": "2024-06-04T12:44:12.736750Z"
    }
   },
   "cell_type": "code",
   "source": [
    "# x - incoming y - outcoming\n",
    "compilation_scored[[\n",
    "          'items_x', 'items_y',\n",
    "          'score3', 'score1', 'score2', 'score_w', 'score_d', 'Product or Service Name_y']].sample(250)"
   ],
   "id": "e6a43ce336ad9833",
   "outputs": [
    {
     "data": {
      "text/plain": [
       "                                                 items_x  \\\n",
       "8569         berrak jalapeno biber dilimli 370 ml 1 x 12   \n",
       "1367                        kirlangic misir yagi 2 1 x 8   \n",
       "12889                   sandora multivitamin 0.97 1 x 12   \n",
       "13386  burcu domates biber tomat ikisibirarada 600 gr...   \n",
       "18953                  pinar ketcap plastik 400 gr 1 x 6   \n",
       "...                                                  ...   \n",
       "18325  sevimli dad xama kaunasskaya 20 pct 200 gr 1 x 12   \n",
       "18929                sonti saftali nektari 200 gr 1 x 27   \n",
       "7096        sevimli dad kesmik uzumlu 9 pct 180 gr 1 x 1   \n",
       "6004               doktor milk xama 25 pct 200 qr 1 x 12   \n",
       "2553                     fersan limon suyu 100 cl 1 x 12   \n",
       "\n",
       "                                                 items_y      score3  \\\n",
       "8569                                                       73.684211   \n",
       "1367                                                       72.727273   \n",
       "12889                          ya multivitamin 0.97 x 12   89.955556   \n",
       "13386                                                      71.794872   \n",
       "18953                                                      72.544081   \n",
       "...                                                  ...         ...   \n",
       "18325  sevimli dad xama kaunasskaya 20 pct 200 gr 1 x 12  100.000000   \n",
       "18929                                                      66.666667   \n",
       "7096        sevimli dad kesmik kaunas 0 pct 180 gr 1 x 1   85.676393   \n",
       "6004                                                       79.160420   \n",
       "2553                                                       71.794872   \n",
       "\n",
       "           score1      score2   score_w   score_d  \\\n",
       "8569    70.000000   77.777778  0.000000  0.116667   \n",
       "1367    66.666667   80.000000  0.000000  0.146667   \n",
       "12889   88.000000   92.000000  0.800000  0.280000   \n",
       "13386   66.666667   77.777778  0.000000  0.000000   \n",
       "18953   76.190476   69.230769  0.400000  0.000000   \n",
       "...           ...         ...       ...       ...   \n",
       "18325  100.000000  100.000000  1.000000  0.487500   \n",
       "18929   66.666667   66.666667  0.000000  0.000000   \n",
       "7096    85.000000   86.363636  0.666667  0.377778   \n",
       "6004    75.862069   82.758621  0.400000  0.089796   \n",
       "2553    66.666667   77.777778  0.000000  0.000000   \n",
       "\n",
       "                          Product or Service Name_y  \n",
       "8569                                    7up 1 lt*12  \n",
       "1367                              Dirsek 28 (1 1/8)  \n",
       "12889                    Ya Multivitamin 0.97 lt*12  \n",
       "13386                                           Kif  \n",
       "18953                                  Plastik qutu  \n",
       "...                                             ...  \n",
       "18325  SEVIMLI DAD XAMA KAUNASSKAYA 20% 200 GR 1X12  \n",
       "18929                                           Fan  \n",
       "7096         SEVIMLI DAD KESMIK KAUNAS 0% 180 GR1x1  \n",
       "6004                       Milla Xama 25% 175qr *36  \n",
       "2553                                            Fan  \n",
       "\n",
       "[250 rows x 8 columns]"
      ],
      "text/html": [
       "<div>\n",
       "<style scoped>\n",
       "    .dataframe tbody tr th:only-of-type {\n",
       "        vertical-align: middle;\n",
       "    }\n",
       "\n",
       "    .dataframe tbody tr th {\n",
       "        vertical-align: top;\n",
       "    }\n",
       "\n",
       "    .dataframe thead th {\n",
       "        text-align: right;\n",
       "    }\n",
       "</style>\n",
       "<table border=\"1\" class=\"dataframe\">\n",
       "  <thead>\n",
       "    <tr style=\"text-align: right;\">\n",
       "      <th></th>\n",
       "      <th>items_x</th>\n",
       "      <th>items_y</th>\n",
       "      <th>score3</th>\n",
       "      <th>score1</th>\n",
       "      <th>score2</th>\n",
       "      <th>score_w</th>\n",
       "      <th>score_d</th>\n",
       "      <th>Product or Service Name_y</th>\n",
       "    </tr>\n",
       "  </thead>\n",
       "  <tbody>\n",
       "    <tr>\n",
       "      <th>8569</th>\n",
       "      <td>berrak jalapeno biber dilimli 370 ml 1 x 12</td>\n",
       "      <td></td>\n",
       "      <td>73.684211</td>\n",
       "      <td>70.000000</td>\n",
       "      <td>77.777778</td>\n",
       "      <td>0.000000</td>\n",
       "      <td>0.116667</td>\n",
       "      <td>7up 1 lt*12</td>\n",
       "    </tr>\n",
       "    <tr>\n",
       "      <th>1367</th>\n",
       "      <td>kirlangic misir yagi 2 1 x 8</td>\n",
       "      <td></td>\n",
       "      <td>72.727273</td>\n",
       "      <td>66.666667</td>\n",
       "      <td>80.000000</td>\n",
       "      <td>0.000000</td>\n",
       "      <td>0.146667</td>\n",
       "      <td>Dirsek 28 (1 1/8)</td>\n",
       "    </tr>\n",
       "    <tr>\n",
       "      <th>12889</th>\n",
       "      <td>sandora multivitamin 0.97 1 x 12</td>\n",
       "      <td>ya multivitamin 0.97 x 12</td>\n",
       "      <td>89.955556</td>\n",
       "      <td>88.000000</td>\n",
       "      <td>92.000000</td>\n",
       "      <td>0.800000</td>\n",
       "      <td>0.280000</td>\n",
       "      <td>Ya Multivitamin 0.97 lt*12</td>\n",
       "    </tr>\n",
       "    <tr>\n",
       "      <th>13386</th>\n",
       "      <td>burcu domates biber tomat ikisibirarada 600 gr...</td>\n",
       "      <td></td>\n",
       "      <td>71.794872</td>\n",
       "      <td>66.666667</td>\n",
       "      <td>77.777778</td>\n",
       "      <td>0.000000</td>\n",
       "      <td>0.000000</td>\n",
       "      <td>Kif</td>\n",
       "    </tr>\n",
       "    <tr>\n",
       "      <th>18953</th>\n",
       "      <td>pinar ketcap plastik 400 gr 1 x 6</td>\n",
       "      <td></td>\n",
       "      <td>72.544081</td>\n",
       "      <td>76.190476</td>\n",
       "      <td>69.230769</td>\n",
       "      <td>0.400000</td>\n",
       "      <td>0.000000</td>\n",
       "      <td>Plastik qutu</td>\n",
       "    </tr>\n",
       "    <tr>\n",
       "      <th>...</th>\n",
       "      <td>...</td>\n",
       "      <td>...</td>\n",
       "      <td>...</td>\n",
       "      <td>...</td>\n",
       "      <td>...</td>\n",
       "      <td>...</td>\n",
       "      <td>...</td>\n",
       "      <td>...</td>\n",
       "    </tr>\n",
       "    <tr>\n",
       "      <th>18325</th>\n",
       "      <td>sevimli dad xama kaunasskaya 20 pct 200 gr 1 x 12</td>\n",
       "      <td>sevimli dad xama kaunasskaya 20 pct 200 gr 1 x 12</td>\n",
       "      <td>100.000000</td>\n",
       "      <td>100.000000</td>\n",
       "      <td>100.000000</td>\n",
       "      <td>1.000000</td>\n",
       "      <td>0.487500</td>\n",
       "      <td>SEVIMLI DAD XAMA KAUNASSKAYA 20% 200 GR 1X12</td>\n",
       "    </tr>\n",
       "    <tr>\n",
       "      <th>18929</th>\n",
       "      <td>sonti saftali nektari 200 gr 1 x 27</td>\n",
       "      <td></td>\n",
       "      <td>66.666667</td>\n",
       "      <td>66.666667</td>\n",
       "      <td>66.666667</td>\n",
       "      <td>0.000000</td>\n",
       "      <td>0.000000</td>\n",
       "      <td>Fan</td>\n",
       "    </tr>\n",
       "    <tr>\n",
       "      <th>7096</th>\n",
       "      <td>sevimli dad kesmik uzumlu 9 pct 180 gr 1 x 1</td>\n",
       "      <td>sevimli dad kesmik kaunas 0 pct 180 gr 1 x 1</td>\n",
       "      <td>85.676393</td>\n",
       "      <td>85.000000</td>\n",
       "      <td>86.363636</td>\n",
       "      <td>0.666667</td>\n",
       "      <td>0.377778</td>\n",
       "      <td>SEVIMLI DAD KESMIK KAUNAS 0% 180 GR1x1</td>\n",
       "    </tr>\n",
       "    <tr>\n",
       "      <th>6004</th>\n",
       "      <td>doktor milk xama 25 pct 200 qr 1 x 12</td>\n",
       "      <td></td>\n",
       "      <td>79.160420</td>\n",
       "      <td>75.862069</td>\n",
       "      <td>82.758621</td>\n",
       "      <td>0.400000</td>\n",
       "      <td>0.089796</td>\n",
       "      <td>Milla Xama 25% 175qr *36</td>\n",
       "    </tr>\n",
       "    <tr>\n",
       "      <th>2553</th>\n",
       "      <td>fersan limon suyu 100 cl 1 x 12</td>\n",
       "      <td></td>\n",
       "      <td>71.794872</td>\n",
       "      <td>66.666667</td>\n",
       "      <td>77.777778</td>\n",
       "      <td>0.000000</td>\n",
       "      <td>0.000000</td>\n",
       "      <td>Fan</td>\n",
       "    </tr>\n",
       "  </tbody>\n",
       "</table>\n",
       "<p>250 rows × 8 columns</p>\n",
       "</div>"
      ]
     },
     "execution_count": 667,
     "metadata": {},
     "output_type": "execute_result"
    }
   ],
   "execution_count": 667
  },
  {
   "metadata": {
    "ExecuteTime": {
     "end_time": "2024-06-04T12:44:13.027191Z",
     "start_time": "2024-06-04T12:44:13.024807Z"
    }
   },
   "cell_type": "code",
   "source": "",
   "id": "f2a4a74822c6512",
   "outputs": [],
   "execution_count": 667
  },
  {
   "metadata": {
    "ExecuteTime": {
     "end_time": "2024-06-04T12:44:13.471769Z",
     "start_time": "2024-06-04T12:44:13.467222Z"
    }
   },
   "cell_type": "code",
   "source": "compilation_scored['items_x_numberless'] = compilation_scored['items_x'].apply(lambda x: remove_numbers(x))",
   "id": "863d1c0f691c1276",
   "outputs": [],
   "execution_count": 668
  },
  {
   "metadata": {
    "ExecuteTime": {
     "end_time": "2024-06-04T12:44:14.340494Z",
     "start_time": "2024-06-04T12:44:14.337286Z"
    }
   },
   "cell_type": "code",
   "source": "",
   "id": "bac680604a2be7f9",
   "outputs": [],
   "execution_count": 668
  },
  {
   "metadata": {
    "ExecuteTime": {
     "end_time": "2024-06-04T16:54:16.335872Z",
     "start_time": "2024-06-04T16:54:16.332359Z"
    }
   },
   "cell_type": "code",
   "source": [
    "kw_extractor1 = yake.KeywordExtractor(\n",
    "    n=3,\n",
    "    dedupLim=0.5,\n",
    "    dedupFunc='sequencematcher',\n",
    "    windowsSize=2,\n",
    "    top=3,\n",
    "    features=None\n",
    ")\n",
    "\n",
    "kw_extractor2 = yake.KeywordExtractor(\n",
    "    n=1,\n",
    "    dedupLim=0.5,\n",
    "    dedupFunc='sequencematcher',\n",
    "    windowsSize=2,\n",
    "    top=1,\n",
    "    features=None\n",
    ")\n",
    "\n",
    "kw_extractor = yake.KeywordExtractor(\n",
    "    n=2,\n",
    "    dedupLim=0.5,\n",
    "    dedupFunc='sequencematcher',\n",
    "    windowsSize=2,\n",
    "    top=3,\n",
    "    features=None\n",
    ")\n"
   ],
   "id": "c57caf460d8b6373",
   "outputs": [],
   "execution_count": 830
  },
  {
   "metadata": {
    "ExecuteTime": {
     "end_time": "2024-06-04T16:54:16.629366Z",
     "start_time": "2024-06-04T16:54:16.627166Z"
    }
   },
   "cell_type": "code",
   "source": "",
   "id": "56f344affb384b3d",
   "outputs": [],
   "execution_count": 830
  },
  {
   "metadata": {
    "ExecuteTime": {
     "end_time": "2024-06-04T16:54:44.318711Z",
     "start_time": "2024-06-04T16:54:44.313129Z"
    }
   },
   "cell_type": "code",
   "source": [
    "def get_2main_word(word: str):\n",
    "    keywords = kw_extractor.extract_keywords(word)\n",
    "    x = {kw[0]: kw[1] for kw in keywords}\n",
    "    if len(x) > 0:\n",
    "        return min(x, key=x.get)\n",
    "    else:\n",
    "        return ''\n",
    "\n",
    "def get_1main_word(words: str):\n",
    "    if len(words) > 0:\n",
    "        fltr = kw_extractor.extract_keywords(words)\n",
    "        fltr_dct = {kw[0]: kw[1] for kw in fltr}\n",
    "        return max(fltr_dct, key=fltr_dct.get)\n",
    "    else:\n",
    "        return ''"
   ],
   "id": "15b6518b39e26d4",
   "outputs": [],
   "execution_count": 835
  },
  {
   "metadata": {
    "ExecuteTime": {
     "end_time": "2024-06-04T16:54:44.874182Z",
     "start_time": "2024-06-04T16:54:44.833854Z"
    }
   },
   "cell_type": "code",
   "source": [
    "for item in compilation_scored.sample(50)['items_x_numberless']:\n",
    "    words = get_2main_word(item)\n",
    "    word = get_1main_word(words)\n",
    "    print(item)\n",
    "    print('---')\n",
    "    splitted_words = words.split()\n",
    "    if len(splitted_words) == 2:\n",
    "        print(' '.join(splitted_words))\n",
    "        print(' '.join(splitted_words[:-1]))\n",
    "        # print(' '.join(splitted_words[-1:]))\n",
    "    elif len(splitted_words) == 3:\n",
    "        print(' '.join(splitted_words[:-1]))\n",
    "        print(splitted_words[-1])\n",
    "    # print(word)\n",
    "    print()"
   ],
   "id": "843fac3c2275cb3",
   "outputs": [
    {
     "name": "stdout",
     "output_type": "stream",
     "text": [
      "fersan uzum sirkesi\n",
      "---\n",
      "fersan uzum\n",
      "fersan\n",
      "\n",
      "sevimli canax pendiri\n",
      "---\n",
      "sevimli canax\n",
      "sevimli\n",
      "\n",
      "lays sir\n",
      "---\n",
      "lays sir\n",
      "lays\n",
      "\n",
      "pinar salam bitir\n",
      "---\n",
      "pinar salam\n",
      "pinar\n",
      "\n",
      "bebeto rainbow twist\n",
      "---\n",
      "bebeto rainbow\n",
      "bebeto\n",
      "\n",
      "sevimli kesmik yagli\n",
      "---\n",
      "sevimli kesmik\n",
      "sevimli\n",
      "\n",
      "fora siyah zeytin\n",
      "---\n",
      "fora siyah\n",
      "fora\n",
      "\n",
      "suxari bavarskie kolbaski\n",
      "---\n",
      "suxari bavarskie\n",
      "suxari\n",
      "\n",
      "icimino ciyelek\n",
      "---\n",
      "icimino ciyelek\n",
      "icimino\n",
      "\n",
      "sevimli kefir\n",
      "---\n",
      "sevimli kefir\n",
      "sevimli\n",
      "\n",
      "doktor milk xama\n",
      "---\n",
      "doktor milk\n",
      "doktor\n",
      "\n",
      "doktor milk kesmik\n",
      "---\n",
      "doktor milk\n",
      "doktor\n",
      "\n",
      "ulker puding icim\n",
      "---\n",
      "ulker puding\n",
      "ulker\n",
      "\n",
      "lays ridged chili\n",
      "---\n",
      "lays ridged\n",
      "lays\n",
      "\n",
      "beliy qorod sud\n",
      "---\n",
      "beliy qorod\n",
      "beliy\n",
      "\n",
      "suxari bavarskie kolbaski\n",
      "---\n",
      "suxari bavarskie\n",
      "suxari\n",
      "\n",
      "sevimli kesmik uzumlu\n",
      "---\n",
      "sevimli kesmik\n",
      "sevimli\n",
      "\n",
      "parmalat kokteyl cokolato\n",
      "---\n",
      "parmalat kokteyl\n",
      "parmalat\n",
      "\n",
      "pinar balik hamsi\n",
      "---\n",
      "pinar balik\n",
      "pinar\n",
      "\n",
      "suxari smetan\n",
      "---\n",
      "suxari smetan\n",
      "suxari\n",
      "\n",
      "pinar milfoy\n",
      "---\n",
      "pinar milfoy\n",
      "pinar\n",
      "\n",
      "milla sud\n",
      "---\n",
      "milla sud\n",
      "milla\n",
      "\n",
      "superfresh pizza king\n",
      "---\n",
      "superfresh pizza\n",
      "superfresh\n",
      "\n",
      "sevimli xama kaunas\n",
      "---\n",
      "sevimli xama\n",
      "sevimli\n",
      "\n",
      "elvan today findiqli\n",
      "---\n",
      "elvan today\n",
      "elvan\n",
      "\n",
      "sevimli gatig\n",
      "---\n",
      "sevimli gatig\n",
      "sevimli\n",
      "\n",
      "sevimli canax pendiri\n",
      "---\n",
      "sevimli canax\n",
      "sevimli\n",
      "\n",
      "lays ridged pendir\n",
      "---\n",
      "lays ridged\n",
      "lays\n",
      "\n",
      "tadim antep fistigi\n",
      "---\n",
      "tadim antep\n",
      "tadim\n",
      "\n",
      "beliy qorod sud\n",
      "---\n",
      "beliy qorod\n",
      "beliy\n",
      "\n",
      "doritos acili\n",
      "---\n",
      "doritos acili\n",
      "doritos\n",
      "\n",
      "qlavprodukt tomat pastasi\n",
      "---\n",
      "qlavprodukt tomat\n",
      "qlavprodukt\n",
      "\n",
      "ulker puding icim\n",
      "---\n",
      "ulker puding\n",
      "ulker\n",
      "\n",
      "pinar salam doyum\n",
      "---\n",
      "pinar salam\n",
      "pinar\n",
      "\n",
      "doktor milk kesmik\n",
      "---\n",
      "doktor milk\n",
      "doktor\n",
      "\n",
      "lays sir\n",
      "---\n",
      "lays sir\n",
      "lays\n",
      "\n",
      "ulker puding alpella\n",
      "---\n",
      "ulker puding\n",
      "ulker\n",
      "\n",
      "superfresh ton light\n",
      "---\n",
      "superfresh ton\n",
      "superfresh\n",
      "\n",
      "burcu domates tomati\n",
      "---\n",
      "burcu domates\n",
      "burcu\n",
      "\n",
      "ulker puding icim\n",
      "---\n",
      "ulker puding\n",
      "ulker\n",
      "\n",
      "halk figaro kreml\n",
      "---\n",
      "halk figaro\n",
      "halk\n",
      "\n",
      "suxari biftekli\n",
      "---\n",
      "suxari biftekli\n",
      "suxari\n",
      "\n",
      "elvan anl toy\n",
      "---\n",
      "elvan anl\n",
      "elvan\n",
      "\n",
      "sevimli kesmik ciyelekli\n",
      "---\n",
      "sevimli kesmik\n",
      "sevimli\n",
      "\n",
      "suxari biftekli\n",
      "---\n",
      "suxari biftekli\n",
      "suxari\n",
      "\n",
      "komili riviera zeytinyagi\n",
      "---\n",
      "komili riviera\n",
      "komili\n",
      "\n",
      "suxari sir\n",
      "---\n",
      "suxari sir\n",
      "suxari\n",
      "\n",
      "lays klasik\n",
      "---\n",
      "lays klasik\n",
      "lays\n",
      "\n",
      "burcu domates biber\n",
      "---\n",
      "burcu domates\n",
      "burcu\n",
      "\n",
      "doritos taco\n",
      "---\n",
      "doritos taco\n",
      "doritos\n",
      "\n"
     ]
    }
   ],
   "execution_count": 836
  },
  {
   "metadata": {
    "ExecuteTime": {
     "end_time": "2024-06-04T16:54:45.709971Z",
     "start_time": "2024-06-04T16:54:45.707824Z"
    }
   },
   "cell_type": "code",
   "source": "",
   "id": "7f46173a42c2d116",
   "outputs": [],
   "execution_count": 836
  },
  {
   "metadata": {
    "ExecuteTime": {
     "end_time": "2024-06-04T16:54:47.037789Z",
     "start_time": "2024-06-04T16:54:46.040062Z"
    }
   },
   "cell_type": "code",
   "source": [
    "compilation_scored['main_2word'] = compilation_scored['items_x_numberless'].apply(lambda x: get_2main_word(x))\n",
    "compilation_scored['main_1word'] = compilation_scored['main_2word'].apply(lambda x: get_1main_word(x))"
   ],
   "id": "667ec29debc908e9",
   "outputs": [],
   "execution_count": 837
  },
  {
   "metadata": {
    "ExecuteTime": {
     "end_time": "2024-06-04T16:54:47.225225Z",
     "start_time": "2024-06-04T16:54:47.209192Z"
    }
   },
   "cell_type": "code",
   "source": "compilation_scored.groupby(by=['main_1word', 'main_2word', 'items_x', 'items_y', 'unit_common_str']).agg({'quant_in':'sum','quant_out':'sum'}) # .sort_values(['unit_common_str'])",
   "id": "c9209f535ad8f825",
   "outputs": [
    {
     "data": {
      "text/plain": [
       "                                                                                                                                 quant_in  \\\n",
       "main_1word main_2word         items_x                                            items_y                        unit_common_str             \n",
       "acili      doritos acili      doritos acili 130 gr 1 x 16                        doritos acılı 130 qr x 16      eded                 96.0   \n",
       "                              doritos acili 74 gr 1 x 24                         doritos acılı 74 qr x 24       eded                 63.0   \n",
       "adjika     qlavprodukt adjika qlavprodukt adjika domasnaya 170 qr 1 x 15                                        eded                  5.0   \n",
       "                              qlavprodukt adjika kavkazskaya 170 qr 1 x 15                                      eded                  4.0   \n",
       "alma       icimino alma       icimino alma erik 40 gr 1 x 48                     icimino alma ərik 6 x 40 g x 8 eded                 48.0   \n",
       "...                                                                                                                                   ...   \n",
       "yagli      president yagli    president yagli 140 gr 1 x 15                                                     eded                 79.0   \n",
       "                              president yagli 200 gr 1 x 16                                                     eded                 20.0   \n",
       "                              president yagli 280 gr 1 x 18                                                     eded                  8.0   \n",
       "                              president yagli 400 gr 1 x 16                                                     eded                 16.0   \n",
       "zolotoy    zolotoy petusok    zolotoy petusok naggets xirtxirt 300 gr 1 x 12 ...                                eded                  4.0   \n",
       "\n",
       "                                                                                                                                 quant_out  \n",
       "main_1word main_2word         items_x                                            items_y                        unit_common_str             \n",
       "acili      doritos acili      doritos acili 130 gr 1 x 16                        doritos acılı 130 qr x 16      eded              104000.0  \n",
       "                              doritos acili 74 gr 1 x 24                         doritos acılı 74 qr x 24       eded              134592.0  \n",
       "adjika     qlavprodukt adjika qlavprodukt adjika domasnaya 170 qr 1 x 15                                        eded                   0.0  \n",
       "                              qlavprodukt adjika kavkazskaya 170 qr 1 x 15                                      eded                   0.0  \n",
       "alma       icimino alma       icimino alma erik 40 gr 1 x 48                     icimino alma ərik 6 x 40 g x 8 eded                1600.0  \n",
       "...                                                                                                                                    ...  \n",
       "yagli      president yagli    president yagli 140 gr 1 x 15                                                     eded                   0.0  \n",
       "                              president yagli 200 gr 1 x 16                                                     eded                   0.0  \n",
       "                              president yagli 280 gr 1 x 18                                                     eded                   0.0  \n",
       "                              president yagli 400 gr 1 x 16                                                     eded                   0.0  \n",
       "zolotoy    zolotoy petusok    zolotoy petusok naggets xirtxirt 300 gr 1 x 12 ...                                eded                   0.0  \n",
       "\n",
       "[494 rows x 2 columns]"
      ],
      "text/html": [
       "<div>\n",
       "<style scoped>\n",
       "    .dataframe tbody tr th:only-of-type {\n",
       "        vertical-align: middle;\n",
       "    }\n",
       "\n",
       "    .dataframe tbody tr th {\n",
       "        vertical-align: top;\n",
       "    }\n",
       "\n",
       "    .dataframe thead th {\n",
       "        text-align: right;\n",
       "    }\n",
       "</style>\n",
       "<table border=\"1\" class=\"dataframe\">\n",
       "  <thead>\n",
       "    <tr style=\"text-align: right;\">\n",
       "      <th></th>\n",
       "      <th></th>\n",
       "      <th></th>\n",
       "      <th></th>\n",
       "      <th></th>\n",
       "      <th>quant_in</th>\n",
       "      <th>quant_out</th>\n",
       "    </tr>\n",
       "    <tr>\n",
       "      <th>main_1word</th>\n",
       "      <th>main_2word</th>\n",
       "      <th>items_x</th>\n",
       "      <th>items_y</th>\n",
       "      <th>unit_common_str</th>\n",
       "      <th></th>\n",
       "      <th></th>\n",
       "    </tr>\n",
       "  </thead>\n",
       "  <tbody>\n",
       "    <tr>\n",
       "      <th rowspan=\"2\" valign=\"top\">acili</th>\n",
       "      <th rowspan=\"2\" valign=\"top\">doritos acili</th>\n",
       "      <th>doritos acili 130 gr 1 x 16</th>\n",
       "      <th>doritos acılı 130 qr x 16</th>\n",
       "      <th>eded</th>\n",
       "      <td>96.0</td>\n",
       "      <td>104000.0</td>\n",
       "    </tr>\n",
       "    <tr>\n",
       "      <th>doritos acili 74 gr 1 x 24</th>\n",
       "      <th>doritos acılı 74 qr x 24</th>\n",
       "      <th>eded</th>\n",
       "      <td>63.0</td>\n",
       "      <td>134592.0</td>\n",
       "    </tr>\n",
       "    <tr>\n",
       "      <th rowspan=\"2\" valign=\"top\">adjika</th>\n",
       "      <th rowspan=\"2\" valign=\"top\">qlavprodukt adjika</th>\n",
       "      <th>qlavprodukt adjika domasnaya 170 qr 1 x 15</th>\n",
       "      <th></th>\n",
       "      <th>eded</th>\n",
       "      <td>5.0</td>\n",
       "      <td>0.0</td>\n",
       "    </tr>\n",
       "    <tr>\n",
       "      <th>qlavprodukt adjika kavkazskaya 170 qr 1 x 15</th>\n",
       "      <th></th>\n",
       "      <th>eded</th>\n",
       "      <td>4.0</td>\n",
       "      <td>0.0</td>\n",
       "    </tr>\n",
       "    <tr>\n",
       "      <th>alma</th>\n",
       "      <th>icimino alma</th>\n",
       "      <th>icimino alma erik 40 gr 1 x 48</th>\n",
       "      <th>icimino alma ərik 6 x 40 g x 8</th>\n",
       "      <th>eded</th>\n",
       "      <td>48.0</td>\n",
       "      <td>1600.0</td>\n",
       "    </tr>\n",
       "    <tr>\n",
       "      <th>...</th>\n",
       "      <th>...</th>\n",
       "      <th>...</th>\n",
       "      <th>...</th>\n",
       "      <th>...</th>\n",
       "      <td>...</td>\n",
       "      <td>...</td>\n",
       "    </tr>\n",
       "    <tr>\n",
       "      <th rowspan=\"4\" valign=\"top\">yagli</th>\n",
       "      <th rowspan=\"4\" valign=\"top\">president yagli</th>\n",
       "      <th>president yagli 140 gr 1 x 15</th>\n",
       "      <th></th>\n",
       "      <th>eded</th>\n",
       "      <td>79.0</td>\n",
       "      <td>0.0</td>\n",
       "    </tr>\n",
       "    <tr>\n",
       "      <th>president yagli 200 gr 1 x 16</th>\n",
       "      <th></th>\n",
       "      <th>eded</th>\n",
       "      <td>20.0</td>\n",
       "      <td>0.0</td>\n",
       "    </tr>\n",
       "    <tr>\n",
       "      <th>president yagli 280 gr 1 x 18</th>\n",
       "      <th></th>\n",
       "      <th>eded</th>\n",
       "      <td>8.0</td>\n",
       "      <td>0.0</td>\n",
       "    </tr>\n",
       "    <tr>\n",
       "      <th>president yagli 400 gr 1 x 16</th>\n",
       "      <th></th>\n",
       "      <th>eded</th>\n",
       "      <td>16.0</td>\n",
       "      <td>0.0</td>\n",
       "    </tr>\n",
       "    <tr>\n",
       "      <th>zolotoy</th>\n",
       "      <th>zolotoy petusok</th>\n",
       "      <th>zolotoy petusok naggets xirtxirt 300 gr 1 x 12 4562</th>\n",
       "      <th></th>\n",
       "      <th>eded</th>\n",
       "      <td>4.0</td>\n",
       "      <td>0.0</td>\n",
       "    </tr>\n",
       "  </tbody>\n",
       "</table>\n",
       "<p>494 rows × 2 columns</p>\n",
       "</div>"
      ]
     },
     "execution_count": 838,
     "metadata": {},
     "output_type": "execute_result"
    }
   ],
   "execution_count": 838
  },
  {
   "metadata": {
    "ExecuteTime": {
     "end_time": "2024-06-04T16:58:20.756231Z",
     "start_time": "2024-06-04T16:58:20.747433Z"
    }
   },
   "cell_type": "code",
   "source": "compilation_scored.groupby(['main_1word']).agg({'quant_in': 'sum', 'quant_out': 'sum'})",
   "id": "94492e77639232e8",
   "outputs": [
    {
     "data": {
      "text/plain": [
       "            quant_in  quant_out\n",
       "main_1word                     \n",
       "acili          159.0   238592.0\n",
       "adjika           9.0        0.0\n",
       "alma            48.0     1600.0\n",
       "angry           15.0        0.0\n",
       "anl            109.0        0.0\n",
       "...              ...        ...\n",
       "xama           608.0   174612.0\n",
       "xardal          21.0        0.0\n",
       "xren             5.0        0.0\n",
       "yagli          123.0        0.0\n",
       "zolotoy          4.0        0.0\n",
       "\n",
       "[121 rows x 2 columns]"
      ],
      "text/html": [
       "<div>\n",
       "<style scoped>\n",
       "    .dataframe tbody tr th:only-of-type {\n",
       "        vertical-align: middle;\n",
       "    }\n",
       "\n",
       "    .dataframe tbody tr th {\n",
       "        vertical-align: top;\n",
       "    }\n",
       "\n",
       "    .dataframe thead th {\n",
       "        text-align: right;\n",
       "    }\n",
       "</style>\n",
       "<table border=\"1\" class=\"dataframe\">\n",
       "  <thead>\n",
       "    <tr style=\"text-align: right;\">\n",
       "      <th></th>\n",
       "      <th>quant_in</th>\n",
       "      <th>quant_out</th>\n",
       "    </tr>\n",
       "    <tr>\n",
       "      <th>main_1word</th>\n",
       "      <th></th>\n",
       "      <th></th>\n",
       "    </tr>\n",
       "  </thead>\n",
       "  <tbody>\n",
       "    <tr>\n",
       "      <th>acili</th>\n",
       "      <td>159.0</td>\n",
       "      <td>238592.0</td>\n",
       "    </tr>\n",
       "    <tr>\n",
       "      <th>adjika</th>\n",
       "      <td>9.0</td>\n",
       "      <td>0.0</td>\n",
       "    </tr>\n",
       "    <tr>\n",
       "      <th>alma</th>\n",
       "      <td>48.0</td>\n",
       "      <td>1600.0</td>\n",
       "    </tr>\n",
       "    <tr>\n",
       "      <th>angry</th>\n",
       "      <td>15.0</td>\n",
       "      <td>0.0</td>\n",
       "    </tr>\n",
       "    <tr>\n",
       "      <th>anl</th>\n",
       "      <td>109.0</td>\n",
       "      <td>0.0</td>\n",
       "    </tr>\n",
       "    <tr>\n",
       "      <th>...</th>\n",
       "      <td>...</td>\n",
       "      <td>...</td>\n",
       "    </tr>\n",
       "    <tr>\n",
       "      <th>xama</th>\n",
       "      <td>608.0</td>\n",
       "      <td>174612.0</td>\n",
       "    </tr>\n",
       "    <tr>\n",
       "      <th>xardal</th>\n",
       "      <td>21.0</td>\n",
       "      <td>0.0</td>\n",
       "    </tr>\n",
       "    <tr>\n",
       "      <th>xren</th>\n",
       "      <td>5.0</td>\n",
       "      <td>0.0</td>\n",
       "    </tr>\n",
       "    <tr>\n",
       "      <th>yagli</th>\n",
       "      <td>123.0</td>\n",
       "      <td>0.0</td>\n",
       "    </tr>\n",
       "    <tr>\n",
       "      <th>zolotoy</th>\n",
       "      <td>4.0</td>\n",
       "      <td>0.0</td>\n",
       "    </tr>\n",
       "  </tbody>\n",
       "</table>\n",
       "<p>121 rows × 2 columns</p>\n",
       "</div>"
      ]
     },
     "execution_count": 842,
     "metadata": {},
     "output_type": "execute_result"
    }
   ],
   "execution_count": 842
  },
  {
   "metadata": {},
   "cell_type": "code",
   "outputs": [],
   "execution_count": null,
   "source": "",
   "id": "de2b504f84a0b36b"
  },
  {
   "metadata": {
    "ExecuteTime": {
     "end_time": "2024-06-04T16:25:03.074166Z",
     "start_time": "2024-06-04T16:25:03.064654Z"
    }
   },
   "cell_type": "code",
   "source": [
    "brand_agg = compilation_scored.groupby(['main_1word', 'main_2word', 'items_x', 'items_y', 'unit_common_str']).agg({'quant_in': 'sum', 'quant_out': 'sum'}).reset_index()\n",
    "brand_agg.rename(columns={'quant_in': 'brand_inventory_in', 'quant_out': 'brand_inventory_out'}, inplace=True)\n",
    "\n",
    "# Aggregate at the item_type level within each brand group\n",
    "type_agg = compilation_scored.groupby(['main_1word', 'main_2word']).agg({'quant_in': 'sum', 'quant_out': 'sum'}).reset_index()\n",
    "\n",
    "# Merge the two aggregation results\n",
    "result = pd.merge(brand_agg, type_agg, on='main_1word', how='left')"
   ],
   "id": "f0f3ad520faac469",
   "outputs": [],
   "execution_count": 816
  },
  {
   "metadata": {
    "ExecuteTime": {
     "end_time": "2024-06-04T16:25:03.741840Z",
     "start_time": "2024-06-04T16:25:03.733419Z"
    }
   },
   "cell_type": "code",
   "source": "result",
   "id": "19f1e11de14ace46",
   "outputs": [
    {
     "data": {
      "text/plain": [
       "     main_1word        main_2word_x  \\\n",
       "0         acili       doritos acili   \n",
       "1         acili       doritos acili   \n",
       "2        adjika  qlavprodukt adjika   \n",
       "3        adjika  qlavprodukt adjika   \n",
       "4          alma        icimino alma   \n",
       "...         ...                 ...   \n",
       "2418      yagli     president yagli   \n",
       "2419      yagli     president yagli   \n",
       "2420      yagli     president yagli   \n",
       "2421      yagli     president yagli   \n",
       "2422    zolotoy     zolotoy petusok   \n",
       "\n",
       "                                                items_x  \\\n",
       "0                           doritos acili 130 gr 1 x 16   \n",
       "1                            doritos acili 74 gr 1 x 24   \n",
       "2            qlavprodukt adjika domasnaya 170 qr 1 x 15   \n",
       "3          qlavprodukt adjika kavkazskaya 170 qr 1 x 15   \n",
       "4                        icimino alma erik 40 gr 1 x 48   \n",
       "...                                                 ...   \n",
       "2418                      president yagli 140 gr 1 x 15   \n",
       "2419                      president yagli 200 gr 1 x 16   \n",
       "2420                      president yagli 280 gr 1 x 18   \n",
       "2421                      president yagli 400 gr 1 x 16   \n",
       "2422  zolotoy petusok naggets xirtxirt 300 gr 1 x 12...   \n",
       "\n",
       "                             items_y unit_common_str  brand_inventory_in  \\\n",
       "0          doritos acılı 130 qr x 16            eded                96.0   \n",
       "1           doritos acılı 74 qr x 24            eded                63.0   \n",
       "2                                               eded                 5.0   \n",
       "3                                               eded                 4.0   \n",
       "4     icimino alma ərik 6 x 40 g x 8            eded                48.0   \n",
       "...                              ...             ...                 ...   \n",
       "2418                                            eded                79.0   \n",
       "2419                                            eded                20.0   \n",
       "2420                                            eded                 8.0   \n",
       "2421                                            eded                16.0   \n",
       "2422                                            eded                 4.0   \n",
       "\n",
       "      brand_inventory_out        main_2word_y  quant_in  quant_out  \n",
       "0                104000.0       doritos acili     159.0   238592.0  \n",
       "1                134592.0       doritos acili     159.0   238592.0  \n",
       "2                     0.0  qlavprodukt adjika       9.0        0.0  \n",
       "3                     0.0  qlavprodukt adjika       9.0        0.0  \n",
       "4                  1600.0        icimino alma      48.0     1600.0  \n",
       "...                   ...                 ...       ...        ...  \n",
       "2418                  0.0     president yagli     123.0        0.0  \n",
       "2419                  0.0     president yagli     123.0        0.0  \n",
       "2420                  0.0     president yagli     123.0        0.0  \n",
       "2421                  0.0     president yagli     123.0        0.0  \n",
       "2422                  0.0     zolotoy petusok       4.0        0.0  \n",
       "\n",
       "[2423 rows x 10 columns]"
      ],
      "text/html": [
       "<div>\n",
       "<style scoped>\n",
       "    .dataframe tbody tr th:only-of-type {\n",
       "        vertical-align: middle;\n",
       "    }\n",
       "\n",
       "    .dataframe tbody tr th {\n",
       "        vertical-align: top;\n",
       "    }\n",
       "\n",
       "    .dataframe thead th {\n",
       "        text-align: right;\n",
       "    }\n",
       "</style>\n",
       "<table border=\"1\" class=\"dataframe\">\n",
       "  <thead>\n",
       "    <tr style=\"text-align: right;\">\n",
       "      <th></th>\n",
       "      <th>main_1word</th>\n",
       "      <th>main_2word_x</th>\n",
       "      <th>items_x</th>\n",
       "      <th>items_y</th>\n",
       "      <th>unit_common_str</th>\n",
       "      <th>brand_inventory_in</th>\n",
       "      <th>brand_inventory_out</th>\n",
       "      <th>main_2word_y</th>\n",
       "      <th>quant_in</th>\n",
       "      <th>quant_out</th>\n",
       "    </tr>\n",
       "  </thead>\n",
       "  <tbody>\n",
       "    <tr>\n",
       "      <th>0</th>\n",
       "      <td>acili</td>\n",
       "      <td>doritos acili</td>\n",
       "      <td>doritos acili 130 gr 1 x 16</td>\n",
       "      <td>doritos acılı 130 qr x 16</td>\n",
       "      <td>eded</td>\n",
       "      <td>96.0</td>\n",
       "      <td>104000.0</td>\n",
       "      <td>doritos acili</td>\n",
       "      <td>159.0</td>\n",
       "      <td>238592.0</td>\n",
       "    </tr>\n",
       "    <tr>\n",
       "      <th>1</th>\n",
       "      <td>acili</td>\n",
       "      <td>doritos acili</td>\n",
       "      <td>doritos acili 74 gr 1 x 24</td>\n",
       "      <td>doritos acılı 74 qr x 24</td>\n",
       "      <td>eded</td>\n",
       "      <td>63.0</td>\n",
       "      <td>134592.0</td>\n",
       "      <td>doritos acili</td>\n",
       "      <td>159.0</td>\n",
       "      <td>238592.0</td>\n",
       "    </tr>\n",
       "    <tr>\n",
       "      <th>2</th>\n",
       "      <td>adjika</td>\n",
       "      <td>qlavprodukt adjika</td>\n",
       "      <td>qlavprodukt adjika domasnaya 170 qr 1 x 15</td>\n",
       "      <td></td>\n",
       "      <td>eded</td>\n",
       "      <td>5.0</td>\n",
       "      <td>0.0</td>\n",
       "      <td>qlavprodukt adjika</td>\n",
       "      <td>9.0</td>\n",
       "      <td>0.0</td>\n",
       "    </tr>\n",
       "    <tr>\n",
       "      <th>3</th>\n",
       "      <td>adjika</td>\n",
       "      <td>qlavprodukt adjika</td>\n",
       "      <td>qlavprodukt adjika kavkazskaya 170 qr 1 x 15</td>\n",
       "      <td></td>\n",
       "      <td>eded</td>\n",
       "      <td>4.0</td>\n",
       "      <td>0.0</td>\n",
       "      <td>qlavprodukt adjika</td>\n",
       "      <td>9.0</td>\n",
       "      <td>0.0</td>\n",
       "    </tr>\n",
       "    <tr>\n",
       "      <th>4</th>\n",
       "      <td>alma</td>\n",
       "      <td>icimino alma</td>\n",
       "      <td>icimino alma erik 40 gr 1 x 48</td>\n",
       "      <td>icimino alma ərik 6 x 40 g x 8</td>\n",
       "      <td>eded</td>\n",
       "      <td>48.0</td>\n",
       "      <td>1600.0</td>\n",
       "      <td>icimino alma</td>\n",
       "      <td>48.0</td>\n",
       "      <td>1600.0</td>\n",
       "    </tr>\n",
       "    <tr>\n",
       "      <th>...</th>\n",
       "      <td>...</td>\n",
       "      <td>...</td>\n",
       "      <td>...</td>\n",
       "      <td>...</td>\n",
       "      <td>...</td>\n",
       "      <td>...</td>\n",
       "      <td>...</td>\n",
       "      <td>...</td>\n",
       "      <td>...</td>\n",
       "      <td>...</td>\n",
       "    </tr>\n",
       "    <tr>\n",
       "      <th>2418</th>\n",
       "      <td>yagli</td>\n",
       "      <td>president yagli</td>\n",
       "      <td>president yagli 140 gr 1 x 15</td>\n",
       "      <td></td>\n",
       "      <td>eded</td>\n",
       "      <td>79.0</td>\n",
       "      <td>0.0</td>\n",
       "      <td>president yagli</td>\n",
       "      <td>123.0</td>\n",
       "      <td>0.0</td>\n",
       "    </tr>\n",
       "    <tr>\n",
       "      <th>2419</th>\n",
       "      <td>yagli</td>\n",
       "      <td>president yagli</td>\n",
       "      <td>president yagli 200 gr 1 x 16</td>\n",
       "      <td></td>\n",
       "      <td>eded</td>\n",
       "      <td>20.0</td>\n",
       "      <td>0.0</td>\n",
       "      <td>president yagli</td>\n",
       "      <td>123.0</td>\n",
       "      <td>0.0</td>\n",
       "    </tr>\n",
       "    <tr>\n",
       "      <th>2420</th>\n",
       "      <td>yagli</td>\n",
       "      <td>president yagli</td>\n",
       "      <td>president yagli 280 gr 1 x 18</td>\n",
       "      <td></td>\n",
       "      <td>eded</td>\n",
       "      <td>8.0</td>\n",
       "      <td>0.0</td>\n",
       "      <td>president yagli</td>\n",
       "      <td>123.0</td>\n",
       "      <td>0.0</td>\n",
       "    </tr>\n",
       "    <tr>\n",
       "      <th>2421</th>\n",
       "      <td>yagli</td>\n",
       "      <td>president yagli</td>\n",
       "      <td>president yagli 400 gr 1 x 16</td>\n",
       "      <td></td>\n",
       "      <td>eded</td>\n",
       "      <td>16.0</td>\n",
       "      <td>0.0</td>\n",
       "      <td>president yagli</td>\n",
       "      <td>123.0</td>\n",
       "      <td>0.0</td>\n",
       "    </tr>\n",
       "    <tr>\n",
       "      <th>2422</th>\n",
       "      <td>zolotoy</td>\n",
       "      <td>zolotoy petusok</td>\n",
       "      <td>zolotoy petusok naggets xirtxirt 300 gr 1 x 12...</td>\n",
       "      <td></td>\n",
       "      <td>eded</td>\n",
       "      <td>4.0</td>\n",
       "      <td>0.0</td>\n",
       "      <td>zolotoy petusok</td>\n",
       "      <td>4.0</td>\n",
       "      <td>0.0</td>\n",
       "    </tr>\n",
       "  </tbody>\n",
       "</table>\n",
       "<p>2423 rows × 10 columns</p>\n",
       "</div>"
      ]
     },
     "execution_count": 817,
     "metadata": {},
     "output_type": "execute_result"
    }
   ],
   "execution_count": 817
  },
  {
   "metadata": {
    "ExecuteTime": {
     "end_time": "2024-06-04T16:27:16.372686Z",
     "start_time": "2024-06-04T16:27:16.358314Z"
    }
   },
   "cell_type": "code",
   "source": [
    "result.groupby(by=['main_1word', 'main_2word_x', 'items_x', 'items_y', 'unit_common_str']).agg(\n",
    "    {'quant_in':'sum','quant_out':'sum', 'brand_inventory_in': 'max', 'brand_inventory_out': 'max'}\n",
    ") # .sort_values(['unit_common_str'])"
   ],
   "id": "c7d7471718f86887",
   "outputs": [
    {
     "data": {
      "text/plain": [
       "                                                                                                                                 quant_in  \\\n",
       "main_1word main_2word_x       items_x                                            items_y                        unit_common_str             \n",
       "acili      doritos acili      doritos acili 130 gr 1 x 16                        doritos acılı 130 qr x 16      eded                159.0   \n",
       "                              doritos acili 74 gr 1 x 24                         doritos acılı 74 qr x 24       eded                159.0   \n",
       "adjika     qlavprodukt adjika qlavprodukt adjika domasnaya 170 qr 1 x 15                                        eded                  9.0   \n",
       "                              qlavprodukt adjika kavkazskaya 170 qr 1 x 15                                      eded                  9.0   \n",
       "alma       icimino alma       icimino alma erik 40 gr 1 x 48                     icimino alma ərik 6 x 40 g x 8 eded                 48.0   \n",
       "...                                                                                                                                   ...   \n",
       "yagli      president yagli    president yagli 140 gr 1 x 15                                                     eded                123.0   \n",
       "                              president yagli 200 gr 1 x 16                                                     eded                123.0   \n",
       "                              president yagli 280 gr 1 x 18                                                     eded                123.0   \n",
       "                              president yagli 400 gr 1 x 16                                                     eded                123.0   \n",
       "zolotoy    zolotoy petusok    zolotoy petusok naggets xirtxirt 300 gr 1 x 12 ...                                eded                  4.0   \n",
       "\n",
       "                                                                                                                                 quant_out  \\\n",
       "main_1word main_2word_x       items_x                                            items_y                        unit_common_str              \n",
       "acili      doritos acili      doritos acili 130 gr 1 x 16                        doritos acılı 130 qr x 16      eded              238592.0   \n",
       "                              doritos acili 74 gr 1 x 24                         doritos acılı 74 qr x 24       eded              238592.0   \n",
       "adjika     qlavprodukt adjika qlavprodukt adjika domasnaya 170 qr 1 x 15                                        eded                   0.0   \n",
       "                              qlavprodukt adjika kavkazskaya 170 qr 1 x 15                                      eded                   0.0   \n",
       "alma       icimino alma       icimino alma erik 40 gr 1 x 48                     icimino alma ərik 6 x 40 g x 8 eded                1600.0   \n",
       "...                                                                                                                                    ...   \n",
       "yagli      president yagli    president yagli 140 gr 1 x 15                                                     eded                   0.0   \n",
       "                              president yagli 200 gr 1 x 16                                                     eded                   0.0   \n",
       "                              president yagli 280 gr 1 x 18                                                     eded                   0.0   \n",
       "                              president yagli 400 gr 1 x 16                                                     eded                   0.0   \n",
       "zolotoy    zolotoy petusok    zolotoy petusok naggets xirtxirt 300 gr 1 x 12 ...                                eded                   0.0   \n",
       "\n",
       "                                                                                                                                 brand_inventory_in  \\\n",
       "main_1word main_2word_x       items_x                                            items_y                        unit_common_str                       \n",
       "acili      doritos acili      doritos acili 130 gr 1 x 16                        doritos acılı 130 qr x 16      eded                           96.0   \n",
       "                              doritos acili 74 gr 1 x 24                         doritos acılı 74 qr x 24       eded                           63.0   \n",
       "adjika     qlavprodukt adjika qlavprodukt adjika domasnaya 170 qr 1 x 15                                        eded                            5.0   \n",
       "                              qlavprodukt adjika kavkazskaya 170 qr 1 x 15                                      eded                            4.0   \n",
       "alma       icimino alma       icimino alma erik 40 gr 1 x 48                     icimino alma ərik 6 x 40 g x 8 eded                           48.0   \n",
       "...                                                                                                                                             ...   \n",
       "yagli      president yagli    president yagli 140 gr 1 x 15                                                     eded                           79.0   \n",
       "                              president yagli 200 gr 1 x 16                                                     eded                           20.0   \n",
       "                              president yagli 280 gr 1 x 18                                                     eded                            8.0   \n",
       "                              president yagli 400 gr 1 x 16                                                     eded                           16.0   \n",
       "zolotoy    zolotoy petusok    zolotoy petusok naggets xirtxirt 300 gr 1 x 12 ...                                eded                            4.0   \n",
       "\n",
       "                                                                                                                                 brand_inventory_out  \n",
       "main_1word main_2word_x       items_x                                            items_y                        unit_common_str                       \n",
       "acili      doritos acili      doritos acili 130 gr 1 x 16                        doritos acılı 130 qr x 16      eded                        104000.0  \n",
       "                              doritos acili 74 gr 1 x 24                         doritos acılı 74 qr x 24       eded                        134592.0  \n",
       "adjika     qlavprodukt adjika qlavprodukt adjika domasnaya 170 qr 1 x 15                                        eded                             0.0  \n",
       "                              qlavprodukt adjika kavkazskaya 170 qr 1 x 15                                      eded                             0.0  \n",
       "alma       icimino alma       icimino alma erik 40 gr 1 x 48                     icimino alma ərik 6 x 40 g x 8 eded                          1600.0  \n",
       "...                                                                                                                                              ...  \n",
       "yagli      president yagli    president yagli 140 gr 1 x 15                                                     eded                             0.0  \n",
       "                              president yagli 200 gr 1 x 16                                                     eded                             0.0  \n",
       "                              president yagli 280 gr 1 x 18                                                     eded                             0.0  \n",
       "                              president yagli 400 gr 1 x 16                                                     eded                             0.0  \n",
       "zolotoy    zolotoy petusok    zolotoy petusok naggets xirtxirt 300 gr 1 x 12 ...                                eded                             0.0  \n",
       "\n",
       "[494 rows x 4 columns]"
      ],
      "text/html": [
       "<div>\n",
       "<style scoped>\n",
       "    .dataframe tbody tr th:only-of-type {\n",
       "        vertical-align: middle;\n",
       "    }\n",
       "\n",
       "    .dataframe tbody tr th {\n",
       "        vertical-align: top;\n",
       "    }\n",
       "\n",
       "    .dataframe thead th {\n",
       "        text-align: right;\n",
       "    }\n",
       "</style>\n",
       "<table border=\"1\" class=\"dataframe\">\n",
       "  <thead>\n",
       "    <tr style=\"text-align: right;\">\n",
       "      <th></th>\n",
       "      <th></th>\n",
       "      <th></th>\n",
       "      <th></th>\n",
       "      <th></th>\n",
       "      <th>quant_in</th>\n",
       "      <th>quant_out</th>\n",
       "      <th>brand_inventory_in</th>\n",
       "      <th>brand_inventory_out</th>\n",
       "    </tr>\n",
       "    <tr>\n",
       "      <th>main_1word</th>\n",
       "      <th>main_2word_x</th>\n",
       "      <th>items_x</th>\n",
       "      <th>items_y</th>\n",
       "      <th>unit_common_str</th>\n",
       "      <th></th>\n",
       "      <th></th>\n",
       "      <th></th>\n",
       "      <th></th>\n",
       "    </tr>\n",
       "  </thead>\n",
       "  <tbody>\n",
       "    <tr>\n",
       "      <th rowspan=\"2\" valign=\"top\">acili</th>\n",
       "      <th rowspan=\"2\" valign=\"top\">doritos acili</th>\n",
       "      <th>doritos acili 130 gr 1 x 16</th>\n",
       "      <th>doritos acılı 130 qr x 16</th>\n",
       "      <th>eded</th>\n",
       "      <td>159.0</td>\n",
       "      <td>238592.0</td>\n",
       "      <td>96.0</td>\n",
       "      <td>104000.0</td>\n",
       "    </tr>\n",
       "    <tr>\n",
       "      <th>doritos acili 74 gr 1 x 24</th>\n",
       "      <th>doritos acılı 74 qr x 24</th>\n",
       "      <th>eded</th>\n",
       "      <td>159.0</td>\n",
       "      <td>238592.0</td>\n",
       "      <td>63.0</td>\n",
       "      <td>134592.0</td>\n",
       "    </tr>\n",
       "    <tr>\n",
       "      <th rowspan=\"2\" valign=\"top\">adjika</th>\n",
       "      <th rowspan=\"2\" valign=\"top\">qlavprodukt adjika</th>\n",
       "      <th>qlavprodukt adjika domasnaya 170 qr 1 x 15</th>\n",
       "      <th></th>\n",
       "      <th>eded</th>\n",
       "      <td>9.0</td>\n",
       "      <td>0.0</td>\n",
       "      <td>5.0</td>\n",
       "      <td>0.0</td>\n",
       "    </tr>\n",
       "    <tr>\n",
       "      <th>qlavprodukt adjika kavkazskaya 170 qr 1 x 15</th>\n",
       "      <th></th>\n",
       "      <th>eded</th>\n",
       "      <td>9.0</td>\n",
       "      <td>0.0</td>\n",
       "      <td>4.0</td>\n",
       "      <td>0.0</td>\n",
       "    </tr>\n",
       "    <tr>\n",
       "      <th>alma</th>\n",
       "      <th>icimino alma</th>\n",
       "      <th>icimino alma erik 40 gr 1 x 48</th>\n",
       "      <th>icimino alma ərik 6 x 40 g x 8</th>\n",
       "      <th>eded</th>\n",
       "      <td>48.0</td>\n",
       "      <td>1600.0</td>\n",
       "      <td>48.0</td>\n",
       "      <td>1600.0</td>\n",
       "    </tr>\n",
       "    <tr>\n",
       "      <th>...</th>\n",
       "      <th>...</th>\n",
       "      <th>...</th>\n",
       "      <th>...</th>\n",
       "      <th>...</th>\n",
       "      <td>...</td>\n",
       "      <td>...</td>\n",
       "      <td>...</td>\n",
       "      <td>...</td>\n",
       "    </tr>\n",
       "    <tr>\n",
       "      <th rowspan=\"4\" valign=\"top\">yagli</th>\n",
       "      <th rowspan=\"4\" valign=\"top\">president yagli</th>\n",
       "      <th>president yagli 140 gr 1 x 15</th>\n",
       "      <th></th>\n",
       "      <th>eded</th>\n",
       "      <td>123.0</td>\n",
       "      <td>0.0</td>\n",
       "      <td>79.0</td>\n",
       "      <td>0.0</td>\n",
       "    </tr>\n",
       "    <tr>\n",
       "      <th>president yagli 200 gr 1 x 16</th>\n",
       "      <th></th>\n",
       "      <th>eded</th>\n",
       "      <td>123.0</td>\n",
       "      <td>0.0</td>\n",
       "      <td>20.0</td>\n",
       "      <td>0.0</td>\n",
       "    </tr>\n",
       "    <tr>\n",
       "      <th>president yagli 280 gr 1 x 18</th>\n",
       "      <th></th>\n",
       "      <th>eded</th>\n",
       "      <td>123.0</td>\n",
       "      <td>0.0</td>\n",
       "      <td>8.0</td>\n",
       "      <td>0.0</td>\n",
       "    </tr>\n",
       "    <tr>\n",
       "      <th>president yagli 400 gr 1 x 16</th>\n",
       "      <th></th>\n",
       "      <th>eded</th>\n",
       "      <td>123.0</td>\n",
       "      <td>0.0</td>\n",
       "      <td>16.0</td>\n",
       "      <td>0.0</td>\n",
       "    </tr>\n",
       "    <tr>\n",
       "      <th>zolotoy</th>\n",
       "      <th>zolotoy petusok</th>\n",
       "      <th>zolotoy petusok naggets xirtxirt 300 gr 1 x 12 4562</th>\n",
       "      <th></th>\n",
       "      <th>eded</th>\n",
       "      <td>4.0</td>\n",
       "      <td>0.0</td>\n",
       "      <td>4.0</td>\n",
       "      <td>0.0</td>\n",
       "    </tr>\n",
       "  </tbody>\n",
       "</table>\n",
       "<p>494 rows × 4 columns</p>\n",
       "</div>"
      ]
     },
     "execution_count": 821,
     "metadata": {},
     "output_type": "execute_result"
    }
   ],
   "execution_count": 821
  },
  {
   "metadata": {},
   "cell_type": "code",
   "outputs": [],
   "execution_count": null,
   "source": "",
   "id": "f88b56cfe5c874fe"
  },
  {
   "metadata": {
    "ExecuteTime": {
     "end_time": "2024-06-04T12:47:15.193197Z",
     "start_time": "2024-06-04T12:47:15.173651Z"
    }
   },
   "cell_type": "code",
   "source": "compilation_scored[compilation_scored['items_y'] == 'sevimli dad rossiyskiy pendir 1 x 1']",
   "id": "a0367981f845e8c9",
   "outputs": [
    {
     "data": {
      "text/plain": [
       "                                            items_x  \\\n",
       "2832            sevimli dad rossiyskiy pendir 1 x 1   \n",
       "5691           sevimli dad canax pendiri ceki 1 x 7   \n",
       "6234           sevimli dad canax pendiri ceki 1 x 7   \n",
       "15966  sevimli dad canax pendiri 1 kg 1 x 10 goycay   \n",
       "\n",
       "                                   items_y Quantity/Volume_x   unit_x  \\\n",
       "2832   sevimli dad rossiyskiy pendir 1 x 1              5804  adet.kg   \n",
       "5691   sevimli dad rossiyskiy pendir 1 x 1                 7  adet.kg   \n",
       "6234   sevimli dad rossiyskiy pendir 1 x 1                35  adet.kg   \n",
       "15966  sevimli dad rossiyskiy pendir 1 x 1                20     eded   \n",
       "\n",
       "      Quantity/Volume_y unit_y      score1      score2      score3   score_w  \\\n",
       "2832               2400   eded  100.000000  100.000000  100.000000  1.000000   \n",
       "5691               2400   eded   77.192982   92.307692   84.076433  0.285714   \n",
       "6234               2400   eded   77.192982   92.307692   84.076433  0.285714   \n",
       "15966              2400   eded   67.924528   92.307692   78.260870  0.285714   \n",
       "\n",
       "       ...                     Product or Service Name_x  \\\n",
       "2832   ...             SEVIMLI DAD ROSSIYSKIY PENDIR 1x1   \n",
       "5691   ...        SEVIMLI DAD CANAX PENDIRI ( CEKI ) 1X7   \n",
       "6234   ...        SEVIMLI DAD CANAX PENDIRI ( CEKI ) 1X7   \n",
       "15966  ...  SEVIMLI DAD CANAX PENDIRI 1 KG 1X10 (GOYCAY)   \n",
       "\n",
       "               Product or Service Name_y   unit_common   unit_common_set  \\\n",
       "2832   SEVIMLI DAD ROSSIYSKIY PENDIR 1x1  adet.kg eded  {kg, adet, eded}   \n",
       "5691   SEVIMLI DAD ROSSIYSKIY PENDIR 1x1  adet.kg eded  {kg, adet, eded}   \n",
       "6234   SEVIMLI DAD ROSSIYSKIY PENDIR 1x1  adet.kg eded  {kg, adet, eded}   \n",
       "15966  SEVIMLI DAD ROSSIYSKIY PENDIR 1x1     eded eded            {eded}   \n",
       "\n",
       "      unit_common_str quant_in  quant_out         items_x_numberless  \\\n",
       "2832     kg adet eded   5804.0     2400.0  sevimli rossiyskiy pendir   \n",
       "5691     kg adet eded      7.0     2400.0      sevimli canax pendiri   \n",
       "6234     kg adet eded     35.0     2400.0      sevimli canax pendiri   \n",
       "15966            eded     20.0     2400.0      sevimli canax pendiri   \n",
       "\n",
       "               main_2word main_1word  \n",
       "2832   sevimli rossiyskiy    sevimli  \n",
       "5691        sevimli canax    sevimli  \n",
       "6234        sevimli canax    sevimli  \n",
       "15966       sevimli canax    sevimli  \n",
       "\n",
       "[4 rows x 21 columns]"
      ],
      "text/html": [
       "<div>\n",
       "<style scoped>\n",
       "    .dataframe tbody tr th:only-of-type {\n",
       "        vertical-align: middle;\n",
       "    }\n",
       "\n",
       "    .dataframe tbody tr th {\n",
       "        vertical-align: top;\n",
       "    }\n",
       "\n",
       "    .dataframe thead th {\n",
       "        text-align: right;\n",
       "    }\n",
       "</style>\n",
       "<table border=\"1\" class=\"dataframe\">\n",
       "  <thead>\n",
       "    <tr style=\"text-align: right;\">\n",
       "      <th></th>\n",
       "      <th>items_x</th>\n",
       "      <th>items_y</th>\n",
       "      <th>Quantity/Volume_x</th>\n",
       "      <th>unit_x</th>\n",
       "      <th>Quantity/Volume_y</th>\n",
       "      <th>unit_y</th>\n",
       "      <th>score1</th>\n",
       "      <th>score2</th>\n",
       "      <th>score3</th>\n",
       "      <th>score_w</th>\n",
       "      <th>...</th>\n",
       "      <th>Product or Service Name_x</th>\n",
       "      <th>Product or Service Name_y</th>\n",
       "      <th>unit_common</th>\n",
       "      <th>unit_common_set</th>\n",
       "      <th>unit_common_str</th>\n",
       "      <th>quant_in</th>\n",
       "      <th>quant_out</th>\n",
       "      <th>items_x_numberless</th>\n",
       "      <th>main_2word</th>\n",
       "      <th>main_1word</th>\n",
       "    </tr>\n",
       "  </thead>\n",
       "  <tbody>\n",
       "    <tr>\n",
       "      <th>2832</th>\n",
       "      <td>sevimli dad rossiyskiy pendir 1 x 1</td>\n",
       "      <td>sevimli dad rossiyskiy pendir 1 x 1</td>\n",
       "      <td>5804</td>\n",
       "      <td>adet.kg</td>\n",
       "      <td>2400</td>\n",
       "      <td>eded</td>\n",
       "      <td>100.000000</td>\n",
       "      <td>100.000000</td>\n",
       "      <td>100.000000</td>\n",
       "      <td>1.000000</td>\n",
       "      <td>...</td>\n",
       "      <td>SEVIMLI DAD ROSSIYSKIY PENDIR 1x1</td>\n",
       "      <td>SEVIMLI DAD ROSSIYSKIY PENDIR 1x1</td>\n",
       "      <td>adet.kg eded</td>\n",
       "      <td>{kg, adet, eded}</td>\n",
       "      <td>kg adet eded</td>\n",
       "      <td>5804.0</td>\n",
       "      <td>2400.0</td>\n",
       "      <td>sevimli rossiyskiy pendir</td>\n",
       "      <td>sevimli rossiyskiy</td>\n",
       "      <td>sevimli</td>\n",
       "    </tr>\n",
       "    <tr>\n",
       "      <th>5691</th>\n",
       "      <td>sevimli dad canax pendiri ceki 1 x 7</td>\n",
       "      <td>sevimli dad rossiyskiy pendir 1 x 1</td>\n",
       "      <td>7</td>\n",
       "      <td>adet.kg</td>\n",
       "      <td>2400</td>\n",
       "      <td>eded</td>\n",
       "      <td>77.192982</td>\n",
       "      <td>92.307692</td>\n",
       "      <td>84.076433</td>\n",
       "      <td>0.285714</td>\n",
       "      <td>...</td>\n",
       "      <td>SEVIMLI DAD CANAX PENDIRI ( CEKI ) 1X7</td>\n",
       "      <td>SEVIMLI DAD ROSSIYSKIY PENDIR 1x1</td>\n",
       "      <td>adet.kg eded</td>\n",
       "      <td>{kg, adet, eded}</td>\n",
       "      <td>kg adet eded</td>\n",
       "      <td>7.0</td>\n",
       "      <td>2400.0</td>\n",
       "      <td>sevimli canax pendiri</td>\n",
       "      <td>sevimli canax</td>\n",
       "      <td>sevimli</td>\n",
       "    </tr>\n",
       "    <tr>\n",
       "      <th>6234</th>\n",
       "      <td>sevimli dad canax pendiri ceki 1 x 7</td>\n",
       "      <td>sevimli dad rossiyskiy pendir 1 x 1</td>\n",
       "      <td>35</td>\n",
       "      <td>adet.kg</td>\n",
       "      <td>2400</td>\n",
       "      <td>eded</td>\n",
       "      <td>77.192982</td>\n",
       "      <td>92.307692</td>\n",
       "      <td>84.076433</td>\n",
       "      <td>0.285714</td>\n",
       "      <td>...</td>\n",
       "      <td>SEVIMLI DAD CANAX PENDIRI ( CEKI ) 1X7</td>\n",
       "      <td>SEVIMLI DAD ROSSIYSKIY PENDIR 1x1</td>\n",
       "      <td>adet.kg eded</td>\n",
       "      <td>{kg, adet, eded}</td>\n",
       "      <td>kg adet eded</td>\n",
       "      <td>35.0</td>\n",
       "      <td>2400.0</td>\n",
       "      <td>sevimli canax pendiri</td>\n",
       "      <td>sevimli canax</td>\n",
       "      <td>sevimli</td>\n",
       "    </tr>\n",
       "    <tr>\n",
       "      <th>15966</th>\n",
       "      <td>sevimli dad canax pendiri 1 kg 1 x 10 goycay</td>\n",
       "      <td>sevimli dad rossiyskiy pendir 1 x 1</td>\n",
       "      <td>20</td>\n",
       "      <td>eded</td>\n",
       "      <td>2400</td>\n",
       "      <td>eded</td>\n",
       "      <td>67.924528</td>\n",
       "      <td>92.307692</td>\n",
       "      <td>78.260870</td>\n",
       "      <td>0.285714</td>\n",
       "      <td>...</td>\n",
       "      <td>SEVIMLI DAD CANAX PENDIRI 1 KG 1X10 (GOYCAY)</td>\n",
       "      <td>SEVIMLI DAD ROSSIYSKIY PENDIR 1x1</td>\n",
       "      <td>eded eded</td>\n",
       "      <td>{eded}</td>\n",
       "      <td>eded</td>\n",
       "      <td>20.0</td>\n",
       "      <td>2400.0</td>\n",
       "      <td>sevimli canax pendiri</td>\n",
       "      <td>sevimli canax</td>\n",
       "      <td>sevimli</td>\n",
       "    </tr>\n",
       "  </tbody>\n",
       "</table>\n",
       "<p>4 rows × 21 columns</p>\n",
       "</div>"
      ]
     },
     "execution_count": 680,
     "metadata": {},
     "output_type": "execute_result"
    }
   ],
   "execution_count": 680
  },
  {
   "metadata": {
    "ExecuteTime": {
     "end_time": "2024-06-04T12:47:16.234008Z",
     "start_time": "2024-06-04T12:47:16.225997Z"
    }
   },
   "cell_type": "code",
   "source": "compilation_scored[compilation_scored['items_y'] == 'mia limon 1 x 12']",
   "id": "acd75ad0aea2b0b",
   "outputs": [
    {
     "data": {
      "text/plain": [
       "Empty DataFrame\n",
       "Columns: [items_x, items_y, Quantity/Volume_x, unit_x, Quantity/Volume_y, unit_y, score1, score2, score3, score_w, score_d, Product or Service Name_x, Product or Service Name_y, unit_common, unit_common_set, unit_common_str, quant_in, quant_out, items_x_numberless, main_2word, main_1word]\n",
       "Index: []\n",
       "\n",
       "[0 rows x 21 columns]"
      ],
      "text/html": [
       "<div>\n",
       "<style scoped>\n",
       "    .dataframe tbody tr th:only-of-type {\n",
       "        vertical-align: middle;\n",
       "    }\n",
       "\n",
       "    .dataframe tbody tr th {\n",
       "        vertical-align: top;\n",
       "    }\n",
       "\n",
       "    .dataframe thead th {\n",
       "        text-align: right;\n",
       "    }\n",
       "</style>\n",
       "<table border=\"1\" class=\"dataframe\">\n",
       "  <thead>\n",
       "    <tr style=\"text-align: right;\">\n",
       "      <th></th>\n",
       "      <th>items_x</th>\n",
       "      <th>items_y</th>\n",
       "      <th>Quantity/Volume_x</th>\n",
       "      <th>unit_x</th>\n",
       "      <th>Quantity/Volume_y</th>\n",
       "      <th>unit_y</th>\n",
       "      <th>score1</th>\n",
       "      <th>score2</th>\n",
       "      <th>score3</th>\n",
       "      <th>score_w</th>\n",
       "      <th>...</th>\n",
       "      <th>Product or Service Name_x</th>\n",
       "      <th>Product or Service Name_y</th>\n",
       "      <th>unit_common</th>\n",
       "      <th>unit_common_set</th>\n",
       "      <th>unit_common_str</th>\n",
       "      <th>quant_in</th>\n",
       "      <th>quant_out</th>\n",
       "      <th>items_x_numberless</th>\n",
       "      <th>main_2word</th>\n",
       "      <th>main_1word</th>\n",
       "    </tr>\n",
       "  </thead>\n",
       "  <tbody>\n",
       "  </tbody>\n",
       "</table>\n",
       "<p>0 rows × 21 columns</p>\n",
       "</div>"
      ]
     },
     "execution_count": 681,
     "metadata": {},
     "output_type": "execute_result"
    }
   ],
   "execution_count": 681
  },
  {
   "metadata": {
    "ExecuteTime": {
     "end_time": "2024-06-04T12:47:17.119438Z",
     "start_time": "2024-06-04T12:47:17.111672Z"
    }
   },
   "cell_type": "code",
   "source": "compilation_scored[compilation_scored['items_y'] == '7 up 1 x 12']",
   "id": "c4632ab26acca04c",
   "outputs": [
    {
     "data": {
      "text/plain": [
       "Empty DataFrame\n",
       "Columns: [items_x, items_y, Quantity/Volume_x, unit_x, Quantity/Volume_y, unit_y, score1, score2, score3, score_w, score_d, Product or Service Name_x, Product or Service Name_y, unit_common, unit_common_set, unit_common_str, quant_in, quant_out, items_x_numberless, main_2word, main_1word]\n",
       "Index: []\n",
       "\n",
       "[0 rows x 21 columns]"
      ],
      "text/html": [
       "<div>\n",
       "<style scoped>\n",
       "    .dataframe tbody tr th:only-of-type {\n",
       "        vertical-align: middle;\n",
       "    }\n",
       "\n",
       "    .dataframe tbody tr th {\n",
       "        vertical-align: top;\n",
       "    }\n",
       "\n",
       "    .dataframe thead th {\n",
       "        text-align: right;\n",
       "    }\n",
       "</style>\n",
       "<table border=\"1\" class=\"dataframe\">\n",
       "  <thead>\n",
       "    <tr style=\"text-align: right;\">\n",
       "      <th></th>\n",
       "      <th>items_x</th>\n",
       "      <th>items_y</th>\n",
       "      <th>Quantity/Volume_x</th>\n",
       "      <th>unit_x</th>\n",
       "      <th>Quantity/Volume_y</th>\n",
       "      <th>unit_y</th>\n",
       "      <th>score1</th>\n",
       "      <th>score2</th>\n",
       "      <th>score3</th>\n",
       "      <th>score_w</th>\n",
       "      <th>...</th>\n",
       "      <th>Product or Service Name_x</th>\n",
       "      <th>Product or Service Name_y</th>\n",
       "      <th>unit_common</th>\n",
       "      <th>unit_common_set</th>\n",
       "      <th>unit_common_str</th>\n",
       "      <th>quant_in</th>\n",
       "      <th>quant_out</th>\n",
       "      <th>items_x_numberless</th>\n",
       "      <th>main_2word</th>\n",
       "      <th>main_1word</th>\n",
       "    </tr>\n",
       "  </thead>\n",
       "  <tbody>\n",
       "  </tbody>\n",
       "</table>\n",
       "<p>0 rows × 21 columns</p>\n",
       "</div>"
      ]
     },
     "execution_count": 682,
     "metadata": {},
     "output_type": "execute_result"
    }
   ],
   "execution_count": 682
  },
  {
   "metadata": {},
   "cell_type": "code",
   "outputs": [],
   "execution_count": null,
   "source": "",
   "id": "c3f29c3ea1c230c8"
  },
  {
   "metadata": {
    "ExecuteTime": {
     "end_time": "2024-06-04T11:51:27.467182Z",
     "start_time": "2024-06-04T11:51:27.462535Z"
    }
   },
   "cell_type": "code",
   "source": "remove_numbers(simple_process_item('SEVIMLI.XAMA KAUNAS.20% 350GR AL 10% 200GR HDY 1X1'))",
   "id": "88b1e66992f1015a",
   "outputs": [
    {
     "data": {
      "text/plain": [
       "'sevimli xama kaunas'"
      ]
     },
     "execution_count": 319,
     "metadata": {},
     "output_type": "execute_result"
    }
   ],
   "execution_count": 319
  },
  {
   "metadata": {},
   "cell_type": "code",
   "outputs": [],
   "execution_count": null,
   "source": "",
   "id": "6f4b8f5f709cc5bf"
  },
  {
   "metadata": {
    "ExecuteTime": {
     "end_time": "2024-06-04T16:01:56.630566Z",
     "start_time": "2024-06-04T16:01:55.299487Z"
    }
   },
   "cell_type": "code",
   "source": [
    "from transformers import AutoTokenizer, AutoModelForTokenClassification\n",
    "from transformers import pipeline\n",
    "tokenizer = AutoTokenizer.from_pretrained(\"azizbarank/mbert-finetuned-azerbaijani-ner\", is_split_into_words=True)\n",
    "model = AutoModelForTokenClassification.from_pretrained(\"azizbarank/mbert-finetuned-azerbaijani-ner\")\n",
    "nlp = pipeline(\"token-classification\", model=model, tokenizer=tokenizer, aggregation_strategy='simple')\n"
   ],
   "id": "bb87fc19ab26411a",
   "outputs": [],
   "execution_count": 801
  },
  {
   "metadata": {
    "ExecuteTime": {
     "end_time": "2024-06-04T16:09:03.481843Z",
     "start_time": "2024-06-04T16:09:03.079837Z"
    }
   },
   "cell_type": "code",
   "source": [
    "for item in compilation_scored.sample(10)['items_x']:\n",
    "    ner_results = nlp(item)\n",
    "    print(item)\n",
    "    [print(x['word'], ' ', x['entity_group']) for x in ner_results]\n",
    "    print()"
   ],
   "id": "5b64444f88a1f325",
   "outputs": [
    {
     "name": "stdout",
     "output_type": "stream",
     "text": [
      "doktor milk xama 25 pct 350 qr 1 x 12\n",
      "doktor   LABEL_1\n",
      "milk xama   LABEL_2\n",
      "25 pct 350 qr 1 x 12   LABEL_0\n",
      "\n",
      "pamuk lokum badamli narli 250 gr 1 x 12\n",
      "pamuk   LABEL_5\n",
      "lokum   LABEL_6\n",
      "badamli narli 250 gr 1 x 12   LABEL_0\n",
      "\n",
      "pinar salam kahvaltilik 250 gr 1 x 10\n",
      "pin   LABEL_5\n",
      "##ar   LABEL_3\n",
      "salam   LABEL_4\n",
      "kahvaltilik 250 gr 1 x 10   LABEL_0\n",
      "\n",
      "sevimli dad kesmik yagsiz 0 pct 180 gr 1 x 1\n",
      "sevimli   LABEL_3\n",
      "dad kesmik yagsiz 0 pct 180 gr 1 x 1   LABEL_0\n",
      "\n",
      "doktor milk teze sud 1.5 pct 900 qr 1 x 12\n",
      "doktor   LABEL_3\n",
      "milk teze sud 1. 5 pct 900 qr 1 x 12   LABEL_0\n",
      "\n",
      "osmanli lokum badamli qarisiq 300 gr 1 x 16\n",
      "osmanli   LABEL_5\n",
      "lokum   LABEL_6\n",
      "badamli qarisiq 300 gr 1 x 16   LABEL_0\n",
      "\n",
      "lays ridged paprika 150 gr 1 x 18\n",
      "lays   LABEL_5\n",
      "ridged paprika   LABEL_6\n",
      "150 gr 1 x 18   LABEL_0\n",
      "\n",
      "bebeto spaghetti apple 80 gr 1 x 12\n",
      "bebeto   LABEL_5\n",
      "spaghetti   LABEL_6\n",
      "apple 80 gr 1 x 12   LABEL_0\n",
      "\n",
      "president galbani kesme mocarella 150 gr 1 x 15\n",
      "president   LABEL_1\n",
      "galbani   LABEL_2\n",
      "kesme mocarella 150 gr 1 x 15   LABEL_0\n",
      "\n",
      "bagdat karisik tane biber degirm k.cam 45 gr 1 x 6\n",
      "bagdat karisik tane biber degirm k. cam 45 gr 1 x 6   LABEL_0\n",
      "\n"
     ]
    }
   ],
   "execution_count": 811
  },
  {
   "metadata": {
    "ExecuteTime": {
     "end_time": "2024-06-04T15:54:12.164184Z",
     "start_time": "2024-06-04T15:54:11.245596Z"
    }
   },
   "cell_type": "code",
   "source": [
    "from transformers import AutoTokenizer, AutoModelForTokenClassification\n",
    "from transformers import pipeline\n",
    "tokenizer = AutoTokenizer.from_pretrained(\"orgcatorg/bert-base-multilingual-cased-ner\")\n",
    "model = AutoModelForTokenClassification.from_pretrained(\"orgcatorg/bert-base-multilingual-cased-ner\")\n",
    "nlp = pipeline(\"ner\", model=model, tokenizer=tokenizer)\n",
    "example = 'token-classification'\n",
    "ner_results = nlp(example)\n",
    "ner_results"
   ],
   "id": "f684b08b30a16ba6",
   "outputs": [
    {
     "data": {
      "text/plain": [
       "[{'entity': 'B-ORG',\n",
       "  'score': 0.9993765,\n",
       "  'index': 1,\n",
       "  'word': 'tok',\n",
       "  'start': 0,\n",
       "  'end': 3},\n",
       " {'entity': 'B-ORG',\n",
       "  'score': 0.99934775,\n",
       "  'index': 2,\n",
       "  'word': '##en',\n",
       "  'start': 3,\n",
       "  'end': 5},\n",
       " {'entity': 'I-ORG',\n",
       "  'score': 0.9599418,\n",
       "  'index': 3,\n",
       "  'word': '-',\n",
       "  'start': 5,\n",
       "  'end': 6},\n",
       " {'entity': 'I-ORG',\n",
       "  'score': 0.986715,\n",
       "  'index': 4,\n",
       "  'word': 'classification',\n",
       "  'start': 6,\n",
       "  'end': 20}]"
      ]
     },
     "execution_count": 794,
     "metadata": {},
     "output_type": "execute_result"
    }
   ],
   "execution_count": 794
  },
  {
   "metadata": {},
   "cell_type": "code",
   "outputs": [],
   "execution_count": null,
   "source": "",
   "id": "53a9b352db077e30"
  }
 ],
 "metadata": {
  "kernelspec": {
   "display_name": "Python 3",
   "language": "python",
   "name": "python3"
  },
  "language_info": {
   "codemirror_mode": {
    "name": "ipython",
    "version": 2
   },
   "file_extension": ".py",
   "mimetype": "text/x-python",
   "name": "python",
   "nbconvert_exporter": "python",
   "pygments_lexer": "ipython2",
   "version": "2.7.6"
  }
 },
 "nbformat": 4,
 "nbformat_minor": 5
}
